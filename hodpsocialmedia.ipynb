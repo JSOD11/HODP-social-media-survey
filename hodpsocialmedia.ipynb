{
  "cells": [
    {
      "cell_type": "markdown",
      "source": "# Dealing with Data",
      "metadata": {
        "tags": [],
        "cell_id": "00000-d5cc20e1-b4aa-4908-8987-2eab47f6dd53",
        "deepnote_cell_type": "text-cell-h1"
      }
    },
    {
      "cell_type": "markdown",
      "source": "### General dataframe with everything : survey_data",
      "metadata": {
        "tags": [],
        "cell_id": "00003-7ed9a6eb-eb54-40b4-8fe2-b9d231fbd708",
        "deepnote_cell_type": "text-cell-h3"
      }
    },
    {
      "cell_type": "code",
      "metadata": {
        "tags": [],
        "cell_id": "00002-362fa166-4af1-44c6-b4d7-d9344532f3d2",
        "deepnote_to_be_reexecuted": false,
        "source_hash": "cc785cb2",
        "execution_millis": 110,
        "output_cleared": false,
        "execution_start": 1617582034468,
        "deepnote_cell_type": "code"
      },
      "source": "import numpy as np\nimport pandas as pd \n\nsurvey = pd.read_csv(\"SMS43.csv\")\nsurvey_data = survey.drop(survey.index[1])\nsurvey_data = survey_data.iloc[:, 17:41]\ndisplay(survey_data)",
      "execution_count": 1,
      "outputs": [
        {
          "data": {
            "application/vnd.deepnote.dataframe.v2+json": {
              "row_count": 146,
              "column_count": 24,
              "columns": [
                {
                  "name": "Q14",
                  "dtype": "object",
                  "stats": {
                    "unique_count": 9,
                    "nan_count": 6,
                    "categories": [
                      {
                        "name": "White",
                        "count": 52
                      },
                      {
                        "name": "8 others",
                        "count": 88
                      },
                      {
                        "name": "Missing",
                        "count": 6
                      }
                    ]
                  }
                },
                {
                  "name": "Q14_8_TEXT",
                  "dtype": "object",
                  "stats": {
                    "unique_count": 8,
                    "nan_count": 137,
                    "categories": [
                      {
                        "name": "Mixed",
                        "count": 2
                      },
                      {
                        "name": "7 others",
                        "count": 7
                      },
                      {
                        "name": "Missing",
                        "count": 137
                      }
                    ]
                  }
                },
                {
                  "name": "Q15",
                  "dtype": "object",
                  "stats": {
                    "unique_count": 5,
                    "nan_count": 6,
                    "categories": [
                      {
                        "name": "Female",
                        "count": 90
                      },
                      {
                        "name": "4 others",
                        "count": 50
                      },
                      {
                        "name": "Missing",
                        "count": 6
                      }
                    ]
                  }
                },
                {
                  "name": "Q15_4_TEXT",
                  "dtype": "object",
                  "stats": {
                    "unique_count": 2,
                    "nan_count": 144,
                    "categories": [
                      {
                        "name": "What is your gender? - Other - Text",
                        "count": 1
                      },
                      {
                        "name": "Unclear why this is relevant. It's good practice to put demographic information at the end of these surveys.",
                        "count": 1
                      },
                      {
                        "name": "Missing",
                        "count": 144
                      }
                    ]
                  }
                },
                {
                  "name": "Q20",
                  "dtype": "object",
                  "stats": {
                    "unique_count": 6,
                    "nan_count": 6,
                    "categories": [
                      {
                        "name": "2023",
                        "count": 46
                      },
                      {
                        "name": "5 others",
                        "count": 94
                      },
                      {
                        "name": "Missing",
                        "count": 6
                      }
                    ]
                  }
                },
                {
                  "name": "Q16",
                  "dtype": "object",
                  "stats": {
                    "unique_count": 4,
                    "nan_count": 6,
                    "categories": [
                      {
                        "name": "No",
                        "count": 93
                      },
                      {
                        "name": "3 others",
                        "count": 47
                      },
                      {
                        "name": "Missing",
                        "count": 6
                      }
                    ]
                  }
                },
                {
                  "name": "Q17",
                  "dtype": "object",
                  "stats": {
                    "unique_count": 3,
                    "nan_count": 6,
                    "categories": [
                      {
                        "name": "No",
                        "count": 129
                      },
                      {
                        "name": "2 others",
                        "count": 11
                      },
                      {
                        "name": "Missing",
                        "count": 6
                      }
                    ]
                  }
                },
                {
                  "name": "Q18",
                  "dtype": "object",
                  "stats": {
                    "unique_count": 9,
                    "nan_count": 135,
                    "categories": [
                      {
                        "name": "Canada",
                        "count": 2
                      },
                      {
                        "name": "8 others",
                        "count": 9
                      },
                      {
                        "name": "Missing",
                        "count": 135
                      }
                    ]
                  }
                },
                {
                  "name": "Q19",
                  "dtype": "object",
                  "stats": {
                    "unique_count": 56,
                    "nan_count": 20,
                    "categories": [
                      {
                        "name": "Massachusetts",
                        "count": 16
                      },
                      {
                        "name": "55 others",
                        "count": 110
                      },
                      {
                        "name": "Missing",
                        "count": 20
                      }
                    ]
                  }
                },
                {
                  "name": "Q24_1",
                  "dtype": "object",
                  "stats": {
                    "unique_count": 6,
                    "nan_count": 19,
                    "categories": [
                      {
                        "name": "2",
                        "count": 57
                      },
                      {
                        "name": "5 others",
                        "count": 70
                      },
                      {
                        "name": "Missing",
                        "count": 19
                      }
                    ]
                  }
                },
                {
                  "name": "Q1",
                  "dtype": "object",
                  "stats": {
                    "unique_count": 90,
                    "nan_count": 12,
                    "categories": [
                      {
                        "name": "Instagram,Snapchat,Twitter,TikTok",
                        "count": 6
                      },
                      {
                        "name": "89 others",
                        "count": 128
                      },
                      {
                        "name": "Missing",
                        "count": 12
                      }
                    ]
                  }
                },
                {
                  "name": "Q1_10_TEXT",
                  "dtype": "object",
                  "stats": {
                    "unique_count": 10,
                    "nan_count": 133,
                    "categories": [
                      {
                        "name": "YouTube",
                        "count": 2
                      },
                      {
                        "name": "9 others",
                        "count": 11
                      },
                      {
                        "name": "Missing",
                        "count": 133
                      }
                    ]
                  }
                },
                {
                  "name": "Q5",
                  "dtype": "object",
                  "stats": {
                    "unique_count": 51,
                    "nan_count": 12,
                    "categories": [
                      {
                        "name": "Instagram,Snapchat,TikTok",
                        "count": 24
                      },
                      {
                        "name": "50 others",
                        "count": 110
                      },
                      {
                        "name": "Missing",
                        "count": 12
                      }
                    ]
                  }
                },
                {
                  "name": "Q5_10_TEXT",
                  "dtype": "object",
                  "stats": {
                    "unique_count": 12,
                    "nan_count": 129,
                    "categories": [
                      {
                        "name": "Reddit",
                        "count": 2
                      },
                      {
                        "name": "11 others",
                        "count": 15
                      },
                      {
                        "name": "Missing",
                        "count": 129
                      }
                    ]
                  }
                },
                {
                  "name": "Q6",
                  "dtype": "object",
                  "stats": {
                    "unique_count": 23,
                    "nan_count": 12,
                    "categories": [
                      {
                        "name": "Instagram,Snapchat,TikTok",
                        "count": 69
                      },
                      {
                        "name": "22 others",
                        "count": 65
                      },
                      {
                        "name": "Missing",
                        "count": 12
                      }
                    ]
                  }
                },
                {
                  "name": "Q6_10_TEXT",
                  "dtype": "object",
                  "stats": {
                    "unique_count": 1,
                    "nan_count": 145,
                    "categories": [
                      {
                        "name": "Of the following, which three social media apps do you think is most popular among your age group? Check your top three. - Other - Text",
                        "count": 1
                      },
                      {
                        "name": "Missing",
                        "count": 145
                      }
                    ]
                  }
                },
                {
                  "name": "Q2_1",
                  "dtype": "object",
                  "stats": {
                    "unique_count": 11,
                    "nan_count": 12,
                    "categories": [
                      {
                        "name": "2",
                        "count": 31
                      },
                      {
                        "name": "10 others",
                        "count": 103
                      },
                      {
                        "name": "Missing",
                        "count": 12
                      }
                    ]
                  }
                },
                {
                  "name": "Q3",
                  "dtype": "object",
                  "stats": {
                    "unique_count": 8,
                    "nan_count": 12,
                    "categories": [
                      {
                        "name": "Less often",
                        "count": 52
                      },
                      {
                        "name": "7 others",
                        "count": 82
                      },
                      {
                        "name": "Missing",
                        "count": 12
                      }
                    ]
                  }
                },
                {
                  "name": "Q4",
                  "dtype": "object",
                  "stats": {
                    "unique_count": 36,
                    "nan_count": 12,
                    "categories": [
                      {
                        "name": "Staying in touch with friends and/or family,Staying updated on current events,Finding entertaining content",
                        "count": 25
                      },
                      {
                        "name": "35 others",
                        "count": 109
                      },
                      {
                        "name": "Missing",
                        "count": 12
                      }
                    ]
                  }
                },
                {
                  "name": "Q4_10_TEXT",
                  "dtype": "object",
                  "stats": {
                    "unique_count": 2,
                    "nan_count": 144,
                    "categories": [
                      {
                        "name": "Of the following, what purposes do you use social media apps for? Check your top three. - Other - Text",
                        "count": 1
                      },
                      {
                        "name": "Creative inspiration",
                        "count": 1
                      },
                      {
                        "name": "Missing",
                        "count": 144
                      }
                    ]
                  }
                },
                {
                  "name": "Q9_1",
                  "dtype": "object",
                  "stats": {
                    "unique_count": 16,
                    "nan_count": 12,
                    "categories": [
                      {
                        "name": "2",
                        "count": 37
                      },
                      {
                        "name": "15 others",
                        "count": 97
                      },
                      {
                        "name": "Missing",
                        "count": 12
                      }
                    ]
                  }
                },
                {
                  "name": "Q11",
                  "dtype": "object",
                  "stats": {
                    "unique_count": 82,
                    "nan_count": 12,
                    "categories": [
                      {
                        "name": "Facebook,Facebook Messenger,Instagram,Snapchat,GroupMe",
                        "count": 8
                      },
                      {
                        "name": "81 others",
                        "count": 126
                      },
                      {
                        "name": "Missing",
                        "count": 12
                      }
                    ]
                  }
                },
                {
                  "name": "Q11_10_TEXT",
                  "dtype": "object",
                  "stats": {
                    "unique_count": 9,
                    "nan_count": 133,
                    "categories": [
                      {
                        "name": "Reddit",
                        "count": 2
                      },
                      {
                        "name": "8 others",
                        "count": 11
                      },
                      {
                        "name": "Missing",
                        "count": 133
                      }
                    ]
                  }
                },
                {
                  "name": "Q12",
                  "dtype": "object",
                  "stats": {
                    "unique_count": 98,
                    "nan_count": 12,
                    "categories": [
                      {
                        "name": "Other",
                        "count": 4
                      },
                      {
                        "name": "97 others",
                        "count": 130
                      },
                      {
                        "name": "Missing",
                        "count": 12
                      }
                    ]
                  }
                },
                {
                  "name": "_deepnote_index_column",
                  "dtype": "int64"
                }
              ],
              "rows_top": [
                {
                  "Q14": "What is your race/ethnicity? - Selected Choice",
                  "Q14_8_TEXT": "What is your race/ethnicity? - Other - Text",
                  "Q15": "What is your gender? - Selected Choice",
                  "Q15_4_TEXT": "What is your gender? - Other - Text",
                  "Q20": "What is your social class year?",
                  "Q16": "Do you identify as first-generation, low-income (FGLI)?",
                  "Q17": "Are you an international student?",
                  "Q18": "If you are an international student, what is your home country?",
                  "Q19": "If you are a domestic student, what is your home state?",
                  "Q24_1": "How popular online would you rate yourself, from not popular at all (0) to very popular (4)? - Popularity",
                  "Q1": "Of the following, which social media apps do you use regularly? Check all that apply. - Selected Choice",
                  "Q1_10_TEXT": "Of the following, which social media apps do you use regularly? Check all that apply. - Other - Text",
                  "Q5": "Of the following, which are your top three favorite social media apps? Check your top three. - Selected Choice",
                  "Q5_10_TEXT": "Of the following, which are your top three favorite social media apps? Check your top three. - Other - Text",
                  "Q6": "Of the following, which three social media apps do you think is most popular among your age group? Check your top three. - Selected Choice",
                  "Q6_10_TEXT": "Of the following, which three social media apps do you think is most popular among your age group? Check your top three. - Other - Text",
                  "Q2_1": "On average, how much time do you spend on social media apps each day? If you are unsure, please provide your best estimate. - Hours/Day",
                  "Q3": "On average, how often do you post across all your social media apps? If you are unsure, please provide your best estimate.",
                  "Q4": "Of the following, what purposes do you use social media apps for? Check your top three. - Selected Choice",
                  "Q4_10_TEXT": "Of the following, what purposes do you use social media apps for? Check your top three. - Other - Text",
                  "Q9_1": "On average, has your time spent on social media apps each day changed since the pandemic? - Change in Hours/Day",
                  "Q11": "Of the following, which social media apps did you use pre-pandemic? Check all that apply. - Selected Choice",
                  "Q11_10_TEXT": "Of the following, which social media apps did you use pre-pandemic? Check all that apply. - Other - Text",
                  "Q12": "Of the following, which social media apps did you use post-pandemic? Check all that apply. - Selected Choice",
                  "_deepnote_index_column": 0
                },
                {
                  "Q14": "Hispanic or Latinx",
                  "Q14_8_TEXT": "nan",
                  "Q15": "Male",
                  "Q15_4_TEXT": "nan",
                  "Q20": "2023",
                  "Q16": "No",
                  "Q17": "No",
                  "Q18": "nan",
                  "Q19": "Indiana",
                  "Q24_1": "1",
                  "Q1": "Facebook Messenger,Snapchat,GroupMe",
                  "Q1_10_TEXT": "nan",
                  "Q5": "Facebook Messenger,Snapchat,GroupMe",
                  "Q5_10_TEXT": "nan",
                  "Q6": "Instagram,Snapchat,Twitter",
                  "Q6_10_TEXT": "nan",
                  "Q2_1": "0",
                  "Q3": "Never",
                  "Q4": "Staying in touch with friends and/or family",
                  "Q4_10_TEXT": "nan",
                  "Q9_1": "-1",
                  "Q11": "Facebook Messenger,Instagram,Snapchat",
                  "Q11_10_TEXT": "nan",
                  "Q12": "Facebook Messenger,Snapchat,GroupMe",
                  "_deepnote_index_column": 2
                },
                {
                  "Q14": "White",
                  "Q14_8_TEXT": "nan",
                  "Q15": "Non-Binary",
                  "Q15_4_TEXT": "nan",
                  "Q20": "2022",
                  "Q16": "No",
                  "Q17": "No",
                  "Q18": "nan",
                  "Q19": "nan",
                  "Q24_1": "2",
                  "Q1": "Facebook,Facebook Messenger,Twitter,GroupMe",
                  "Q1_10_TEXT": "nan",
                  "Q5": "Twitter",
                  "Q5_10_TEXT": "nan",
                  "Q6": "Instagram,TikTok",
                  "Q6_10_TEXT": "nan",
                  "Q2_1": "3",
                  "Q3": "Several times a day",
                  "Q4": "Staying in touch with friends and/or family,Finding entertaining content,Sharing opinions",
                  "Q4_10_TEXT": "nan",
                  "Q9_1": "4",
                  "Q11": "Facebook,Facebook Messenger,Instagram,Twitter,GroupMe",
                  "Q11_10_TEXT": "nan",
                  "Q12": "Other",
                  "_deepnote_index_column": 3
                },
                {
                  "Q14": "Other",
                  "Q14_8_TEXT": "Mixed",
                  "Q15": "Female",
                  "Q15_4_TEXT": "nan",
                  "Q20": "2021",
                  "Q16": "No",
                  "Q17": "No",
                  "Q18": "nan",
                  "Q19": "NJ",
                  "Q24_1": "1",
                  "Q1": "Facebook,Facebook Messenger,Instagram,LinkedIn,Snapchat,TikTok",
                  "Q1_10_TEXT": "nan",
                  "Q5": "Facebook Messenger,Instagram,Twitter",
                  "Q5_10_TEXT": "nan",
                  "Q6": "Facebook Messenger,Instagram,Twitter",
                  "Q6_10_TEXT": "nan",
                  "Q2_1": "3",
                  "Q3": "Less often",
                  "Q4": "Staying in touch with friends and/or family,Staying updated on current events,Finding entertaining content",
                  "Q4_10_TEXT": "nan",
                  "Q9_1": "3",
                  "Q11": "Facebook,Facebook Messenger,Instagram,Snapchat",
                  "Q11_10_TEXT": "nan",
                  "Q12": "Facebook,Facebook Messenger,Instagram,LinkedIn,Snapchat,Twitter,TikTok",
                  "_deepnote_index_column": 4
                },
                {
                  "Q14": "Asian or Asian American",
                  "Q14_8_TEXT": "nan",
                  "Q15": "Male",
                  "Q15_4_TEXT": "nan",
                  "Q20": "2022",
                  "Q16": "No",
                  "Q17": "No",
                  "Q18": "nan",
                  "Q19": "MA",
                  "Q24_1": "1",
                  "Q1": "Facebook,Facebook Messenger,Instagram,LinkedIn",
                  "Q1_10_TEXT": "nan",
                  "Q5": "Facebook,Facebook Messenger,Instagram",
                  "Q5_10_TEXT": "nan",
                  "Q6": "Facebook,Facebook Messenger,Instagram",
                  "Q6_10_TEXT": "nan",
                  "Q2_1": "6",
                  "Q3": "Once every few weeks",
                  "Q4": "Staying in touch with friends and/or family,Staying updated on current events,Finding entertaining content",
                  "Q4_10_TEXT": "nan",
                  "Q9_1": "4",
                  "Q11": "Facebook,Facebook Messenger,LinkedIn",
                  "Q11_10_TEXT": "nan",
                  "Q12": "Facebook,Facebook Messenger,Instagram,LinkedIn",
                  "_deepnote_index_column": 5
                },
                {
                  "Q14": "Native Hawaiian or Pacific Islander",
                  "Q14_8_TEXT": "nan",
                  "Q15": "Female",
                  "Q15_4_TEXT": "nan",
                  "Q20": "2024",
                  "Q16": "Yes",
                  "Q17": "No",
                  "Q18": "nan",
                  "Q19": "New York",
                  "Q24_1": "3",
                  "Q1": "Facebook,Instagram,LinkedIn,Snapchat,Twitter,GroupMe,TikTok",
                  "Q1_10_TEXT": "nan",
                  "Q5": "Instagram,Snapchat",
                  "Q5_10_TEXT": "nan",
                  "Q6": "Instagram,Snapchat,TikTok",
                  "Q6_10_TEXT": "nan",
                  "Q2_1": "6",
                  "Q3": "Less often",
                  "Q4": "Staying in touch with friends and/or family,Networking with other people,Filling spare time",
                  "Q4_10_TEXT": "nan",
                  "Q9_1": "4",
                  "Q11": "Instagram,Snapchat",
                  "Q11_10_TEXT": "nan",
                  "Q12": "Facebook,LinkedIn,Twitter,GroupMe,TikTok",
                  "_deepnote_index_column": 6
                },
                {
                  "Q14": "Asian or Asian American",
                  "Q14_8_TEXT": "nan",
                  "Q15": "Male",
                  "Q15_4_TEXT": "nan",
                  "Q20": "2023",
                  "Q16": "No",
                  "Q17": "No",
                  "Q18": "nan",
                  "Q19": "IL",
                  "Q24_1": "1",
                  "Q1": "Facebook,Facebook Messenger,Instagram",
                  "Q1_10_TEXT": "nan",
                  "Q5": "Facebook,Facebook Messenger,Instagram",
                  "Q5_10_TEXT": "nan",
                  "Q6": "Facebook Messenger,Instagram,Snapchat",
                  "Q6_10_TEXT": "nan",
                  "Q2_1": "6",
                  "Q3": "Once every few weeks",
                  "Q4": "Staying in touch with friends and/or family,Finding entertaining content,Sharing photos and videos",
                  "Q4_10_TEXT": "nan",
                  "Q9_1": "2",
                  "Q11": "Facebook,Facebook Messenger",
                  "Q11_10_TEXT": "nan",
                  "Q12": "Facebook,Facebook Messenger,Instagram",
                  "_deepnote_index_column": 7
                },
                {
                  "Q14": "Middle Eastern or North African",
                  "Q14_8_TEXT": "nan",
                  "Q15": "Male",
                  "Q15_4_TEXT": "nan",
                  "Q20": "2023",
                  "Q16": "Yes",
                  "Q17": "No",
                  "Q18": "nan",
                  "Q19": "Illinois",
                  "Q24_1": "2",
                  "Q1": "Instagram,LinkedIn,Twitter,WhatsApp,GroupMe",
                  "Q1_10_TEXT": "nan",
                  "Q5": "Instagram,LinkedIn,Snapchat",
                  "Q5_10_TEXT": "nan",
                  "Q6": "LinkedIn",
                  "Q6_10_TEXT": "nan",
                  "Q2_1": "2",
                  "Q3": "Once every few weeks",
                  "Q4": "Finding entertaining content",
                  "Q4_10_TEXT": "nan",
                  "Q9_1": "9",
                  "Q11": "LinkedIn,Snapchat,Twitter,WhatsApp",
                  "Q11_10_TEXT": "nan",
                  "Q12": "Instagram,LinkedIn,Snapchat,Twitter,WhatsApp,GroupMe",
                  "_deepnote_index_column": 8
                },
                {
                  "Q14": "Asian or Asian American",
                  "Q14_8_TEXT": "nan",
                  "Q15": "Female",
                  "Q15_4_TEXT": "nan",
                  "Q20": "Other",
                  "Q16": "No",
                  "Q17": "No",
                  "Q18": "nan",
                  "Q19": "Massachusetts",
                  "Q24_1": "nan",
                  "Q1": "Facebook,Facebook Messenger,GroupMe,Other",
                  "Q1_10_TEXT": "iMessage, FaceTime, Zoom :(",
                  "Q5": "Facebook Messenger,Instagram,LinkedIn",
                  "Q5_10_TEXT": "nan",
                  "Q6": "Facebook Messenger,Instagram,TikTok",
                  "Q6_10_TEXT": "nan",
                  "Q2_1": "1",
                  "Q3": "Less often",
                  "Q4": "Staying in touch with friends and/or family,Staying updated on current events,Finding entertaining content",
                  "Q4_10_TEXT": "nan",
                  "Q9_1": "-3",
                  "Q11": "Facebook,Facebook Messenger,Instagram,Twitter,GroupMe",
                  "Q11_10_TEXT": "nan",
                  "Q12": "Facebook,Facebook Messenger",
                  "_deepnote_index_column": 9
                },
                {
                  "Q14": "White",
                  "Q14_8_TEXT": "nan",
                  "Q15": "Male",
                  "Q15_4_TEXT": "nan",
                  "Q20": "2022",
                  "Q16": "No",
                  "Q17": "No",
                  "Q18": "nan",
                  "Q19": "New York",
                  "Q24_1": "1",
                  "Q1": "Facebook,Facebook Messenger,Instagram,Snapchat,Twitter",
                  "Q1_10_TEXT": "nan",
                  "Q5": "Facebook Messenger,Instagram,Twitter",
                  "Q5_10_TEXT": "nan",
                  "Q6": "Instagram,Snapchat,Twitter",
                  "Q6_10_TEXT": "nan",
                  "Q2_1": "5",
                  "Q3": "Less often",
                  "Q4": "Staying updated on current events,Finding entertaining content,Filling spare time",
                  "Q4_10_TEXT": "nan",
                  "Q9_1": "2",
                  "Q11": "Facebook,Facebook Messenger,Instagram,Snapchat,Twitter",
                  "Q11_10_TEXT": "nan",
                  "Q12": "Facebook,Facebook Messenger,Instagram,Snapchat,Twitter",
                  "_deepnote_index_column": 10
                },
                {
                  "Q14": "White",
                  "Q14_8_TEXT": "nan",
                  "Q15": "Female",
                  "Q15_4_TEXT": "nan",
                  "Q20": "2021",
                  "Q16": "No",
                  "Q17": "No",
                  "Q18": "nan",
                  "Q19": "California",
                  "Q24_1": "2",
                  "Q1": "Facebook,Facebook Messenger,Instagram,LinkedIn,Snapchat,Twitter,WhatsApp,GroupMe,TikTok",
                  "Q1_10_TEXT": "nan",
                  "Q5": "Instagram,Snapchat,Twitter",
                  "Q5_10_TEXT": "nan",
                  "Q6": "Instagram,Snapchat,TikTok",
                  "Q6_10_TEXT": "nan",
                  "Q2_1": "4",
                  "Q3": "Several times a week",
                  "Q4": "Staying in touch with friends and/or family,Staying updated on current events,Sharing photos and videos",
                  "Q4_10_TEXT": "nan",
                  "Q9_1": "2",
                  "Q11": "Facebook,Facebook Messenger,Instagram,LinkedIn,Snapchat,Twitter,WhatsApp,GroupMe",
                  "Q11_10_TEXT": "nan",
                  "Q12": "Facebook,Facebook Messenger,Instagram,LinkedIn,Snapchat,Twitter,WhatsApp,GroupMe,TikTok,Other",
                  "_deepnote_index_column": 11
                },
                {
                  "Q14": "Asian or Asian American",
                  "Q14_8_TEXT": "nan",
                  "Q15": "Male",
                  "Q15_4_TEXT": "nan",
                  "Q20": "2024",
                  "Q16": "No",
                  "Q17": "No",
                  "Q18": "nan",
                  "Q19": "New Jersey",
                  "Q24_1": "2",
                  "Q1": "Facebook,Facebook Messenger,LinkedIn,Twitter,Other",
                  "Q1_10_TEXT": "Reddit",
                  "Q5": "Facebook Messenger,LinkedIn,Other",
                  "Q5_10_TEXT": "Reddit",
                  "Q6": "Facebook,Instagram,Snapchat",
                  "Q6_10_TEXT": "nan",
                  "Q2_1": "3",
                  "Q3": "Never",
                  "Q4": "Staying in touch with friends and/or family,Networking with other people,Filling spare time",
                  "Q4_10_TEXT": "nan",
                  "Q9_1": "2",
                  "Q11": "Facebook,Facebook Messenger,Instagram,LinkedIn,Other",
                  "Q11_10_TEXT": "Reddit",
                  "Q12": "Facebook,Facebook Messenger,LinkedIn,Other",
                  "_deepnote_index_column": 12
                },
                {
                  "Q14": "Hispanic or Latinx",
                  "Q14_8_TEXT": "nan",
                  "Q15": "Male",
                  "Q15_4_TEXT": "nan",
                  "Q20": "2024",
                  "Q16": "Yes",
                  "Q17": "No",
                  "Q18": "nan",
                  "Q19": "Connecticut",
                  "Q24_1": "1",
                  "Q1": "Instagram,Snapchat,Twitter,TikTok",
                  "Q1_10_TEXT": "nan",
                  "Q5": "Instagram,Twitter,TikTok",
                  "Q5_10_TEXT": "nan",
                  "Q6": "Instagram,Snapchat,TikTok",
                  "Q6_10_TEXT": "nan",
                  "Q2_1": "4",
                  "Q3": "Less often",
                  "Q4": "Staying updated on current events,Finding entertaining content,Filling spare time",
                  "Q4_10_TEXT": "nan",
                  "Q9_1": "2",
                  "Q11": "Instagram,LinkedIn,Snapchat,Twitter,GroupMe,TikTok",
                  "Q11_10_TEXT": "nan",
                  "Q12": "Instagram,LinkedIn,Snapchat,Twitter,TikTok",
                  "_deepnote_index_column": 13
                },
                {
                  "Q14": "White",
                  "Q14_8_TEXT": "nan",
                  "Q15": "Female",
                  "Q15_4_TEXT": "nan",
                  "Q20": "2021",
                  "Q16": "No",
                  "Q17": "No",
                  "Q18": "nan",
                  "Q19": "MA",
                  "Q24_1": "2",
                  "Q1": "Facebook,Instagram",
                  "Q1_10_TEXT": "nan",
                  "Q5": "Facebook,Instagram,Other",
                  "Q5_10_TEXT": "tumblr",
                  "Q6": "Instagram,Snapchat,TikTok",
                  "Q6_10_TEXT": "nan",
                  "Q2_1": "1",
                  "Q3": "Less often",
                  "Q4": "Staying updated on current events,Finding entertaining content,Filling spare time",
                  "Q4_10_TEXT": "nan",
                  "Q9_1": "0",
                  "Q11": "Facebook,Facebook Messenger,Instagram,LinkedIn,Snapchat,GroupMe,Other",
                  "Q11_10_TEXT": "tumblr",
                  "Q12": "Facebook,Facebook Messenger,Instagram,GroupMe,TikTok",
                  "_deepnote_index_column": 14
                },
                {
                  "Q14": "White",
                  "Q14_8_TEXT": "nan",
                  "Q15": "Male",
                  "Q15_4_TEXT": "nan",
                  "Q20": "2023",
                  "Q16": "No",
                  "Q17": "No",
                  "Q18": "nan",
                  "Q19": "Massachusetts",
                  "Q24_1": "1",
                  "Q1": "Instagram,Snapchat,Twitter,TikTok",
                  "Q1_10_TEXT": "nan",
                  "Q5": "Instagram,Snapchat,TikTok",
                  "Q5_10_TEXT": "nan",
                  "Q6": "Instagram,Snapchat,TikTok",
                  "Q6_10_TEXT": "nan",
                  "Q2_1": "3",
                  "Q3": "Once every few weeks",
                  "Q4": "Staying in touch with friends and/or family,Finding entertaining content,Filling spare time",
                  "Q4_10_TEXT": "nan",
                  "Q9_1": "1",
                  "Q11": "Instagram,Snapchat,TikTok",
                  "Q11_10_TEXT": "nan",
                  "Q12": "Instagram,LinkedIn,Snapchat,Twitter,TikTok",
                  "_deepnote_index_column": 15
                },
                {
                  "Q14": "Black or African American",
                  "Q14_8_TEXT": "nan",
                  "Q15": "Female",
                  "Q15_4_TEXT": "nan",
                  "Q20": "2023",
                  "Q16": "Yes",
                  "Q17": "No",
                  "Q18": "nan",
                  "Q19": "Texas",
                  "Q24_1": "2",
                  "Q1": "Instagram,Snapchat,Twitter,TikTok",
                  "Q1_10_TEXT": "nan",
                  "Q5": "Instagram,Snapchat,TikTok",
                  "Q5_10_TEXT": "nan",
                  "Q6": "Instagram,Snapchat,Twitter",
                  "Q6_10_TEXT": "nan",
                  "Q2_1": "7",
                  "Q3": "Once every few weeks",
                  "Q4": "Staying in touch with friends and/or family,Finding entertaining content,Sharing photos and videos",
                  "Q4_10_TEXT": "nan",
                  "Q9_1": "3",
                  "Q11": "Facebook,Facebook Messenger,Instagram,LinkedIn,Snapchat,Twitter,GroupMe,TikTok",
                  "Q11_10_TEXT": "nan",
                  "Q12": "Facebook,Facebook Messenger,Instagram,LinkedIn,Snapchat,Twitter,GroupMe,TikTok",
                  "_deepnote_index_column": 16
                },
                {
                  "Q14": "Asian or Asian American",
                  "Q14_8_TEXT": "nan",
                  "Q15": "Female",
                  "Q15_4_TEXT": "nan",
                  "Q20": "2023",
                  "Q16": "No",
                  "Q17": "No",
                  "Q18": "nan",
                  "Q19": "Ohio",
                  "Q24_1": "2",
                  "Q1": "Facebook,Facebook Messenger,Instagram,LinkedIn,Snapchat,Twitter,GroupMe,TikTok",
                  "Q1_10_TEXT": "nan",
                  "Q5": "Facebook,Facebook Messenger,Instagram",
                  "Q5_10_TEXT": "nan",
                  "Q6": "Instagram,Twitter,TikTok",
                  "Q6_10_TEXT": "nan",
                  "Q2_1": "3",
                  "Q3": "Once every few weeks",
                  "Q4": "Staying in touch with friends and/or family,Finding entertaining content,Filling spare time",
                  "Q4_10_TEXT": "nan",
                  "Q9_1": "2",
                  "Q11": "Facebook,Facebook Messenger,Instagram,LinkedIn,Snapchat,GroupMe,TikTok",
                  "Q11_10_TEXT": "nan",
                  "Q12": "Facebook,Facebook Messenger,Instagram,LinkedIn,Snapchat,Twitter,GroupMe",
                  "_deepnote_index_column": 17
                },
                {
                  "Q14": "White",
                  "Q14_8_TEXT": "nan",
                  "Q15": "Female",
                  "Q15_4_TEXT": "nan",
                  "Q20": "2022",
                  "Q16": "No",
                  "Q17": "No",
                  "Q18": "nan",
                  "Q19": "Texas",
                  "Q24_1": "2",
                  "Q1": "Facebook,Facebook Messenger,Instagram,LinkedIn,Snapchat,GroupMe",
                  "Q1_10_TEXT": "nan",
                  "Q5": "Facebook,Instagram,Snapchat",
                  "Q5_10_TEXT": "nan",
                  "Q6": "Facebook,Instagram,TikTok",
                  "Q6_10_TEXT": "nan",
                  "Q2_1": "2",
                  "Q3": "Once every few weeks",
                  "Q4": "Staying in touch with friends and/or family,Staying updated on current events,Finding entertaining content",
                  "Q4_10_TEXT": "nan",
                  "Q9_1": "2",
                  "Q11": "Facebook,Facebook Messenger,Instagram,LinkedIn,Snapchat,GroupMe",
                  "Q11_10_TEXT": "nan",
                  "Q12": "Facebook,Facebook Messenger,Instagram,LinkedIn,Snapchat,GroupMe",
                  "_deepnote_index_column": 18
                },
                {
                  "Q14": "Middle Eastern or North African",
                  "Q14_8_TEXT": "nan",
                  "Q15": "Female",
                  "Q15_4_TEXT": "nan",
                  "Q20": "2024",
                  "Q16": "No",
                  "Q17": "No",
                  "Q18": "nan",
                  "Q19": "New York",
                  "Q24_1": "3",
                  "Q1": "Instagram,Snapchat,WhatsApp,GroupMe,TikTok",
                  "Q1_10_TEXT": "nan",
                  "Q5": "Instagram,Snapchat,TikTok",
                  "Q5_10_TEXT": "nan",
                  "Q6": "Instagram,Snapchat,TikTok",
                  "Q6_10_TEXT": "nan",
                  "Q2_1": "3",
                  "Q3": "Several times a day",
                  "Q4": "Staying in touch with friends and/or family,Sharing photos and videos,Shopping and/or researching products",
                  "Q4_10_TEXT": "nan",
                  "Q9_1": "3",
                  "Q11": "Instagram,Snapchat,GroupMe",
                  "Q11_10_TEXT": "nan",
                  "Q12": "Facebook,Facebook Messenger,Instagram,Snapchat,WhatsApp,GroupMe,TikTok",
                  "_deepnote_index_column": 19
                },
                {
                  "Q14": "White",
                  "Q14_8_TEXT": "nan",
                  "Q15": "Female",
                  "Q15_4_TEXT": "nan",
                  "Q20": "2021",
                  "Q16": "Yes",
                  "Q17": "No",
                  "Q18": "nan",
                  "Q19": "New Mexico",
                  "Q24_1": "0",
                  "Q1": "Facebook,Facebook Messenger,Instagram,LinkedIn,WhatsApp",
                  "Q1_10_TEXT": "nan",
                  "Q5": "Facebook,Facebook Messenger,Instagram",
                  "Q5_10_TEXT": "nan",
                  "Q6": "Instagram,Twitter,TikTok",
                  "Q6_10_TEXT": "nan",
                  "Q2_1": "2",
                  "Q3": "Less often",
                  "Q4": "Staying in touch with friends and/or family,Sharing photos and videos,Filling spare time",
                  "Q4_10_TEXT": "nan",
                  "Q9_1": "2",
                  "Q11": "WhatsApp",
                  "Q11_10_TEXT": "nan",
                  "Q12": "Facebook,Instagram",
                  "_deepnote_index_column": 20
                }
              ],
              "rows_bottom": [
                {
                  "Q14": "White",
                  "Q14_8_TEXT": "nan",
                  "Q15": "Female",
                  "Q15_4_TEXT": "nan",
                  "Q20": "2021",
                  "Q16": "No",
                  "Q17": "No",
                  "Q18": "nan",
                  "Q19": "Colorado",
                  "Q24_1": "2",
                  "Q1": "Facebook Messenger,GroupMe",
                  "Q1_10_TEXT": "nan",
                  "Q5": "Facebook Messenger,LinkedIn,GroupMe",
                  "Q5_10_TEXT": "nan",
                  "Q6": "Instagram,Snapchat,Twitter",
                  "Q6_10_TEXT": "nan",
                  "Q2_1": "0",
                  "Q3": "Less often",
                  "Q4": "Staying in touch with friends and/or family",
                  "Q4_10_TEXT": "nan",
                  "Q9_1": "1",
                  "Q11": "Facebook Messenger,LinkedIn,GroupMe",
                  "Q11_10_TEXT": "nan",
                  "Q12": "Facebook Messenger,LinkedIn,GroupMe",
                  "_deepnote_index_column": 126
                },
                {
                  "Q14": "Asian or Asian American",
                  "Q14_8_TEXT": "nan",
                  "Q15": "Female",
                  "Q15_4_TEXT": "nan",
                  "Q20": "2023",
                  "Q16": "No",
                  "Q17": "No",
                  "Q18": "nan",
                  "Q19": "New Hampshire",
                  "Q24_1": "0",
                  "Q1": "Snapchat,Twitter",
                  "Q1_10_TEXT": "nan",
                  "Q5": "Snapchat,Twitter",
                  "Q5_10_TEXT": "nan",
                  "Q6": "Instagram,Snapchat,Twitter",
                  "Q6_10_TEXT": "nan",
                  "Q2_1": "2",
                  "Q3": "About once a week",
                  "Q4": "Meeting other people,Filling spare time",
                  "Q4_10_TEXT": "nan",
                  "Q9_1": "4",
                  "Q11": "Other",
                  "Q11_10_TEXT": "None",
                  "Q12": "Snapchat,Twitter",
                  "_deepnote_index_column": 127
                },
                {
                  "Q14": "Asian or Asian American",
                  "Q14_8_TEXT": "nan",
                  "Q15": "Female",
                  "Q15_4_TEXT": "nan",
                  "Q20": "2023",
                  "Q16": "No",
                  "Q17": "No",
                  "Q18": "nan",
                  "Q19": "California",
                  "Q24_1": "2",
                  "Q1": "Facebook,Facebook Messenger,Instagram,Snapchat",
                  "Q1_10_TEXT": "nan",
                  "Q5": "Facebook Messenger,Instagram,Snapchat",
                  "Q5_10_TEXT": "nan",
                  "Q6": "Facebook Messenger,Instagram,TikTok",
                  "Q6_10_TEXT": "nan",
                  "Q2_1": "4",
                  "Q3": "Less often",
                  "Q4": "Staying in touch with friends and/or family,Staying updated on current events,Finding entertaining content",
                  "Q4_10_TEXT": "nan",
                  "Q9_1": "2",
                  "Q11": "Facebook,Facebook Messenger,Instagram,Snapchat,GroupMe",
                  "Q11_10_TEXT": "nan",
                  "Q12": "Facebook,Facebook Messenger,Instagram,Snapchat,Twitter,TikTok",
                  "_deepnote_index_column": 128
                },
                {
                  "Q14": "Hispanic or Latinx",
                  "Q14_8_TEXT": "nan",
                  "Q15": "Female",
                  "Q15_4_TEXT": "nan",
                  "Q20": "2024",
                  "Q16": "Yes",
                  "Q17": "No",
                  "Q18": "nan",
                  "Q19": "Texas",
                  "Q24_1": "2",
                  "Q1": "WhatsApp",
                  "Q1_10_TEXT": "nan",
                  "Q5": "Instagram,WhatsApp,GroupMe",
                  "Q5_10_TEXT": "nan",
                  "Q6": "Instagram,Snapchat,TikTok",
                  "Q6_10_TEXT": "nan",
                  "Q2_1": "2",
                  "Q3": "Never",
                  "Q4": "Staying in touch with friends and/or family,Finding entertaining content,Filling spare time",
                  "Q4_10_TEXT": "nan",
                  "Q9_1": "2",
                  "Q11": "Instagram,WhatsApp,GroupMe",
                  "Q11_10_TEXT": "nan",
                  "Q12": "Instagram,WhatsApp,GroupMe",
                  "_deepnote_index_column": 129
                },
                {
                  "Q14": "Asian or Asian American",
                  "Q14_8_TEXT": "nan",
                  "Q15": "Male",
                  "Q15_4_TEXT": "nan",
                  "Q20": "2023",
                  "Q16": "No",
                  "Q17": "No",
                  "Q18": "nan",
                  "Q19": "Massachusetts",
                  "Q24_1": "0",
                  "Q1": "Facebook Messenger,Instagram,LinkedIn,Twitter",
                  "Q1_10_TEXT": "nan",
                  "Q5": "Facebook Messenger,Instagram,Twitter",
                  "Q5_10_TEXT": "nan",
                  "Q6": "Instagram,Twitter,TikTok",
                  "Q6_10_TEXT": "nan",
                  "Q2_1": "4",
                  "Q3": "Less often",
                  "Q4": "Staying in touch with friends and/or family,Finding entertaining content,Filling spare time",
                  "Q4_10_TEXT": "nan",
                  "Q9_1": "2",
                  "Q11": "Facebook,Facebook Messenger,Instagram",
                  "Q11_10_TEXT": "nan",
                  "Q12": "Facebook,Facebook Messenger,Instagram,LinkedIn,Twitter",
                  "_deepnote_index_column": 130
                },
                {
                  "Q14": "Black or African American",
                  "Q14_8_TEXT": "nan",
                  "Q15": "Female",
                  "Q15_4_TEXT": "nan",
                  "Q20": "2024",
                  "Q16": "No",
                  "Q17": "Yes",
                  "Q18": "Canada",
                  "Q19": "nan",
                  "Q24_1": "1",
                  "Q1": "Facebook Messenger,Instagram,Snapchat,WhatsApp,TikTok",
                  "Q1_10_TEXT": "nan",
                  "Q5": "Instagram,Snapchat,TikTok",
                  "Q5_10_TEXT": "nan",
                  "Q6": "Snapchat,Twitter,TikTok",
                  "Q6_10_TEXT": "nan",
                  "Q2_1": "6",
                  "Q3": "Several times a day",
                  "Q4": "Staying in touch with friends and/or family,Finding entertaining content,Filling spare time",
                  "Q4_10_TEXT": "nan",
                  "Q9_1": "5",
                  "Q11": "Snapchat",
                  "Q11_10_TEXT": "nan",
                  "Q12": "Facebook,Facebook Messenger,Instagram,LinkedIn,Snapchat,WhatsApp,GroupMe,TikTok",
                  "_deepnote_index_column": 131
                },
                {
                  "Q14": "Black or African American",
                  "Q14_8_TEXT": "nan",
                  "Q15": "Female",
                  "Q15_4_TEXT": "nan",
                  "Q20": "2024",
                  "Q16": "Yes",
                  "Q17": "No",
                  "Q18": "nan",
                  "Q19": "Texas",
                  "Q24_1": "2",
                  "Q1": "Instagram,TikTok",
                  "Q1_10_TEXT": "nan",
                  "Q5": "Instagram,Twitter,TikTok",
                  "Q5_10_TEXT": "nan",
                  "Q6": "Instagram,LinkedIn,Twitter",
                  "Q6_10_TEXT": "nan",
                  "Q2_1": "6",
                  "Q3": "Several times a week",
                  "Q4": "Staying updated on current events,Finding entertaining content,Sharing opinions",
                  "Q4_10_TEXT": "nan",
                  "Q9_1": "10",
                  "Q11": "Instagram,Snapchat,TikTok",
                  "Q11_10_TEXT": "nan",
                  "Q12": "Facebook,Facebook Messenger,Instagram,Snapchat,Twitter,GroupMe,TikTok",
                  "_deepnote_index_column": 132
                },
                {
                  "Q14": "Black or African American",
                  "Q14_8_TEXT": "nan",
                  "Q15": "Non-Binary",
                  "Q15_4_TEXT": "nan",
                  "Q20": "2024",
                  "Q16": "No",
                  "Q17": "No",
                  "Q18": "nan",
                  "Q19": "Texas",
                  "Q24_1": "2",
                  "Q1": "Instagram,Snapchat,Twitter,GroupMe",
                  "Q1_10_TEXT": "nan",
                  "Q5": "Instagram,Snapchat,Twitter",
                  "Q5_10_TEXT": "nan",
                  "Q6": "Instagram,Snapchat,TikTok",
                  "Q6_10_TEXT": "nan",
                  "Q2_1": "4",
                  "Q3": "About once a week",
                  "Q4": "Staying updated on current events,Finding entertaining content,Filling spare time",
                  "Q4_10_TEXT": "nan",
                  "Q9_1": "4",
                  "Q11": "Facebook,Facebook Messenger,Instagram,Snapchat,GroupMe",
                  "Q11_10_TEXT": "nan",
                  "Q12": "Instagram,Snapchat,Twitter,GroupMe",
                  "_deepnote_index_column": 133
                },
                {
                  "Q14": "Hispanic or Latinx",
                  "Q14_8_TEXT": "nan",
                  "Q15": "Male",
                  "Q15_4_TEXT": "nan",
                  "Q20": "2024",
                  "Q16": "Yes",
                  "Q17": "No",
                  "Q18": "nan",
                  "Q19": "IA",
                  "Q24_1": "nan",
                  "Q1": "nan",
                  "Q1_10_TEXT": "nan",
                  "Q5": "nan",
                  "Q5_10_TEXT": "nan",
                  "Q6": "nan",
                  "Q6_10_TEXT": "nan",
                  "Q2_1": "nan",
                  "Q3": "nan",
                  "Q4": "nan",
                  "Q4_10_TEXT": "nan",
                  "Q9_1": "nan",
                  "Q11": "nan",
                  "Q11_10_TEXT": "nan",
                  "Q12": "nan",
                  "_deepnote_index_column": 134
                },
                {
                  "Q14": "nan",
                  "Q14_8_TEXT": "nan",
                  "Q15": "nan",
                  "Q15_4_TEXT": "nan",
                  "Q20": "nan",
                  "Q16": "nan",
                  "Q17": "nan",
                  "Q18": "nan",
                  "Q19": "nan",
                  "Q24_1": "nan",
                  "Q1": "nan",
                  "Q1_10_TEXT": "nan",
                  "Q5": "nan",
                  "Q5_10_TEXT": "nan",
                  "Q6": "nan",
                  "Q6_10_TEXT": "nan",
                  "Q2_1": "nan",
                  "Q3": "nan",
                  "Q4": "nan",
                  "Q4_10_TEXT": "nan",
                  "Q9_1": "nan",
                  "Q11": "nan",
                  "Q11_10_TEXT": "nan",
                  "Q12": "nan",
                  "_deepnote_index_column": 135
                },
                {
                  "Q14": "nan",
                  "Q14_8_TEXT": "nan",
                  "Q15": "nan",
                  "Q15_4_TEXT": "nan",
                  "Q20": "nan",
                  "Q16": "nan",
                  "Q17": "nan",
                  "Q18": "nan",
                  "Q19": "nan",
                  "Q24_1": "nan",
                  "Q1": "nan",
                  "Q1_10_TEXT": "nan",
                  "Q5": "nan",
                  "Q5_10_TEXT": "nan",
                  "Q6": "nan",
                  "Q6_10_TEXT": "nan",
                  "Q2_1": "nan",
                  "Q3": "nan",
                  "Q4": "nan",
                  "Q4_10_TEXT": "nan",
                  "Q9_1": "nan",
                  "Q11": "nan",
                  "Q11_10_TEXT": "nan",
                  "Q12": "nan",
                  "_deepnote_index_column": 136
                },
                {
                  "Q14": "White",
                  "Q14_8_TEXT": "nan",
                  "Q15": "Male",
                  "Q15_4_TEXT": "nan",
                  "Q20": "2023",
                  "Q16": "Yes",
                  "Q17": "No",
                  "Q18": "nan",
                  "Q19": "Michigan",
                  "Q24_1": "nan",
                  "Q1": "nan",
                  "Q1_10_TEXT": "nan",
                  "Q5": "nan",
                  "Q5_10_TEXT": "nan",
                  "Q6": "nan",
                  "Q6_10_TEXT": "nan",
                  "Q2_1": "nan",
                  "Q3": "nan",
                  "Q4": "nan",
                  "Q4_10_TEXT": "nan",
                  "Q9_1": "nan",
                  "Q11": "nan",
                  "Q11_10_TEXT": "nan",
                  "Q12": "nan",
                  "_deepnote_index_column": 137
                },
                {
                  "Q14": "Black or African American",
                  "Q14_8_TEXT": "nan",
                  "Q15": "Female",
                  "Q15_4_TEXT": "nan",
                  "Q20": "2022",
                  "Q16": "No",
                  "Q17": "No",
                  "Q18": "nan",
                  "Q19": "nan",
                  "Q24_1": "nan",
                  "Q1": "nan",
                  "Q1_10_TEXT": "nan",
                  "Q5": "nan",
                  "Q5_10_TEXT": "nan",
                  "Q6": "nan",
                  "Q6_10_TEXT": "nan",
                  "Q2_1": "nan",
                  "Q3": "nan",
                  "Q4": "nan",
                  "Q4_10_TEXT": "nan",
                  "Q9_1": "nan",
                  "Q11": "nan",
                  "Q11_10_TEXT": "nan",
                  "Q12": "nan",
                  "_deepnote_index_column": 138
                },
                {
                  "Q14": "nan",
                  "Q14_8_TEXT": "nan",
                  "Q15": "nan",
                  "Q15_4_TEXT": "nan",
                  "Q20": "nan",
                  "Q16": "nan",
                  "Q17": "nan",
                  "Q18": "nan",
                  "Q19": "nan",
                  "Q24_1": "nan",
                  "Q1": "nan",
                  "Q1_10_TEXT": "nan",
                  "Q5": "nan",
                  "Q5_10_TEXT": "nan",
                  "Q6": "nan",
                  "Q6_10_TEXT": "nan",
                  "Q2_1": "nan",
                  "Q3": "nan",
                  "Q4": "nan",
                  "Q4_10_TEXT": "nan",
                  "Q9_1": "nan",
                  "Q11": "nan",
                  "Q11_10_TEXT": "nan",
                  "Q12": "nan",
                  "_deepnote_index_column": 139
                },
                {
                  "Q14": "nan",
                  "Q14_8_TEXT": "nan",
                  "Q15": "nan",
                  "Q15_4_TEXT": "nan",
                  "Q20": "nan",
                  "Q16": "nan",
                  "Q17": "nan",
                  "Q18": "nan",
                  "Q19": "nan",
                  "Q24_1": "nan",
                  "Q1": "nan",
                  "Q1_10_TEXT": "nan",
                  "Q5": "nan",
                  "Q5_10_TEXT": "nan",
                  "Q6": "nan",
                  "Q6_10_TEXT": "nan",
                  "Q2_1": "nan",
                  "Q3": "nan",
                  "Q4": "nan",
                  "Q4_10_TEXT": "nan",
                  "Q9_1": "nan",
                  "Q11": "nan",
                  "Q11_10_TEXT": "nan",
                  "Q12": "nan",
                  "_deepnote_index_column": 140
                },
                {
                  "Q14": "White",
                  "Q14_8_TEXT": "nan",
                  "Q15": "Male",
                  "Q15_4_TEXT": "nan",
                  "Q20": "2024",
                  "Q16": "No",
                  "Q17": "No",
                  "Q18": "nan",
                  "Q19": "nan",
                  "Q24_1": "nan",
                  "Q1": "nan",
                  "Q1_10_TEXT": "nan",
                  "Q5": "nan",
                  "Q5_10_TEXT": "nan",
                  "Q6": "nan",
                  "Q6_10_TEXT": "nan",
                  "Q2_1": "nan",
                  "Q3": "nan",
                  "Q4": "nan",
                  "Q4_10_TEXT": "nan",
                  "Q9_1": "nan",
                  "Q11": "nan",
                  "Q11_10_TEXT": "nan",
                  "Q12": "nan",
                  "_deepnote_index_column": 141
                },
                {
                  "Q14": "nan",
                  "Q14_8_TEXT": "nan",
                  "Q15": "nan",
                  "Q15_4_TEXT": "nan",
                  "Q20": "nan",
                  "Q16": "nan",
                  "Q17": "nan",
                  "Q18": "nan",
                  "Q19": "nan",
                  "Q24_1": "nan",
                  "Q1": "nan",
                  "Q1_10_TEXT": "nan",
                  "Q5": "nan",
                  "Q5_10_TEXT": "nan",
                  "Q6": "nan",
                  "Q6_10_TEXT": "nan",
                  "Q2_1": "nan",
                  "Q3": "nan",
                  "Q4": "nan",
                  "Q4_10_TEXT": "nan",
                  "Q9_1": "nan",
                  "Q11": "nan",
                  "Q11_10_TEXT": "nan",
                  "Q12": "nan",
                  "_deepnote_index_column": 142
                },
                {
                  "Q14": "nan",
                  "Q14_8_TEXT": "nan",
                  "Q15": "nan",
                  "Q15_4_TEXT": "nan",
                  "Q20": "nan",
                  "Q16": "nan",
                  "Q17": "nan",
                  "Q18": "nan",
                  "Q19": "nan",
                  "Q24_1": "nan",
                  "Q1": "nan",
                  "Q1_10_TEXT": "nan",
                  "Q5": "nan",
                  "Q5_10_TEXT": "nan",
                  "Q6": "nan",
                  "Q6_10_TEXT": "nan",
                  "Q2_1": "nan",
                  "Q3": "nan",
                  "Q4": "nan",
                  "Q4_10_TEXT": "nan",
                  "Q9_1": "nan",
                  "Q11": "nan",
                  "Q11_10_TEXT": "nan",
                  "Q12": "nan",
                  "_deepnote_index_column": 143
                },
                {
                  "Q14": "White",
                  "Q14_8_TEXT": "nan",
                  "Q15": "Female",
                  "Q15_4_TEXT": "nan",
                  "Q20": "2021",
                  "Q16": "No",
                  "Q17": "No",
                  "Q18": "nan",
                  "Q19": "Massachusetts",
                  "Q24_1": "nan",
                  "Q1": "nan",
                  "Q1_10_TEXT": "nan",
                  "Q5": "nan",
                  "Q5_10_TEXT": "nan",
                  "Q6": "nan",
                  "Q6_10_TEXT": "nan",
                  "Q2_1": "nan",
                  "Q3": "nan",
                  "Q4": "nan",
                  "Q4_10_TEXT": "nan",
                  "Q9_1": "nan",
                  "Q11": "nan",
                  "Q11_10_TEXT": "nan",
                  "Q12": "nan",
                  "_deepnote_index_column": 144
                },
                {
                  "Q14": "Asian or Asian American",
                  "Q14_8_TEXT": "nan",
                  "Q15": "Male",
                  "Q15_4_TEXT": "nan",
                  "Q20": "Other",
                  "Q16": "No",
                  "Q17": "No",
                  "Q18": "nan",
                  "Q19": "nan",
                  "Q24_1": "nan",
                  "Q1": "nan",
                  "Q1_10_TEXT": "nan",
                  "Q5": "nan",
                  "Q5_10_TEXT": "nan",
                  "Q6": "nan",
                  "Q6_10_TEXT": "nan",
                  "Q2_1": "nan",
                  "Q3": "nan",
                  "Q4": "nan",
                  "Q4_10_TEXT": "nan",
                  "Q9_1": "nan",
                  "Q11": "nan",
                  "Q11_10_TEXT": "nan",
                  "Q12": "nan",
                  "_deepnote_index_column": 145
                },
                {
                  "Q14": "Asian or Asian American",
                  "Q14_8_TEXT": "nan",
                  "Q15": "Female",
                  "Q15_4_TEXT": "nan",
                  "Q20": "2023",
                  "Q16": "No",
                  "Q17": "No",
                  "Q18": "nan",
                  "Q19": "Massachusetts",
                  "Q24_1": "2",
                  "Q1": "Facebook,Facebook Messenger,Instagram,LinkedIn,WhatsApp,GroupMe",
                  "Q1_10_TEXT": "nan",
                  "Q5": "Facebook,Facebook Messenger,Instagram",
                  "Q5_10_TEXT": "nan",
                  "Q6": "Instagram,Snapchat,TikTok",
                  "Q6_10_TEXT": "nan",
                  "Q2_1": "6",
                  "Q3": "About once a day",
                  "Q4": "Staying in touch with friends and/or family,Sharing photos and videos,Sharing opinions",
                  "Q4_10_TEXT": "nan",
                  "Q9_1": "3",
                  "Q11": "Facebook,Facebook Messenger,Instagram,LinkedIn,WhatsApp,GroupMe",
                  "Q11_10_TEXT": "nan",
                  "Q12": "Facebook,Facebook Messenger,Instagram,LinkedIn,WhatsApp,GroupMe",
                  "_deepnote_index_column": 146
                }
              ]
            },
            "text/plain": "                                                Q14  \\\n0    What is your race/ethnicity? - Selected Choice   \n2                                Hispanic or Latinx   \n3                                             White   \n4                                             Other   \n5                           Asian or Asian American   \n..                                              ...   \n142                                             NaN   \n143                                             NaN   \n144                                           White   \n145                         Asian or Asian American   \n146                         Asian or Asian American   \n\n                                      Q14_8_TEXT  \\\n0    What is your race/ethnicity? - Other - Text   \n2                                            NaN   \n3                                            NaN   \n4                                          Mixed   \n5                                            NaN   \n..                                           ...   \n142                                          NaN   \n143                                          NaN   \n144                                          NaN   \n145                                          NaN   \n146                                          NaN   \n\n                                        Q15  \\\n0    What is your gender? - Selected Choice   \n2                                      Male   \n3                                Non-Binary   \n4                                    Female   \n5                                      Male   \n..                                      ...   \n142                                     NaN   \n143                                     NaN   \n144                                  Female   \n145                                    Male   \n146                                  Female   \n\n                              Q15_4_TEXT                              Q20  \\\n0    What is your gender? - Other - Text  What is your social class year?   \n2                                    NaN                             2023   \n3                                    NaN                             2022   \n4                                    NaN                             2021   \n5                                    NaN                             2022   \n..                                   ...                              ...   \n142                                  NaN                              NaN   \n143                                  NaN                              NaN   \n144                                  NaN                             2021   \n145                                  NaN                            Other   \n146                                  NaN                             2023   \n\n                                                   Q16  \\\n0    Do you identify as first-generation, low-incom...   \n2                                                   No   \n3                                                   No   \n4                                                   No   \n5                                                   No   \n..                                                 ...   \n142                                                NaN   \n143                                                NaN   \n144                                                 No   \n145                                                 No   \n146                                                 No   \n\n                                   Q17  \\\n0    Are you an international student?   \n2                                   No   \n3                                   No   \n4                                   No   \n5                                   No   \n..                                 ...   \n142                                NaN   \n143                                NaN   \n144                                 No   \n145                                 No   \n146                                 No   \n\n                                                   Q18  \\\n0    If you are an international student, what is y...   \n2                                                  NaN   \n3                                                  NaN   \n4                                                  NaN   \n5                                                  NaN   \n..                                                 ...   \n142                                                NaN   \n143                                                NaN   \n144                                                NaN   \n145                                                NaN   \n146                                                NaN   \n\n                                                   Q19  \\\n0    If you are a domestic student, what is your ho...   \n2                                              Indiana   \n3                                                  NaN   \n4                                                   NJ   \n5                                                   MA   \n..                                                 ...   \n142                                                NaN   \n143                                                NaN   \n144                                      Massachusetts   \n145                                                NaN   \n146                                      Massachusetts   \n\n                                                 Q24_1  ...  \\\n0    How popular online would you rate yourself, fr...  ...   \n2                                                    1  ...   \n3                                                    2  ...   \n4                                                    1  ...   \n5                                                    1  ...   \n..                                                 ...  ...   \n142                                                NaN  ...   \n143                                                NaN  ...   \n144                                                NaN  ...   \n145                                                NaN  ...   \n146                                                  2  ...   \n\n                                                    Q6  \\\n0    Of the following, which three social media app...   \n2                           Instagram,Snapchat,Twitter   \n3                                     Instagram,TikTok   \n4                 Facebook Messenger,Instagram,Twitter   \n5                Facebook,Facebook Messenger,Instagram   \n..                                                 ...   \n142                                                NaN   \n143                                                NaN   \n144                                                NaN   \n145                                                NaN   \n146                          Instagram,Snapchat,TikTok   \n\n                                            Q6_10_TEXT  \\\n0    Of the following, which three social media app...   \n2                                                  NaN   \n3                                                  NaN   \n4                                                  NaN   \n5                                                  NaN   \n..                                                 ...   \n142                                                NaN   \n143                                                NaN   \n144                                                NaN   \n145                                                NaN   \n146                                                NaN   \n\n                                                  Q2_1  \\\n0    On average, how much time do you spend on soci...   \n2                                                    0   \n3                                                    3   \n4                                                    3   \n5                                                    6   \n..                                                 ...   \n142                                                NaN   \n143                                                NaN   \n144                                                NaN   \n145                                                NaN   \n146                                                  6   \n\n                                                    Q3  \\\n0    On average, how often do you post across all y...   \n2                                                Never   \n3                                  Several times a day   \n4                                           Less often   \n5                                 Once every few weeks   \n..                                                 ...   \n142                                                NaN   \n143                                                NaN   \n144                                                NaN   \n145                                                NaN   \n146                                   About once a day   \n\n                                                    Q4  \\\n0    Of the following, what purposes do you use soc...   \n2          Staying in touch with friends and/or family   \n3    Staying in touch with friends and/or family,Fi...   \n4    Staying in touch with friends and/or family,St...   \n5    Staying in touch with friends and/or family,St...   \n..                                                 ...   \n142                                                NaN   \n143                                                NaN   \n144                                                NaN   \n145                                                NaN   \n146  Staying in touch with friends and/or family,Sh...   \n\n                                            Q4_10_TEXT  \\\n0    Of the following, what purposes do you use soc...   \n2                                                  NaN   \n3                                                  NaN   \n4                                                  NaN   \n5                                                  NaN   \n..                                                 ...   \n142                                                NaN   \n143                                                NaN   \n144                                                NaN   \n145                                                NaN   \n146                                                NaN   \n\n                                                  Q9_1  \\\n0    On average, has your time spent on social medi...   \n2                                                   -1   \n3                                                    4   \n4                                                    3   \n5                                                    4   \n..                                                 ...   \n142                                                NaN   \n143                                                NaN   \n144                                                NaN   \n145                                                NaN   \n146                                                  3   \n\n                                                   Q11  \\\n0    Of the following, which social media apps did ...   \n2                Facebook Messenger,Instagram,Snapchat   \n3    Facebook,Facebook Messenger,Instagram,Twitter,...   \n4       Facebook,Facebook Messenger,Instagram,Snapchat   \n5                 Facebook,Facebook Messenger,LinkedIn   \n..                                                 ...   \n142                                                NaN   \n143                                                NaN   \n144                                                NaN   \n145                                                NaN   \n146  Facebook,Facebook Messenger,Instagram,LinkedIn...   \n\n                                           Q11_10_TEXT  \\\n0    Of the following, which social media apps did ...   \n2                                                  NaN   \n3                                                  NaN   \n4                                                  NaN   \n5                                                  NaN   \n..                                                 ...   \n142                                                NaN   \n143                                                NaN   \n144                                                NaN   \n145                                                NaN   \n146                                                NaN   \n\n                                                   Q12  \n0    Of the following, which social media apps did ...  \n2                  Facebook Messenger,Snapchat,GroupMe  \n3                                                Other  \n4    Facebook,Facebook Messenger,Instagram,LinkedIn...  \n5       Facebook,Facebook Messenger,Instagram,LinkedIn  \n..                                                 ...  \n142                                                NaN  \n143                                                NaN  \n144                                                NaN  \n145                                                NaN  \n146  Facebook,Facebook Messenger,Instagram,LinkedIn...  \n\n[146 rows x 24 columns]",
            "text/html": "<div>\n<style scoped>\n    .dataframe tbody tr th:only-of-type {\n        vertical-align: middle;\n    }\n\n    .dataframe tbody tr th {\n        vertical-align: top;\n    }\n\n    .dataframe thead th {\n        text-align: right;\n    }\n</style>\n<table border=\"1\" class=\"dataframe\">\n  <thead>\n    <tr style=\"text-align: right;\">\n      <th></th>\n      <th>Q14</th>\n      <th>Q14_8_TEXT</th>\n      <th>Q15</th>\n      <th>Q15_4_TEXT</th>\n      <th>Q20</th>\n      <th>Q16</th>\n      <th>Q17</th>\n      <th>Q18</th>\n      <th>Q19</th>\n      <th>Q24_1</th>\n      <th>...</th>\n      <th>Q6</th>\n      <th>Q6_10_TEXT</th>\n      <th>Q2_1</th>\n      <th>Q3</th>\n      <th>Q4</th>\n      <th>Q4_10_TEXT</th>\n      <th>Q9_1</th>\n      <th>Q11</th>\n      <th>Q11_10_TEXT</th>\n      <th>Q12</th>\n    </tr>\n  </thead>\n  <tbody>\n    <tr>\n      <th>0</th>\n      <td>What is your race/ethnicity? - Selected Choice</td>\n      <td>What is your race/ethnicity? - Other - Text</td>\n      <td>What is your gender? - Selected Choice</td>\n      <td>What is your gender? - Other - Text</td>\n      <td>What is your social class year?</td>\n      <td>Do you identify as first-generation, low-incom...</td>\n      <td>Are you an international student?</td>\n      <td>If you are an international student, what is y...</td>\n      <td>If you are a domestic student, what is your ho...</td>\n      <td>How popular online would you rate yourself, fr...</td>\n      <td>...</td>\n      <td>Of the following, which three social media app...</td>\n      <td>Of the following, which three social media app...</td>\n      <td>On average, how much time do you spend on soci...</td>\n      <td>On average, how often do you post across all y...</td>\n      <td>Of the following, what purposes do you use soc...</td>\n      <td>Of the following, what purposes do you use soc...</td>\n      <td>On average, has your time spent on social medi...</td>\n      <td>Of the following, which social media apps did ...</td>\n      <td>Of the following, which social media apps did ...</td>\n      <td>Of the following, which social media apps did ...</td>\n    </tr>\n    <tr>\n      <th>2</th>\n      <td>Hispanic or Latinx</td>\n      <td>NaN</td>\n      <td>Male</td>\n      <td>NaN</td>\n      <td>2023</td>\n      <td>No</td>\n      <td>No</td>\n      <td>NaN</td>\n      <td>Indiana</td>\n      <td>1</td>\n      <td>...</td>\n      <td>Instagram,Snapchat,Twitter</td>\n      <td>NaN</td>\n      <td>0</td>\n      <td>Never</td>\n      <td>Staying in touch with friends and/or family</td>\n      <td>NaN</td>\n      <td>-1</td>\n      <td>Facebook Messenger,Instagram,Snapchat</td>\n      <td>NaN</td>\n      <td>Facebook Messenger,Snapchat,GroupMe</td>\n    </tr>\n    <tr>\n      <th>3</th>\n      <td>White</td>\n      <td>NaN</td>\n      <td>Non-Binary</td>\n      <td>NaN</td>\n      <td>2022</td>\n      <td>No</td>\n      <td>No</td>\n      <td>NaN</td>\n      <td>NaN</td>\n      <td>2</td>\n      <td>...</td>\n      <td>Instagram,TikTok</td>\n      <td>NaN</td>\n      <td>3</td>\n      <td>Several times a day</td>\n      <td>Staying in touch with friends and/or family,Fi...</td>\n      <td>NaN</td>\n      <td>4</td>\n      <td>Facebook,Facebook Messenger,Instagram,Twitter,...</td>\n      <td>NaN</td>\n      <td>Other</td>\n    </tr>\n    <tr>\n      <th>4</th>\n      <td>Other</td>\n      <td>Mixed</td>\n      <td>Female</td>\n      <td>NaN</td>\n      <td>2021</td>\n      <td>No</td>\n      <td>No</td>\n      <td>NaN</td>\n      <td>NJ</td>\n      <td>1</td>\n      <td>...</td>\n      <td>Facebook Messenger,Instagram,Twitter</td>\n      <td>NaN</td>\n      <td>3</td>\n      <td>Less often</td>\n      <td>Staying in touch with friends and/or family,St...</td>\n      <td>NaN</td>\n      <td>3</td>\n      <td>Facebook,Facebook Messenger,Instagram,Snapchat</td>\n      <td>NaN</td>\n      <td>Facebook,Facebook Messenger,Instagram,LinkedIn...</td>\n    </tr>\n    <tr>\n      <th>5</th>\n      <td>Asian or Asian American</td>\n      <td>NaN</td>\n      <td>Male</td>\n      <td>NaN</td>\n      <td>2022</td>\n      <td>No</td>\n      <td>No</td>\n      <td>NaN</td>\n      <td>MA</td>\n      <td>1</td>\n      <td>...</td>\n      <td>Facebook,Facebook Messenger,Instagram</td>\n      <td>NaN</td>\n      <td>6</td>\n      <td>Once every few weeks</td>\n      <td>Staying in touch with friends and/or family,St...</td>\n      <td>NaN</td>\n      <td>4</td>\n      <td>Facebook,Facebook Messenger,LinkedIn</td>\n      <td>NaN</td>\n      <td>Facebook,Facebook Messenger,Instagram,LinkedIn</td>\n    </tr>\n    <tr>\n      <th>...</th>\n      <td>...</td>\n      <td>...</td>\n      <td>...</td>\n      <td>...</td>\n      <td>...</td>\n      <td>...</td>\n      <td>...</td>\n      <td>...</td>\n      <td>...</td>\n      <td>...</td>\n      <td>...</td>\n      <td>...</td>\n      <td>...</td>\n      <td>...</td>\n      <td>...</td>\n      <td>...</td>\n      <td>...</td>\n      <td>...</td>\n      <td>...</td>\n      <td>...</td>\n      <td>...</td>\n    </tr>\n    <tr>\n      <th>142</th>\n      <td>NaN</td>\n      <td>NaN</td>\n      <td>NaN</td>\n      <td>NaN</td>\n      <td>NaN</td>\n      <td>NaN</td>\n      <td>NaN</td>\n      <td>NaN</td>\n      <td>NaN</td>\n      <td>NaN</td>\n      <td>...</td>\n      <td>NaN</td>\n      <td>NaN</td>\n      <td>NaN</td>\n      <td>NaN</td>\n      <td>NaN</td>\n      <td>NaN</td>\n      <td>NaN</td>\n      <td>NaN</td>\n      <td>NaN</td>\n      <td>NaN</td>\n    </tr>\n    <tr>\n      <th>143</th>\n      <td>NaN</td>\n      <td>NaN</td>\n      <td>NaN</td>\n      <td>NaN</td>\n      <td>NaN</td>\n      <td>NaN</td>\n      <td>NaN</td>\n      <td>NaN</td>\n      <td>NaN</td>\n      <td>NaN</td>\n      <td>...</td>\n      <td>NaN</td>\n      <td>NaN</td>\n      <td>NaN</td>\n      <td>NaN</td>\n      <td>NaN</td>\n      <td>NaN</td>\n      <td>NaN</td>\n      <td>NaN</td>\n      <td>NaN</td>\n      <td>NaN</td>\n    </tr>\n    <tr>\n      <th>144</th>\n      <td>White</td>\n      <td>NaN</td>\n      <td>Female</td>\n      <td>NaN</td>\n      <td>2021</td>\n      <td>No</td>\n      <td>No</td>\n      <td>NaN</td>\n      <td>Massachusetts</td>\n      <td>NaN</td>\n      <td>...</td>\n      <td>NaN</td>\n      <td>NaN</td>\n      <td>NaN</td>\n      <td>NaN</td>\n      <td>NaN</td>\n      <td>NaN</td>\n      <td>NaN</td>\n      <td>NaN</td>\n      <td>NaN</td>\n      <td>NaN</td>\n    </tr>\n    <tr>\n      <th>145</th>\n      <td>Asian or Asian American</td>\n      <td>NaN</td>\n      <td>Male</td>\n      <td>NaN</td>\n      <td>Other</td>\n      <td>No</td>\n      <td>No</td>\n      <td>NaN</td>\n      <td>NaN</td>\n      <td>NaN</td>\n      <td>...</td>\n      <td>NaN</td>\n      <td>NaN</td>\n      <td>NaN</td>\n      <td>NaN</td>\n      <td>NaN</td>\n      <td>NaN</td>\n      <td>NaN</td>\n      <td>NaN</td>\n      <td>NaN</td>\n      <td>NaN</td>\n    </tr>\n    <tr>\n      <th>146</th>\n      <td>Asian or Asian American</td>\n      <td>NaN</td>\n      <td>Female</td>\n      <td>NaN</td>\n      <td>2023</td>\n      <td>No</td>\n      <td>No</td>\n      <td>NaN</td>\n      <td>Massachusetts</td>\n      <td>2</td>\n      <td>...</td>\n      <td>Instagram,Snapchat,TikTok</td>\n      <td>NaN</td>\n      <td>6</td>\n      <td>About once a day</td>\n      <td>Staying in touch with friends and/or family,Sh...</td>\n      <td>NaN</td>\n      <td>3</td>\n      <td>Facebook,Facebook Messenger,Instagram,LinkedIn...</td>\n      <td>NaN</td>\n      <td>Facebook,Facebook Messenger,Instagram,LinkedIn...</td>\n    </tr>\n  </tbody>\n</table>\n<p>146 rows × 24 columns</p>\n</div>"
          },
          "metadata": {},
          "output_type": "display_data"
        }
      ]
    },
    {
      "cell_type": "code",
      "metadata": {
        "tags": [],
        "cell_id": "00007-83b7befe-d49e-44d4-891b-0e735f27c518",
        "deepnote_to_be_reexecuted": false,
        "source_hash": "c7c85900",
        "execution_millis": 7,
        "execution_start": 1617582034572,
        "deepnote_cell_type": "code"
      },
      "source": "# Export cleaned data in new CSV\nsurvey_data.to_csv(\"survey_data.csv\")",
      "execution_count": 2,
      "outputs": []
    },
    {
      "cell_type": "markdown",
      "source": "### SENIORS DATAFRAME : seniors_data",
      "metadata": {
        "tags": [],
        "cell_id": "00004-9a729ea1-e9cf-48e0-8998-fb33bb514d5a",
        "deepnote_cell_type": "text-cell-h3"
      }
    },
    {
      "cell_type": "code",
      "metadata": {
        "tags": [],
        "cell_id": "00005-6b3e9e76-4e67-492e-9d02-f8e76fb11996",
        "deepnote_to_be_reexecuted": false,
        "source_hash": "a3e6faf2",
        "execution_millis": 95,
        "execution_start": 1617582034582,
        "deepnote_cell_type": "code"
      },
      "source": "# DATAFRAME WITH RESPONSES FROM CLASS OF 2021\n\nseniors = pd.read_csv(\"SMS43.csv\")\nseniors_data = seniors.drop(seniors.index[1])\nseniors_data = seniors_data.iloc[:, 17:41]\n\n# Get names of indexes for which the class columns is not 2021\nindex_names = seniors_data[seniors_data['Q20'] != '2021'].index\n\nseniors_data.drop(index_names, inplace = True)\ndisplay(seniors_data)",
      "execution_count": 3,
      "outputs": [
        {
          "data": {
            "application/vnd.deepnote.dataframe.v2+json": {
              "row_count": 18,
              "column_count": 24,
              "columns": [
                {
                  "name": "Q14",
                  "dtype": "object",
                  "stats": {
                    "unique_count": 5,
                    "nan_count": 0,
                    "categories": [
                      {
                        "name": "White",
                        "count": 11
                      },
                      {
                        "name": "Other",
                        "count": 2
                      },
                      {
                        "name": "3 others",
                        "count": 5
                      }
                    ]
                  }
                },
                {
                  "name": "Q14_8_TEXT",
                  "dtype": "object",
                  "stats": {
                    "unique_count": 2,
                    "nan_count": 16,
                    "categories": [
                      {
                        "name": "Mixed",
                        "count": 1
                      },
                      {
                        "name": "Hi! Make sure that you're able to select multiple race categories",
                        "count": 1
                      },
                      {
                        "name": "Missing",
                        "count": 16
                      }
                    ]
                  }
                },
                {
                  "name": "Q15",
                  "dtype": "object",
                  "stats": {
                    "unique_count": 3,
                    "nan_count": 0,
                    "categories": [
                      {
                        "name": "Female",
                        "count": 14
                      },
                      {
                        "name": "Male",
                        "count": 3
                      },
                      {
                        "name": "Other",
                        "count": 1
                      }
                    ]
                  }
                },
                {
                  "name": "Q15_4_TEXT",
                  "dtype": "object",
                  "stats": {
                    "unique_count": 1,
                    "nan_count": 17,
                    "categories": [
                      {
                        "name": "Unclear why this is relevant. It's good practice to put demographic information at the end of these surveys.",
                        "count": 1
                      },
                      {
                        "name": "Missing",
                        "count": 17
                      }
                    ]
                  }
                },
                {
                  "name": "Q20",
                  "dtype": "object",
                  "stats": {
                    "unique_count": 1,
                    "nan_count": 0,
                    "categories": [
                      {
                        "name": "2021",
                        "count": 18
                      }
                    ]
                  }
                },
                {
                  "name": "Q16",
                  "dtype": "object",
                  "stats": {
                    "unique_count": 3,
                    "nan_count": 0,
                    "categories": [
                      {
                        "name": "No",
                        "count": 11
                      },
                      {
                        "name": "Yes",
                        "count": 5
                      },
                      {
                        "name": "Prefer not to say",
                        "count": 2
                      }
                    ]
                  }
                },
                {
                  "name": "Q17",
                  "dtype": "object",
                  "stats": {
                    "unique_count": 2,
                    "nan_count": 0,
                    "categories": [
                      {
                        "name": "No",
                        "count": 17
                      },
                      {
                        "name": "Yes",
                        "count": 1
                      }
                    ]
                  }
                },
                {
                  "name": "Q18",
                  "dtype": "object",
                  "stats": {
                    "unique_count": 1,
                    "nan_count": 17,
                    "categories": [
                      {
                        "name": "New Zealand",
                        "count": 1
                      },
                      {
                        "name": "Missing",
                        "count": 17
                      }
                    ]
                  }
                },
                {
                  "name": "Q19",
                  "dtype": "object",
                  "stats": {
                    "unique_count": 14,
                    "nan_count": 1,
                    "categories": [
                      {
                        "name": "NJ",
                        "count": 2
                      },
                      {
                        "name": "13 others",
                        "count": 15
                      },
                      {
                        "name": "Missing",
                        "count": 1
                      }
                    ]
                  }
                },
                {
                  "name": "Q24_1",
                  "dtype": "object",
                  "stats": {
                    "unique_count": 3,
                    "nan_count": 2,
                    "categories": [
                      {
                        "name": "2",
                        "count": 8
                      },
                      {
                        "name": "2 others",
                        "count": 8
                      },
                      {
                        "name": "Missing",
                        "count": 2
                      }
                    ]
                  }
                },
                {
                  "name": "Q1",
                  "dtype": "object",
                  "stats": {
                    "unique_count": 17,
                    "nan_count": 1,
                    "categories": [
                      {
                        "name": "Facebook,Facebook Messenger,Instagram,LinkedIn,Snapchat,TikTok",
                        "count": 1
                      },
                      {
                        "name": "16 others",
                        "count": 16
                      },
                      {
                        "name": "Missing",
                        "count": 1
                      }
                    ]
                  }
                },
                {
                  "name": "Q1_10_TEXT",
                  "dtype": "object",
                  "stats": {
                    "unique_count": 1,
                    "nan_count": 16,
                    "categories": [
                      {
                        "name": "Tumblr",
                        "count": 2
                      },
                      {
                        "name": "Missing",
                        "count": 16
                      }
                    ]
                  }
                },
                {
                  "name": "Q5",
                  "dtype": "object",
                  "stats": {
                    "unique_count": 14,
                    "nan_count": 1,
                    "categories": [
                      {
                        "name": "Facebook Messenger,Instagram,Twitter",
                        "count": 2
                      },
                      {
                        "name": "13 others",
                        "count": 15
                      },
                      {
                        "name": "Missing",
                        "count": 1
                      }
                    ]
                  }
                },
                {
                  "name": "Q5_10_TEXT",
                  "dtype": "object",
                  "stats": {
                    "unique_count": 3,
                    "nan_count": 14,
                    "categories": [
                      {
                        "name": "Tumblr",
                        "count": 2
                      },
                      {
                        "name": "2 others",
                        "count": 2
                      },
                      {
                        "name": "Missing",
                        "count": 14
                      }
                    ]
                  }
                },
                {
                  "name": "Q6",
                  "dtype": "object",
                  "stats": {
                    "unique_count": 8,
                    "nan_count": 1,
                    "categories": [
                      {
                        "name": "Instagram,Snapchat,TikTok",
                        "count": 5
                      },
                      {
                        "name": "7 others",
                        "count": 12
                      },
                      {
                        "name": "Missing",
                        "count": 1
                      }
                    ]
                  }
                },
                {
                  "name": "Q6_10_TEXT",
                  "dtype": "object",
                  "stats": {
                    "unique_count": 0,
                    "nan_count": 18,
                    "categories": [
                      {
                        "name": "Missing",
                        "count": 18
                      }
                    ]
                  }
                },
                {
                  "name": "Q2_1",
                  "dtype": "object",
                  "stats": {
                    "unique_count": 7,
                    "nan_count": 1,
                    "categories": [
                      {
                        "name": "3",
                        "count": 5
                      },
                      {
                        "name": "6 others",
                        "count": 12
                      },
                      {
                        "name": "Missing",
                        "count": 1
                      }
                    ]
                  }
                },
                {
                  "name": "Q3",
                  "dtype": "object",
                  "stats": {
                    "unique_count": 6,
                    "nan_count": 1,
                    "categories": [
                      {
                        "name": "Less often",
                        "count": 8
                      },
                      {
                        "name": "5 others",
                        "count": 9
                      },
                      {
                        "name": "Missing",
                        "count": 1
                      }
                    ]
                  }
                },
                {
                  "name": "Q4",
                  "dtype": "object",
                  "stats": {
                    "unique_count": 14,
                    "nan_count": 1,
                    "categories": [
                      {
                        "name": "Staying in touch with friends and/or family,Staying updated on current events,Finding entertaining content",
                        "count": 2
                      },
                      {
                        "name": "13 others",
                        "count": 15
                      },
                      {
                        "name": "Missing",
                        "count": 1
                      }
                    ]
                  }
                },
                {
                  "name": "Q4_10_TEXT",
                  "dtype": "object",
                  "stats": {
                    "unique_count": 1,
                    "nan_count": 17,
                    "categories": [
                      {
                        "name": "Creative inspiration",
                        "count": 1
                      },
                      {
                        "name": "Missing",
                        "count": 17
                      }
                    ]
                  }
                },
                {
                  "name": "Q9_1",
                  "dtype": "object",
                  "stats": {
                    "unique_count": 5,
                    "nan_count": 1,
                    "categories": [
                      {
                        "name": "2",
                        "count": 6
                      },
                      {
                        "name": "4 others",
                        "count": 11
                      },
                      {
                        "name": "Missing",
                        "count": 1
                      }
                    ]
                  }
                },
                {
                  "name": "Q11",
                  "dtype": "object",
                  "stats": {
                    "unique_count": 15,
                    "nan_count": 1,
                    "categories": [
                      {
                        "name": "Facebook,Facebook Messenger,Instagram,LinkedIn,Snapchat,Twitter,WhatsApp,GroupMe",
                        "count": 2
                      },
                      {
                        "name": "14 others",
                        "count": 15
                      },
                      {
                        "name": "Missing",
                        "count": 1
                      }
                    ]
                  }
                },
                {
                  "name": "Q11_10_TEXT",
                  "dtype": "object",
                  "stats": {
                    "unique_count": 2,
                    "nan_count": 15,
                    "categories": [
                      {
                        "name": "Tumblr",
                        "count": 2
                      },
                      {
                        "name": "tumblr",
                        "count": 1
                      },
                      {
                        "name": "Missing",
                        "count": 15
                      }
                    ]
                  }
                },
                {
                  "name": "Q12",
                  "dtype": "object",
                  "stats": {
                    "unique_count": 17,
                    "nan_count": 1,
                    "categories": [
                      {
                        "name": "Facebook,Facebook Messenger,Instagram,LinkedIn,Snapchat,Twitter,TikTok",
                        "count": 1
                      },
                      {
                        "name": "16 others",
                        "count": 16
                      },
                      {
                        "name": "Missing",
                        "count": 1
                      }
                    ]
                  }
                },
                {
                  "name": "_deepnote_index_column",
                  "dtype": "int64"
                }
              ],
              "rows_top": [
                {
                  "Q14": "Other",
                  "Q14_8_TEXT": "Mixed",
                  "Q15": "Female",
                  "Q15_4_TEXT": "nan",
                  "Q20": "2021",
                  "Q16": "No",
                  "Q17": "No",
                  "Q18": "nan",
                  "Q19": "NJ",
                  "Q24_1": "1",
                  "Q1": "Facebook,Facebook Messenger,Instagram,LinkedIn,Snapchat,TikTok",
                  "Q1_10_TEXT": "nan",
                  "Q5": "Facebook Messenger,Instagram,Twitter",
                  "Q5_10_TEXT": "nan",
                  "Q6": "Facebook Messenger,Instagram,Twitter",
                  "Q6_10_TEXT": "nan",
                  "Q2_1": "3",
                  "Q3": "Less often",
                  "Q4": "Staying in touch with friends and/or family,Staying updated on current events,Finding entertaining content",
                  "Q4_10_TEXT": "nan",
                  "Q9_1": "3",
                  "Q11": "Facebook,Facebook Messenger,Instagram,Snapchat",
                  "Q11_10_TEXT": "nan",
                  "Q12": "Facebook,Facebook Messenger,Instagram,LinkedIn,Snapchat,Twitter,TikTok",
                  "_deepnote_index_column": 4
                },
                {
                  "Q14": "White",
                  "Q14_8_TEXT": "nan",
                  "Q15": "Female",
                  "Q15_4_TEXT": "nan",
                  "Q20": "2021",
                  "Q16": "No",
                  "Q17": "No",
                  "Q18": "nan",
                  "Q19": "California",
                  "Q24_1": "2",
                  "Q1": "Facebook,Facebook Messenger,Instagram,LinkedIn,Snapchat,Twitter,WhatsApp,GroupMe,TikTok",
                  "Q1_10_TEXT": "nan",
                  "Q5": "Instagram,Snapchat,Twitter",
                  "Q5_10_TEXT": "nan",
                  "Q6": "Instagram,Snapchat,TikTok",
                  "Q6_10_TEXT": "nan",
                  "Q2_1": "4",
                  "Q3": "Several times a week",
                  "Q4": "Staying in touch with friends and/or family,Staying updated on current events,Sharing photos and videos",
                  "Q4_10_TEXT": "nan",
                  "Q9_1": "2",
                  "Q11": "Facebook,Facebook Messenger,Instagram,LinkedIn,Snapchat,Twitter,WhatsApp,GroupMe",
                  "Q11_10_TEXT": "nan",
                  "Q12": "Facebook,Facebook Messenger,Instagram,LinkedIn,Snapchat,Twitter,WhatsApp,GroupMe,TikTok,Other",
                  "_deepnote_index_column": 11
                },
                {
                  "Q14": "White",
                  "Q14_8_TEXT": "nan",
                  "Q15": "Female",
                  "Q15_4_TEXT": "nan",
                  "Q20": "2021",
                  "Q16": "No",
                  "Q17": "No",
                  "Q18": "nan",
                  "Q19": "MA",
                  "Q24_1": "2",
                  "Q1": "Facebook,Instagram",
                  "Q1_10_TEXT": "nan",
                  "Q5": "Facebook,Instagram,Other",
                  "Q5_10_TEXT": "tumblr",
                  "Q6": "Instagram,Snapchat,TikTok",
                  "Q6_10_TEXT": "nan",
                  "Q2_1": "1",
                  "Q3": "Less often",
                  "Q4": "Staying updated on current events,Finding entertaining content,Filling spare time",
                  "Q4_10_TEXT": "nan",
                  "Q9_1": "0",
                  "Q11": "Facebook,Facebook Messenger,Instagram,LinkedIn,Snapchat,GroupMe,Other",
                  "Q11_10_TEXT": "tumblr",
                  "Q12": "Facebook,Facebook Messenger,Instagram,GroupMe,TikTok",
                  "_deepnote_index_column": 14
                },
                {
                  "Q14": "White",
                  "Q14_8_TEXT": "nan",
                  "Q15": "Female",
                  "Q15_4_TEXT": "nan",
                  "Q20": "2021",
                  "Q16": "Yes",
                  "Q17": "No",
                  "Q18": "nan",
                  "Q19": "New Mexico",
                  "Q24_1": "0",
                  "Q1": "Facebook,Facebook Messenger,Instagram,LinkedIn,WhatsApp",
                  "Q1_10_TEXT": "nan",
                  "Q5": "Facebook,Facebook Messenger,Instagram",
                  "Q5_10_TEXT": "nan",
                  "Q6": "Instagram,Twitter,TikTok",
                  "Q6_10_TEXT": "nan",
                  "Q2_1": "2",
                  "Q3": "Less often",
                  "Q4": "Staying in touch with friends and/or family,Sharing photos and videos,Filling spare time",
                  "Q4_10_TEXT": "nan",
                  "Q9_1": "2",
                  "Q11": "WhatsApp",
                  "Q11_10_TEXT": "nan",
                  "Q12": "Facebook,Instagram",
                  "_deepnote_index_column": 20
                },
                {
                  "Q14": "White",
                  "Q14_8_TEXT": "nan",
                  "Q15": "Female",
                  "Q15_4_TEXT": "nan",
                  "Q20": "2021",
                  "Q16": "No",
                  "Q17": "No",
                  "Q18": "nan",
                  "Q19": "MA",
                  "Q24_1": "2",
                  "Q1": "Facebook,Facebook Messenger,Instagram,Twitter",
                  "Q1_10_TEXT": "nan",
                  "Q5": "Facebook Messenger,Instagram,Twitter",
                  "Q5_10_TEXT": "nan",
                  "Q6": "Facebook Messenger,Instagram,Twitter",
                  "Q6_10_TEXT": "nan",
                  "Q2_1": "3",
                  "Q3": "Less often",
                  "Q4": "Staying updated on current events,Finding entertaining content,Filling spare time",
                  "Q4_10_TEXT": "nan",
                  "Q9_1": "2",
                  "Q11": "Facebook,Facebook Messenger,Instagram,Twitter,GroupMe",
                  "Q11_10_TEXT": "nan",
                  "Q12": "Facebook,Facebook Messenger,Instagram,Twitter,GroupMe",
                  "_deepnote_index_column": 32
                },
                {
                  "Q14": "White",
                  "Q14_8_TEXT": "nan",
                  "Q15": "Female",
                  "Q15_4_TEXT": "nan",
                  "Q20": "2021",
                  "Q16": "No",
                  "Q17": "No",
                  "Q18": "nan",
                  "Q19": "Pennsylvania",
                  "Q24_1": "0",
                  "Q1": "Facebook,Facebook Messenger,Instagram,LinkedIn,Snapchat,Twitter,GroupMe,Other",
                  "Q1_10_TEXT": "Tumblr",
                  "Q5": "Instagram,Twitter,Other",
                  "Q5_10_TEXT": "Tumblr",
                  "Q6": "Facebook Messenger,Instagram,WhatsApp",
                  "Q6_10_TEXT": "nan",
                  "Q2_1": "3",
                  "Q3": "About once a day",
                  "Q4": "Finding entertaining content,Sharing opinions,Filling spare time",
                  "Q4_10_TEXT": "nan",
                  "Q9_1": "2",
                  "Q11": "Facebook,Facebook Messenger,Snapchat,Twitter,WhatsApp,GroupMe,Other",
                  "Q11_10_TEXT": "Tumblr",
                  "Q12": "Facebook,Facebook Messenger,Instagram,LinkedIn,Snapchat,Twitter,GroupMe,Other",
                  "_deepnote_index_column": 39
                },
                {
                  "Q14": "Other",
                  "Q14_8_TEXT": "Hi! Make sure that you're able to select multiple race categories",
                  "Q15": "Other",
                  "Q15_4_TEXT": "Unclear why this is relevant. It's good practice to put demographic information at the end of these surveys.",
                  "Q20": "2021",
                  "Q16": "No",
                  "Q17": "No",
                  "Q18": "nan",
                  "Q19": "Michigan",
                  "Q24_1": "1",
                  "Q1": "Facebook,Facebook Messenger,Instagram,LinkedIn,Twitter",
                  "Q1_10_TEXT": "nan",
                  "Q5": "Facebook,Instagram,Twitter",
                  "Q5_10_TEXT": "nan",
                  "Q6": "Instagram,Twitter,TikTok",
                  "Q6_10_TEXT": "nan",
                  "Q2_1": "5",
                  "Q3": "Less often",
                  "Q4": "Staying in touch with friends and/or family,Finding entertaining content,Sharing photos and videos",
                  "Q4_10_TEXT": "nan",
                  "Q9_1": "3",
                  "Q11": "Facebook,Facebook Messenger,Instagram,LinkedIn,Twitter",
                  "Q11_10_TEXT": "nan",
                  "Q12": "Facebook,Facebook Messenger,Instagram,LinkedIn,Twitter",
                  "_deepnote_index_column": 41
                },
                {
                  "Q14": "Black or African American",
                  "Q14_8_TEXT": "nan",
                  "Q15": "Male",
                  "Q15_4_TEXT": "nan",
                  "Q20": "2021",
                  "Q16": "No",
                  "Q17": "No",
                  "Q18": "nan",
                  "Q19": "NJ",
                  "Q24_1": "0",
                  "Q1": "Facebook,Facebook Messenger,WhatsApp,TikTok",
                  "Q1_10_TEXT": "nan",
                  "Q5": "Facebook Messenger,WhatsApp,TikTok",
                  "Q5_10_TEXT": "nan",
                  "Q6": "Instagram,Twitter,TikTok",
                  "Q6_10_TEXT": "nan",
                  "Q2_1": "3",
                  "Q3": "Once every few weeks",
                  "Q4": "Staying in touch with friends and/or family,Finding entertaining content,Filling spare time",
                  "Q4_10_TEXT": "nan",
                  "Q9_1": "2",
                  "Q11": "Facebook,Facebook Messenger,Instagram,LinkedIn,Snapchat,WhatsApp,GroupMe",
                  "Q11_10_TEXT": "nan",
                  "Q12": "Facebook,Facebook Messenger,Instagram,LinkedIn,WhatsApp,GroupMe,TikTok",
                  "_deepnote_index_column": 55
                },
                {
                  "Q14": "White",
                  "Q14_8_TEXT": "nan",
                  "Q15": "Female",
                  "Q15_4_TEXT": "nan",
                  "Q20": "2021",
                  "Q16": "No",
                  "Q17": "No",
                  "Q18": "nan",
                  "Q19": "Mass",
                  "Q24_1": "2",
                  "Q1": "Facebook Messenger,Instagram,Snapchat,Twitter,WhatsApp,GroupMe",
                  "Q1_10_TEXT": "nan",
                  "Q5": "Instagram,Twitter,Other",
                  "Q5_10_TEXT": "Reddit",
                  "Q6": "Instagram,Snapchat,TikTok",
                  "Q6_10_TEXT": "nan",
                  "Q2_1": "2",
                  "Q3": "Once every few weeks",
                  "Q4": "Staying updated on current events,Shopping and/or researching products,Other",
                  "Q4_10_TEXT": "Creative inspiration",
                  "Q9_1": "3",
                  "Q11": "Facebook,Facebook Messenger,Instagram,LinkedIn,Snapchat,Twitter,WhatsApp,GroupMe",
                  "Q11_10_TEXT": "nan",
                  "Q12": "Facebook Messenger,Instagram,LinkedIn,Snapchat,Twitter,WhatsApp,GroupMe",
                  "_deepnote_index_column": 66
                },
                {
                  "Q14": "White",
                  "Q14_8_TEXT": "nan",
                  "Q15": "Female",
                  "Q15_4_TEXT": "nan",
                  "Q20": "2021",
                  "Q16": "Yes",
                  "Q17": "Yes",
                  "Q18": "New Zealand",
                  "Q19": "nan",
                  "Q24_1": "1",
                  "Q1": "Facebook,Facebook Messenger,Instagram,LinkedIn,Snapchat,Twitter,GroupMe",
                  "Q1_10_TEXT": "nan",
                  "Q5": "Instagram,Snapchat,TikTok",
                  "Q5_10_TEXT": "nan",
                  "Q6": "Facebook Messenger,Instagram,LinkedIn",
                  "Q6_10_TEXT": "nan",
                  "Q2_1": "2",
                  "Q3": "Less often",
                  "Q4": "Staying in touch with friends and/or family,Staying updated on current events,Shopping and/or researching products",
                  "Q4_10_TEXT": "nan",
                  "Q9_1": "1",
                  "Q11": "Facebook,Facebook Messenger,Instagram,Snapchat,GroupMe",
                  "Q11_10_TEXT": "nan",
                  "Q12": "Facebook,Facebook Messenger,Instagram,LinkedIn,Snapchat,Twitter,GroupMe,TikTok",
                  "_deepnote_index_column": 68
                },
                {
                  "Q14": "White",
                  "Q14_8_TEXT": "nan",
                  "Q15": "Female",
                  "Q15_4_TEXT": "nan",
                  "Q20": "2021",
                  "Q16": "Yes",
                  "Q17": "No",
                  "Q18": "nan",
                  "Q19": "Wisconsin",
                  "Q24_1": "nan",
                  "Q1": "Facebook,Facebook Messenger,Instagram,Snapchat",
                  "Q1_10_TEXT": "nan",
                  "Q5": "Facebook,Instagram,Snapchat",
                  "Q5_10_TEXT": "nan",
                  "Q6": "Instagram,Snapchat,TikTok",
                  "Q6_10_TEXT": "nan",
                  "Q2_1": "3",
                  "Q3": "Once every few weeks",
                  "Q4": "Staying in touch with friends and/or family,Staying updated on current events,Finding entertaining content",
                  "Q4_10_TEXT": "nan",
                  "Q9_1": "3",
                  "Q11": "Facebook,Facebook Messenger,Instagram,LinkedIn,Snapchat,GroupMe",
                  "Q11_10_TEXT": "nan",
                  "Q12": "Facebook,Facebook Messenger,Instagram,LinkedIn,Snapchat,Twitter,WhatsApp,GroupMe,TikTok",
                  "_deepnote_index_column": 80
                },
                {
                  "Q14": "Hispanic or Latinx",
                  "Q14_8_TEXT": "nan",
                  "Q15": "Female",
                  "Q15_4_TEXT": "nan",
                  "Q20": "2021",
                  "Q16": "Yes",
                  "Q17": "No",
                  "Q18": "nan",
                  "Q19": "indiana",
                  "Q24_1": "1",
                  "Q1": "Instagram,Snapchat,Twitter,TikTok",
                  "Q1_10_TEXT": "nan",
                  "Q5": "Snapchat,Twitter,TikTok",
                  "Q5_10_TEXT": "nan",
                  "Q6": "Instagram,LinkedIn,Twitter",
                  "Q6_10_TEXT": "nan",
                  "Q2_1": "2",
                  "Q3": "Less often",
                  "Q4": "Staying updated on current events,Finding entertaining content,Shopping and/or researching products",
                  "Q4_10_TEXT": "nan",
                  "Q9_1": "3",
                  "Q11": "Snapchat,Twitter,WhatsApp,GroupMe",
                  "Q11_10_TEXT": "nan",
                  "Q12": "Instagram,Snapchat,Twitter,GroupMe,TikTok",
                  "_deepnote_index_column": 81
                },
                {
                  "Q14": "Asian or Asian American",
                  "Q14_8_TEXT": "nan",
                  "Q15": "Female",
                  "Q15_4_TEXT": "nan",
                  "Q20": "2021",
                  "Q16": "Prefer not to say",
                  "Q17": "No",
                  "Q18": "nan",
                  "Q19": "Wisconsin",
                  "Q24_1": "0",
                  "Q1": "Other",
                  "Q1_10_TEXT": "Tumblr",
                  "Q5": "Other",
                  "Q5_10_TEXT": "Tumblr",
                  "Q6": "Facebook Messenger,Instagram,Twitter",
                  "Q6_10_TEXT": "nan",
                  "Q2_1": "4",
                  "Q3": "Several times a day",
                  "Q4": "Finding entertaining content,Filling spare time",
                  "Q4_10_TEXT": "nan",
                  "Q9_1": "0",
                  "Q11": "Facebook,Facebook Messenger,Instagram,GroupMe,Other",
                  "Q11_10_TEXT": "Tumblr",
                  "Q12": "Other",
                  "_deepnote_index_column": 82
                },
                {
                  "Q14": "Hispanic or Latinx",
                  "Q14_8_TEXT": "nan",
                  "Q15": "Male",
                  "Q15_4_TEXT": "nan",
                  "Q20": "2021",
                  "Q16": "Yes",
                  "Q17": "No",
                  "Q18": "nan",
                  "Q19": "CA",
                  "Q24_1": "2",
                  "Q1": "Facebook,Instagram,Twitter",
                  "Q1_10_TEXT": "nan",
                  "Q5": "Instagram,Twitter",
                  "Q5_10_TEXT": "nan",
                  "Q6": "Instagram,Twitter,TikTok",
                  "Q6_10_TEXT": "nan",
                  "Q2_1": "5",
                  "Q3": "Several times a week",
                  "Q4": "Staying updated on current events,Finding entertaining content,Sharing opinions",
                  "Q4_10_TEXT": "nan",
                  "Q9_1": "2",
                  "Q11": "Facebook,Instagram,Twitter,GroupMe",
                  "Q11_10_TEXT": "nan",
                  "Q12": "Facebook,Instagram,Twitter",
                  "_deepnote_index_column": 95
                },
                {
                  "Q14": "Asian or Asian American",
                  "Q14_8_TEXT": "nan",
                  "Q15": "Female",
                  "Q15_4_TEXT": "nan",
                  "Q20": "2021",
                  "Q16": "No",
                  "Q17": "No",
                  "Q18": "nan",
                  "Q19": "Texas",
                  "Q24_1": "2",
                  "Q1": "Facebook,Facebook Messenger,Instagram,Snapchat,TikTok",
                  "Q1_10_TEXT": "nan",
                  "Q5": "Facebook,Instagram,Snapchat",
                  "Q5_10_TEXT": "nan",
                  "Q6": "Instagram",
                  "Q6_10_TEXT": "nan",
                  "Q2_1": "6",
                  "Q3": "Once every few weeks",
                  "Q4": "Staying in touch with friends and/or family,Finding entertaining content,Sharing photos and videos",
                  "Q4_10_TEXT": "nan",
                  "Q9_1": "4",
                  "Q11": "Facebook,Facebook Messenger,Instagram,Snapchat,GroupMe",
                  "Q11_10_TEXT": "nan",
                  "Q12": "Facebook,Facebook Messenger,Instagram,Snapchat,TikTok",
                  "_deepnote_index_column": 98
                },
                {
                  "Q14": "White",
                  "Q14_8_TEXT": "nan",
                  "Q15": "Male",
                  "Q15_4_TEXT": "nan",
                  "Q20": "2021",
                  "Q16": "Prefer not to say",
                  "Q17": "No",
                  "Q18": "nan",
                  "Q19": "NY",
                  "Q24_1": "2",
                  "Q1": "Twitter,WhatsApp",
                  "Q1_10_TEXT": "nan",
                  "Q5": "Twitter,GroupMe,TikTok",
                  "Q5_10_TEXT": "nan",
                  "Q6": "Instagram,Snapchat,TikTok",
                  "Q6_10_TEXT": "nan",
                  "Q2_1": "2",
                  "Q3": "About once a week",
                  "Q4": "Staying updated on current events,Networking with other people,Finding entertaining content",
                  "Q4_10_TEXT": "nan",
                  "Q9_1": "1",
                  "Q11": "Twitter,GroupMe",
                  "Q11_10_TEXT": "nan",
                  "Q12": "Twitter,WhatsApp,GroupMe",
                  "_deepnote_index_column": 106
                },
                {
                  "Q14": "White",
                  "Q14_8_TEXT": "nan",
                  "Q15": "Female",
                  "Q15_4_TEXT": "nan",
                  "Q20": "2021",
                  "Q16": "No",
                  "Q17": "No",
                  "Q18": "nan",
                  "Q19": "Colorado",
                  "Q24_1": "2",
                  "Q1": "Facebook Messenger,GroupMe",
                  "Q1_10_TEXT": "nan",
                  "Q5": "Facebook Messenger,LinkedIn,GroupMe",
                  "Q5_10_TEXT": "nan",
                  "Q6": "Instagram,Snapchat,Twitter",
                  "Q6_10_TEXT": "nan",
                  "Q2_1": "0",
                  "Q3": "Less often",
                  "Q4": "Staying in touch with friends and/or family",
                  "Q4_10_TEXT": "nan",
                  "Q9_1": "1",
                  "Q11": "Facebook Messenger,LinkedIn,GroupMe",
                  "Q11_10_TEXT": "nan",
                  "Q12": "Facebook Messenger,LinkedIn,GroupMe",
                  "_deepnote_index_column": 126
                },
                {
                  "Q14": "White",
                  "Q14_8_TEXT": "nan",
                  "Q15": "Female",
                  "Q15_4_TEXT": "nan",
                  "Q20": "2021",
                  "Q16": "No",
                  "Q17": "No",
                  "Q18": "nan",
                  "Q19": "Massachusetts",
                  "Q24_1": "nan",
                  "Q1": "nan",
                  "Q1_10_TEXT": "nan",
                  "Q5": "nan",
                  "Q5_10_TEXT": "nan",
                  "Q6": "nan",
                  "Q6_10_TEXT": "nan",
                  "Q2_1": "nan",
                  "Q3": "nan",
                  "Q4": "nan",
                  "Q4_10_TEXT": "nan",
                  "Q9_1": "nan",
                  "Q11": "nan",
                  "Q11_10_TEXT": "nan",
                  "Q12": "nan",
                  "_deepnote_index_column": 144
                }
              ],
              "rows_bottom": null
            },
            "text/plain": "                           Q14  \\\n4                        Other   \n11                       White   \n14                       White   \n20                       White   \n32                       White   \n39                       White   \n41                       Other   \n55   Black or African American   \n66                       White   \n68                       White   \n80                       White   \n81          Hispanic or Latinx   \n82     Asian or Asian American   \n95          Hispanic or Latinx   \n98     Asian or Asian American   \n106                      White   \n126                      White   \n144                      White   \n\n                                            Q14_8_TEXT     Q15  \\\n4                                                Mixed  Female   \n11                                                 NaN  Female   \n14                                                 NaN  Female   \n20                                                 NaN  Female   \n32                                                 NaN  Female   \n39                                                 NaN  Female   \n41   Hi! Make sure that you're able to select multi...   Other   \n55                                                 NaN    Male   \n66                                                 NaN  Female   \n68                                                 NaN  Female   \n80                                                 NaN  Female   \n81                                                 NaN  Female   \n82                                                 NaN  Female   \n95                                                 NaN    Male   \n98                                                 NaN  Female   \n106                                                NaN    Male   \n126                                                NaN  Female   \n144                                                NaN  Female   \n\n                                            Q15_4_TEXT   Q20  \\\n4                                                  NaN  2021   \n11                                                 NaN  2021   \n14                                                 NaN  2021   \n20                                                 NaN  2021   \n32                                                 NaN  2021   \n39                                                 NaN  2021   \n41   Unclear why this is relevant. It's good practi...  2021   \n55                                                 NaN  2021   \n66                                                 NaN  2021   \n68                                                 NaN  2021   \n80                                                 NaN  2021   \n81                                                 NaN  2021   \n82                                                 NaN  2021   \n95                                                 NaN  2021   \n98                                                 NaN  2021   \n106                                                NaN  2021   \n126                                                NaN  2021   \n144                                                NaN  2021   \n\n                   Q16  Q17          Q18            Q19 Q24_1  ...  \\\n4                   No   No          NaN             NJ     1  ...   \n11                  No   No          NaN     California     2  ...   \n14                  No   No          NaN             MA     2  ...   \n20                 Yes   No          NaN     New Mexico     0  ...   \n32                  No   No          NaN             MA     2  ...   \n39                  No   No          NaN   Pennsylvania     0  ...   \n41                  No   No          NaN       Michigan     1  ...   \n55                  No   No          NaN             NJ     0  ...   \n66                  No   No          NaN           Mass     2  ...   \n68                 Yes  Yes  New Zealand            NaN     1  ...   \n80                 Yes   No          NaN      Wisconsin   NaN  ...   \n81                 Yes   No          NaN        indiana     1  ...   \n82   Prefer not to say   No          NaN      Wisconsin     0  ...   \n95                 Yes   No          NaN             CA     2  ...   \n98                  No   No          NaN          Texas     2  ...   \n106  Prefer not to say   No          NaN             NY     2  ...   \n126                 No   No          NaN       Colorado     2  ...   \n144                 No   No          NaN  Massachusetts   NaN  ...   \n\n                                        Q6 Q6_10_TEXT Q2_1  \\\n4     Facebook Messenger,Instagram,Twitter        NaN    3   \n11               Instagram,Snapchat,TikTok        NaN    4   \n14               Instagram,Snapchat,TikTok        NaN    1   \n20                Instagram,Twitter,TikTok        NaN    2   \n32    Facebook Messenger,Instagram,Twitter        NaN    3   \n39   Facebook Messenger,Instagram,WhatsApp        NaN    3   \n41                Instagram,Twitter,TikTok        NaN    5   \n55                Instagram,Twitter,TikTok        NaN    3   \n66               Instagram,Snapchat,TikTok        NaN    2   \n68   Facebook Messenger,Instagram,LinkedIn        NaN    2   \n80               Instagram,Snapchat,TikTok        NaN    3   \n81              Instagram,LinkedIn,Twitter        NaN    2   \n82    Facebook Messenger,Instagram,Twitter        NaN    4   \n95                Instagram,Twitter,TikTok        NaN    5   \n98                               Instagram        NaN    6   \n106              Instagram,Snapchat,TikTok        NaN    2   \n126             Instagram,Snapchat,Twitter        NaN    0   \n144                                    NaN        NaN  NaN   \n\n                       Q3                                                 Q4  \\\n4              Less often  Staying in touch with friends and/or family,St...   \n11   Several times a week  Staying in touch with friends and/or family,St...   \n14             Less often  Staying updated on current events,Finding ente...   \n20             Less often  Staying in touch with friends and/or family,Sh...   \n32             Less often  Staying updated on current events,Finding ente...   \n39       About once a day  Finding entertaining content,Sharing opinions,...   \n41             Less often  Staying in touch with friends and/or family,Fi...   \n55   Once every few weeks  Staying in touch with friends and/or family,Fi...   \n66   Once every few weeks  Staying updated on current events,Shopping and...   \n68             Less often  Staying in touch with friends and/or family,St...   \n80   Once every few weeks  Staying in touch with friends and/or family,St...   \n81             Less often  Staying updated on current events,Finding ente...   \n82    Several times a day    Finding entertaining content,Filling spare time   \n95   Several times a week  Staying updated on current events,Finding ente...   \n98   Once every few weeks  Staying in touch with friends and/or family,Fi...   \n106     About once a week  Staying updated on current events,Networking w...   \n126            Less often        Staying in touch with friends and/or family   \n144                   NaN                                                NaN   \n\n               Q4_10_TEXT Q9_1  \\\n4                     NaN    3   \n11                    NaN    2   \n14                    NaN    0   \n20                    NaN    2   \n32                    NaN    2   \n39                    NaN    2   \n41                    NaN    3   \n55                    NaN    2   \n66   Creative inspiration    3   \n68                    NaN    1   \n80                    NaN    3   \n81                    NaN    3   \n82                    NaN    0   \n95                    NaN    2   \n98                    NaN    4   \n106                   NaN    1   \n126                   NaN    1   \n144                   NaN  NaN   \n\n                                                   Q11 Q11_10_TEXT  \\\n4       Facebook,Facebook Messenger,Instagram,Snapchat         NaN   \n11   Facebook,Facebook Messenger,Instagram,LinkedIn...         NaN   \n14   Facebook,Facebook Messenger,Instagram,LinkedIn...      tumblr   \n20                                            WhatsApp         NaN   \n32   Facebook,Facebook Messenger,Instagram,Twitter,...         NaN   \n39   Facebook,Facebook Messenger,Snapchat,Twitter,W...      Tumblr   \n41   Facebook,Facebook Messenger,Instagram,LinkedIn...         NaN   \n55   Facebook,Facebook Messenger,Instagram,LinkedIn...         NaN   \n66   Facebook,Facebook Messenger,Instagram,LinkedIn...         NaN   \n68   Facebook,Facebook Messenger,Instagram,Snapchat...         NaN   \n80   Facebook,Facebook Messenger,Instagram,LinkedIn...         NaN   \n81                   Snapchat,Twitter,WhatsApp,GroupMe         NaN   \n82   Facebook,Facebook Messenger,Instagram,GroupMe,...      Tumblr   \n95                  Facebook,Instagram,Twitter,GroupMe         NaN   \n98   Facebook,Facebook Messenger,Instagram,Snapchat...         NaN   \n106                                    Twitter,GroupMe         NaN   \n126                Facebook Messenger,LinkedIn,GroupMe         NaN   \n144                                                NaN         NaN   \n\n                                                   Q12  \n4    Facebook,Facebook Messenger,Instagram,LinkedIn...  \n11   Facebook,Facebook Messenger,Instagram,LinkedIn...  \n14   Facebook,Facebook Messenger,Instagram,GroupMe,...  \n20                                  Facebook,Instagram  \n32   Facebook,Facebook Messenger,Instagram,Twitter,...  \n39   Facebook,Facebook Messenger,Instagram,LinkedIn...  \n41   Facebook,Facebook Messenger,Instagram,LinkedIn...  \n55   Facebook,Facebook Messenger,Instagram,LinkedIn...  \n66   Facebook Messenger,Instagram,LinkedIn,Snapchat...  \n68   Facebook,Facebook Messenger,Instagram,LinkedIn...  \n80   Facebook,Facebook Messenger,Instagram,LinkedIn...  \n81           Instagram,Snapchat,Twitter,GroupMe,TikTok  \n82                                               Other  \n95                          Facebook,Instagram,Twitter  \n98   Facebook,Facebook Messenger,Instagram,Snapchat...  \n106                           Twitter,WhatsApp,GroupMe  \n126                Facebook Messenger,LinkedIn,GroupMe  \n144                                                NaN  \n\n[18 rows x 24 columns]",
            "text/html": "<div>\n<style scoped>\n    .dataframe tbody tr th:only-of-type {\n        vertical-align: middle;\n    }\n\n    .dataframe tbody tr th {\n        vertical-align: top;\n    }\n\n    .dataframe thead th {\n        text-align: right;\n    }\n</style>\n<table border=\"1\" class=\"dataframe\">\n  <thead>\n    <tr style=\"text-align: right;\">\n      <th></th>\n      <th>Q14</th>\n      <th>Q14_8_TEXT</th>\n      <th>Q15</th>\n      <th>Q15_4_TEXT</th>\n      <th>Q20</th>\n      <th>Q16</th>\n      <th>Q17</th>\n      <th>Q18</th>\n      <th>Q19</th>\n      <th>Q24_1</th>\n      <th>...</th>\n      <th>Q6</th>\n      <th>Q6_10_TEXT</th>\n      <th>Q2_1</th>\n      <th>Q3</th>\n      <th>Q4</th>\n      <th>Q4_10_TEXT</th>\n      <th>Q9_1</th>\n      <th>Q11</th>\n      <th>Q11_10_TEXT</th>\n      <th>Q12</th>\n    </tr>\n  </thead>\n  <tbody>\n    <tr>\n      <th>4</th>\n      <td>Other</td>\n      <td>Mixed</td>\n      <td>Female</td>\n      <td>NaN</td>\n      <td>2021</td>\n      <td>No</td>\n      <td>No</td>\n      <td>NaN</td>\n      <td>NJ</td>\n      <td>1</td>\n      <td>...</td>\n      <td>Facebook Messenger,Instagram,Twitter</td>\n      <td>NaN</td>\n      <td>3</td>\n      <td>Less often</td>\n      <td>Staying in touch with friends and/or family,St...</td>\n      <td>NaN</td>\n      <td>3</td>\n      <td>Facebook,Facebook Messenger,Instagram,Snapchat</td>\n      <td>NaN</td>\n      <td>Facebook,Facebook Messenger,Instagram,LinkedIn...</td>\n    </tr>\n    <tr>\n      <th>11</th>\n      <td>White</td>\n      <td>NaN</td>\n      <td>Female</td>\n      <td>NaN</td>\n      <td>2021</td>\n      <td>No</td>\n      <td>No</td>\n      <td>NaN</td>\n      <td>California</td>\n      <td>2</td>\n      <td>...</td>\n      <td>Instagram,Snapchat,TikTok</td>\n      <td>NaN</td>\n      <td>4</td>\n      <td>Several times a week</td>\n      <td>Staying in touch with friends and/or family,St...</td>\n      <td>NaN</td>\n      <td>2</td>\n      <td>Facebook,Facebook Messenger,Instagram,LinkedIn...</td>\n      <td>NaN</td>\n      <td>Facebook,Facebook Messenger,Instagram,LinkedIn...</td>\n    </tr>\n    <tr>\n      <th>14</th>\n      <td>White</td>\n      <td>NaN</td>\n      <td>Female</td>\n      <td>NaN</td>\n      <td>2021</td>\n      <td>No</td>\n      <td>No</td>\n      <td>NaN</td>\n      <td>MA</td>\n      <td>2</td>\n      <td>...</td>\n      <td>Instagram,Snapchat,TikTok</td>\n      <td>NaN</td>\n      <td>1</td>\n      <td>Less often</td>\n      <td>Staying updated on current events,Finding ente...</td>\n      <td>NaN</td>\n      <td>0</td>\n      <td>Facebook,Facebook Messenger,Instagram,LinkedIn...</td>\n      <td>tumblr</td>\n      <td>Facebook,Facebook Messenger,Instagram,GroupMe,...</td>\n    </tr>\n    <tr>\n      <th>20</th>\n      <td>White</td>\n      <td>NaN</td>\n      <td>Female</td>\n      <td>NaN</td>\n      <td>2021</td>\n      <td>Yes</td>\n      <td>No</td>\n      <td>NaN</td>\n      <td>New Mexico</td>\n      <td>0</td>\n      <td>...</td>\n      <td>Instagram,Twitter,TikTok</td>\n      <td>NaN</td>\n      <td>2</td>\n      <td>Less often</td>\n      <td>Staying in touch with friends and/or family,Sh...</td>\n      <td>NaN</td>\n      <td>2</td>\n      <td>WhatsApp</td>\n      <td>NaN</td>\n      <td>Facebook,Instagram</td>\n    </tr>\n    <tr>\n      <th>32</th>\n      <td>White</td>\n      <td>NaN</td>\n      <td>Female</td>\n      <td>NaN</td>\n      <td>2021</td>\n      <td>No</td>\n      <td>No</td>\n      <td>NaN</td>\n      <td>MA</td>\n      <td>2</td>\n      <td>...</td>\n      <td>Facebook Messenger,Instagram,Twitter</td>\n      <td>NaN</td>\n      <td>3</td>\n      <td>Less often</td>\n      <td>Staying updated on current events,Finding ente...</td>\n      <td>NaN</td>\n      <td>2</td>\n      <td>Facebook,Facebook Messenger,Instagram,Twitter,...</td>\n      <td>NaN</td>\n      <td>Facebook,Facebook Messenger,Instagram,Twitter,...</td>\n    </tr>\n    <tr>\n      <th>39</th>\n      <td>White</td>\n      <td>NaN</td>\n      <td>Female</td>\n      <td>NaN</td>\n      <td>2021</td>\n      <td>No</td>\n      <td>No</td>\n      <td>NaN</td>\n      <td>Pennsylvania</td>\n      <td>0</td>\n      <td>...</td>\n      <td>Facebook Messenger,Instagram,WhatsApp</td>\n      <td>NaN</td>\n      <td>3</td>\n      <td>About once a day</td>\n      <td>Finding entertaining content,Sharing opinions,...</td>\n      <td>NaN</td>\n      <td>2</td>\n      <td>Facebook,Facebook Messenger,Snapchat,Twitter,W...</td>\n      <td>Tumblr</td>\n      <td>Facebook,Facebook Messenger,Instagram,LinkedIn...</td>\n    </tr>\n    <tr>\n      <th>41</th>\n      <td>Other</td>\n      <td>Hi! Make sure that you're able to select multi...</td>\n      <td>Other</td>\n      <td>Unclear why this is relevant. It's good practi...</td>\n      <td>2021</td>\n      <td>No</td>\n      <td>No</td>\n      <td>NaN</td>\n      <td>Michigan</td>\n      <td>1</td>\n      <td>...</td>\n      <td>Instagram,Twitter,TikTok</td>\n      <td>NaN</td>\n      <td>5</td>\n      <td>Less often</td>\n      <td>Staying in touch with friends and/or family,Fi...</td>\n      <td>NaN</td>\n      <td>3</td>\n      <td>Facebook,Facebook Messenger,Instagram,LinkedIn...</td>\n      <td>NaN</td>\n      <td>Facebook,Facebook Messenger,Instagram,LinkedIn...</td>\n    </tr>\n    <tr>\n      <th>55</th>\n      <td>Black or African American</td>\n      <td>NaN</td>\n      <td>Male</td>\n      <td>NaN</td>\n      <td>2021</td>\n      <td>No</td>\n      <td>No</td>\n      <td>NaN</td>\n      <td>NJ</td>\n      <td>0</td>\n      <td>...</td>\n      <td>Instagram,Twitter,TikTok</td>\n      <td>NaN</td>\n      <td>3</td>\n      <td>Once every few weeks</td>\n      <td>Staying in touch with friends and/or family,Fi...</td>\n      <td>NaN</td>\n      <td>2</td>\n      <td>Facebook,Facebook Messenger,Instagram,LinkedIn...</td>\n      <td>NaN</td>\n      <td>Facebook,Facebook Messenger,Instagram,LinkedIn...</td>\n    </tr>\n    <tr>\n      <th>66</th>\n      <td>White</td>\n      <td>NaN</td>\n      <td>Female</td>\n      <td>NaN</td>\n      <td>2021</td>\n      <td>No</td>\n      <td>No</td>\n      <td>NaN</td>\n      <td>Mass</td>\n      <td>2</td>\n      <td>...</td>\n      <td>Instagram,Snapchat,TikTok</td>\n      <td>NaN</td>\n      <td>2</td>\n      <td>Once every few weeks</td>\n      <td>Staying updated on current events,Shopping and...</td>\n      <td>Creative inspiration</td>\n      <td>3</td>\n      <td>Facebook,Facebook Messenger,Instagram,LinkedIn...</td>\n      <td>NaN</td>\n      <td>Facebook Messenger,Instagram,LinkedIn,Snapchat...</td>\n    </tr>\n    <tr>\n      <th>68</th>\n      <td>White</td>\n      <td>NaN</td>\n      <td>Female</td>\n      <td>NaN</td>\n      <td>2021</td>\n      <td>Yes</td>\n      <td>Yes</td>\n      <td>New Zealand</td>\n      <td>NaN</td>\n      <td>1</td>\n      <td>...</td>\n      <td>Facebook Messenger,Instagram,LinkedIn</td>\n      <td>NaN</td>\n      <td>2</td>\n      <td>Less often</td>\n      <td>Staying in touch with friends and/or family,St...</td>\n      <td>NaN</td>\n      <td>1</td>\n      <td>Facebook,Facebook Messenger,Instagram,Snapchat...</td>\n      <td>NaN</td>\n      <td>Facebook,Facebook Messenger,Instagram,LinkedIn...</td>\n    </tr>\n    <tr>\n      <th>80</th>\n      <td>White</td>\n      <td>NaN</td>\n      <td>Female</td>\n      <td>NaN</td>\n      <td>2021</td>\n      <td>Yes</td>\n      <td>No</td>\n      <td>NaN</td>\n      <td>Wisconsin</td>\n      <td>NaN</td>\n      <td>...</td>\n      <td>Instagram,Snapchat,TikTok</td>\n      <td>NaN</td>\n      <td>3</td>\n      <td>Once every few weeks</td>\n      <td>Staying in touch with friends and/or family,St...</td>\n      <td>NaN</td>\n      <td>3</td>\n      <td>Facebook,Facebook Messenger,Instagram,LinkedIn...</td>\n      <td>NaN</td>\n      <td>Facebook,Facebook Messenger,Instagram,LinkedIn...</td>\n    </tr>\n    <tr>\n      <th>81</th>\n      <td>Hispanic or Latinx</td>\n      <td>NaN</td>\n      <td>Female</td>\n      <td>NaN</td>\n      <td>2021</td>\n      <td>Yes</td>\n      <td>No</td>\n      <td>NaN</td>\n      <td>indiana</td>\n      <td>1</td>\n      <td>...</td>\n      <td>Instagram,LinkedIn,Twitter</td>\n      <td>NaN</td>\n      <td>2</td>\n      <td>Less often</td>\n      <td>Staying updated on current events,Finding ente...</td>\n      <td>NaN</td>\n      <td>3</td>\n      <td>Snapchat,Twitter,WhatsApp,GroupMe</td>\n      <td>NaN</td>\n      <td>Instagram,Snapchat,Twitter,GroupMe,TikTok</td>\n    </tr>\n    <tr>\n      <th>82</th>\n      <td>Asian or Asian American</td>\n      <td>NaN</td>\n      <td>Female</td>\n      <td>NaN</td>\n      <td>2021</td>\n      <td>Prefer not to say</td>\n      <td>No</td>\n      <td>NaN</td>\n      <td>Wisconsin</td>\n      <td>0</td>\n      <td>...</td>\n      <td>Facebook Messenger,Instagram,Twitter</td>\n      <td>NaN</td>\n      <td>4</td>\n      <td>Several times a day</td>\n      <td>Finding entertaining content,Filling spare time</td>\n      <td>NaN</td>\n      <td>0</td>\n      <td>Facebook,Facebook Messenger,Instagram,GroupMe,...</td>\n      <td>Tumblr</td>\n      <td>Other</td>\n    </tr>\n    <tr>\n      <th>95</th>\n      <td>Hispanic or Latinx</td>\n      <td>NaN</td>\n      <td>Male</td>\n      <td>NaN</td>\n      <td>2021</td>\n      <td>Yes</td>\n      <td>No</td>\n      <td>NaN</td>\n      <td>CA</td>\n      <td>2</td>\n      <td>...</td>\n      <td>Instagram,Twitter,TikTok</td>\n      <td>NaN</td>\n      <td>5</td>\n      <td>Several times a week</td>\n      <td>Staying updated on current events,Finding ente...</td>\n      <td>NaN</td>\n      <td>2</td>\n      <td>Facebook,Instagram,Twitter,GroupMe</td>\n      <td>NaN</td>\n      <td>Facebook,Instagram,Twitter</td>\n    </tr>\n    <tr>\n      <th>98</th>\n      <td>Asian or Asian American</td>\n      <td>NaN</td>\n      <td>Female</td>\n      <td>NaN</td>\n      <td>2021</td>\n      <td>No</td>\n      <td>No</td>\n      <td>NaN</td>\n      <td>Texas</td>\n      <td>2</td>\n      <td>...</td>\n      <td>Instagram</td>\n      <td>NaN</td>\n      <td>6</td>\n      <td>Once every few weeks</td>\n      <td>Staying in touch with friends and/or family,Fi...</td>\n      <td>NaN</td>\n      <td>4</td>\n      <td>Facebook,Facebook Messenger,Instagram,Snapchat...</td>\n      <td>NaN</td>\n      <td>Facebook,Facebook Messenger,Instagram,Snapchat...</td>\n    </tr>\n    <tr>\n      <th>106</th>\n      <td>White</td>\n      <td>NaN</td>\n      <td>Male</td>\n      <td>NaN</td>\n      <td>2021</td>\n      <td>Prefer not to say</td>\n      <td>No</td>\n      <td>NaN</td>\n      <td>NY</td>\n      <td>2</td>\n      <td>...</td>\n      <td>Instagram,Snapchat,TikTok</td>\n      <td>NaN</td>\n      <td>2</td>\n      <td>About once a week</td>\n      <td>Staying updated on current events,Networking w...</td>\n      <td>NaN</td>\n      <td>1</td>\n      <td>Twitter,GroupMe</td>\n      <td>NaN</td>\n      <td>Twitter,WhatsApp,GroupMe</td>\n    </tr>\n    <tr>\n      <th>126</th>\n      <td>White</td>\n      <td>NaN</td>\n      <td>Female</td>\n      <td>NaN</td>\n      <td>2021</td>\n      <td>No</td>\n      <td>No</td>\n      <td>NaN</td>\n      <td>Colorado</td>\n      <td>2</td>\n      <td>...</td>\n      <td>Instagram,Snapchat,Twitter</td>\n      <td>NaN</td>\n      <td>0</td>\n      <td>Less often</td>\n      <td>Staying in touch with friends and/or family</td>\n      <td>NaN</td>\n      <td>1</td>\n      <td>Facebook Messenger,LinkedIn,GroupMe</td>\n      <td>NaN</td>\n      <td>Facebook Messenger,LinkedIn,GroupMe</td>\n    </tr>\n    <tr>\n      <th>144</th>\n      <td>White</td>\n      <td>NaN</td>\n      <td>Female</td>\n      <td>NaN</td>\n      <td>2021</td>\n      <td>No</td>\n      <td>No</td>\n      <td>NaN</td>\n      <td>Massachusetts</td>\n      <td>NaN</td>\n      <td>...</td>\n      <td>NaN</td>\n      <td>NaN</td>\n      <td>NaN</td>\n      <td>NaN</td>\n      <td>NaN</td>\n      <td>NaN</td>\n      <td>NaN</td>\n      <td>NaN</td>\n      <td>NaN</td>\n      <td>NaN</td>\n    </tr>\n  </tbody>\n</table>\n<p>18 rows × 24 columns</p>\n</div>"
          },
          "metadata": {},
          "output_type": "display_data"
        }
      ]
    },
    {
      "cell_type": "markdown",
      "source": "### JUNIORS DATAFRAME : juniors_data",
      "metadata": {
        "tags": [],
        "cell_id": "00005-1fc21719-f387-44a4-93df-e241afdb8a81",
        "deepnote_cell_type": "text-cell-h3"
      }
    },
    {
      "cell_type": "code",
      "metadata": {
        "tags": [],
        "cell_id": "00007-578e4dbc-6d28-4fff-ad96-acb45e60f168",
        "deepnote_to_be_reexecuted": false,
        "source_hash": "ca35e6aa",
        "execution_millis": 89,
        "execution_start": 1617582034672,
        "deepnote_cell_type": "code"
      },
      "source": "# DATAFRAME WITH RESPONSES FROM CLASS OF 2022\n\njuniors = pd.read_csv(\"SMS43.csv\")\njuniors_data = juniors.drop(juniors.index[1])\njuniors_data = juniors_data.iloc[:, 17:41]\n\n# Get names of indexes for which the class columns is not 2021\nindex_names = juniors_data[juniors_data['Q20'] != '2022'].index\n\njuniors_data.drop(index_names, inplace = True)\ndisplay(juniors_data)",
      "execution_count": 4,
      "outputs": [
        {
          "data": {
            "application/vnd.deepnote.dataframe.v2+json": {
              "row_count": 26,
              "column_count": 24,
              "columns": [
                {
                  "name": "Q14",
                  "dtype": "object",
                  "stats": {
                    "unique_count": 6,
                    "nan_count": 0,
                    "categories": [
                      {
                        "name": "White",
                        "count": 10
                      },
                      {
                        "name": "Asian or Asian American",
                        "count": 5
                      },
                      {
                        "name": "4 others",
                        "count": 11
                      }
                    ]
                  }
                },
                {
                  "name": "Q14_8_TEXT",
                  "dtype": "object",
                  "stats": {
                    "unique_count": 3,
                    "nan_count": 23,
                    "categories": [
                      {
                        "name": "biracial (white and asian)",
                        "count": 1
                      },
                      {
                        "name": "2 others",
                        "count": 2
                      },
                      {
                        "name": "Missing",
                        "count": 23
                      }
                    ]
                  }
                },
                {
                  "name": "Q15",
                  "dtype": "object",
                  "stats": {
                    "unique_count": 3,
                    "nan_count": 0,
                    "categories": [
                      {
                        "name": "Female",
                        "count": 20
                      },
                      {
                        "name": "Male",
                        "count": 5
                      },
                      {
                        "name": "Non-Binary",
                        "count": 1
                      }
                    ]
                  }
                },
                {
                  "name": "Q15_4_TEXT",
                  "dtype": "object",
                  "stats": {
                    "unique_count": 0,
                    "nan_count": 26,
                    "categories": [
                      {
                        "name": "Missing",
                        "count": 26
                      }
                    ]
                  }
                },
                {
                  "name": "Q20",
                  "dtype": "object",
                  "stats": {
                    "unique_count": 1,
                    "nan_count": 0,
                    "categories": [
                      {
                        "name": "2022",
                        "count": 26
                      }
                    ]
                  }
                },
                {
                  "name": "Q16",
                  "dtype": "object",
                  "stats": {
                    "unique_count": 2,
                    "nan_count": 0,
                    "categories": [
                      {
                        "name": "No",
                        "count": 20
                      },
                      {
                        "name": "Yes",
                        "count": 6
                      }
                    ]
                  }
                },
                {
                  "name": "Q17",
                  "dtype": "object",
                  "stats": {
                    "unique_count": 2,
                    "nan_count": 0,
                    "categories": [
                      {
                        "name": "No",
                        "count": 24
                      },
                      {
                        "name": "Yes",
                        "count": 2
                      }
                    ]
                  }
                },
                {
                  "name": "Q18",
                  "dtype": "object",
                  "stats": {
                    "unique_count": 2,
                    "nan_count": 24,
                    "categories": [
                      {
                        "name": "India",
                        "count": 1
                      },
                      {
                        "name": "France",
                        "count": 1
                      },
                      {
                        "name": "Missing",
                        "count": 24
                      }
                    ]
                  }
                },
                {
                  "name": "Q19",
                  "dtype": "object",
                  "stats": {
                    "unique_count": 19,
                    "nan_count": 4,
                    "categories": [
                      {
                        "name": "MA",
                        "count": 2
                      },
                      {
                        "name": "18 others",
                        "count": 20
                      },
                      {
                        "name": "Missing",
                        "count": 4
                      }
                    ]
                  }
                },
                {
                  "name": "Q24_1",
                  "dtype": "object",
                  "stats": {
                    "unique_count": 4,
                    "nan_count": 1,
                    "categories": [
                      {
                        "name": "2",
                        "count": 9
                      },
                      {
                        "name": "3 others",
                        "count": 16
                      },
                      {
                        "name": "Missing",
                        "count": 1
                      }
                    ]
                  }
                },
                {
                  "name": "Q1",
                  "dtype": "object",
                  "stats": {
                    "unique_count": 24,
                    "nan_count": 1,
                    "categories": [
                      {
                        "name": "LinkedIn,GroupMe",
                        "count": 2
                      },
                      {
                        "name": "23 others",
                        "count": 23
                      },
                      {
                        "name": "Missing",
                        "count": 1
                      }
                    ]
                  }
                },
                {
                  "name": "Q1_10_TEXT",
                  "dtype": "object",
                  "stats": {
                    "unique_count": 1,
                    "nan_count": 25,
                    "categories": [
                      {
                        "name": "Discord",
                        "count": 1
                      },
                      {
                        "name": "Missing",
                        "count": 25
                      }
                    ]
                  }
                },
                {
                  "name": "Q5",
                  "dtype": "object",
                  "stats": {
                    "unique_count": 18,
                    "nan_count": 1,
                    "categories": [
                      {
                        "name": "Twitter",
                        "count": 3
                      },
                      {
                        "name": "17 others",
                        "count": 22
                      },
                      {
                        "name": "Missing",
                        "count": 1
                      }
                    ]
                  }
                },
                {
                  "name": "Q5_10_TEXT",
                  "dtype": "object",
                  "stats": {
                    "unique_count": 2,
                    "nan_count": 24,
                    "categories": [
                      {
                        "name": "Discord",
                        "count": 1
                      },
                      {
                        "name": "I hate them all",
                        "count": 1
                      },
                      {
                        "name": "Missing",
                        "count": 24
                      }
                    ]
                  }
                },
                {
                  "name": "Q6",
                  "dtype": "object",
                  "stats": {
                    "unique_count": 10,
                    "nan_count": 1,
                    "categories": [
                      {
                        "name": "Instagram,Snapchat,TikTok",
                        "count": 8
                      },
                      {
                        "name": "9 others",
                        "count": 17
                      },
                      {
                        "name": "Missing",
                        "count": 1
                      }
                    ]
                  }
                },
                {
                  "name": "Q6_10_TEXT",
                  "dtype": "object",
                  "stats": {
                    "unique_count": 0,
                    "nan_count": 26,
                    "categories": [
                      {
                        "name": "Missing",
                        "count": 26
                      }
                    ]
                  }
                },
                {
                  "name": "Q2_1",
                  "dtype": "object",
                  "stats": {
                    "unique_count": 6,
                    "nan_count": 1,
                    "categories": [
                      {
                        "name": "2",
                        "count": 6
                      },
                      {
                        "name": "5 others",
                        "count": 19
                      },
                      {
                        "name": "Missing",
                        "count": 1
                      }
                    ]
                  }
                },
                {
                  "name": "Q3",
                  "dtype": "object",
                  "stats": {
                    "unique_count": 6,
                    "nan_count": 1,
                    "categories": [
                      {
                        "name": "Once every few weeks",
                        "count": 10
                      },
                      {
                        "name": "5 others",
                        "count": 15
                      },
                      {
                        "name": "Missing",
                        "count": 1
                      }
                    ]
                  }
                },
                {
                  "name": "Q4",
                  "dtype": "object",
                  "stats": {
                    "unique_count": 9,
                    "nan_count": 1,
                    "categories": [
                      {
                        "name": "Staying in touch with friends and/or family,Staying updated on current events,Finding entertaining content",
                        "count": 9
                      },
                      {
                        "name": "8 others",
                        "count": 16
                      },
                      {
                        "name": "Missing",
                        "count": 1
                      }
                    ]
                  }
                },
                {
                  "name": "Q4_10_TEXT",
                  "dtype": "object",
                  "stats": {
                    "unique_count": 0,
                    "nan_count": 26,
                    "categories": [
                      {
                        "name": "Missing",
                        "count": 26
                      }
                    ]
                  }
                },
                {
                  "name": "Q9_1",
                  "dtype": "object",
                  "stats": {
                    "unique_count": 8,
                    "nan_count": 1,
                    "categories": [
                      {
                        "name": "2",
                        "count": 6
                      },
                      {
                        "name": "7 others",
                        "count": 19
                      },
                      {
                        "name": "Missing",
                        "count": 1
                      }
                    ]
                  }
                },
                {
                  "name": "Q11",
                  "dtype": "object",
                  "stats": {
                    "unique_count": 22,
                    "nan_count": 1,
                    "categories": [
                      {
                        "name": "Facebook,Facebook Messenger,Instagram,Twitter,GroupMe",
                        "count": 2
                      },
                      {
                        "name": "21 others",
                        "count": 23
                      },
                      {
                        "name": "Missing",
                        "count": 1
                      }
                    ]
                  }
                },
                {
                  "name": "Q11_10_TEXT",
                  "dtype": "object",
                  "stats": {
                    "unique_count": 0,
                    "nan_count": 26,
                    "categories": [
                      {
                        "name": "Missing",
                        "count": 26
                      }
                    ]
                  }
                },
                {
                  "name": "Q12",
                  "dtype": "object",
                  "stats": {
                    "unique_count": 22,
                    "nan_count": 1,
                    "categories": [
                      {
                        "name": "Facebook,Instagram,LinkedIn,Snapchat,Twitter,GroupMe,TikTok",
                        "count": 2
                      },
                      {
                        "name": "21 others",
                        "count": 23
                      },
                      {
                        "name": "Missing",
                        "count": 1
                      }
                    ]
                  }
                },
                {
                  "name": "_deepnote_index_column",
                  "dtype": "int64"
                }
              ],
              "rows_top": [
                {
                  "Q14": "White",
                  "Q14_8_TEXT": "nan",
                  "Q15": "Non-Binary",
                  "Q15_4_TEXT": "nan",
                  "Q20": "2022",
                  "Q16": "No",
                  "Q17": "No",
                  "Q18": "nan",
                  "Q19": "nan",
                  "Q24_1": "2",
                  "Q1": "Facebook,Facebook Messenger,Twitter,GroupMe",
                  "Q1_10_TEXT": "nan",
                  "Q5": "Twitter",
                  "Q5_10_TEXT": "nan",
                  "Q6": "Instagram,TikTok",
                  "Q6_10_TEXT": "nan",
                  "Q2_1": "3",
                  "Q3": "Several times a day",
                  "Q4": "Staying in touch with friends and/or family,Finding entertaining content,Sharing opinions",
                  "Q4_10_TEXT": "nan",
                  "Q9_1": "4",
                  "Q11": "Facebook,Facebook Messenger,Instagram,Twitter,GroupMe",
                  "Q11_10_TEXT": "nan",
                  "Q12": "Other",
                  "_deepnote_index_column": 3
                },
                {
                  "Q14": "Asian or Asian American",
                  "Q14_8_TEXT": "nan",
                  "Q15": "Male",
                  "Q15_4_TEXT": "nan",
                  "Q20": "2022",
                  "Q16": "No",
                  "Q17": "No",
                  "Q18": "nan",
                  "Q19": "MA",
                  "Q24_1": "1",
                  "Q1": "Facebook,Facebook Messenger,Instagram,LinkedIn",
                  "Q1_10_TEXT": "nan",
                  "Q5": "Facebook,Facebook Messenger,Instagram",
                  "Q5_10_TEXT": "nan",
                  "Q6": "Facebook,Facebook Messenger,Instagram",
                  "Q6_10_TEXT": "nan",
                  "Q2_1": "6",
                  "Q3": "Once every few weeks",
                  "Q4": "Staying in touch with friends and/or family,Staying updated on current events,Finding entertaining content",
                  "Q4_10_TEXT": "nan",
                  "Q9_1": "4",
                  "Q11": "Facebook,Facebook Messenger,LinkedIn",
                  "Q11_10_TEXT": "nan",
                  "Q12": "Facebook,Facebook Messenger,Instagram,LinkedIn",
                  "_deepnote_index_column": 5
                },
                {
                  "Q14": "White",
                  "Q14_8_TEXT": "nan",
                  "Q15": "Male",
                  "Q15_4_TEXT": "nan",
                  "Q20": "2022",
                  "Q16": "No",
                  "Q17": "No",
                  "Q18": "nan",
                  "Q19": "New York",
                  "Q24_1": "1",
                  "Q1": "Facebook,Facebook Messenger,Instagram,Snapchat,Twitter",
                  "Q1_10_TEXT": "nan",
                  "Q5": "Facebook Messenger,Instagram,Twitter",
                  "Q5_10_TEXT": "nan",
                  "Q6": "Instagram,Snapchat,Twitter",
                  "Q6_10_TEXT": "nan",
                  "Q2_1": "5",
                  "Q3": "Less often",
                  "Q4": "Staying updated on current events,Finding entertaining content,Filling spare time",
                  "Q4_10_TEXT": "nan",
                  "Q9_1": "2",
                  "Q11": "Facebook,Facebook Messenger,Instagram,Snapchat,Twitter",
                  "Q11_10_TEXT": "nan",
                  "Q12": "Facebook,Facebook Messenger,Instagram,Snapchat,Twitter",
                  "_deepnote_index_column": 10
                },
                {
                  "Q14": "White",
                  "Q14_8_TEXT": "nan",
                  "Q15": "Female",
                  "Q15_4_TEXT": "nan",
                  "Q20": "2022",
                  "Q16": "No",
                  "Q17": "No",
                  "Q18": "nan",
                  "Q19": "Texas",
                  "Q24_1": "2",
                  "Q1": "Facebook,Facebook Messenger,Instagram,LinkedIn,Snapchat,GroupMe",
                  "Q1_10_TEXT": "nan",
                  "Q5": "Facebook,Instagram,Snapchat",
                  "Q5_10_TEXT": "nan",
                  "Q6": "Facebook,Instagram,TikTok",
                  "Q6_10_TEXT": "nan",
                  "Q2_1": "2",
                  "Q3": "Once every few weeks",
                  "Q4": "Staying in touch with friends and/or family,Staying updated on current events,Finding entertaining content",
                  "Q4_10_TEXT": "nan",
                  "Q9_1": "2",
                  "Q11": "Facebook,Facebook Messenger,Instagram,LinkedIn,Snapchat,GroupMe",
                  "Q11_10_TEXT": "nan",
                  "Q12": "Facebook,Facebook Messenger,Instagram,LinkedIn,Snapchat,GroupMe",
                  "_deepnote_index_column": 18
                },
                {
                  "Q14": "White",
                  "Q14_8_TEXT": "nan",
                  "Q15": "Female",
                  "Q15_4_TEXT": "nan",
                  "Q20": "2022",
                  "Q16": "No",
                  "Q17": "No",
                  "Q18": "nan",
                  "Q19": "Kentucky",
                  "Q24_1": "3",
                  "Q1": "Facebook,Instagram,Snapchat,GroupMe",
                  "Q1_10_TEXT": "nan",
                  "Q5": "Instagram,Snapchat,GroupMe",
                  "Q5_10_TEXT": "nan",
                  "Q6": "Instagram,Snapchat,TikTok",
                  "Q6_10_TEXT": "nan",
                  "Q2_1": "3",
                  "Q3": "About once a week",
                  "Q4": "Staying in touch with friends and/or family,Finding entertaining content,Filling spare time",
                  "Q4_10_TEXT": "nan",
                  "Q9_1": "2",
                  "Q11": "Facebook,Facebook Messenger,Instagram,Snapchat,Twitter,GroupMe",
                  "Q11_10_TEXT": "nan",
                  "Q12": "Facebook,Facebook Messenger,Instagram,Snapchat,GroupMe",
                  "_deepnote_index_column": 33
                },
                {
                  "Q14": "White",
                  "Q14_8_TEXT": "nan",
                  "Q15": "Female",
                  "Q15_4_TEXT": "nan",
                  "Q20": "2022",
                  "Q16": "No",
                  "Q17": "No",
                  "Q18": "nan",
                  "Q19": "Mississippi",
                  "Q24_1": "3",
                  "Q1": "Facebook,Instagram,LinkedIn,Snapchat,Twitter,GroupMe,TikTok",
                  "Q1_10_TEXT": "nan",
                  "Q5": "Instagram,Twitter,TikTok",
                  "Q5_10_TEXT": "nan",
                  "Q6": "Instagram,Snapchat,Twitter",
                  "Q6_10_TEXT": "nan",
                  "Q2_1": "5",
                  "Q3": "Once every few weeks",
                  "Q4": "Staying in touch with friends and/or family,Finding entertaining content,Filling spare time",
                  "Q4_10_TEXT": "nan",
                  "Q9_1": "3",
                  "Q11": "Facebook,Instagram,LinkedIn,Snapchat,Twitter,GroupMe,TikTok",
                  "Q11_10_TEXT": "nan",
                  "Q12": "Facebook,Instagram,LinkedIn,Snapchat,Twitter,GroupMe,TikTok",
                  "_deepnote_index_column": 34
                },
                {
                  "Q14": "Asian or Asian American",
                  "Q14_8_TEXT": "nan",
                  "Q15": "Female",
                  "Q15_4_TEXT": "nan",
                  "Q20": "2022",
                  "Q16": "No",
                  "Q17": "No",
                  "Q18": "nan",
                  "Q19": "Oregon",
                  "Q24_1": "2",
                  "Q1": "Facebook,Facebook Messenger,Instagram,LinkedIn,Twitter",
                  "Q1_10_TEXT": "nan",
                  "Q5": "Twitter",
                  "Q5_10_TEXT": "nan",
                  "Q6": "Facebook Messenger,Instagram,TikTok",
                  "Q6_10_TEXT": "nan",
                  "Q2_1": "2",
                  "Q3": "Less often",
                  "Q4": "Staying in touch with friends and/or family,Staying updated on current events,Finding entertaining content",
                  "Q4_10_TEXT": "nan",
                  "Q9_1": "1",
                  "Q11": "Facebook,Facebook Messenger,Instagram,LinkedIn,Twitter",
                  "Q11_10_TEXT": "nan",
                  "Q12": "Facebook,Facebook Messenger,Instagram,LinkedIn,Twitter,TikTok",
                  "_deepnote_index_column": 42
                },
                {
                  "Q14": "Other",
                  "Q14_8_TEXT": "biracial (white and asian)",
                  "Q15": "Female",
                  "Q15_4_TEXT": "nan",
                  "Q20": "2022",
                  "Q16": "No",
                  "Q17": "No",
                  "Q18": "nan",
                  "Q19": "Massachusetts",
                  "Q24_1": "3",
                  "Q1": "Facebook,Instagram,LinkedIn,Snapchat,GroupMe,TikTok",
                  "Q1_10_TEXT": "nan",
                  "Q5": "Instagram,Snapchat,TikTok",
                  "Q5_10_TEXT": "nan",
                  "Q6": "Instagram,Twitter,TikTok",
                  "Q6_10_TEXT": "nan",
                  "Q2_1": "3",
                  "Q3": "Once every few weeks",
                  "Q4": "Staying in touch with friends and/or family,Finding entertaining content,Sharing photos and videos",
                  "Q4_10_TEXT": "nan",
                  "Q9_1": "2",
                  "Q11": "Facebook,Instagram,LinkedIn,Snapchat,GroupMe,TikTok",
                  "Q11_10_TEXT": "nan",
                  "Q12": "Facebook,Instagram,LinkedIn,Snapchat,GroupMe,TikTok",
                  "_deepnote_index_column": 44
                },
                {
                  "Q14": "Black or African American",
                  "Q14_8_TEXT": "nan",
                  "Q15": "Female",
                  "Q15_4_TEXT": "nan",
                  "Q20": "2022",
                  "Q16": "No",
                  "Q17": "No",
                  "Q18": "nan",
                  "Q19": "Washington, DC",
                  "Q24_1": "1",
                  "Q1": "LinkedIn,GroupMe",
                  "Q1_10_TEXT": "nan",
                  "Q5": "LinkedIn,Twitter,TikTok",
                  "Q5_10_TEXT": "nan",
                  "Q6": "Instagram,Snapchat,TikTok",
                  "Q6_10_TEXT": "nan",
                  "Q2_1": "1",
                  "Q3": "Never",
                  "Q4": "Finding entertaining content,Filling spare time",
                  "Q4_10_TEXT": "nan",
                  "Q9_1": "0",
                  "Q11": "LinkedIn,GroupMe",
                  "Q11_10_TEXT": "nan",
                  "Q12": "LinkedIn,GroupMe",
                  "_deepnote_index_column": 46
                },
                {
                  "Q14": "Asian or Asian American",
                  "Q14_8_TEXT": "nan",
                  "Q15": "Male",
                  "Q15_4_TEXT": "nan",
                  "Q20": "2022",
                  "Q16": "No",
                  "Q17": "No",
                  "Q18": "nan",
                  "Q19": "Massachusetts",
                  "Q24_1": "1",
                  "Q1": "Facebook,Facebook Messenger,Instagram,LinkedIn,GroupMe,Other",
                  "Q1_10_TEXT": "Discord",
                  "Q5": "Facebook,Instagram,Other",
                  "Q5_10_TEXT": "Discord",
                  "Q6": "Instagram,Snapchat,TikTok",
                  "Q6_10_TEXT": "nan",
                  "Q2_1": "2",
                  "Q3": "Once every few weeks",
                  "Q4": "Staying in touch with friends and/or family,Staying updated on current events,Finding entertaining content",
                  "Q4_10_TEXT": "nan",
                  "Q9_1": "1",
                  "Q11": "Facebook,Facebook Messenger,Instagram,LinkedIn,GroupMe",
                  "Q11_10_TEXT": "nan",
                  "Q12": "Facebook,Facebook Messenger,Instagram,LinkedIn,Snapchat,GroupMe,Other",
                  "_deepnote_index_column": 48
                },
                {
                  "Q14": "Other",
                  "Q14_8_TEXT": "White and hispanic",
                  "Q15": "Male",
                  "Q15_4_TEXT": "nan",
                  "Q20": "2022",
                  "Q16": "Yes",
                  "Q17": "No",
                  "Q18": "nan",
                  "Q19": "Michigan",
                  "Q24_1": "1",
                  "Q1": "Facebook,Facebook Messenger,Instagram,Snapchat,GroupMe,TikTok",
                  "Q1_10_TEXT": "nan",
                  "Q5": "Facebook,Snapchat,TikTok",
                  "Q5_10_TEXT": "nan",
                  "Q6": "Instagram,Snapchat,TikTok",
                  "Q6_10_TEXT": "nan",
                  "Q2_1": "1",
                  "Q3": "Never",
                  "Q4": "Staying in touch with friends and/or family,Finding entertaining content,Filling spare time",
                  "Q4_10_TEXT": "nan",
                  "Q9_1": "0",
                  "Q11": "Instagram,Snapchat,GroupMe",
                  "Q11_10_TEXT": "nan",
                  "Q12": "Facebook,Facebook Messenger,Snapchat,GroupMe,TikTok",
                  "_deepnote_index_column": 49
                },
                {
                  "Q14": "Black or African American",
                  "Q14_8_TEXT": "nan",
                  "Q15": "Female",
                  "Q15_4_TEXT": "nan",
                  "Q20": "2022",
                  "Q16": "No",
                  "Q17": "No",
                  "Q18": "nan",
                  "Q19": "South Carolina",
                  "Q24_1": "0",
                  "Q1": "Snapchat,GroupMe,TikTok",
                  "Q1_10_TEXT": "nan",
                  "Q5": "Snapchat,Twitter,TikTok",
                  "Q5_10_TEXT": "nan",
                  "Q6": "Instagram,Snapchat,Twitter",
                  "Q6_10_TEXT": "nan",
                  "Q2_1": "5",
                  "Q3": "Once every few weeks",
                  "Q4": "Staying updated on current events,Finding entertaining content,Sharing photos and videos",
                  "Q4_10_TEXT": "nan",
                  "Q9_1": "4",
                  "Q11": "Facebook,Facebook Messenger,Instagram,Snapchat,Twitter,WhatsApp,GroupMe",
                  "Q11_10_TEXT": "nan",
                  "Q12": "Facebook,Facebook Messenger,Instagram,Snapchat,Twitter,WhatsApp,GroupMe,TikTok",
                  "_deepnote_index_column": 51
                },
                {
                  "Q14": "Asian or Asian American",
                  "Q14_8_TEXT": "nan",
                  "Q15": "Male",
                  "Q15_4_TEXT": "nan",
                  "Q20": "2022",
                  "Q16": "No",
                  "Q17": "Yes",
                  "Q18": "India",
                  "Q19": "nan",
                  "Q24_1": "2",
                  "Q1": "Facebook,Facebook Messenger,Instagram,LinkedIn,Snapchat,Twitter,WhatsApp,GroupMe",
                  "Q1_10_TEXT": "nan",
                  "Q5": "Facebook,Instagram,Twitter",
                  "Q5_10_TEXT": "nan",
                  "Q6": "Instagram,Snapchat,TikTok",
                  "Q6_10_TEXT": "nan",
                  "Q2_1": "4",
                  "Q3": "About once a week",
                  "Q4": "Staying in touch with friends and/or family,Staying updated on current events,Finding entertaining content",
                  "Q4_10_TEXT": "nan",
                  "Q9_1": "3",
                  "Q11": "Facebook,Facebook Messenger,Instagram,LinkedIn,Snapchat,Twitter,WhatsApp,GroupMe",
                  "Q11_10_TEXT": "nan",
                  "Q12": "Facebook,Facebook Messenger,Instagram,LinkedIn,Snapchat,Twitter,WhatsApp,GroupMe",
                  "_deepnote_index_column": 56
                },
                {
                  "Q14": "Middle Eastern or North African",
                  "Q14_8_TEXT": "nan",
                  "Q15": "Female",
                  "Q15_4_TEXT": "nan",
                  "Q20": "2022",
                  "Q16": "No",
                  "Q17": "No",
                  "Q18": "nan",
                  "Q19": "Virginia",
                  "Q24_1": "1",
                  "Q1": "Facebook,Facebook Messenger,Instagram,Snapchat,TikTok",
                  "Q1_10_TEXT": "nan",
                  "Q5": "Facebook,Facebook Messenger,TikTok",
                  "Q5_10_TEXT": "nan",
                  "Q6": "Instagram,Snapchat,TikTok",
                  "Q6_10_TEXT": "nan",
                  "Q2_1": "4",
                  "Q3": "Less often",
                  "Q4": "Staying in touch with friends and/or family,Finding entertaining content,Filling spare time",
                  "Q4_10_TEXT": "nan",
                  "Q9_1": "2",
                  "Q11": "Facebook,Facebook Messenger,Instagram,Snapchat",
                  "Q11_10_TEXT": "nan",
                  "Q12": "Facebook,Facebook Messenger,Instagram,Snapchat,TikTok",
                  "_deepnote_index_column": 60
                },
                {
                  "Q14": "Other",
                  "Q14_8_TEXT": "North African and White",
                  "Q15": "Female",
                  "Q15_4_TEXT": "nan",
                  "Q20": "2022",
                  "Q16": "No",
                  "Q17": "No",
                  "Q18": "nan",
                  "Q19": "Iowa",
                  "Q24_1": "2",
                  "Q1": "Twitter,GroupMe",
                  "Q1_10_TEXT": "nan",
                  "Q5": "Twitter",
                  "Q5_10_TEXT": "nan",
                  "Q6": "Instagram,Twitter,TikTok",
                  "Q6_10_TEXT": "nan",
                  "Q2_1": "2",
                  "Q3": "Once every few weeks",
                  "Q4": "Staying in touch with friends and/or family,Staying updated on current events,Finding entertaining content",
                  "Q4_10_TEXT": "nan",
                  "Q9_1": "-3",
                  "Q11": "Facebook,Facebook Messenger,Instagram,LinkedIn,Snapchat,Twitter,WhatsApp,GroupMe",
                  "Q11_10_TEXT": "nan",
                  "Q12": "Twitter,GroupMe",
                  "_deepnote_index_column": 70
                },
                {
                  "Q14": "White",
                  "Q14_8_TEXT": "nan",
                  "Q15": "Female",
                  "Q15_4_TEXT": "nan",
                  "Q20": "2022",
                  "Q16": "No",
                  "Q17": "Yes",
                  "Q18": "France",
                  "Q19": "nan",
                  "Q24_1": "2",
                  "Q1": "Facebook,Facebook Messenger,Instagram,LinkedIn,Snapchat,WhatsApp",
                  "Q1_10_TEXT": "nan",
                  "Q5": "Facebook Messenger,Instagram,LinkedIn",
                  "Q5_10_TEXT": "nan",
                  "Q6": "Instagram,Twitter,TikTok",
                  "Q6_10_TEXT": "nan",
                  "Q2_1": "2",
                  "Q3": "Once every few weeks",
                  "Q4": "Staying in touch with friends and/or family,Staying updated on current events,Sharing photos and videos",
                  "Q4_10_TEXT": "nan",
                  "Q9_1": "0",
                  "Q11": "Facebook,Facebook Messenger,Instagram,LinkedIn,Snapchat,WhatsApp,GroupMe",
                  "Q11_10_TEXT": "nan",
                  "Q12": "Facebook,Facebook Messenger,Instagram,LinkedIn,Snapchat,WhatsApp",
                  "_deepnote_index_column": 74
                },
                {
                  "Q14": "Middle Eastern or North African",
                  "Q14_8_TEXT": "nan",
                  "Q15": "Female",
                  "Q15_4_TEXT": "nan",
                  "Q20": "2022",
                  "Q16": "No",
                  "Q17": "No",
                  "Q18": "nan",
                  "Q19": "NY",
                  "Q24_1": "2",
                  "Q1": "Facebook Messenger,Instagram,Twitter",
                  "Q1_10_TEXT": "nan",
                  "Q5": "Facebook Messenger,Instagram,Twitter",
                  "Q5_10_TEXT": "nan",
                  "Q6": "Instagram,Twitter,TikTok",
                  "Q6_10_TEXT": "nan",
                  "Q2_1": "1",
                  "Q3": "Once every few weeks",
                  "Q4": "Staying in touch with friends and/or family,Staying updated on current events,Finding entertaining content",
                  "Q4_10_TEXT": "nan",
                  "Q9_1": "3",
                  "Q11": "Facebook Messenger,Instagram",
                  "Q11_10_TEXT": "nan",
                  "Q12": "Facebook Messenger,Instagram,Twitter,TikTok",
                  "_deepnote_index_column": 84
                },
                {
                  "Q14": "Hispanic or Latinx",
                  "Q14_8_TEXT": "nan",
                  "Q15": "Female",
                  "Q15_4_TEXT": "nan",
                  "Q20": "2022",
                  "Q16": "Yes",
                  "Q17": "No",
                  "Q18": "nan",
                  "Q19": "CT",
                  "Q24_1": "2",
                  "Q1": "Facebook,Facebook Messenger,Instagram,LinkedIn,Twitter,WhatsApp,GroupMe",
                  "Q1_10_TEXT": "nan",
                  "Q5": "Facebook,Instagram,GroupMe",
                  "Q5_10_TEXT": "nan",
                  "Q6": "Facebook,Instagram,Twitter",
                  "Q6_10_TEXT": "nan",
                  "Q2_1": "5",
                  "Q3": "Less often",
                  "Q4": "Staying in touch with friends and/or family,Finding entertaining content,Filling spare time",
                  "Q4_10_TEXT": "nan",
                  "Q9_1": "9",
                  "Q11": "Facebook,Instagram",
                  "Q11_10_TEXT": "nan",
                  "Q12": "Facebook,Facebook Messenger,Instagram,LinkedIn,Twitter,WhatsApp,GroupMe",
                  "_deepnote_index_column": 101
                },
                {
                  "Q14": "Black or African American",
                  "Q14_8_TEXT": "nan",
                  "Q15": "Female",
                  "Q15_4_TEXT": "nan",
                  "Q20": "2022",
                  "Q16": "Yes",
                  "Q17": "No",
                  "Q18": "nan",
                  "Q19": "Connecticut ",
                  "Q24_1": "0",
                  "Q1": "TikTok",
                  "Q1_10_TEXT": "nan",
                  "Q5": "TikTok",
                  "Q5_10_TEXT": "nan",
                  "Q6": "Instagram,Twitter,TikTok",
                  "Q6_10_TEXT": "nan",
                  "Q2_1": "3",
                  "Q3": "Never",
                  "Q4": "Staying updated on current events,Finding entertaining content,Filling spare time",
                  "Q4_10_TEXT": "nan",
                  "Q9_1": "-4",
                  "Q11": "Instagram,LinkedIn,GroupMe",
                  "Q11_10_TEXT": "nan",
                  "Q12": "TikTok",
                  "_deepnote_index_column": 102
                },
                {
                  "Q14": "White",
                  "Q14_8_TEXT": "nan",
                  "Q15": "Female",
                  "Q15_4_TEXT": "nan",
                  "Q20": "2022",
                  "Q16": "Yes",
                  "Q17": "No",
                  "Q18": "nan",
                  "Q19": "MA",
                  "Q24_1": "3",
                  "Q1": "LinkedIn,GroupMe",
                  "Q1_10_TEXT": "nan",
                  "Q5": "Other",
                  "Q5_10_TEXT": "I hate them all",
                  "Q6": "Instagram,Snapchat,TikTok",
                  "Q6_10_TEXT": "nan",
                  "Q2_1": "1",
                  "Q3": "Less often",
                  "Q4": "Networking with other people",
                  "Q4_10_TEXT": "nan",
                  "Q9_1": "-3",
                  "Q11": "Instagram,GroupMe",
                  "Q11_10_TEXT": "nan",
                  "Q12": "LinkedIn,GroupMe",
                  "_deepnote_index_column": 108
                },
                {
                  "Q14": "Asian or Asian American",
                  "Q14_8_TEXT": "nan",
                  "Q15": "Female",
                  "Q15_4_TEXT": "nan",
                  "Q20": "2022",
                  "Q16": "No",
                  "Q17": "No",
                  "Q18": "nan",
                  "Q19": "California",
                  "Q24_1": "1",
                  "Q1": "Facebook,Facebook Messenger,Instagram",
                  "Q1_10_TEXT": "nan",
                  "Q5": "Facebook,Facebook Messenger,Instagram",
                  "Q5_10_TEXT": "nan",
                  "Q6": "Facebook,Instagram,TikTok",
                  "Q6_10_TEXT": "nan",
                  "Q2_1": "2",
                  "Q3": "Less often",
                  "Q4": "Staying in touch with friends and/or family,Staying updated on current events,Finding entertaining content",
                  "Q4_10_TEXT": "nan",
                  "Q9_1": "3",
                  "Q11": "Facebook,Facebook Messenger,Instagram",
                  "Q11_10_TEXT": "nan",
                  "Q12": "Facebook,Facebook Messenger,Instagram",
                  "_deepnote_index_column": 109
                },
                {
                  "Q14": "White",
                  "Q14_8_TEXT": "nan",
                  "Q15": "Female",
                  "Q15_4_TEXT": "nan",
                  "Q20": "2022",
                  "Q16": "No",
                  "Q17": "No",
                  "Q18": "nan",
                  "Q19": "CT",
                  "Q24_1": "0",
                  "Q1": "Instagram,Twitter,GroupMe",
                  "Q1_10_TEXT": "nan",
                  "Q5": "Instagram,Twitter,GroupMe",
                  "Q5_10_TEXT": "nan",
                  "Q6": "Instagram,Snapchat,TikTok",
                  "Q6_10_TEXT": "nan",
                  "Q2_1": "3",
                  "Q3": "Never",
                  "Q4": "Staying updated on current events,Finding entertaining content,Filling spare time",
                  "Q4_10_TEXT": "nan",
                  "Q9_1": "3",
                  "Q11": "Facebook,Facebook Messenger,Instagram,Twitter,GroupMe",
                  "Q11_10_TEXT": "nan",
                  "Q12": "Facebook Messenger,Instagram,Snapchat,GroupMe,Other",
                  "_deepnote_index_column": 111
                },
                {
                  "Q14": "Black or African American",
                  "Q14_8_TEXT": "nan",
                  "Q15": "Female",
                  "Q15_4_TEXT": "nan",
                  "Q20": "2022",
                  "Q16": "Yes",
                  "Q17": "No",
                  "Q18": "nan",
                  "Q19": "Florida ",
                  "Q24_1": "2",
                  "Q1": "Instagram,Snapchat,Twitter,GroupMe,TikTok",
                  "Q1_10_TEXT": "nan",
                  "Q5": "Snapchat,Twitter,TikTok",
                  "Q5_10_TEXT": "nan",
                  "Q6": "Snapchat,Twitter,TikTok",
                  "Q6_10_TEXT": "nan",
                  "Q2_1": "4",
                  "Q3": "Less often",
                  "Q4": "Staying in touch with friends and/or family,Staying updated on current events,Finding entertaining content",
                  "Q4_10_TEXT": "nan",
                  "Q9_1": "0",
                  "Q11": "Facebook,Instagram,LinkedIn,Snapchat,Twitter,GroupMe,TikTok",
                  "Q11_10_TEXT": "nan",
                  "Q12": "Facebook,Instagram,LinkedIn,Snapchat,Twitter,GroupMe,TikTok",
                  "_deepnote_index_column": 119
                },
                {
                  "Q14": "White",
                  "Q14_8_TEXT": "nan",
                  "Q15": "Female",
                  "Q15_4_TEXT": "nan",
                  "Q20": "2022",
                  "Q16": "Yes",
                  "Q17": "No",
                  "Q18": "nan",
                  "Q19": "Montana",
                  "Q24_1": "3",
                  "Q1": "Facebook,Facebook Messenger,Instagram,LinkedIn,Snapchat,Twitter,WhatsApp,GroupMe,TikTok",
                  "Q1_10_TEXT": "nan",
                  "Q5": "Instagram,Snapchat,TikTok",
                  "Q5_10_TEXT": "nan",
                  "Q6": "Snapchat,TikTok",
                  "Q6_10_TEXT": "nan",
                  "Q2_1": "4",
                  "Q3": "Once every few weeks",
                  "Q4": "Staying in touch with friends and/or family,Finding entertaining content,Filling spare time",
                  "Q4_10_TEXT": "nan",
                  "Q9_1": "2",
                  "Q11": "Facebook,Facebook Messenger,Instagram,LinkedIn,Snapchat,Twitter",
                  "Q11_10_TEXT": "nan",
                  "Q12": "Facebook,Facebook Messenger,Instagram,Snapchat,Twitter,WhatsApp,GroupMe,TikTok",
                  "_deepnote_index_column": 120
                },
                {
                  "Q14": "White",
                  "Q14_8_TEXT": "nan",
                  "Q15": "Female",
                  "Q15_4_TEXT": "nan",
                  "Q20": "2022",
                  "Q16": "No",
                  "Q17": "No",
                  "Q18": "nan",
                  "Q19": "Tennessee",
                  "Q24_1": "1",
                  "Q1": "Facebook,Facebook Messenger,Instagram,LinkedIn,Snapchat,Twitter,GroupMe,TikTok",
                  "Q1_10_TEXT": "nan",
                  "Q5": "Instagram,Twitter,TikTok",
                  "Q5_10_TEXT": "nan",
                  "Q6": "Snapchat,Twitter,TikTok",
                  "Q6_10_TEXT": "nan",
                  "Q2_1": "4",
                  "Q3": "Several times a week",
                  "Q4": "Staying updated on current events,Finding entertaining content,Filling spare time",
                  "Q4_10_TEXT": "nan",
                  "Q9_1": "3",
                  "Q11": "Facebook,Facebook Messenger,Instagram,LinkedIn,Snapchat,Twitter,GroupMe",
                  "Q11_10_TEXT": "nan",
                  "Q12": "Facebook,Facebook Messenger,Instagram,LinkedIn,Snapchat,Twitter,GroupMe,TikTok",
                  "_deepnote_index_column": 122
                },
                {
                  "Q14": "Black or African American",
                  "Q14_8_TEXT": "nan",
                  "Q15": "Female",
                  "Q15_4_TEXT": "nan",
                  "Q20": "2022",
                  "Q16": "No",
                  "Q17": "No",
                  "Q18": "nan",
                  "Q19": "nan",
                  "Q24_1": "nan",
                  "Q1": "nan",
                  "Q1_10_TEXT": "nan",
                  "Q5": "nan",
                  "Q5_10_TEXT": "nan",
                  "Q6": "nan",
                  "Q6_10_TEXT": "nan",
                  "Q2_1": "nan",
                  "Q3": "nan",
                  "Q4": "nan",
                  "Q4_10_TEXT": "nan",
                  "Q9_1": "nan",
                  "Q11": "nan",
                  "Q11_10_TEXT": "nan",
                  "Q12": "nan",
                  "_deepnote_index_column": 138
                }
              ],
              "rows_bottom": null
            },
            "text/plain": "                                 Q14                  Q14_8_TEXT         Q15  \\\n3                              White                         NaN  Non-Binary   \n5            Asian or Asian American                         NaN        Male   \n10                             White                         NaN        Male   \n18                             White                         NaN      Female   \n33                             White                         NaN      Female   \n34                             White                         NaN      Female   \n42           Asian or Asian American                         NaN      Female   \n44                             Other  biracial (white and asian)      Female   \n46         Black or African American                         NaN      Female   \n48           Asian or Asian American                         NaN        Male   \n49                             Other          White and hispanic        Male   \n51         Black or African American                         NaN      Female   \n56           Asian or Asian American                         NaN        Male   \n60   Middle Eastern or North African                         NaN      Female   \n70                             Other     North African and White      Female   \n74                             White                         NaN      Female   \n84   Middle Eastern or North African                         NaN      Female   \n101               Hispanic or Latinx                         NaN      Female   \n102        Black or African American                         NaN      Female   \n108                            White                         NaN      Female   \n109          Asian or Asian American                         NaN      Female   \n111                            White                         NaN      Female   \n119        Black or African American                         NaN      Female   \n120                            White                         NaN      Female   \n122                            White                         NaN      Female   \n138        Black or African American                         NaN      Female   \n\n    Q15_4_TEXT   Q20  Q16  Q17     Q18             Q19 Q24_1  ...  \\\n3          NaN  2022   No   No     NaN             NaN     2  ...   \n5          NaN  2022   No   No     NaN              MA     1  ...   \n10         NaN  2022   No   No     NaN        New York     1  ...   \n18         NaN  2022   No   No     NaN           Texas     2  ...   \n33         NaN  2022   No   No     NaN        Kentucky     3  ...   \n34         NaN  2022   No   No     NaN     Mississippi     3  ...   \n42         NaN  2022   No   No     NaN          Oregon     2  ...   \n44         NaN  2022   No   No     NaN   Massachusetts     3  ...   \n46         NaN  2022   No   No     NaN  Washington, DC     1  ...   \n48         NaN  2022   No   No     NaN   Massachusetts     1  ...   \n49         NaN  2022  Yes   No     NaN        Michigan     1  ...   \n51         NaN  2022   No   No     NaN  South Carolina     0  ...   \n56         NaN  2022   No  Yes   India             NaN     2  ...   \n60         NaN  2022   No   No     NaN        Virginia     1  ...   \n70         NaN  2022   No   No     NaN            Iowa     2  ...   \n74         NaN  2022   No  Yes  France             NaN     2  ...   \n84         NaN  2022   No   No     NaN              NY     2  ...   \n101        NaN  2022  Yes   No     NaN              CT     2  ...   \n102        NaN  2022  Yes   No     NaN    Connecticut      0  ...   \n108        NaN  2022  Yes   No     NaN              MA     3  ...   \n109        NaN  2022   No   No     NaN      California     1  ...   \n111        NaN  2022   No   No     NaN              CT     0  ...   \n119        NaN  2022  Yes   No     NaN        Florida      2  ...   \n120        NaN  2022  Yes   No     NaN         Montana     3  ...   \n122        NaN  2022   No   No     NaN       Tennessee     1  ...   \n138        NaN  2022   No   No     NaN             NaN   NaN  ...   \n\n                                        Q6 Q6_10_TEXT Q2_1  \\\n3                         Instagram,TikTok        NaN    3   \n5    Facebook,Facebook Messenger,Instagram        NaN    6   \n10              Instagram,Snapchat,Twitter        NaN    5   \n18               Facebook,Instagram,TikTok        NaN    2   \n33               Instagram,Snapchat,TikTok        NaN    3   \n34              Instagram,Snapchat,Twitter        NaN    5   \n42     Facebook Messenger,Instagram,TikTok        NaN    2   \n44                Instagram,Twitter,TikTok        NaN    3   \n46               Instagram,Snapchat,TikTok        NaN    1   \n48               Instagram,Snapchat,TikTok        NaN    2   \n49               Instagram,Snapchat,TikTok        NaN    1   \n51              Instagram,Snapchat,Twitter        NaN    5   \n56               Instagram,Snapchat,TikTok        NaN    4   \n60               Instagram,Snapchat,TikTok        NaN    4   \n70                Instagram,Twitter,TikTok        NaN    2   \n74                Instagram,Twitter,TikTok        NaN    2   \n84                Instagram,Twitter,TikTok        NaN    1   \n101             Facebook,Instagram,Twitter        NaN    5   \n102               Instagram,Twitter,TikTok        NaN    3   \n108              Instagram,Snapchat,TikTok        NaN    1   \n109              Facebook,Instagram,TikTok        NaN    2   \n111              Instagram,Snapchat,TikTok        NaN    3   \n119                Snapchat,Twitter,TikTok        NaN    4   \n120                        Snapchat,TikTok        NaN    4   \n122                Snapchat,Twitter,TikTok        NaN    4   \n138                                    NaN        NaN  NaN   \n\n                       Q3                                                 Q4  \\\n3     Several times a day  Staying in touch with friends and/or family,Fi...   \n5    Once every few weeks  Staying in touch with friends and/or family,St...   \n10             Less often  Staying updated on current events,Finding ente...   \n18   Once every few weeks  Staying in touch with friends and/or family,St...   \n33      About once a week  Staying in touch with friends and/or family,Fi...   \n34   Once every few weeks  Staying in touch with friends and/or family,Fi...   \n42             Less often  Staying in touch with friends and/or family,St...   \n44   Once every few weeks  Staying in touch with friends and/or family,Fi...   \n46                  Never    Finding entertaining content,Filling spare time   \n48   Once every few weeks  Staying in touch with friends and/or family,St...   \n49                  Never  Staying in touch with friends and/or family,Fi...   \n51   Once every few weeks  Staying updated on current events,Finding ente...   \n56      About once a week  Staying in touch with friends and/or family,St...   \n60             Less often  Staying in touch with friends and/or family,Fi...   \n70   Once every few weeks  Staying in touch with friends and/or family,St...   \n74   Once every few weeks  Staying in touch with friends and/or family,St...   \n84   Once every few weeks  Staying in touch with friends and/or family,St...   \n101            Less often  Staying in touch with friends and/or family,Fi...   \n102                 Never  Staying updated on current events,Finding ente...   \n108            Less often                       Networking with other people   \n109            Less often  Staying in touch with friends and/or family,St...   \n111                 Never  Staying updated on current events,Finding ente...   \n119            Less often  Staying in touch with friends and/or family,St...   \n120  Once every few weeks  Staying in touch with friends and/or family,Fi...   \n122  Several times a week  Staying updated on current events,Finding ente...   \n138                   NaN                                                NaN   \n\n    Q4_10_TEXT Q9_1                                                Q11  \\\n3          NaN    4  Facebook,Facebook Messenger,Instagram,Twitter,...   \n5          NaN    4               Facebook,Facebook Messenger,LinkedIn   \n10         NaN    2  Facebook,Facebook Messenger,Instagram,Snapchat...   \n18         NaN    2  Facebook,Facebook Messenger,Instagram,LinkedIn...   \n33         NaN    2  Facebook,Facebook Messenger,Instagram,Snapchat...   \n34         NaN    3  Facebook,Instagram,LinkedIn,Snapchat,Twitter,G...   \n42         NaN    1  Facebook,Facebook Messenger,Instagram,LinkedIn...   \n44         NaN    2  Facebook,Instagram,LinkedIn,Snapchat,GroupMe,T...   \n46         NaN    0                                   LinkedIn,GroupMe   \n48         NaN    1  Facebook,Facebook Messenger,Instagram,LinkedIn...   \n49         NaN    0                         Instagram,Snapchat,GroupMe   \n51         NaN    4  Facebook,Facebook Messenger,Instagram,Snapchat...   \n56         NaN    3  Facebook,Facebook Messenger,Instagram,LinkedIn...   \n60         NaN    2     Facebook,Facebook Messenger,Instagram,Snapchat   \n70         NaN   -3  Facebook,Facebook Messenger,Instagram,LinkedIn...   \n74         NaN    0  Facebook,Facebook Messenger,Instagram,LinkedIn...   \n84         NaN    3                       Facebook Messenger,Instagram   \n101        NaN    9                                 Facebook,Instagram   \n102        NaN   -4                         Instagram,LinkedIn,GroupMe   \n108        NaN   -3                                  Instagram,GroupMe   \n109        NaN    3              Facebook,Facebook Messenger,Instagram   \n111        NaN    3  Facebook,Facebook Messenger,Instagram,Twitter,...   \n119        NaN    0  Facebook,Instagram,LinkedIn,Snapchat,Twitter,G...   \n120        NaN    2  Facebook,Facebook Messenger,Instagram,LinkedIn...   \n122        NaN    3  Facebook,Facebook Messenger,Instagram,LinkedIn...   \n138        NaN  NaN                                                NaN   \n\n    Q11_10_TEXT                                                Q12  \n3           NaN                                              Other  \n5           NaN     Facebook,Facebook Messenger,Instagram,LinkedIn  \n10          NaN  Facebook,Facebook Messenger,Instagram,Snapchat...  \n18          NaN  Facebook,Facebook Messenger,Instagram,LinkedIn...  \n33          NaN  Facebook,Facebook Messenger,Instagram,Snapchat...  \n34          NaN  Facebook,Instagram,LinkedIn,Snapchat,Twitter,G...  \n42          NaN  Facebook,Facebook Messenger,Instagram,LinkedIn...  \n44          NaN  Facebook,Instagram,LinkedIn,Snapchat,GroupMe,T...  \n46          NaN                                   LinkedIn,GroupMe  \n48          NaN  Facebook,Facebook Messenger,Instagram,LinkedIn...  \n49          NaN  Facebook,Facebook Messenger,Snapchat,GroupMe,T...  \n51          NaN  Facebook,Facebook Messenger,Instagram,Snapchat...  \n56          NaN  Facebook,Facebook Messenger,Instagram,LinkedIn...  \n60          NaN  Facebook,Facebook Messenger,Instagram,Snapchat...  \n70          NaN                                    Twitter,GroupMe  \n74          NaN  Facebook,Facebook Messenger,Instagram,LinkedIn...  \n84          NaN        Facebook Messenger,Instagram,Twitter,TikTok  \n101         NaN  Facebook,Facebook Messenger,Instagram,LinkedIn...  \n102         NaN                                             TikTok  \n108         NaN                                   LinkedIn,GroupMe  \n109         NaN              Facebook,Facebook Messenger,Instagram  \n111         NaN  Facebook Messenger,Instagram,Snapchat,GroupMe,...  \n119         NaN  Facebook,Instagram,LinkedIn,Snapchat,Twitter,G...  \n120         NaN  Facebook,Facebook Messenger,Instagram,Snapchat...  \n122         NaN  Facebook,Facebook Messenger,Instagram,LinkedIn...  \n138         NaN                                                NaN  \n\n[26 rows x 24 columns]",
            "text/html": "<div>\n<style scoped>\n    .dataframe tbody tr th:only-of-type {\n        vertical-align: middle;\n    }\n\n    .dataframe tbody tr th {\n        vertical-align: top;\n    }\n\n    .dataframe thead th {\n        text-align: right;\n    }\n</style>\n<table border=\"1\" class=\"dataframe\">\n  <thead>\n    <tr style=\"text-align: right;\">\n      <th></th>\n      <th>Q14</th>\n      <th>Q14_8_TEXT</th>\n      <th>Q15</th>\n      <th>Q15_4_TEXT</th>\n      <th>Q20</th>\n      <th>Q16</th>\n      <th>Q17</th>\n      <th>Q18</th>\n      <th>Q19</th>\n      <th>Q24_1</th>\n      <th>...</th>\n      <th>Q6</th>\n      <th>Q6_10_TEXT</th>\n      <th>Q2_1</th>\n      <th>Q3</th>\n      <th>Q4</th>\n      <th>Q4_10_TEXT</th>\n      <th>Q9_1</th>\n      <th>Q11</th>\n      <th>Q11_10_TEXT</th>\n      <th>Q12</th>\n    </tr>\n  </thead>\n  <tbody>\n    <tr>\n      <th>3</th>\n      <td>White</td>\n      <td>NaN</td>\n      <td>Non-Binary</td>\n      <td>NaN</td>\n      <td>2022</td>\n      <td>No</td>\n      <td>No</td>\n      <td>NaN</td>\n      <td>NaN</td>\n      <td>2</td>\n      <td>...</td>\n      <td>Instagram,TikTok</td>\n      <td>NaN</td>\n      <td>3</td>\n      <td>Several times a day</td>\n      <td>Staying in touch with friends and/or family,Fi...</td>\n      <td>NaN</td>\n      <td>4</td>\n      <td>Facebook,Facebook Messenger,Instagram,Twitter,...</td>\n      <td>NaN</td>\n      <td>Other</td>\n    </tr>\n    <tr>\n      <th>5</th>\n      <td>Asian or Asian American</td>\n      <td>NaN</td>\n      <td>Male</td>\n      <td>NaN</td>\n      <td>2022</td>\n      <td>No</td>\n      <td>No</td>\n      <td>NaN</td>\n      <td>MA</td>\n      <td>1</td>\n      <td>...</td>\n      <td>Facebook,Facebook Messenger,Instagram</td>\n      <td>NaN</td>\n      <td>6</td>\n      <td>Once every few weeks</td>\n      <td>Staying in touch with friends and/or family,St...</td>\n      <td>NaN</td>\n      <td>4</td>\n      <td>Facebook,Facebook Messenger,LinkedIn</td>\n      <td>NaN</td>\n      <td>Facebook,Facebook Messenger,Instagram,LinkedIn</td>\n    </tr>\n    <tr>\n      <th>10</th>\n      <td>White</td>\n      <td>NaN</td>\n      <td>Male</td>\n      <td>NaN</td>\n      <td>2022</td>\n      <td>No</td>\n      <td>No</td>\n      <td>NaN</td>\n      <td>New York</td>\n      <td>1</td>\n      <td>...</td>\n      <td>Instagram,Snapchat,Twitter</td>\n      <td>NaN</td>\n      <td>5</td>\n      <td>Less often</td>\n      <td>Staying updated on current events,Finding ente...</td>\n      <td>NaN</td>\n      <td>2</td>\n      <td>Facebook,Facebook Messenger,Instagram,Snapchat...</td>\n      <td>NaN</td>\n      <td>Facebook,Facebook Messenger,Instagram,Snapchat...</td>\n    </tr>\n    <tr>\n      <th>18</th>\n      <td>White</td>\n      <td>NaN</td>\n      <td>Female</td>\n      <td>NaN</td>\n      <td>2022</td>\n      <td>No</td>\n      <td>No</td>\n      <td>NaN</td>\n      <td>Texas</td>\n      <td>2</td>\n      <td>...</td>\n      <td>Facebook,Instagram,TikTok</td>\n      <td>NaN</td>\n      <td>2</td>\n      <td>Once every few weeks</td>\n      <td>Staying in touch with friends and/or family,St...</td>\n      <td>NaN</td>\n      <td>2</td>\n      <td>Facebook,Facebook Messenger,Instagram,LinkedIn...</td>\n      <td>NaN</td>\n      <td>Facebook,Facebook Messenger,Instagram,LinkedIn...</td>\n    </tr>\n    <tr>\n      <th>33</th>\n      <td>White</td>\n      <td>NaN</td>\n      <td>Female</td>\n      <td>NaN</td>\n      <td>2022</td>\n      <td>No</td>\n      <td>No</td>\n      <td>NaN</td>\n      <td>Kentucky</td>\n      <td>3</td>\n      <td>...</td>\n      <td>Instagram,Snapchat,TikTok</td>\n      <td>NaN</td>\n      <td>3</td>\n      <td>About once a week</td>\n      <td>Staying in touch with friends and/or family,Fi...</td>\n      <td>NaN</td>\n      <td>2</td>\n      <td>Facebook,Facebook Messenger,Instagram,Snapchat...</td>\n      <td>NaN</td>\n      <td>Facebook,Facebook Messenger,Instagram,Snapchat...</td>\n    </tr>\n    <tr>\n      <th>34</th>\n      <td>White</td>\n      <td>NaN</td>\n      <td>Female</td>\n      <td>NaN</td>\n      <td>2022</td>\n      <td>No</td>\n      <td>No</td>\n      <td>NaN</td>\n      <td>Mississippi</td>\n      <td>3</td>\n      <td>...</td>\n      <td>Instagram,Snapchat,Twitter</td>\n      <td>NaN</td>\n      <td>5</td>\n      <td>Once every few weeks</td>\n      <td>Staying in touch with friends and/or family,Fi...</td>\n      <td>NaN</td>\n      <td>3</td>\n      <td>Facebook,Instagram,LinkedIn,Snapchat,Twitter,G...</td>\n      <td>NaN</td>\n      <td>Facebook,Instagram,LinkedIn,Snapchat,Twitter,G...</td>\n    </tr>\n    <tr>\n      <th>42</th>\n      <td>Asian or Asian American</td>\n      <td>NaN</td>\n      <td>Female</td>\n      <td>NaN</td>\n      <td>2022</td>\n      <td>No</td>\n      <td>No</td>\n      <td>NaN</td>\n      <td>Oregon</td>\n      <td>2</td>\n      <td>...</td>\n      <td>Facebook Messenger,Instagram,TikTok</td>\n      <td>NaN</td>\n      <td>2</td>\n      <td>Less often</td>\n      <td>Staying in touch with friends and/or family,St...</td>\n      <td>NaN</td>\n      <td>1</td>\n      <td>Facebook,Facebook Messenger,Instagram,LinkedIn...</td>\n      <td>NaN</td>\n      <td>Facebook,Facebook Messenger,Instagram,LinkedIn...</td>\n    </tr>\n    <tr>\n      <th>44</th>\n      <td>Other</td>\n      <td>biracial (white and asian)</td>\n      <td>Female</td>\n      <td>NaN</td>\n      <td>2022</td>\n      <td>No</td>\n      <td>No</td>\n      <td>NaN</td>\n      <td>Massachusetts</td>\n      <td>3</td>\n      <td>...</td>\n      <td>Instagram,Twitter,TikTok</td>\n      <td>NaN</td>\n      <td>3</td>\n      <td>Once every few weeks</td>\n      <td>Staying in touch with friends and/or family,Fi...</td>\n      <td>NaN</td>\n      <td>2</td>\n      <td>Facebook,Instagram,LinkedIn,Snapchat,GroupMe,T...</td>\n      <td>NaN</td>\n      <td>Facebook,Instagram,LinkedIn,Snapchat,GroupMe,T...</td>\n    </tr>\n    <tr>\n      <th>46</th>\n      <td>Black or African American</td>\n      <td>NaN</td>\n      <td>Female</td>\n      <td>NaN</td>\n      <td>2022</td>\n      <td>No</td>\n      <td>No</td>\n      <td>NaN</td>\n      <td>Washington, DC</td>\n      <td>1</td>\n      <td>...</td>\n      <td>Instagram,Snapchat,TikTok</td>\n      <td>NaN</td>\n      <td>1</td>\n      <td>Never</td>\n      <td>Finding entertaining content,Filling spare time</td>\n      <td>NaN</td>\n      <td>0</td>\n      <td>LinkedIn,GroupMe</td>\n      <td>NaN</td>\n      <td>LinkedIn,GroupMe</td>\n    </tr>\n    <tr>\n      <th>48</th>\n      <td>Asian or Asian American</td>\n      <td>NaN</td>\n      <td>Male</td>\n      <td>NaN</td>\n      <td>2022</td>\n      <td>No</td>\n      <td>No</td>\n      <td>NaN</td>\n      <td>Massachusetts</td>\n      <td>1</td>\n      <td>...</td>\n      <td>Instagram,Snapchat,TikTok</td>\n      <td>NaN</td>\n      <td>2</td>\n      <td>Once every few weeks</td>\n      <td>Staying in touch with friends and/or family,St...</td>\n      <td>NaN</td>\n      <td>1</td>\n      <td>Facebook,Facebook Messenger,Instagram,LinkedIn...</td>\n      <td>NaN</td>\n      <td>Facebook,Facebook Messenger,Instagram,LinkedIn...</td>\n    </tr>\n    <tr>\n      <th>49</th>\n      <td>Other</td>\n      <td>White and hispanic</td>\n      <td>Male</td>\n      <td>NaN</td>\n      <td>2022</td>\n      <td>Yes</td>\n      <td>No</td>\n      <td>NaN</td>\n      <td>Michigan</td>\n      <td>1</td>\n      <td>...</td>\n      <td>Instagram,Snapchat,TikTok</td>\n      <td>NaN</td>\n      <td>1</td>\n      <td>Never</td>\n      <td>Staying in touch with friends and/or family,Fi...</td>\n      <td>NaN</td>\n      <td>0</td>\n      <td>Instagram,Snapchat,GroupMe</td>\n      <td>NaN</td>\n      <td>Facebook,Facebook Messenger,Snapchat,GroupMe,T...</td>\n    </tr>\n    <tr>\n      <th>51</th>\n      <td>Black or African American</td>\n      <td>NaN</td>\n      <td>Female</td>\n      <td>NaN</td>\n      <td>2022</td>\n      <td>No</td>\n      <td>No</td>\n      <td>NaN</td>\n      <td>South Carolina</td>\n      <td>0</td>\n      <td>...</td>\n      <td>Instagram,Snapchat,Twitter</td>\n      <td>NaN</td>\n      <td>5</td>\n      <td>Once every few weeks</td>\n      <td>Staying updated on current events,Finding ente...</td>\n      <td>NaN</td>\n      <td>4</td>\n      <td>Facebook,Facebook Messenger,Instagram,Snapchat...</td>\n      <td>NaN</td>\n      <td>Facebook,Facebook Messenger,Instagram,Snapchat...</td>\n    </tr>\n    <tr>\n      <th>56</th>\n      <td>Asian or Asian American</td>\n      <td>NaN</td>\n      <td>Male</td>\n      <td>NaN</td>\n      <td>2022</td>\n      <td>No</td>\n      <td>Yes</td>\n      <td>India</td>\n      <td>NaN</td>\n      <td>2</td>\n      <td>...</td>\n      <td>Instagram,Snapchat,TikTok</td>\n      <td>NaN</td>\n      <td>4</td>\n      <td>About once a week</td>\n      <td>Staying in touch with friends and/or family,St...</td>\n      <td>NaN</td>\n      <td>3</td>\n      <td>Facebook,Facebook Messenger,Instagram,LinkedIn...</td>\n      <td>NaN</td>\n      <td>Facebook,Facebook Messenger,Instagram,LinkedIn...</td>\n    </tr>\n    <tr>\n      <th>60</th>\n      <td>Middle Eastern or North African</td>\n      <td>NaN</td>\n      <td>Female</td>\n      <td>NaN</td>\n      <td>2022</td>\n      <td>No</td>\n      <td>No</td>\n      <td>NaN</td>\n      <td>Virginia</td>\n      <td>1</td>\n      <td>...</td>\n      <td>Instagram,Snapchat,TikTok</td>\n      <td>NaN</td>\n      <td>4</td>\n      <td>Less often</td>\n      <td>Staying in touch with friends and/or family,Fi...</td>\n      <td>NaN</td>\n      <td>2</td>\n      <td>Facebook,Facebook Messenger,Instagram,Snapchat</td>\n      <td>NaN</td>\n      <td>Facebook,Facebook Messenger,Instagram,Snapchat...</td>\n    </tr>\n    <tr>\n      <th>70</th>\n      <td>Other</td>\n      <td>North African and White</td>\n      <td>Female</td>\n      <td>NaN</td>\n      <td>2022</td>\n      <td>No</td>\n      <td>No</td>\n      <td>NaN</td>\n      <td>Iowa</td>\n      <td>2</td>\n      <td>...</td>\n      <td>Instagram,Twitter,TikTok</td>\n      <td>NaN</td>\n      <td>2</td>\n      <td>Once every few weeks</td>\n      <td>Staying in touch with friends and/or family,St...</td>\n      <td>NaN</td>\n      <td>-3</td>\n      <td>Facebook,Facebook Messenger,Instagram,LinkedIn...</td>\n      <td>NaN</td>\n      <td>Twitter,GroupMe</td>\n    </tr>\n    <tr>\n      <th>74</th>\n      <td>White</td>\n      <td>NaN</td>\n      <td>Female</td>\n      <td>NaN</td>\n      <td>2022</td>\n      <td>No</td>\n      <td>Yes</td>\n      <td>France</td>\n      <td>NaN</td>\n      <td>2</td>\n      <td>...</td>\n      <td>Instagram,Twitter,TikTok</td>\n      <td>NaN</td>\n      <td>2</td>\n      <td>Once every few weeks</td>\n      <td>Staying in touch with friends and/or family,St...</td>\n      <td>NaN</td>\n      <td>0</td>\n      <td>Facebook,Facebook Messenger,Instagram,LinkedIn...</td>\n      <td>NaN</td>\n      <td>Facebook,Facebook Messenger,Instagram,LinkedIn...</td>\n    </tr>\n    <tr>\n      <th>84</th>\n      <td>Middle Eastern or North African</td>\n      <td>NaN</td>\n      <td>Female</td>\n      <td>NaN</td>\n      <td>2022</td>\n      <td>No</td>\n      <td>No</td>\n      <td>NaN</td>\n      <td>NY</td>\n      <td>2</td>\n      <td>...</td>\n      <td>Instagram,Twitter,TikTok</td>\n      <td>NaN</td>\n      <td>1</td>\n      <td>Once every few weeks</td>\n      <td>Staying in touch with friends and/or family,St...</td>\n      <td>NaN</td>\n      <td>3</td>\n      <td>Facebook Messenger,Instagram</td>\n      <td>NaN</td>\n      <td>Facebook Messenger,Instagram,Twitter,TikTok</td>\n    </tr>\n    <tr>\n      <th>101</th>\n      <td>Hispanic or Latinx</td>\n      <td>NaN</td>\n      <td>Female</td>\n      <td>NaN</td>\n      <td>2022</td>\n      <td>Yes</td>\n      <td>No</td>\n      <td>NaN</td>\n      <td>CT</td>\n      <td>2</td>\n      <td>...</td>\n      <td>Facebook,Instagram,Twitter</td>\n      <td>NaN</td>\n      <td>5</td>\n      <td>Less often</td>\n      <td>Staying in touch with friends and/or family,Fi...</td>\n      <td>NaN</td>\n      <td>9</td>\n      <td>Facebook,Instagram</td>\n      <td>NaN</td>\n      <td>Facebook,Facebook Messenger,Instagram,LinkedIn...</td>\n    </tr>\n    <tr>\n      <th>102</th>\n      <td>Black or African American</td>\n      <td>NaN</td>\n      <td>Female</td>\n      <td>NaN</td>\n      <td>2022</td>\n      <td>Yes</td>\n      <td>No</td>\n      <td>NaN</td>\n      <td>Connecticut</td>\n      <td>0</td>\n      <td>...</td>\n      <td>Instagram,Twitter,TikTok</td>\n      <td>NaN</td>\n      <td>3</td>\n      <td>Never</td>\n      <td>Staying updated on current events,Finding ente...</td>\n      <td>NaN</td>\n      <td>-4</td>\n      <td>Instagram,LinkedIn,GroupMe</td>\n      <td>NaN</td>\n      <td>TikTok</td>\n    </tr>\n    <tr>\n      <th>108</th>\n      <td>White</td>\n      <td>NaN</td>\n      <td>Female</td>\n      <td>NaN</td>\n      <td>2022</td>\n      <td>Yes</td>\n      <td>No</td>\n      <td>NaN</td>\n      <td>MA</td>\n      <td>3</td>\n      <td>...</td>\n      <td>Instagram,Snapchat,TikTok</td>\n      <td>NaN</td>\n      <td>1</td>\n      <td>Less often</td>\n      <td>Networking with other people</td>\n      <td>NaN</td>\n      <td>-3</td>\n      <td>Instagram,GroupMe</td>\n      <td>NaN</td>\n      <td>LinkedIn,GroupMe</td>\n    </tr>\n    <tr>\n      <th>109</th>\n      <td>Asian or Asian American</td>\n      <td>NaN</td>\n      <td>Female</td>\n      <td>NaN</td>\n      <td>2022</td>\n      <td>No</td>\n      <td>No</td>\n      <td>NaN</td>\n      <td>California</td>\n      <td>1</td>\n      <td>...</td>\n      <td>Facebook,Instagram,TikTok</td>\n      <td>NaN</td>\n      <td>2</td>\n      <td>Less often</td>\n      <td>Staying in touch with friends and/or family,St...</td>\n      <td>NaN</td>\n      <td>3</td>\n      <td>Facebook,Facebook Messenger,Instagram</td>\n      <td>NaN</td>\n      <td>Facebook,Facebook Messenger,Instagram</td>\n    </tr>\n    <tr>\n      <th>111</th>\n      <td>White</td>\n      <td>NaN</td>\n      <td>Female</td>\n      <td>NaN</td>\n      <td>2022</td>\n      <td>No</td>\n      <td>No</td>\n      <td>NaN</td>\n      <td>CT</td>\n      <td>0</td>\n      <td>...</td>\n      <td>Instagram,Snapchat,TikTok</td>\n      <td>NaN</td>\n      <td>3</td>\n      <td>Never</td>\n      <td>Staying updated on current events,Finding ente...</td>\n      <td>NaN</td>\n      <td>3</td>\n      <td>Facebook,Facebook Messenger,Instagram,Twitter,...</td>\n      <td>NaN</td>\n      <td>Facebook Messenger,Instagram,Snapchat,GroupMe,...</td>\n    </tr>\n    <tr>\n      <th>119</th>\n      <td>Black or African American</td>\n      <td>NaN</td>\n      <td>Female</td>\n      <td>NaN</td>\n      <td>2022</td>\n      <td>Yes</td>\n      <td>No</td>\n      <td>NaN</td>\n      <td>Florida</td>\n      <td>2</td>\n      <td>...</td>\n      <td>Snapchat,Twitter,TikTok</td>\n      <td>NaN</td>\n      <td>4</td>\n      <td>Less often</td>\n      <td>Staying in touch with friends and/or family,St...</td>\n      <td>NaN</td>\n      <td>0</td>\n      <td>Facebook,Instagram,LinkedIn,Snapchat,Twitter,G...</td>\n      <td>NaN</td>\n      <td>Facebook,Instagram,LinkedIn,Snapchat,Twitter,G...</td>\n    </tr>\n    <tr>\n      <th>120</th>\n      <td>White</td>\n      <td>NaN</td>\n      <td>Female</td>\n      <td>NaN</td>\n      <td>2022</td>\n      <td>Yes</td>\n      <td>No</td>\n      <td>NaN</td>\n      <td>Montana</td>\n      <td>3</td>\n      <td>...</td>\n      <td>Snapchat,TikTok</td>\n      <td>NaN</td>\n      <td>4</td>\n      <td>Once every few weeks</td>\n      <td>Staying in touch with friends and/or family,Fi...</td>\n      <td>NaN</td>\n      <td>2</td>\n      <td>Facebook,Facebook Messenger,Instagram,LinkedIn...</td>\n      <td>NaN</td>\n      <td>Facebook,Facebook Messenger,Instagram,Snapchat...</td>\n    </tr>\n    <tr>\n      <th>122</th>\n      <td>White</td>\n      <td>NaN</td>\n      <td>Female</td>\n      <td>NaN</td>\n      <td>2022</td>\n      <td>No</td>\n      <td>No</td>\n      <td>NaN</td>\n      <td>Tennessee</td>\n      <td>1</td>\n      <td>...</td>\n      <td>Snapchat,Twitter,TikTok</td>\n      <td>NaN</td>\n      <td>4</td>\n      <td>Several times a week</td>\n      <td>Staying updated on current events,Finding ente...</td>\n      <td>NaN</td>\n      <td>3</td>\n      <td>Facebook,Facebook Messenger,Instagram,LinkedIn...</td>\n      <td>NaN</td>\n      <td>Facebook,Facebook Messenger,Instagram,LinkedIn...</td>\n    </tr>\n    <tr>\n      <th>138</th>\n      <td>Black or African American</td>\n      <td>NaN</td>\n      <td>Female</td>\n      <td>NaN</td>\n      <td>2022</td>\n      <td>No</td>\n      <td>No</td>\n      <td>NaN</td>\n      <td>NaN</td>\n      <td>NaN</td>\n      <td>...</td>\n      <td>NaN</td>\n      <td>NaN</td>\n      <td>NaN</td>\n      <td>NaN</td>\n      <td>NaN</td>\n      <td>NaN</td>\n      <td>NaN</td>\n      <td>NaN</td>\n      <td>NaN</td>\n      <td>NaN</td>\n    </tr>\n  </tbody>\n</table>\n<p>26 rows × 24 columns</p>\n</div>"
          },
          "metadata": {},
          "output_type": "display_data"
        }
      ]
    },
    {
      "cell_type": "markdown",
      "source": "### SOPHOMORES DATAFRAME : sophs_data",
      "metadata": {
        "tags": [],
        "cell_id": "00006-f0ec8bc3-4b5d-43b5-8e8b-83a7d01946ae",
        "deepnote_cell_type": "text-cell-h3"
      }
    },
    {
      "cell_type": "code",
      "metadata": {
        "tags": [],
        "cell_id": "00009-5ec22bf8-20e0-4015-b0de-bbde623ee1bf",
        "deepnote_to_be_reexecuted": false,
        "source_hash": "22e13e20",
        "execution_millis": 193,
        "execution_start": 1617582034755,
        "deepnote_cell_type": "code"
      },
      "source": "# DATAFRAME WITH RESPONSES FROM CLASS OF 2023\n\nsophs = pd.read_csv(\"SMS43.csv\")\nsophs_data = sophs.drop(sophs.index[1])\nsophs_data = sophs_data.iloc[:, 17:41]\n\n# Get names of indexes for which the class columns is not 2021\nindex_names = sophs_data[sophs_data['Q20'] != '2023'].index\n\nsophs_data.drop(index_names, inplace = True)\ndisplay(sophs_data)",
      "execution_count": 5,
      "outputs": [
        {
          "data": {
            "application/vnd.deepnote.dataframe.v2+json": {
              "row_count": 46,
              "column_count": 24,
              "columns": [
                {
                  "name": "Q14",
                  "dtype": "object",
                  "stats": {
                    "unique_count": 6,
                    "nan_count": 0,
                    "categories": [
                      {
                        "name": "White",
                        "count": 15
                      },
                      {
                        "name": "Asian or Asian American",
                        "count": 14
                      },
                      {
                        "name": "4 others",
                        "count": 17
                      }
                    ]
                  }
                },
                {
                  "name": "Q14_8_TEXT",
                  "dtype": "object",
                  "stats": {
                    "unique_count": 2,
                    "nan_count": 44,
                    "categories": [
                      {
                        "name": "Mixed",
                        "count": 1
                      },
                      {
                        "name": "Asian and Middle Eastern",
                        "count": 1
                      },
                      {
                        "name": "Missing",
                        "count": 44
                      }
                    ]
                  }
                },
                {
                  "name": "Q15",
                  "dtype": "object",
                  "stats": {
                    "unique_count": 3,
                    "nan_count": 0,
                    "categories": [
                      {
                        "name": "Female",
                        "count": 27
                      },
                      {
                        "name": "Male",
                        "count": 18
                      },
                      {
                        "name": "Non-Binary",
                        "count": 1
                      }
                    ]
                  }
                },
                {
                  "name": "Q15_4_TEXT",
                  "dtype": "object",
                  "stats": {
                    "unique_count": 0,
                    "nan_count": 46,
                    "categories": [
                      {
                        "name": "Missing",
                        "count": 46
                      }
                    ]
                  }
                },
                {
                  "name": "Q20",
                  "dtype": "object",
                  "stats": {
                    "unique_count": 1,
                    "nan_count": 0,
                    "categories": [
                      {
                        "name": "2023",
                        "count": 46
                      }
                    ]
                  }
                },
                {
                  "name": "Q16",
                  "dtype": "object",
                  "stats": {
                    "unique_count": 3,
                    "nan_count": 0,
                    "categories": [
                      {
                        "name": "No",
                        "count": 29
                      },
                      {
                        "name": "Yes",
                        "count": 15
                      },
                      {
                        "name": "Prefer not to say",
                        "count": 2
                      }
                    ]
                  }
                },
                {
                  "name": "Q17",
                  "dtype": "object",
                  "stats": {
                    "unique_count": 2,
                    "nan_count": 0,
                    "categories": [
                      {
                        "name": "No",
                        "count": 42
                      },
                      {
                        "name": "Yes",
                        "count": 4
                      }
                    ]
                  }
                },
                {
                  "name": "Q18",
                  "dtype": "object",
                  "stats": {
                    "unique_count": 4,
                    "nan_count": 42,
                    "categories": [
                      {
                        "name": "Romania",
                        "count": 1
                      },
                      {
                        "name": "3 others",
                        "count": 3
                      },
                      {
                        "name": "Missing",
                        "count": 42
                      }
                    ]
                  }
                },
                {
                  "name": "Q19",
                  "dtype": "object",
                  "stats": {
                    "unique_count": 27,
                    "nan_count": 4,
                    "categories": [
                      {
                        "name": "Massachusetts",
                        "count": 8
                      },
                      {
                        "name": "26 others",
                        "count": 34
                      },
                      {
                        "name": "Missing",
                        "count": 4
                      }
                    ]
                  }
                },
                {
                  "name": "Q24_1",
                  "dtype": "object",
                  "stats": {
                    "unique_count": 5,
                    "nan_count": 3,
                    "categories": [
                      {
                        "name": "2",
                        "count": 19
                      },
                      {
                        "name": "4 others",
                        "count": 24
                      },
                      {
                        "name": "Missing",
                        "count": 3
                      }
                    ]
                  }
                },
                {
                  "name": "Q1",
                  "dtype": "object",
                  "stats": {
                    "unique_count": 34,
                    "nan_count": 1,
                    "categories": [
                      {
                        "name": "Instagram,Snapchat,GroupMe,TikTok",
                        "count": 4
                      },
                      {
                        "name": "33 others",
                        "count": 41
                      },
                      {
                        "name": "Missing",
                        "count": 1
                      }
                    ]
                  }
                },
                {
                  "name": "Q1_10_TEXT",
                  "dtype": "object",
                  "stats": {
                    "unique_count": 2,
                    "nan_count": 44,
                    "categories": [
                      {
                        "name": "I don't actually use social media a lot or at all",
                        "count": 1
                      },
                      {
                        "name": "Youtube",
                        "count": 1
                      },
                      {
                        "name": "Missing",
                        "count": 44
                      }
                    ]
                  }
                },
                {
                  "name": "Q5",
                  "dtype": "object",
                  "stats": {
                    "unique_count": 22,
                    "nan_count": 1,
                    "categories": [
                      {
                        "name": "Instagram,Snapchat,TikTok",
                        "count": 15
                      },
                      {
                        "name": "21 others",
                        "count": 30
                      },
                      {
                        "name": "Missing",
                        "count": 1
                      }
                    ]
                  }
                },
                {
                  "name": "Q5_10_TEXT",
                  "dtype": "object",
                  "stats": {
                    "unique_count": 3,
                    "nan_count": 43,
                    "categories": [
                      {
                        "name": "I don't actually use social media a lot or at all",
                        "count": 1
                      },
                      {
                        "name": "2 others",
                        "count": 2
                      },
                      {
                        "name": "Missing",
                        "count": 43
                      }
                    ]
                  }
                },
                {
                  "name": "Q6",
                  "dtype": "object",
                  "stats": {
                    "unique_count": 11,
                    "nan_count": 1,
                    "categories": [
                      {
                        "name": "Instagram,Snapchat,TikTok",
                        "count": 25
                      },
                      {
                        "name": "10 others",
                        "count": 20
                      },
                      {
                        "name": "Missing",
                        "count": 1
                      }
                    ]
                  }
                },
                {
                  "name": "Q6_10_TEXT",
                  "dtype": "object",
                  "stats": {
                    "unique_count": 0,
                    "nan_count": 46,
                    "categories": [
                      {
                        "name": "Missing",
                        "count": 46
                      }
                    ]
                  }
                },
                {
                  "name": "Q2_1",
                  "dtype": "object",
                  "stats": {
                    "unique_count": 9,
                    "nan_count": 1,
                    "categories": [
                      {
                        "name": "4",
                        "count": 12
                      },
                      {
                        "name": "8 others",
                        "count": 33
                      },
                      {
                        "name": "Missing",
                        "count": 1
                      }
                    ]
                  }
                },
                {
                  "name": "Q3",
                  "dtype": "object",
                  "stats": {
                    "unique_count": 6,
                    "nan_count": 1,
                    "categories": [
                      {
                        "name": "Less often",
                        "count": 15
                      },
                      {
                        "name": "5 others",
                        "count": 30
                      },
                      {
                        "name": "Missing",
                        "count": 1
                      }
                    ]
                  }
                },
                {
                  "name": "Q4",
                  "dtype": "object",
                  "stats": {
                    "unique_count": 19,
                    "nan_count": 1,
                    "categories": [
                      {
                        "name": "Staying in touch with friends and/or family,Staying updated on current events,Finding entertaining content",
                        "count": 9
                      },
                      {
                        "name": "18 others",
                        "count": 36
                      },
                      {
                        "name": "Missing",
                        "count": 1
                      }
                    ]
                  }
                },
                {
                  "name": "Q4_10_TEXT",
                  "dtype": "object",
                  "stats": {
                    "unique_count": 0,
                    "nan_count": 46,
                    "categories": [
                      {
                        "name": "Missing",
                        "count": 46
                      }
                    ]
                  }
                },
                {
                  "name": "Q9_1",
                  "dtype": "object",
                  "stats": {
                    "unique_count": 13,
                    "nan_count": 1,
                    "categories": [
                      {
                        "name": "2",
                        "count": 17
                      },
                      {
                        "name": "12 others",
                        "count": 28
                      },
                      {
                        "name": "Missing",
                        "count": 1
                      }
                    ]
                  }
                },
                {
                  "name": "Q11",
                  "dtype": "object",
                  "stats": {
                    "unique_count": 32,
                    "nan_count": 1,
                    "categories": [
                      {
                        "name": "Facebook,Instagram,Snapchat",
                        "count": 3
                      },
                      {
                        "name": "31 others",
                        "count": 42
                      },
                      {
                        "name": "Missing",
                        "count": 1
                      }
                    ]
                  }
                },
                {
                  "name": "Q11_10_TEXT",
                  "dtype": "object",
                  "stats": {
                    "unique_count": 4,
                    "nan_count": 42,
                    "categories": [
                      {
                        "name": "Pinterest",
                        "count": 1
                      },
                      {
                        "name": "3 others",
                        "count": 3
                      },
                      {
                        "name": "Missing",
                        "count": 42
                      }
                    ]
                  }
                },
                {
                  "name": "Q12",
                  "dtype": "object",
                  "stats": {
                    "unique_count": 37,
                    "nan_count": 1,
                    "categories": [
                      {
                        "name": "Instagram,Snapchat,GroupMe,TikTok",
                        "count": 2
                      },
                      {
                        "name": "36 others",
                        "count": 43
                      },
                      {
                        "name": "Missing",
                        "count": 1
                      }
                    ]
                  }
                },
                {
                  "name": "_deepnote_index_column",
                  "dtype": "int64"
                }
              ],
              "rows_top": [
                {
                  "Q14": "Hispanic or Latinx",
                  "Q14_8_TEXT": "nan",
                  "Q15": "Male",
                  "Q15_4_TEXT": "nan",
                  "Q20": "2023",
                  "Q16": "No",
                  "Q17": "No",
                  "Q18": "nan",
                  "Q19": "Indiana",
                  "Q24_1": "1",
                  "Q1": "Facebook Messenger,Snapchat,GroupMe",
                  "Q1_10_TEXT": "nan",
                  "Q5": "Facebook Messenger,Snapchat,GroupMe",
                  "Q5_10_TEXT": "nan",
                  "Q6": "Instagram,Snapchat,Twitter",
                  "Q6_10_TEXT": "nan",
                  "Q2_1": "0",
                  "Q3": "Never",
                  "Q4": "Staying in touch with friends and/or family",
                  "Q4_10_TEXT": "nan",
                  "Q9_1": "-1",
                  "Q11": "Facebook Messenger,Instagram,Snapchat",
                  "Q11_10_TEXT": "nan",
                  "Q12": "Facebook Messenger,Snapchat,GroupMe",
                  "_deepnote_index_column": 2
                },
                {
                  "Q14": "Asian or Asian American",
                  "Q14_8_TEXT": "nan",
                  "Q15": "Male",
                  "Q15_4_TEXT": "nan",
                  "Q20": "2023",
                  "Q16": "No",
                  "Q17": "No",
                  "Q18": "nan",
                  "Q19": "IL",
                  "Q24_1": "1",
                  "Q1": "Facebook,Facebook Messenger,Instagram",
                  "Q1_10_TEXT": "nan",
                  "Q5": "Facebook,Facebook Messenger,Instagram",
                  "Q5_10_TEXT": "nan",
                  "Q6": "Facebook Messenger,Instagram,Snapchat",
                  "Q6_10_TEXT": "nan",
                  "Q2_1": "6",
                  "Q3": "Once every few weeks",
                  "Q4": "Staying in touch with friends and/or family,Finding entertaining content,Sharing photos and videos",
                  "Q4_10_TEXT": "nan",
                  "Q9_1": "2",
                  "Q11": "Facebook,Facebook Messenger",
                  "Q11_10_TEXT": "nan",
                  "Q12": "Facebook,Facebook Messenger,Instagram",
                  "_deepnote_index_column": 7
                },
                {
                  "Q14": "Middle Eastern or North African",
                  "Q14_8_TEXT": "nan",
                  "Q15": "Male",
                  "Q15_4_TEXT": "nan",
                  "Q20": "2023",
                  "Q16": "Yes",
                  "Q17": "No",
                  "Q18": "nan",
                  "Q19": "Illinois",
                  "Q24_1": "2",
                  "Q1": "Instagram,LinkedIn,Twitter,WhatsApp,GroupMe",
                  "Q1_10_TEXT": "nan",
                  "Q5": "Instagram,LinkedIn,Snapchat",
                  "Q5_10_TEXT": "nan",
                  "Q6": "LinkedIn",
                  "Q6_10_TEXT": "nan",
                  "Q2_1": "2",
                  "Q3": "Once every few weeks",
                  "Q4": "Finding entertaining content",
                  "Q4_10_TEXT": "nan",
                  "Q9_1": "9",
                  "Q11": "LinkedIn,Snapchat,Twitter,WhatsApp",
                  "Q11_10_TEXT": "nan",
                  "Q12": "Instagram,LinkedIn,Snapchat,Twitter,WhatsApp,GroupMe",
                  "_deepnote_index_column": 8
                },
                {
                  "Q14": "White",
                  "Q14_8_TEXT": "nan",
                  "Q15": "Male",
                  "Q15_4_TEXT": "nan",
                  "Q20": "2023",
                  "Q16": "No",
                  "Q17": "No",
                  "Q18": "nan",
                  "Q19": "Massachusetts",
                  "Q24_1": "1",
                  "Q1": "Instagram,Snapchat,Twitter,TikTok",
                  "Q1_10_TEXT": "nan",
                  "Q5": "Instagram,Snapchat,TikTok",
                  "Q5_10_TEXT": "nan",
                  "Q6": "Instagram,Snapchat,TikTok",
                  "Q6_10_TEXT": "nan",
                  "Q2_1": "3",
                  "Q3": "Once every few weeks",
                  "Q4": "Staying in touch with friends and/or family,Finding entertaining content,Filling spare time",
                  "Q4_10_TEXT": "nan",
                  "Q9_1": "1",
                  "Q11": "Instagram,Snapchat,TikTok",
                  "Q11_10_TEXT": "nan",
                  "Q12": "Instagram,LinkedIn,Snapchat,Twitter,TikTok",
                  "_deepnote_index_column": 15
                },
                {
                  "Q14": "Black or African American",
                  "Q14_8_TEXT": "nan",
                  "Q15": "Female",
                  "Q15_4_TEXT": "nan",
                  "Q20": "2023",
                  "Q16": "Yes",
                  "Q17": "No",
                  "Q18": "nan",
                  "Q19": "Texas",
                  "Q24_1": "2",
                  "Q1": "Instagram,Snapchat,Twitter,TikTok",
                  "Q1_10_TEXT": "nan",
                  "Q5": "Instagram,Snapchat,TikTok",
                  "Q5_10_TEXT": "nan",
                  "Q6": "Instagram,Snapchat,Twitter",
                  "Q6_10_TEXT": "nan",
                  "Q2_1": "7",
                  "Q3": "Once every few weeks",
                  "Q4": "Staying in touch with friends and/or family,Finding entertaining content,Sharing photos and videos",
                  "Q4_10_TEXT": "nan",
                  "Q9_1": "3",
                  "Q11": "Facebook,Facebook Messenger,Instagram,LinkedIn,Snapchat,Twitter,GroupMe,TikTok",
                  "Q11_10_TEXT": "nan",
                  "Q12": "Facebook,Facebook Messenger,Instagram,LinkedIn,Snapchat,Twitter,GroupMe,TikTok",
                  "_deepnote_index_column": 16
                },
                {
                  "Q14": "Asian or Asian American",
                  "Q14_8_TEXT": "nan",
                  "Q15": "Female",
                  "Q15_4_TEXT": "nan",
                  "Q20": "2023",
                  "Q16": "No",
                  "Q17": "No",
                  "Q18": "nan",
                  "Q19": "Ohio",
                  "Q24_1": "2",
                  "Q1": "Facebook,Facebook Messenger,Instagram,LinkedIn,Snapchat,Twitter,GroupMe,TikTok",
                  "Q1_10_TEXT": "nan",
                  "Q5": "Facebook,Facebook Messenger,Instagram",
                  "Q5_10_TEXT": "nan",
                  "Q6": "Instagram,Twitter,TikTok",
                  "Q6_10_TEXT": "nan",
                  "Q2_1": "3",
                  "Q3": "Once every few weeks",
                  "Q4": "Staying in touch with friends and/or family,Finding entertaining content,Filling spare time",
                  "Q4_10_TEXT": "nan",
                  "Q9_1": "2",
                  "Q11": "Facebook,Facebook Messenger,Instagram,LinkedIn,Snapchat,GroupMe,TikTok",
                  "Q11_10_TEXT": "nan",
                  "Q12": "Facebook,Facebook Messenger,Instagram,LinkedIn,Snapchat,Twitter,GroupMe",
                  "_deepnote_index_column": 17
                },
                {
                  "Q14": "Other",
                  "Q14_8_TEXT": "Mixed",
                  "Q15": "Female",
                  "Q15_4_TEXT": "nan",
                  "Q20": "2023",
                  "Q16": "No",
                  "Q17": "No",
                  "Q18": "nan",
                  "Q19": "Massachusetts",
                  "Q24_1": "2",
                  "Q1": "Instagram,Snapchat,GroupMe,TikTok",
                  "Q1_10_TEXT": "nan",
                  "Q5": "Instagram,Snapchat,TikTok",
                  "Q5_10_TEXT": "nan",
                  "Q6": "Instagram,Snapchat,TikTok",
                  "Q6_10_TEXT": "nan",
                  "Q2_1": "4",
                  "Q3": "Less often",
                  "Q4": "Staying in touch with friends and/or family,Staying updated on current events,Finding entertaining content",
                  "Q4_10_TEXT": "nan",
                  "Q9_1": "4",
                  "Q11": "Instagram,Snapchat,GroupMe,TikTok",
                  "Q11_10_TEXT": "nan",
                  "Q12": "Instagram,Snapchat,GroupMe,TikTok",
                  "_deepnote_index_column": 21
                },
                {
                  "Q14": "White",
                  "Q14_8_TEXT": "nan",
                  "Q15": "Male",
                  "Q15_4_TEXT": "nan",
                  "Q20": "2023",
                  "Q16": "No",
                  "Q17": "No",
                  "Q18": "nan",
                  "Q19": "MA",
                  "Q24_1": "2",
                  "Q1": "Instagram,Snapchat",
                  "Q1_10_TEXT": "nan",
                  "Q5": "Instagram,LinkedIn,Snapchat",
                  "Q5_10_TEXT": "nan",
                  "Q6": "Instagram,Snapchat,TikTok",
                  "Q6_10_TEXT": "nan",
                  "Q2_1": "6",
                  "Q3": "Less often",
                  "Q4": "Staying in touch with friends and/or family,Staying updated on current events,Sharing photos and videos",
                  "Q4_10_TEXT": "nan",
                  "Q9_1": "4",
                  "Q11": "Instagram,Snapchat",
                  "Q11_10_TEXT": "nan",
                  "Q12": "Instagram,LinkedIn,Snapchat",
                  "_deepnote_index_column": 23
                },
                {
                  "Q14": "White",
                  "Q14_8_TEXT": "nan",
                  "Q15": "Male",
                  "Q15_4_TEXT": "nan",
                  "Q20": "2023",
                  "Q16": "No",
                  "Q17": "No",
                  "Q18": "nan",
                  "Q19": "Massachusetts",
                  "Q24_1": "0",
                  "Q1": "Facebook Messenger,GroupMe",
                  "Q1_10_TEXT": "nan",
                  "Q5": "Facebook Messenger",
                  "Q5_10_TEXT": "nan",
                  "Q6": "Instagram,Snapchat,TikTok",
                  "Q6_10_TEXT": "nan",
                  "Q2_1": "0",
                  "Q3": "Never",
                  "Q4": "Staying in touch with friends and/or family",
                  "Q4_10_TEXT": "nan",
                  "Q9_1": "-2",
                  "Q11": "Facebook,Facebook Messenger,Instagram,GroupMe",
                  "Q11_10_TEXT": "nan",
                  "Q12": "Facebook Messenger,GroupMe",
                  "_deepnote_index_column": 25
                },
                {
                  "Q14": "White",
                  "Q14_8_TEXT": "nan",
                  "Q15": "Female",
                  "Q15_4_TEXT": "nan",
                  "Q20": "2023",
                  "Q16": "No",
                  "Q17": "No",
                  "Q18": "nan",
                  "Q19": "California",
                  "Q24_1": "3",
                  "Q1": "Instagram,Snapchat,TikTok",
                  "Q1_10_TEXT": "nan",
                  "Q5": "Instagram,Snapchat,TikTok",
                  "Q5_10_TEXT": "nan",
                  "Q6": "Instagram,Snapchat,TikTok",
                  "Q6_10_TEXT": "nan",
                  "Q2_1": "3",
                  "Q3": "About once a week",
                  "Q4": "Staying in touch with friends and/or family,Staying updated on current events,Finding entertaining content",
                  "Q4_10_TEXT": "nan",
                  "Q9_1": "2",
                  "Q11": "Facebook,Instagram,Snapchat",
                  "Q11_10_TEXT": "nan",
                  "Q12": "Instagram,Snapchat,TikTok",
                  "_deepnote_index_column": 26
                },
                {
                  "Q14": "White",
                  "Q14_8_TEXT": "nan",
                  "Q15": "Female",
                  "Q15_4_TEXT": "nan",
                  "Q20": "2023",
                  "Q16": "Yes",
                  "Q17": "No",
                  "Q18": "nan",
                  "Q19": "Michigan",
                  "Q24_1": "2",
                  "Q1": "Instagram,Snapchat,Twitter,GroupMe,TikTok",
                  "Q1_10_TEXT": "nan",
                  "Q5": "Instagram,Snapchat,TikTok",
                  "Q5_10_TEXT": "nan",
                  "Q6": "Instagram,Snapchat,TikTok",
                  "Q6_10_TEXT": "nan",
                  "Q2_1": "2",
                  "Q3": "Once every few weeks",
                  "Q4": "Staying in touch with friends and/or family,Finding entertaining content,Filling spare time",
                  "Q4_10_TEXT": "nan",
                  "Q9_1": "1",
                  "Q11": "Instagram,Snapchat,Twitter,GroupMe",
                  "Q11_10_TEXT": "nan",
                  "Q12": "Instagram,Snapchat,Twitter,GroupMe,TikTok",
                  "_deepnote_index_column": 27
                },
                {
                  "Q14": "Asian or Asian American",
                  "Q14_8_TEXT": "nan",
                  "Q15": "Male",
                  "Q15_4_TEXT": "nan",
                  "Q20": "2023",
                  "Q16": "Yes",
                  "Q17": "No",
                  "Q18": "nan",
                  "Q19": "New Jersey",
                  "Q24_1": "2",
                  "Q1": "Facebook Messenger,Instagram,LinkedIn,Twitter",
                  "Q1_10_TEXT": "nan",
                  "Q5": "Instagram,LinkedIn",
                  "Q5_10_TEXT": "nan",
                  "Q6": "Instagram,Snapchat,TikTok",
                  "Q6_10_TEXT": "nan",
                  "Q2_1": "4",
                  "Q3": "Less often",
                  "Q4": "Networking with other people,Sharing photos and videos",
                  "Q4_10_TEXT": "nan",
                  "Q9_1": "-4",
                  "Q11": "Instagram,LinkedIn,Twitter",
                  "Q11_10_TEXT": "nan",
                  "Q12": "Facebook Messenger,Instagram,LinkedIn",
                  "_deepnote_index_column": 30
                },
                {
                  "Q14": "White",
                  "Q14_8_TEXT": "nan",
                  "Q15": "Female",
                  "Q15_4_TEXT": "nan",
                  "Q20": "2023",
                  "Q16": "No",
                  "Q17": "Yes",
                  "Q18": "Romania",
                  "Q19": "nan",
                  "Q24_1": "2",
                  "Q1": "Facebook,Facebook Messenger,Instagram,WhatsApp",
                  "Q1_10_TEXT": "nan",
                  "Q5": "Facebook,Facebook Messenger,Instagram",
                  "Q5_10_TEXT": "nan",
                  "Q6": "Snapchat,Twitter,TikTok",
                  "Q6_10_TEXT": "nan",
                  "Q2_1": "2",
                  "Q3": "Less often",
                  "Q4": "Staying in touch with friends and/or family,Staying updated on current events,Sharing photos and videos",
                  "Q4_10_TEXT": "nan",
                  "Q9_1": "1",
                  "Q11": "Facebook,Facebook Messenger,Instagram,WhatsApp",
                  "Q11_10_TEXT": "nan",
                  "Q12": "Facebook,Facebook Messenger,Instagram,WhatsApp",
                  "_deepnote_index_column": 31
                },
                {
                  "Q14": "Hispanic or Latinx",
                  "Q14_8_TEXT": "nan",
                  "Q15": "Female",
                  "Q15_4_TEXT": "nan",
                  "Q20": "2023",
                  "Q16": "No",
                  "Q17": "No",
                  "Q18": "nan",
                  "Q19": "Massachusetts",
                  "Q24_1": "1",
                  "Q1": "Facebook,Instagram,Snapchat",
                  "Q1_10_TEXT": "nan",
                  "Q5": "Facebook,Instagram,Snapchat",
                  "Q5_10_TEXT": "nan",
                  "Q6": "Instagram,Snapchat,TikTok",
                  "Q6_10_TEXT": "nan",
                  "Q2_1": "2",
                  "Q3": "Less often",
                  "Q4": "Staying in touch with friends and/or family,Finding entertaining content,Sharing photos and videos",
                  "Q4_10_TEXT": "nan",
                  "Q9_1": "1",
                  "Q11": "Facebook,Instagram,Snapchat",
                  "Q11_10_TEXT": "nan",
                  "Q12": "Facebook,Instagram,Snapchat",
                  "_deepnote_index_column": 35
                },
                {
                  "Q14": "White",
                  "Q14_8_TEXT": "nan",
                  "Q15": "Female",
                  "Q15_4_TEXT": "nan",
                  "Q20": "2023",
                  "Q16": "No",
                  "Q17": "No",
                  "Q18": "nan",
                  "Q19": "California",
                  "Q24_1": "2",
                  "Q1": "Instagram,Snapchat,GroupMe,TikTok",
                  "Q1_10_TEXT": "nan",
                  "Q5": "Instagram,Snapchat,TikTok",
                  "Q5_10_TEXT": "nan",
                  "Q6": "Instagram,Snapchat,TikTok",
                  "Q6_10_TEXT": "nan",
                  "Q2_1": "5",
                  "Q3": "Once every few weeks",
                  "Q4": "Staying in touch with friends and/or family,Finding entertaining content,Sharing photos and videos",
                  "Q4_10_TEXT": "nan",
                  "Q9_1": "2",
                  "Q11": "Instagram,Snapchat,GroupMe,TikTok",
                  "Q11_10_TEXT": "nan",
                  "Q12": "Instagram,Snapchat,GroupMe,TikTok",
                  "_deepnote_index_column": 36
                },
                {
                  "Q14": "Asian or Asian American",
                  "Q14_8_TEXT": "nan",
                  "Q15": "Female",
                  "Q15_4_TEXT": "nan",
                  "Q20": "2023",
                  "Q16": "No",
                  "Q17": "No",
                  "Q18": "nan",
                  "Q19": "California",
                  "Q24_1": "3",
                  "Q1": "Facebook,Facebook Messenger,Instagram,LinkedIn,Snapchat,TikTok",
                  "Q1_10_TEXT": "nan",
                  "Q5": "Instagram,Snapchat,TikTok",
                  "Q5_10_TEXT": "nan",
                  "Q6": "Instagram,Snapchat,TikTok",
                  "Q6_10_TEXT": "nan",
                  "Q2_1": "4",
                  "Q3": "Once every few weeks",
                  "Q4": "Staying in touch with friends and/or family,Staying updated on current events,Finding entertaining content",
                  "Q4_10_TEXT": "nan",
                  "Q9_1": "8",
                  "Q11": "Facebook,Facebook Messenger,Instagram,LinkedIn,Snapchat,WhatsApp",
                  "Q11_10_TEXT": "nan",
                  "Q12": "Facebook,Facebook Messenger,Instagram,LinkedIn,Snapchat,TikTok",
                  "_deepnote_index_column": 40
                },
                {
                  "Q14": "Middle Eastern or North African",
                  "Q14_8_TEXT": "nan",
                  "Q15": "Female",
                  "Q15_4_TEXT": "nan",
                  "Q20": "2023",
                  "Q16": "Yes",
                  "Q17": "No",
                  "Q18": "nan",
                  "Q19": "Massachusetts",
                  "Q24_1": "1",
                  "Q1": "Facebook,Instagram,LinkedIn,Snapchat,Twitter,WhatsApp,GroupMe",
                  "Q1_10_TEXT": "nan",
                  "Q5": "Instagram,Twitter,WhatsApp",
                  "Q5_10_TEXT": "nan",
                  "Q6": "Instagram,Twitter,TikTok",
                  "Q6_10_TEXT": "nan",
                  "Q2_1": "2",
                  "Q3": "Less often",
                  "Q4": "Staying in touch with friends and/or family,Staying updated on current events,Filling spare time",
                  "Q4_10_TEXT": "nan",
                  "Q9_1": "1",
                  "Q11": "Facebook,Facebook Messenger,Instagram,LinkedIn,Snapchat,WhatsApp,GroupMe,TikTok",
                  "Q11_10_TEXT": "nan",
                  "Q12": "Facebook,Facebook Messenger,Instagram,LinkedIn,Snapchat,Twitter,WhatsApp,GroupMe",
                  "_deepnote_index_column": 52
                },
                {
                  "Q14": "Asian or Asian American",
                  "Q14_8_TEXT": "nan",
                  "Q15": "Male",
                  "Q15_4_TEXT": "nan",
                  "Q20": "2023",
                  "Q16": "No",
                  "Q17": "Yes",
                  "Q18": "India",
                  "Q19": "nan",
                  "Q24_1": "1",
                  "Q1": "Facebook,Facebook Messenger,Instagram,LinkedIn,WhatsApp,GroupMe",
                  "Q1_10_TEXT": "nan",
                  "Q5": "Facebook,Facebook Messenger,WhatsApp",
                  "Q5_10_TEXT": "nan",
                  "Q6": "Instagram,Snapchat,TikTok",
                  "Q6_10_TEXT": "nan",
                  "Q2_1": "1",
                  "Q3": "Never",
                  "Q4": "Staying in touch with friends and/or family,Finding entertaining content,Filling spare time",
                  "Q4_10_TEXT": "nan",
                  "Q9_1": "1",
                  "Q11": "Facebook,Facebook Messenger,Instagram,LinkedIn,WhatsApp,GroupMe",
                  "Q11_10_TEXT": "nan",
                  "Q12": "Facebook,Facebook Messenger,Instagram,LinkedIn,WhatsApp,GroupMe",
                  "_deepnote_index_column": 53
                },
                {
                  "Q14": "Hispanic or Latinx",
                  "Q14_8_TEXT": "nan",
                  "Q15": "Male",
                  "Q15_4_TEXT": "nan",
                  "Q20": "2023",
                  "Q16": "Yes",
                  "Q17": "No",
                  "Q18": "nan",
                  "Q19": "California",
                  "Q24_1": "1",
                  "Q1": "Facebook,Facebook Messenger,Instagram,Snapchat,GroupMe,TikTok",
                  "Q1_10_TEXT": "nan",
                  "Q5": "Instagram,Snapchat,TikTok",
                  "Q5_10_TEXT": "nan",
                  "Q6": "Instagram",
                  "Q6_10_TEXT": "nan",
                  "Q2_1": "4",
                  "Q3": "Once every few weeks",
                  "Q4": "Staying updated on current events,Finding entertaining content,Sharing opinions",
                  "Q4_10_TEXT": "nan",
                  "Q9_1": "2",
                  "Q11": "Facebook,Facebook Messenger,Instagram,Snapchat,GroupMe,TikTok",
                  "Q11_10_TEXT": "nan",
                  "Q12": "Facebook,Facebook Messenger,Instagram,Snapchat,GroupMe,TikTok",
                  "_deepnote_index_column": 54
                },
                {
                  "Q14": "Hispanic or Latinx",
                  "Q14_8_TEXT": "nan",
                  "Q15": "Female",
                  "Q15_4_TEXT": "nan",
                  "Q20": "2023",
                  "Q16": "Yes",
                  "Q17": "No",
                  "Q18": "nan",
                  "Q19": "MA ",
                  "Q24_1": "1",
                  "Q1": "Facebook,Instagram,Snapchat,TikTok",
                  "Q1_10_TEXT": "nan",
                  "Q5": "Instagram,Snapchat,TikTok",
                  "Q5_10_TEXT": "nan",
                  "Q6": "Instagram,Snapchat,TikTok",
                  "Q6_10_TEXT": "nan",
                  "Q2_1": "5",
                  "Q3": "Less often",
                  "Q4": "Finding entertaining content,Sharing photos and videos,Filling spare time",
                  "Q4_10_TEXT": "nan",
                  "Q9_1": "2",
                  "Q11": "Facebook,Instagram,Snapchat",
                  "Q11_10_TEXT": "nan",
                  "Q12": "Facebook,Instagram,Snapchat,TikTok",
                  "_deepnote_index_column": 62
                }
              ],
              "rows_bottom": [
                {
                  "Q14": "White",
                  "Q14_8_TEXT": "nan",
                  "Q15": "Female",
                  "Q15_4_TEXT": "nan",
                  "Q20": "2023",
                  "Q16": "No",
                  "Q17": "No",
                  "Q18": "nan",
                  "Q19": "Massachusetts ",
                  "Q24_1": "1",
                  "Q1": "Facebook,Instagram,Snapchat,GroupMe,TikTok",
                  "Q1_10_TEXT": "nan",
                  "Q5": "Instagram,Snapchat,TikTok",
                  "Q5_10_TEXT": "nan",
                  "Q6": "Instagram,Snapchat,TikTok",
                  "Q6_10_TEXT": "nan",
                  "Q2_1": "4",
                  "Q3": "About once a week",
                  "Q4": "Staying in touch with friends and/or family,Finding entertaining content,Sharing photos and videos",
                  "Q4_10_TEXT": "nan",
                  "Q9_1": "2",
                  "Q11": "Facebook,Instagram,LinkedIn,Snapchat",
                  "Q11_10_TEXT": "nan",
                  "Q12": "Facebook,Instagram,LinkedIn,Snapchat,GroupMe,TikTok",
                  "_deepnote_index_column": 86
                },
                {
                  "Q14": "Other",
                  "Q14_8_TEXT": "Asian and Middle Eastern",
                  "Q15": "Female",
                  "Q15_4_TEXT": "nan",
                  "Q20": "2023",
                  "Q16": "No",
                  "Q17": "No",
                  "Q18": "nan",
                  "Q19": "Connecticut",
                  "Q24_1": "4",
                  "Q1": "Instagram,Snapchat,WhatsApp,GroupMe,TikTok",
                  "Q1_10_TEXT": "nan",
                  "Q5": "Instagram,Snapchat,TikTok",
                  "Q5_10_TEXT": "nan",
                  "Q6": "Instagram,Snapchat,TikTok",
                  "Q6_10_TEXT": "nan",
                  "Q2_1": "3",
                  "Q3": "Once every few weeks",
                  "Q4": "Staying in touch with friends and/or family,Meeting other people,Sharing photos and videos",
                  "Q4_10_TEXT": "nan",
                  "Q9_1": "2",
                  "Q11": "Facebook,Instagram,Snapchat,GroupMe",
                  "Q11_10_TEXT": "nan",
                  "Q12": "Instagram,Snapchat,WhatsApp,GroupMe,TikTok",
                  "_deepnote_index_column": 87
                },
                {
                  "Q14": "White",
                  "Q14_8_TEXT": "nan",
                  "Q15": "Male",
                  "Q15_4_TEXT": "nan",
                  "Q20": "2023",
                  "Q16": "Prefer not to say",
                  "Q17": "Yes",
                  "Q18": "Slovakia",
                  "Q19": "nan",
                  "Q24_1": "1",
                  "Q1": "Facebook,Facebook Messenger,Instagram,WhatsApp,GroupMe",
                  "Q1_10_TEXT": "nan",
                  "Q5": "Facebook Messenger,Instagram",
                  "Q5_10_TEXT": "nan",
                  "Q6": "Instagram,Snapchat,TikTok",
                  "Q6_10_TEXT": "nan",
                  "Q2_1": "3",
                  "Q3": "Less often",
                  "Q4": "Staying in touch with friends and/or family,Staying updated on current events,Finding entertaining content",
                  "Q4_10_TEXT": "nan",
                  "Q9_1": "1",
                  "Q11": "Facebook,Facebook Messenger,Instagram,WhatsApp,GroupMe",
                  "Q11_10_TEXT": "nan",
                  "Q12": "Facebook,Facebook Messenger,Instagram,WhatsApp,GroupMe",
                  "_deepnote_index_column": 88
                },
                {
                  "Q14": "Asian or Asian American",
                  "Q14_8_TEXT": "nan",
                  "Q15": "Male",
                  "Q15_4_TEXT": "nan",
                  "Q20": "2023",
                  "Q16": "No",
                  "Q17": "Yes",
                  "Q18": "Singapore",
                  "Q19": "nan",
                  "Q24_1": "2",
                  "Q1": "Facebook,Facebook Messenger,Instagram,WhatsApp",
                  "Q1_10_TEXT": "nan",
                  "Q5": "Facebook Messenger,Instagram,WhatsApp",
                  "Q5_10_TEXT": "nan",
                  "Q6": "Facebook,Instagram,Twitter",
                  "Q6_10_TEXT": "nan",
                  "Q2_1": "4",
                  "Q3": "Never",
                  "Q4": "Staying in touch with friends and/or family,Finding entertaining content,Sharing photos and videos",
                  "Q4_10_TEXT": "nan",
                  "Q9_1": "2",
                  "Q11": "Facebook,Facebook Messenger,Instagram,WhatsApp",
                  "Q11_10_TEXT": "nan",
                  "Q12": "Facebook,Facebook Messenger,Instagram,WhatsApp",
                  "_deepnote_index_column": 89
                },
                {
                  "Q14": "White",
                  "Q14_8_TEXT": "nan",
                  "Q15": "Male",
                  "Q15_4_TEXT": "nan",
                  "Q20": "2023",
                  "Q16": "No",
                  "Q17": "No",
                  "Q18": "nan",
                  "Q19": "Massachusetts",
                  "Q24_1": "3",
                  "Q1": "Instagram,LinkedIn,Snapchat,WhatsApp,GroupMe",
                  "Q1_10_TEXT": "nan",
                  "Q5": "Instagram,LinkedIn,Snapchat",
                  "Q5_10_TEXT": "nan",
                  "Q6": "Instagram,Snapchat,TikTok",
                  "Q6_10_TEXT": "nan",
                  "Q2_1": "1",
                  "Q3": "Less often",
                  "Q4": "Networking with other people,Finding entertaining content,Filling spare time",
                  "Q4_10_TEXT": "nan",
                  "Q9_1": "2",
                  "Q11": "Facebook,Instagram,LinkedIn,Snapchat",
                  "Q11_10_TEXT": "nan",
                  "Q12": "Facebook,Instagram,LinkedIn,Snapchat",
                  "_deepnote_index_column": 90
                },
                {
                  "Q14": "Black or African American",
                  "Q14_8_TEXT": "nan",
                  "Q15": "Female",
                  "Q15_4_TEXT": "nan",
                  "Q20": "2023",
                  "Q16": "Yes",
                  "Q17": "No",
                  "Q18": "nan",
                  "Q19": "Kentucky ",
                  "Q24_1": "2",
                  "Q1": "Instagram,Snapchat,Twitter,TikTok",
                  "Q1_10_TEXT": "nan",
                  "Q5": "Instagram,Twitter,TikTok",
                  "Q5_10_TEXT": "nan",
                  "Q6": "Snapchat,Twitter,TikTok",
                  "Q6_10_TEXT": "nan",
                  "Q2_1": "10",
                  "Q3": "Several times a day",
                  "Q4": "Finding entertaining content,Sharing opinions,Filling spare time",
                  "Q4_10_TEXT": "nan",
                  "Q9_1": "4",
                  "Q11": "Instagram,Snapchat,Twitter,TikTok",
                  "Q11_10_TEXT": "nan",
                  "Q12": "Instagram,Snapchat,Twitter,TikTok",
                  "_deepnote_index_column": 93
                },
                {
                  "Q14": "Black or African American",
                  "Q14_8_TEXT": "nan",
                  "Q15": "Female",
                  "Q15_4_TEXT": "nan",
                  "Q20": "2023",
                  "Q16": "No",
                  "Q17": "No",
                  "Q18": "nan",
                  "Q19": "FL",
                  "Q24_1": "1",
                  "Q1": "Snapchat,Twitter,GroupMe,TikTok",
                  "Q1_10_TEXT": "nan",
                  "Q5": "Instagram,Twitter,TikTok",
                  "Q5_10_TEXT": "nan",
                  "Q6": "Instagram,Snapchat,Twitter",
                  "Q6_10_TEXT": "nan",
                  "Q2_1": "2",
                  "Q3": "Less often",
                  "Q4": "Staying in touch with friends and/or family,Finding entertaining content,Sharing photos and videos",
                  "Q4_10_TEXT": "nan",
                  "Q9_1": "1",
                  "Q11": "Instagram,Snapchat,Twitter,GroupMe",
                  "Q11_10_TEXT": "nan",
                  "Q12": "Instagram,Snapchat,Twitter,GroupMe,TikTok",
                  "_deepnote_index_column": 94
                },
                {
                  "Q14": "Hispanic or Latinx",
                  "Q14_8_TEXT": "nan",
                  "Q15": "Male",
                  "Q15_4_TEXT": "nan",
                  "Q20": "2023",
                  "Q16": "Yes",
                  "Q17": "No",
                  "Q18": "nan",
                  "Q19": "Puerto Rico",
                  "Q24_1": "nan",
                  "Q1": "WhatsApp",
                  "Q1_10_TEXT": "nan",
                  "Q5": "LinkedIn,WhatsApp,GroupMe",
                  "Q5_10_TEXT": "nan",
                  "Q6": "Instagram,Snapchat,Twitter",
                  "Q6_10_TEXT": "nan",
                  "Q2_1": "1",
                  "Q3": "Never",
                  "Q4": "Staying in touch with friends and/or family",
                  "Q4_10_TEXT": "nan",
                  "Q9_1": "0",
                  "Q11": "Facebook,Instagram,LinkedIn,Snapchat,Twitter,WhatsApp,GroupMe",
                  "Q11_10_TEXT": "nan",
                  "Q12": "Facebook,Instagram,LinkedIn,Snapchat,Twitter,WhatsApp,GroupMe",
                  "_deepnote_index_column": 97
                },
                {
                  "Q14": "Other",
                  "Q14_8_TEXT": "nan",
                  "Q15": "Female",
                  "Q15_4_TEXT": "nan",
                  "Q20": "2023",
                  "Q16": "Yes",
                  "Q17": "No",
                  "Q18": "nan",
                  "Q19": "ga",
                  "Q24_1": "nan",
                  "Q1": "Other",
                  "Q1_10_TEXT": "I don't actually use social media a lot or at all",
                  "Q5": "Other",
                  "Q5_10_TEXT": "I don't actually use social media a lot or at all",
                  "Q6": "Instagram,Snapchat,TikTok",
                  "Q6_10_TEXT": "nan",
                  "Q2_1": "1",
                  "Q3": "Never",
                  "Q4": "Staying in touch with friends and/or family,Sharing photos and videos,Filling spare time",
                  "Q4_10_TEXT": "nan",
                  "Q9_1": "2",
                  "Q11": "GroupMe,Other",
                  "Q11_10_TEXT": "I don't really use social media, don't even have an account/the app for most of these",
                  "Q12": "Other",
                  "_deepnote_index_column": 100
                },
                {
                  "Q14": "Hispanic or Latinx",
                  "Q14_8_TEXT": "nan",
                  "Q15": "Male",
                  "Q15_4_TEXT": "nan",
                  "Q20": "2023",
                  "Q16": "No",
                  "Q17": "No",
                  "Q18": "nan",
                  "Q19": "Indiana",
                  "Q24_1": "2",
                  "Q1": "Instagram,Snapchat,GroupMe",
                  "Q1_10_TEXT": "nan",
                  "Q5": "Instagram,Snapchat,WhatsApp",
                  "Q5_10_TEXT": "nan",
                  "Q6": "Instagram,Snapchat,TikTok",
                  "Q6_10_TEXT": "nan",
                  "Q2_1": "1",
                  "Q3": "Once every few weeks",
                  "Q4": "Staying in touch with friends and/or family,Staying updated on current events,Finding entertaining content",
                  "Q4_10_TEXT": "nan",
                  "Q9_1": "1",
                  "Q11": "Instagram,Snapchat,WhatsApp,GroupMe",
                  "Q11_10_TEXT": "nan",
                  "Q12": "Instagram,Snapchat,WhatsApp,GroupMe",
                  "_deepnote_index_column": 107
                },
                {
                  "Q14": "White",
                  "Q14_8_TEXT": "nan",
                  "Q15": "Male",
                  "Q15_4_TEXT": "nan",
                  "Q20": "2023",
                  "Q16": "Yes",
                  "Q17": "No",
                  "Q18": "nan",
                  "Q19": "Colorado",
                  "Q24_1": "2",
                  "Q1": "Instagram,Snapchat,GroupMe,TikTok",
                  "Q1_10_TEXT": "nan",
                  "Q5": "Instagram,Snapchat,TikTok",
                  "Q5_10_TEXT": "nan",
                  "Q6": "Instagram,Snapchat,TikTok",
                  "Q6_10_TEXT": "nan",
                  "Q2_1": "4",
                  "Q3": "Less often",
                  "Q4": "Staying in touch with friends and/or family,Finding entertaining content,Filling spare time",
                  "Q4_10_TEXT": "nan",
                  "Q9_1": "6",
                  "Q11": "Facebook,Facebook Messenger,Instagram,Snapchat,GroupMe",
                  "Q11_10_TEXT": "nan",
                  "Q12": "Facebook,Facebook Messenger,Instagram,LinkedIn,Snapchat,Twitter,WhatsApp,GroupMe,TikTok",
                  "_deepnote_index_column": 113
                },
                {
                  "Q14": "Asian or Asian American",
                  "Q14_8_TEXT": "nan",
                  "Q15": "Female",
                  "Q15_4_TEXT": "nan",
                  "Q20": "2023",
                  "Q16": "No",
                  "Q17": "No",
                  "Q18": "nan",
                  "Q19": "NJ",
                  "Q24_1": "2",
                  "Q1": "Instagram,Snapchat,GroupMe,TikTok",
                  "Q1_10_TEXT": "nan",
                  "Q5": "Instagram,Snapchat,TikTok",
                  "Q5_10_TEXT": "nan",
                  "Q6": "Instagram,Snapchat,TikTok",
                  "Q6_10_TEXT": "nan",
                  "Q2_1": "2",
                  "Q3": "Once every few weeks",
                  "Q4": "Staying in touch with friends and/or family,Finding entertaining content,Sharing photos and videos",
                  "Q4_10_TEXT": "nan",
                  "Q9_1": "2",
                  "Q11": "Facebook,Facebook Messenger,Instagram,LinkedIn,Snapchat,WhatsApp,GroupMe,TikTok",
                  "Q11_10_TEXT": "nan",
                  "Q12": "Facebook,Facebook Messenger,Instagram,LinkedIn,Snapchat,GroupMe,TikTok",
                  "_deepnote_index_column": 114
                },
                {
                  "Q14": "Hispanic or Latinx",
                  "Q14_8_TEXT": "nan",
                  "Q15": "Non-Binary",
                  "Q15_4_TEXT": "nan",
                  "Q20": "2023",
                  "Q16": "Yes",
                  "Q17": "No",
                  "Q18": "nan",
                  "Q19": "california",
                  "Q24_1": "3",
                  "Q1": "Facebook,Instagram,TikTok",
                  "Q1_10_TEXT": "nan",
                  "Q5": "Instagram,TikTok,Other",
                  "Q5_10_TEXT": "tumblr",
                  "Q6": "Instagram,Twitter,TikTok",
                  "Q6_10_TEXT": "nan",
                  "Q2_1": "5",
                  "Q3": "Several times a day",
                  "Q4": "Staying updated on current events,Sharing opinions,Shopping and/or researching products",
                  "Q4_10_TEXT": "nan",
                  "Q9_1": "5",
                  "Q11": "Facebook,Facebook Messenger,Instagram",
                  "Q11_10_TEXT": "nan",
                  "Q12": "Facebook,Instagram,Snapchat,Twitter,TikTok",
                  "_deepnote_index_column": 115
                },
                {
                  "Q14": "White",
                  "Q14_8_TEXT": "nan",
                  "Q15": "Female",
                  "Q15_4_TEXT": "nan",
                  "Q20": "2023",
                  "Q16": "Yes",
                  "Q17": "No",
                  "Q18": "nan",
                  "Q19": "Arkansas",
                  "Q24_1": "1",
                  "Q1": "Facebook,Facebook Messenger,Instagram,Snapchat,GroupMe,TikTok",
                  "Q1_10_TEXT": "nan",
                  "Q5": "Instagram,Snapchat,TikTok",
                  "Q5_10_TEXT": "nan",
                  "Q6": "Instagram,Snapchat,TikTok",
                  "Q6_10_TEXT": "nan",
                  "Q2_1": "4",
                  "Q3": "About once a week",
                  "Q4": "Staying in touch with friends and/or family,Sharing photos and videos,Filling spare time",
                  "Q4_10_TEXT": "nan",
                  "Q9_1": "2",
                  "Q11": "Facebook,Facebook Messenger,Instagram,Snapchat,Twitter,WhatsApp,GroupMe,TikTok",
                  "Q11_10_TEXT": "nan",
                  "Q12": "Facebook,Facebook Messenger,Instagram,Snapchat,GroupMe,TikTok",
                  "_deepnote_index_column": 118
                },
                {
                  "Q14": "White",
                  "Q14_8_TEXT": "nan",
                  "Q15": "Female",
                  "Q15_4_TEXT": "nan",
                  "Q20": "2023",
                  "Q16": "Yes",
                  "Q17": "No",
                  "Q18": "nan",
                  "Q19": "PA",
                  "Q24_1": "1",
                  "Q1": "Snapchat,Other",
                  "Q1_10_TEXT": "Youtube",
                  "Q5": "Snapchat,TikTok,Other",
                  "Q5_10_TEXT": "Youtube",
                  "Q6": "Instagram,Snapchat,TikTok",
                  "Q6_10_TEXT": "nan",
                  "Q2_1": "2",
                  "Q3": "Never",
                  "Q4": "Staying in touch with friends and/or family,Staying updated on current events,Finding entertaining content",
                  "Q4_10_TEXT": "nan",
                  "Q9_1": "-5",
                  "Q11": "Facebook,Facebook Messenger,Instagram,LinkedIn,Snapchat,GroupMe,TikTok,Other",
                  "Q11_10_TEXT": "YouTube",
                  "Q12": "Other",
                  "_deepnote_index_column": 123
                },
                {
                  "Q14": "Asian or Asian American",
                  "Q14_8_TEXT": "nan",
                  "Q15": "Male",
                  "Q15_4_TEXT": "nan",
                  "Q20": "2023",
                  "Q16": "No",
                  "Q17": "No",
                  "Q18": "nan",
                  "Q19": "New York",
                  "Q24_1": "2",
                  "Q1": "Facebook,Instagram,LinkedIn,Snapchat,Twitter,GroupMe,TikTok",
                  "Q1_10_TEXT": "nan",
                  "Q5": "Instagram,Snapchat,Twitter",
                  "Q5_10_TEXT": "nan",
                  "Q6": "Instagram,Snapchat,GroupMe",
                  "Q6_10_TEXT": "nan",
                  "Q2_1": "3",
                  "Q3": "About once a day",
                  "Q4": "Staying updated on current events,Sharing photos and videos,Sharing opinions",
                  "Q4_10_TEXT": "nan",
                  "Q9_1": "2",
                  "Q11": "Instagram,Snapchat",
                  "Q11_10_TEXT": "nan",
                  "Q12": "Facebook,Facebook Messenger,Instagram,LinkedIn,Snapchat,Twitter,WhatsApp,GroupMe,TikTok",
                  "_deepnote_index_column": 125
                },
                {
                  "Q14": "Asian or Asian American",
                  "Q14_8_TEXT": "nan",
                  "Q15": "Female",
                  "Q15_4_TEXT": "nan",
                  "Q20": "2023",
                  "Q16": "No",
                  "Q17": "No",
                  "Q18": "nan",
                  "Q19": "New Hampshire",
                  "Q24_1": "0",
                  "Q1": "Snapchat,Twitter",
                  "Q1_10_TEXT": "nan",
                  "Q5": "Snapchat,Twitter",
                  "Q5_10_TEXT": "nan",
                  "Q6": "Instagram,Snapchat,Twitter",
                  "Q6_10_TEXT": "nan",
                  "Q2_1": "2",
                  "Q3": "About once a week",
                  "Q4": "Meeting other people,Filling spare time",
                  "Q4_10_TEXT": "nan",
                  "Q9_1": "4",
                  "Q11": "Other",
                  "Q11_10_TEXT": "None",
                  "Q12": "Snapchat,Twitter",
                  "_deepnote_index_column": 127
                },
                {
                  "Q14": "Asian or Asian American",
                  "Q14_8_TEXT": "nan",
                  "Q15": "Female",
                  "Q15_4_TEXT": "nan",
                  "Q20": "2023",
                  "Q16": "No",
                  "Q17": "No",
                  "Q18": "nan",
                  "Q19": "California",
                  "Q24_1": "2",
                  "Q1": "Facebook,Facebook Messenger,Instagram,Snapchat",
                  "Q1_10_TEXT": "nan",
                  "Q5": "Facebook Messenger,Instagram,Snapchat",
                  "Q5_10_TEXT": "nan",
                  "Q6": "Facebook Messenger,Instagram,TikTok",
                  "Q6_10_TEXT": "nan",
                  "Q2_1": "4",
                  "Q3": "Less often",
                  "Q4": "Staying in touch with friends and/or family,Staying updated on current events,Finding entertaining content",
                  "Q4_10_TEXT": "nan",
                  "Q9_1": "2",
                  "Q11": "Facebook,Facebook Messenger,Instagram,Snapchat,GroupMe",
                  "Q11_10_TEXT": "nan",
                  "Q12": "Facebook,Facebook Messenger,Instagram,Snapchat,Twitter,TikTok",
                  "_deepnote_index_column": 128
                },
                {
                  "Q14": "Asian or Asian American",
                  "Q14_8_TEXT": "nan",
                  "Q15": "Male",
                  "Q15_4_TEXT": "nan",
                  "Q20": "2023",
                  "Q16": "No",
                  "Q17": "No",
                  "Q18": "nan",
                  "Q19": "Massachusetts",
                  "Q24_1": "0",
                  "Q1": "Facebook Messenger,Instagram,LinkedIn,Twitter",
                  "Q1_10_TEXT": "nan",
                  "Q5": "Facebook Messenger,Instagram,Twitter",
                  "Q5_10_TEXT": "nan",
                  "Q6": "Instagram,Twitter,TikTok",
                  "Q6_10_TEXT": "nan",
                  "Q2_1": "4",
                  "Q3": "Less often",
                  "Q4": "Staying in touch with friends and/or family,Finding entertaining content,Filling spare time",
                  "Q4_10_TEXT": "nan",
                  "Q9_1": "2",
                  "Q11": "Facebook,Facebook Messenger,Instagram",
                  "Q11_10_TEXT": "nan",
                  "Q12": "Facebook,Facebook Messenger,Instagram,LinkedIn,Twitter",
                  "_deepnote_index_column": 130
                },
                {
                  "Q14": "White",
                  "Q14_8_TEXT": "nan",
                  "Q15": "Male",
                  "Q15_4_TEXT": "nan",
                  "Q20": "2023",
                  "Q16": "Yes",
                  "Q17": "No",
                  "Q18": "nan",
                  "Q19": "Michigan",
                  "Q24_1": "nan",
                  "Q1": "nan",
                  "Q1_10_TEXT": "nan",
                  "Q5": "nan",
                  "Q5_10_TEXT": "nan",
                  "Q6": "nan",
                  "Q6_10_TEXT": "nan",
                  "Q2_1": "nan",
                  "Q3": "nan",
                  "Q4": "nan",
                  "Q4_10_TEXT": "nan",
                  "Q9_1": "nan",
                  "Q11": "nan",
                  "Q11_10_TEXT": "nan",
                  "Q12": "nan",
                  "_deepnote_index_column": 137
                },
                {
                  "Q14": "Asian or Asian American",
                  "Q14_8_TEXT": "nan",
                  "Q15": "Female",
                  "Q15_4_TEXT": "nan",
                  "Q20": "2023",
                  "Q16": "No",
                  "Q17": "No",
                  "Q18": "nan",
                  "Q19": "Massachusetts",
                  "Q24_1": "2",
                  "Q1": "Facebook,Facebook Messenger,Instagram,LinkedIn,WhatsApp,GroupMe",
                  "Q1_10_TEXT": "nan",
                  "Q5": "Facebook,Facebook Messenger,Instagram",
                  "Q5_10_TEXT": "nan",
                  "Q6": "Instagram,Snapchat,TikTok",
                  "Q6_10_TEXT": "nan",
                  "Q2_1": "6",
                  "Q3": "About once a day",
                  "Q4": "Staying in touch with friends and/or family,Sharing photos and videos,Sharing opinions",
                  "Q4_10_TEXT": "nan",
                  "Q9_1": "3",
                  "Q11": "Facebook,Facebook Messenger,Instagram,LinkedIn,WhatsApp,GroupMe",
                  "Q11_10_TEXT": "nan",
                  "Q12": "Facebook,Facebook Messenger,Instagram,LinkedIn,WhatsApp,GroupMe",
                  "_deepnote_index_column": 146
                }
              ]
            },
            "text/plain": "                                 Q14                Q14_8_TEXT         Q15  \\\n2                 Hispanic or Latinx                       NaN        Male   \n7            Asian or Asian American                       NaN        Male   \n8    Middle Eastern or North African                       NaN        Male   \n15                             White                       NaN        Male   \n16         Black or African American                       NaN      Female   \n17           Asian or Asian American                       NaN      Female   \n21                             Other                     Mixed      Female   \n23                             White                       NaN        Male   \n25                             White                       NaN        Male   \n26                             White                       NaN      Female   \n27                             White                       NaN      Female   \n30           Asian or Asian American                       NaN        Male   \n31                             White                       NaN      Female   \n35                Hispanic or Latinx                       NaN      Female   \n36                             White                       NaN      Female   \n40           Asian or Asian American                       NaN      Female   \n52   Middle Eastern or North African                       NaN      Female   \n53           Asian or Asian American                       NaN        Male   \n54                Hispanic or Latinx                       NaN        Male   \n62                Hispanic or Latinx                       NaN      Female   \n64                             White                       NaN      Female   \n71                Hispanic or Latinx                       NaN      Female   \n76                Hispanic or Latinx                       NaN      Female   \n77           Asian or Asian American                       NaN      Female   \n85           Asian or Asian American                       NaN      Female   \n86                             White                       NaN      Female   \n87                             Other  Asian and Middle Eastern      Female   \n88                             White                       NaN        Male   \n89           Asian or Asian American                       NaN        Male   \n90                             White                       NaN        Male   \n93         Black or African American                       NaN      Female   \n94         Black or African American                       NaN      Female   \n97                Hispanic or Latinx                       NaN        Male   \n100                            Other                       NaN      Female   \n107               Hispanic or Latinx                       NaN        Male   \n113                            White                       NaN        Male   \n114          Asian or Asian American                       NaN      Female   \n115               Hispanic or Latinx                       NaN  Non-Binary   \n118                            White                       NaN      Female   \n123                            White                       NaN      Female   \n125          Asian or Asian American                       NaN        Male   \n127          Asian or Asian American                       NaN      Female   \n128          Asian or Asian American                       NaN      Female   \n130          Asian or Asian American                       NaN        Male   \n137                            White                       NaN        Male   \n146          Asian or Asian American                       NaN      Female   \n\n    Q15_4_TEXT   Q20                Q16  Q17        Q18             Q19 Q24_1  \\\n2          NaN  2023                 No   No        NaN         Indiana     1   \n7          NaN  2023                 No   No        NaN              IL     1   \n8          NaN  2023                Yes   No        NaN        Illinois     2   \n15         NaN  2023                 No   No        NaN   Massachusetts     1   \n16         NaN  2023                Yes   No        NaN           Texas     2   \n17         NaN  2023                 No   No        NaN            Ohio     2   \n21         NaN  2023                 No   No        NaN   Massachusetts     2   \n23         NaN  2023                 No   No        NaN              MA     2   \n25         NaN  2023                 No   No        NaN   Massachusetts     0   \n26         NaN  2023                 No   No        NaN      California     3   \n27         NaN  2023                Yes   No        NaN        Michigan     2   \n30         NaN  2023                Yes   No        NaN      New Jersey     2   \n31         NaN  2023                 No  Yes    Romania             NaN     2   \n35         NaN  2023                 No   No        NaN   Massachusetts     1   \n36         NaN  2023                 No   No        NaN      California     2   \n40         NaN  2023                 No   No        NaN      California     3   \n52         NaN  2023                Yes   No        NaN   Massachusetts     1   \n53         NaN  2023                 No  Yes      India             NaN     1   \n54         NaN  2023                Yes   No        NaN      California     1   \n62         NaN  2023                Yes   No        NaN             MA      1   \n64         NaN  2023                 No   No        NaN    Pennsylvania     1   \n71         NaN  2023                 No   No        NaN        Michigan     1   \n76         NaN  2023                 No   No        NaN      California     1   \n77         NaN  2023                 No   No        NaN         Florida     2   \n85         NaN  2023  Prefer not to say   No        NaN         Georgia     2   \n86         NaN  2023                 No   No        NaN  Massachusetts      1   \n87         NaN  2023                 No   No        NaN     Connecticut     4   \n88         NaN  2023  Prefer not to say  Yes   Slovakia             NaN     1   \n89         NaN  2023                 No  Yes  Singapore             NaN     2   \n90         NaN  2023                 No   No        NaN   Massachusetts     3   \n93         NaN  2023                Yes   No        NaN       Kentucky      2   \n94         NaN  2023                 No   No        NaN              FL     1   \n97         NaN  2023                Yes   No        NaN     Puerto Rico   NaN   \n100        NaN  2023                Yes   No        NaN              ga   NaN   \n107        NaN  2023                 No   No        NaN         Indiana     2   \n113        NaN  2023                Yes   No        NaN        Colorado     2   \n114        NaN  2023                 No   No        NaN              NJ     2   \n115        NaN  2023                Yes   No        NaN      california     3   \n118        NaN  2023                Yes   No        NaN        Arkansas     1   \n123        NaN  2023                Yes   No        NaN              PA     1   \n125        NaN  2023                 No   No        NaN        New York     2   \n127        NaN  2023                 No   No        NaN   New Hampshire     0   \n128        NaN  2023                 No   No        NaN      California     2   \n130        NaN  2023                 No   No        NaN   Massachusetts     0   \n137        NaN  2023                Yes   No        NaN        Michigan   NaN   \n146        NaN  2023                 No   No        NaN   Massachusetts     2   \n\n     ...                                     Q6 Q6_10_TEXT Q2_1  \\\n2    ...             Instagram,Snapchat,Twitter        NaN    0   \n7    ...  Facebook Messenger,Instagram,Snapchat        NaN    6   \n8    ...                               LinkedIn        NaN    2   \n15   ...              Instagram,Snapchat,TikTok        NaN    3   \n16   ...             Instagram,Snapchat,Twitter        NaN    7   \n17   ...               Instagram,Twitter,TikTok        NaN    3   \n21   ...              Instagram,Snapchat,TikTok        NaN    4   \n23   ...              Instagram,Snapchat,TikTok        NaN    6   \n25   ...              Instagram,Snapchat,TikTok        NaN    0   \n26   ...              Instagram,Snapchat,TikTok        NaN    3   \n27   ...              Instagram,Snapchat,TikTok        NaN    2   \n30   ...              Instagram,Snapchat,TikTok        NaN    4   \n31   ...                Snapchat,Twitter,TikTok        NaN    2   \n35   ...              Instagram,Snapchat,TikTok        NaN    2   \n36   ...              Instagram,Snapchat,TikTok        NaN    5   \n40   ...              Instagram,Snapchat,TikTok        NaN    4   \n52   ...               Instagram,Twitter,TikTok        NaN    2   \n53   ...              Instagram,Snapchat,TikTok        NaN    1   \n54   ...                              Instagram        NaN    4   \n62   ...              Instagram,Snapchat,TikTok        NaN    5   \n64   ...            Facebook,Instagram,Snapchat        NaN    3   \n71   ...               Instagram,Twitter,TikTok        NaN    2   \n76   ...             Instagram,Snapchat,Twitter        NaN    3   \n77   ...              Instagram,Snapchat,TikTok        NaN    4   \n85   ...              Instagram,Snapchat,TikTok        NaN    4   \n86   ...              Instagram,Snapchat,TikTok        NaN    4   \n87   ...              Instagram,Snapchat,TikTok        NaN    3   \n88   ...              Instagram,Snapchat,TikTok        NaN    3   \n89   ...             Facebook,Instagram,Twitter        NaN    4   \n90   ...              Instagram,Snapchat,TikTok        NaN    1   \n93   ...                Snapchat,Twitter,TikTok        NaN   10   \n94   ...             Instagram,Snapchat,Twitter        NaN    2   \n97   ...             Instagram,Snapchat,Twitter        NaN    1   \n100  ...              Instagram,Snapchat,TikTok        NaN    1   \n107  ...              Instagram,Snapchat,TikTok        NaN    1   \n113  ...              Instagram,Snapchat,TikTok        NaN    4   \n114  ...              Instagram,Snapchat,TikTok        NaN    2   \n115  ...               Instagram,Twitter,TikTok        NaN    5   \n118  ...              Instagram,Snapchat,TikTok        NaN    4   \n123  ...              Instagram,Snapchat,TikTok        NaN    2   \n125  ...             Instagram,Snapchat,GroupMe        NaN    3   \n127  ...             Instagram,Snapchat,Twitter        NaN    2   \n128  ...    Facebook Messenger,Instagram,TikTok        NaN    4   \n130  ...               Instagram,Twitter,TikTok        NaN    4   \n137  ...                                    NaN        NaN  NaN   \n146  ...              Instagram,Snapchat,TikTok        NaN    6   \n\n                       Q3                                                 Q4  \\\n2                   Never        Staying in touch with friends and/or family   \n7    Once every few weeks  Staying in touch with friends and/or family,Fi...   \n8    Once every few weeks                       Finding entertaining content   \n15   Once every few weeks  Staying in touch with friends and/or family,Fi...   \n16   Once every few weeks  Staying in touch with friends and/or family,Fi...   \n17   Once every few weeks  Staying in touch with friends and/or family,Fi...   \n21             Less often  Staying in touch with friends and/or family,St...   \n23             Less often  Staying in touch with friends and/or family,St...   \n25                  Never        Staying in touch with friends and/or family   \n26      About once a week  Staying in touch with friends and/or family,St...   \n27   Once every few weeks  Staying in touch with friends and/or family,Fi...   \n30             Less often  Networking with other people,Sharing photos an...   \n31             Less often  Staying in touch with friends and/or family,St...   \n35             Less often  Staying in touch with friends and/or family,Fi...   \n36   Once every few weeks  Staying in touch with friends and/or family,Fi...   \n40   Once every few weeks  Staying in touch with friends and/or family,St...   \n52             Less often  Staying in touch with friends and/or family,St...   \n53                  Never  Staying in touch with friends and/or family,Fi...   \n54   Once every few weeks  Staying updated on current events,Finding ente...   \n62             Less often  Finding entertaining content,Sharing photos an...   \n64             Less often  Staying in touch with friends and/or family,St...   \n71    Several times a day  Staying in touch with friends and/or family,Fi...   \n76       About once a day  Staying in touch with friends and/or family,St...   \n77   Once every few weeks  Staying in touch with friends and/or family,St...   \n85             Less often  Staying in touch with friends and/or family,St...   \n86      About once a week  Staying in touch with friends and/or family,Fi...   \n87   Once every few weeks  Staying in touch with friends and/or family,Me...   \n88             Less often  Staying in touch with friends and/or family,St...   \n89                  Never  Staying in touch with friends and/or family,Fi...   \n90             Less often  Networking with other people,Finding entertain...   \n93    Several times a day  Finding entertaining content,Sharing opinions,...   \n94             Less often  Staying in touch with friends and/or family,Fi...   \n97                  Never        Staying in touch with friends and/or family   \n100                 Never  Staying in touch with friends and/or family,Sh...   \n107  Once every few weeks  Staying in touch with friends and/or family,St...   \n113            Less often  Staying in touch with friends and/or family,Fi...   \n114  Once every few weeks  Staying in touch with friends and/or family,Fi...   \n115   Several times a day  Staying updated on current events,Sharing opin...   \n118     About once a week  Staying in touch with friends and/or family,Sh...   \n123                 Never  Staying in touch with friends and/or family,St...   \n125      About once a day  Staying updated on current events,Sharing phot...   \n127     About once a week            Meeting other people,Filling spare time   \n128            Less often  Staying in touch with friends and/or family,St...   \n130            Less often  Staying in touch with friends and/or family,Fi...   \n137                   NaN                                                NaN   \n146      About once a day  Staying in touch with friends and/or family,Sh...   \n\n    Q4_10_TEXT Q9_1                                                Q11  \\\n2          NaN   -1              Facebook Messenger,Instagram,Snapchat   \n7          NaN    2                        Facebook,Facebook Messenger   \n8          NaN    9                 LinkedIn,Snapchat,Twitter,WhatsApp   \n15         NaN    1                          Instagram,Snapchat,TikTok   \n16         NaN    3  Facebook,Facebook Messenger,Instagram,LinkedIn...   \n17         NaN    2  Facebook,Facebook Messenger,Instagram,LinkedIn...   \n21         NaN    4                  Instagram,Snapchat,GroupMe,TikTok   \n23         NaN    4                                 Instagram,Snapchat   \n25         NaN   -2      Facebook,Facebook Messenger,Instagram,GroupMe   \n26         NaN    2                        Facebook,Instagram,Snapchat   \n27         NaN    1                 Instagram,Snapchat,Twitter,GroupMe   \n30         NaN   -4                         Instagram,LinkedIn,Twitter   \n31         NaN    1     Facebook,Facebook Messenger,Instagram,WhatsApp   \n35         NaN    1                        Facebook,Instagram,Snapchat   \n36         NaN    2                  Instagram,Snapchat,GroupMe,TikTok   \n40         NaN    8  Facebook,Facebook Messenger,Instagram,LinkedIn...   \n52         NaN    1  Facebook,Facebook Messenger,Instagram,LinkedIn...   \n53         NaN    1  Facebook,Facebook Messenger,Instagram,LinkedIn...   \n54         NaN    2  Facebook,Facebook Messenger,Instagram,Snapchat...   \n62         NaN    2                        Facebook,Instagram,Snapchat   \n64         NaN    2      Facebook,Facebook Messenger,Instagram,GroupMe   \n71         NaN    1  Facebook,Facebook Messenger,Instagram,Snapchat...   \n76         NaN   -2  Facebook,Facebook Messenger,Instagram,LinkedIn...   \n77         NaN    4        Facebook,Instagram,Snapchat,Twitter,GroupMe   \n85         NaN    0  Facebook,Facebook Messenger,Instagram,LinkedIn...   \n86         NaN    2               Facebook,Instagram,LinkedIn,Snapchat   \n87         NaN    2                Facebook,Instagram,Snapchat,GroupMe   \n88         NaN    1  Facebook,Facebook Messenger,Instagram,WhatsApp...   \n89         NaN    2     Facebook,Facebook Messenger,Instagram,WhatsApp   \n90         NaN    2               Facebook,Instagram,LinkedIn,Snapchat   \n93         NaN    4                  Instagram,Snapchat,Twitter,TikTok   \n94         NaN    1                 Instagram,Snapchat,Twitter,GroupMe   \n97         NaN    0  Facebook,Instagram,LinkedIn,Snapchat,Twitter,W...   \n100        NaN    2                                      GroupMe,Other   \n107        NaN    1                Instagram,Snapchat,WhatsApp,GroupMe   \n113        NaN    6  Facebook,Facebook Messenger,Instagram,Snapchat...   \n114        NaN    2  Facebook,Facebook Messenger,Instagram,LinkedIn...   \n115        NaN    5              Facebook,Facebook Messenger,Instagram   \n118        NaN    2  Facebook,Facebook Messenger,Instagram,Snapchat...   \n123        NaN   -5  Facebook,Facebook Messenger,Instagram,LinkedIn...   \n125        NaN    2                                 Instagram,Snapchat   \n127        NaN    4                                              Other   \n128        NaN    2  Facebook,Facebook Messenger,Instagram,Snapchat...   \n130        NaN    2              Facebook,Facebook Messenger,Instagram   \n137        NaN  NaN                                                NaN   \n146        NaN    3  Facebook,Facebook Messenger,Instagram,LinkedIn...   \n\n                                           Q11_10_TEXT  \\\n2                                                  NaN   \n7                                                  NaN   \n8                                                  NaN   \n15                                                 NaN   \n16                                                 NaN   \n17                                                 NaN   \n21                                                 NaN   \n23                                                 NaN   \n25                                                 NaN   \n26                                                 NaN   \n27                                                 NaN   \n30                                                 NaN   \n31                                                 NaN   \n35                                                 NaN   \n36                                                 NaN   \n40                                                 NaN   \n52                                                 NaN   \n53                                                 NaN   \n54                                                 NaN   \n62                                                 NaN   \n64                                                 NaN   \n71                                                 NaN   \n76                                           Pinterest   \n77                                                 NaN   \n85                                                 NaN   \n86                                                 NaN   \n87                                                 NaN   \n88                                                 NaN   \n89                                                 NaN   \n90                                                 NaN   \n93                                                 NaN   \n94                                                 NaN   \n97                                                 NaN   \n100  I don't really use social media, don't even ha...   \n107                                                NaN   \n113                                                NaN   \n114                                                NaN   \n115                                                NaN   \n118                                                NaN   \n123                                            YouTube   \n125                                                NaN   \n127                                               None   \n128                                                NaN   \n130                                                NaN   \n137                                                NaN   \n146                                                NaN   \n\n                                                   Q12  \n2                  Facebook Messenger,Snapchat,GroupMe  \n7                Facebook,Facebook Messenger,Instagram  \n8    Instagram,LinkedIn,Snapchat,Twitter,WhatsApp,G...  \n15          Instagram,LinkedIn,Snapchat,Twitter,TikTok  \n16   Facebook,Facebook Messenger,Instagram,LinkedIn...  \n17   Facebook,Facebook Messenger,Instagram,LinkedIn...  \n21                   Instagram,Snapchat,GroupMe,TikTok  \n23                         Instagram,LinkedIn,Snapchat  \n25                          Facebook Messenger,GroupMe  \n26                           Instagram,Snapchat,TikTok  \n27           Instagram,Snapchat,Twitter,GroupMe,TikTok  \n30               Facebook Messenger,Instagram,LinkedIn  \n31      Facebook,Facebook Messenger,Instagram,WhatsApp  \n35                         Facebook,Instagram,Snapchat  \n36                   Instagram,Snapchat,GroupMe,TikTok  \n40   Facebook,Facebook Messenger,Instagram,LinkedIn...  \n52   Facebook,Facebook Messenger,Instagram,LinkedIn...  \n53   Facebook,Facebook Messenger,Instagram,LinkedIn...  \n54   Facebook,Facebook Messenger,Instagram,Snapchat...  \n62                  Facebook,Instagram,Snapchat,TikTok  \n64   Facebook,Facebook Messenger,Instagram,LinkedIn...  \n71   Facebook,Facebook Messenger,Instagram,Snapchat...  \n76   Facebook,Facebook Messenger,LinkedIn,Snapchat,...  \n77                                     LinkedIn,TikTok  \n85   Facebook,Facebook Messenger,LinkedIn,Snapchat,...  \n86   Facebook,Instagram,LinkedIn,Snapchat,GroupMe,T...  \n87          Instagram,Snapchat,WhatsApp,GroupMe,TikTok  \n88   Facebook,Facebook Messenger,Instagram,WhatsApp...  \n89      Facebook,Facebook Messenger,Instagram,WhatsApp  \n90                Facebook,Instagram,LinkedIn,Snapchat  \n93                   Instagram,Snapchat,Twitter,TikTok  \n94           Instagram,Snapchat,Twitter,GroupMe,TikTok  \n97   Facebook,Instagram,LinkedIn,Snapchat,Twitter,W...  \n100                                              Other  \n107                Instagram,Snapchat,WhatsApp,GroupMe  \n113  Facebook,Facebook Messenger,Instagram,LinkedIn...  \n114  Facebook,Facebook Messenger,Instagram,LinkedIn...  \n115         Facebook,Instagram,Snapchat,Twitter,TikTok  \n118  Facebook,Facebook Messenger,Instagram,Snapchat...  \n123                                              Other  \n125  Facebook,Facebook Messenger,Instagram,LinkedIn...  \n127                                   Snapchat,Twitter  \n128  Facebook,Facebook Messenger,Instagram,Snapchat...  \n130  Facebook,Facebook Messenger,Instagram,LinkedIn...  \n137                                                NaN  \n146  Facebook,Facebook Messenger,Instagram,LinkedIn...  \n\n[46 rows x 24 columns]",
            "text/html": "<div>\n<style scoped>\n    .dataframe tbody tr th:only-of-type {\n        vertical-align: middle;\n    }\n\n    .dataframe tbody tr th {\n        vertical-align: top;\n    }\n\n    .dataframe thead th {\n        text-align: right;\n    }\n</style>\n<table border=\"1\" class=\"dataframe\">\n  <thead>\n    <tr style=\"text-align: right;\">\n      <th></th>\n      <th>Q14</th>\n      <th>Q14_8_TEXT</th>\n      <th>Q15</th>\n      <th>Q15_4_TEXT</th>\n      <th>Q20</th>\n      <th>Q16</th>\n      <th>Q17</th>\n      <th>Q18</th>\n      <th>Q19</th>\n      <th>Q24_1</th>\n      <th>...</th>\n      <th>Q6</th>\n      <th>Q6_10_TEXT</th>\n      <th>Q2_1</th>\n      <th>Q3</th>\n      <th>Q4</th>\n      <th>Q4_10_TEXT</th>\n      <th>Q9_1</th>\n      <th>Q11</th>\n      <th>Q11_10_TEXT</th>\n      <th>Q12</th>\n    </tr>\n  </thead>\n  <tbody>\n    <tr>\n      <th>2</th>\n      <td>Hispanic or Latinx</td>\n      <td>NaN</td>\n      <td>Male</td>\n      <td>NaN</td>\n      <td>2023</td>\n      <td>No</td>\n      <td>No</td>\n      <td>NaN</td>\n      <td>Indiana</td>\n      <td>1</td>\n      <td>...</td>\n      <td>Instagram,Snapchat,Twitter</td>\n      <td>NaN</td>\n      <td>0</td>\n      <td>Never</td>\n      <td>Staying in touch with friends and/or family</td>\n      <td>NaN</td>\n      <td>-1</td>\n      <td>Facebook Messenger,Instagram,Snapchat</td>\n      <td>NaN</td>\n      <td>Facebook Messenger,Snapchat,GroupMe</td>\n    </tr>\n    <tr>\n      <th>7</th>\n      <td>Asian or Asian American</td>\n      <td>NaN</td>\n      <td>Male</td>\n      <td>NaN</td>\n      <td>2023</td>\n      <td>No</td>\n      <td>No</td>\n      <td>NaN</td>\n      <td>IL</td>\n      <td>1</td>\n      <td>...</td>\n      <td>Facebook Messenger,Instagram,Snapchat</td>\n      <td>NaN</td>\n      <td>6</td>\n      <td>Once every few weeks</td>\n      <td>Staying in touch with friends and/or family,Fi...</td>\n      <td>NaN</td>\n      <td>2</td>\n      <td>Facebook,Facebook Messenger</td>\n      <td>NaN</td>\n      <td>Facebook,Facebook Messenger,Instagram</td>\n    </tr>\n    <tr>\n      <th>8</th>\n      <td>Middle Eastern or North African</td>\n      <td>NaN</td>\n      <td>Male</td>\n      <td>NaN</td>\n      <td>2023</td>\n      <td>Yes</td>\n      <td>No</td>\n      <td>NaN</td>\n      <td>Illinois</td>\n      <td>2</td>\n      <td>...</td>\n      <td>LinkedIn</td>\n      <td>NaN</td>\n      <td>2</td>\n      <td>Once every few weeks</td>\n      <td>Finding entertaining content</td>\n      <td>NaN</td>\n      <td>9</td>\n      <td>LinkedIn,Snapchat,Twitter,WhatsApp</td>\n      <td>NaN</td>\n      <td>Instagram,LinkedIn,Snapchat,Twitter,WhatsApp,G...</td>\n    </tr>\n    <tr>\n      <th>15</th>\n      <td>White</td>\n      <td>NaN</td>\n      <td>Male</td>\n      <td>NaN</td>\n      <td>2023</td>\n      <td>No</td>\n      <td>No</td>\n      <td>NaN</td>\n      <td>Massachusetts</td>\n      <td>1</td>\n      <td>...</td>\n      <td>Instagram,Snapchat,TikTok</td>\n      <td>NaN</td>\n      <td>3</td>\n      <td>Once every few weeks</td>\n      <td>Staying in touch with friends and/or family,Fi...</td>\n      <td>NaN</td>\n      <td>1</td>\n      <td>Instagram,Snapchat,TikTok</td>\n      <td>NaN</td>\n      <td>Instagram,LinkedIn,Snapchat,Twitter,TikTok</td>\n    </tr>\n    <tr>\n      <th>16</th>\n      <td>Black or African American</td>\n      <td>NaN</td>\n      <td>Female</td>\n      <td>NaN</td>\n      <td>2023</td>\n      <td>Yes</td>\n      <td>No</td>\n      <td>NaN</td>\n      <td>Texas</td>\n      <td>2</td>\n      <td>...</td>\n      <td>Instagram,Snapchat,Twitter</td>\n      <td>NaN</td>\n      <td>7</td>\n      <td>Once every few weeks</td>\n      <td>Staying in touch with friends and/or family,Fi...</td>\n      <td>NaN</td>\n      <td>3</td>\n      <td>Facebook,Facebook Messenger,Instagram,LinkedIn...</td>\n      <td>NaN</td>\n      <td>Facebook,Facebook Messenger,Instagram,LinkedIn...</td>\n    </tr>\n    <tr>\n      <th>17</th>\n      <td>Asian or Asian American</td>\n      <td>NaN</td>\n      <td>Female</td>\n      <td>NaN</td>\n      <td>2023</td>\n      <td>No</td>\n      <td>No</td>\n      <td>NaN</td>\n      <td>Ohio</td>\n      <td>2</td>\n      <td>...</td>\n      <td>Instagram,Twitter,TikTok</td>\n      <td>NaN</td>\n      <td>3</td>\n      <td>Once every few weeks</td>\n      <td>Staying in touch with friends and/or family,Fi...</td>\n      <td>NaN</td>\n      <td>2</td>\n      <td>Facebook,Facebook Messenger,Instagram,LinkedIn...</td>\n      <td>NaN</td>\n      <td>Facebook,Facebook Messenger,Instagram,LinkedIn...</td>\n    </tr>\n    <tr>\n      <th>21</th>\n      <td>Other</td>\n      <td>Mixed</td>\n      <td>Female</td>\n      <td>NaN</td>\n      <td>2023</td>\n      <td>No</td>\n      <td>No</td>\n      <td>NaN</td>\n      <td>Massachusetts</td>\n      <td>2</td>\n      <td>...</td>\n      <td>Instagram,Snapchat,TikTok</td>\n      <td>NaN</td>\n      <td>4</td>\n      <td>Less often</td>\n      <td>Staying in touch with friends and/or family,St...</td>\n      <td>NaN</td>\n      <td>4</td>\n      <td>Instagram,Snapchat,GroupMe,TikTok</td>\n      <td>NaN</td>\n      <td>Instagram,Snapchat,GroupMe,TikTok</td>\n    </tr>\n    <tr>\n      <th>23</th>\n      <td>White</td>\n      <td>NaN</td>\n      <td>Male</td>\n      <td>NaN</td>\n      <td>2023</td>\n      <td>No</td>\n      <td>No</td>\n      <td>NaN</td>\n      <td>MA</td>\n      <td>2</td>\n      <td>...</td>\n      <td>Instagram,Snapchat,TikTok</td>\n      <td>NaN</td>\n      <td>6</td>\n      <td>Less often</td>\n      <td>Staying in touch with friends and/or family,St...</td>\n      <td>NaN</td>\n      <td>4</td>\n      <td>Instagram,Snapchat</td>\n      <td>NaN</td>\n      <td>Instagram,LinkedIn,Snapchat</td>\n    </tr>\n    <tr>\n      <th>25</th>\n      <td>White</td>\n      <td>NaN</td>\n      <td>Male</td>\n      <td>NaN</td>\n      <td>2023</td>\n      <td>No</td>\n      <td>No</td>\n      <td>NaN</td>\n      <td>Massachusetts</td>\n      <td>0</td>\n      <td>...</td>\n      <td>Instagram,Snapchat,TikTok</td>\n      <td>NaN</td>\n      <td>0</td>\n      <td>Never</td>\n      <td>Staying in touch with friends and/or family</td>\n      <td>NaN</td>\n      <td>-2</td>\n      <td>Facebook,Facebook Messenger,Instagram,GroupMe</td>\n      <td>NaN</td>\n      <td>Facebook Messenger,GroupMe</td>\n    </tr>\n    <tr>\n      <th>26</th>\n      <td>White</td>\n      <td>NaN</td>\n      <td>Female</td>\n      <td>NaN</td>\n      <td>2023</td>\n      <td>No</td>\n      <td>No</td>\n      <td>NaN</td>\n      <td>California</td>\n      <td>3</td>\n      <td>...</td>\n      <td>Instagram,Snapchat,TikTok</td>\n      <td>NaN</td>\n      <td>3</td>\n      <td>About once a week</td>\n      <td>Staying in touch with friends and/or family,St...</td>\n      <td>NaN</td>\n      <td>2</td>\n      <td>Facebook,Instagram,Snapchat</td>\n      <td>NaN</td>\n      <td>Instagram,Snapchat,TikTok</td>\n    </tr>\n    <tr>\n      <th>27</th>\n      <td>White</td>\n      <td>NaN</td>\n      <td>Female</td>\n      <td>NaN</td>\n      <td>2023</td>\n      <td>Yes</td>\n      <td>No</td>\n      <td>NaN</td>\n      <td>Michigan</td>\n      <td>2</td>\n      <td>...</td>\n      <td>Instagram,Snapchat,TikTok</td>\n      <td>NaN</td>\n      <td>2</td>\n      <td>Once every few weeks</td>\n      <td>Staying in touch with friends and/or family,Fi...</td>\n      <td>NaN</td>\n      <td>1</td>\n      <td>Instagram,Snapchat,Twitter,GroupMe</td>\n      <td>NaN</td>\n      <td>Instagram,Snapchat,Twitter,GroupMe,TikTok</td>\n    </tr>\n    <tr>\n      <th>30</th>\n      <td>Asian or Asian American</td>\n      <td>NaN</td>\n      <td>Male</td>\n      <td>NaN</td>\n      <td>2023</td>\n      <td>Yes</td>\n      <td>No</td>\n      <td>NaN</td>\n      <td>New Jersey</td>\n      <td>2</td>\n      <td>...</td>\n      <td>Instagram,Snapchat,TikTok</td>\n      <td>NaN</td>\n      <td>4</td>\n      <td>Less often</td>\n      <td>Networking with other people,Sharing photos an...</td>\n      <td>NaN</td>\n      <td>-4</td>\n      <td>Instagram,LinkedIn,Twitter</td>\n      <td>NaN</td>\n      <td>Facebook Messenger,Instagram,LinkedIn</td>\n    </tr>\n    <tr>\n      <th>31</th>\n      <td>White</td>\n      <td>NaN</td>\n      <td>Female</td>\n      <td>NaN</td>\n      <td>2023</td>\n      <td>No</td>\n      <td>Yes</td>\n      <td>Romania</td>\n      <td>NaN</td>\n      <td>2</td>\n      <td>...</td>\n      <td>Snapchat,Twitter,TikTok</td>\n      <td>NaN</td>\n      <td>2</td>\n      <td>Less often</td>\n      <td>Staying in touch with friends and/or family,St...</td>\n      <td>NaN</td>\n      <td>1</td>\n      <td>Facebook,Facebook Messenger,Instagram,WhatsApp</td>\n      <td>NaN</td>\n      <td>Facebook,Facebook Messenger,Instagram,WhatsApp</td>\n    </tr>\n    <tr>\n      <th>35</th>\n      <td>Hispanic or Latinx</td>\n      <td>NaN</td>\n      <td>Female</td>\n      <td>NaN</td>\n      <td>2023</td>\n      <td>No</td>\n      <td>No</td>\n      <td>NaN</td>\n      <td>Massachusetts</td>\n      <td>1</td>\n      <td>...</td>\n      <td>Instagram,Snapchat,TikTok</td>\n      <td>NaN</td>\n      <td>2</td>\n      <td>Less often</td>\n      <td>Staying in touch with friends and/or family,Fi...</td>\n      <td>NaN</td>\n      <td>1</td>\n      <td>Facebook,Instagram,Snapchat</td>\n      <td>NaN</td>\n      <td>Facebook,Instagram,Snapchat</td>\n    </tr>\n    <tr>\n      <th>36</th>\n      <td>White</td>\n      <td>NaN</td>\n      <td>Female</td>\n      <td>NaN</td>\n      <td>2023</td>\n      <td>No</td>\n      <td>No</td>\n      <td>NaN</td>\n      <td>California</td>\n      <td>2</td>\n      <td>...</td>\n      <td>Instagram,Snapchat,TikTok</td>\n      <td>NaN</td>\n      <td>5</td>\n      <td>Once every few weeks</td>\n      <td>Staying in touch with friends and/or family,Fi...</td>\n      <td>NaN</td>\n      <td>2</td>\n      <td>Instagram,Snapchat,GroupMe,TikTok</td>\n      <td>NaN</td>\n      <td>Instagram,Snapchat,GroupMe,TikTok</td>\n    </tr>\n    <tr>\n      <th>40</th>\n      <td>Asian or Asian American</td>\n      <td>NaN</td>\n      <td>Female</td>\n      <td>NaN</td>\n      <td>2023</td>\n      <td>No</td>\n      <td>No</td>\n      <td>NaN</td>\n      <td>California</td>\n      <td>3</td>\n      <td>...</td>\n      <td>Instagram,Snapchat,TikTok</td>\n      <td>NaN</td>\n      <td>4</td>\n      <td>Once every few weeks</td>\n      <td>Staying in touch with friends and/or family,St...</td>\n      <td>NaN</td>\n      <td>8</td>\n      <td>Facebook,Facebook Messenger,Instagram,LinkedIn...</td>\n      <td>NaN</td>\n      <td>Facebook,Facebook Messenger,Instagram,LinkedIn...</td>\n    </tr>\n    <tr>\n      <th>52</th>\n      <td>Middle Eastern or North African</td>\n      <td>NaN</td>\n      <td>Female</td>\n      <td>NaN</td>\n      <td>2023</td>\n      <td>Yes</td>\n      <td>No</td>\n      <td>NaN</td>\n      <td>Massachusetts</td>\n      <td>1</td>\n      <td>...</td>\n      <td>Instagram,Twitter,TikTok</td>\n      <td>NaN</td>\n      <td>2</td>\n      <td>Less often</td>\n      <td>Staying in touch with friends and/or family,St...</td>\n      <td>NaN</td>\n      <td>1</td>\n      <td>Facebook,Facebook Messenger,Instagram,LinkedIn...</td>\n      <td>NaN</td>\n      <td>Facebook,Facebook Messenger,Instagram,LinkedIn...</td>\n    </tr>\n    <tr>\n      <th>53</th>\n      <td>Asian or Asian American</td>\n      <td>NaN</td>\n      <td>Male</td>\n      <td>NaN</td>\n      <td>2023</td>\n      <td>No</td>\n      <td>Yes</td>\n      <td>India</td>\n      <td>NaN</td>\n      <td>1</td>\n      <td>...</td>\n      <td>Instagram,Snapchat,TikTok</td>\n      <td>NaN</td>\n      <td>1</td>\n      <td>Never</td>\n      <td>Staying in touch with friends and/or family,Fi...</td>\n      <td>NaN</td>\n      <td>1</td>\n      <td>Facebook,Facebook Messenger,Instagram,LinkedIn...</td>\n      <td>NaN</td>\n      <td>Facebook,Facebook Messenger,Instagram,LinkedIn...</td>\n    </tr>\n    <tr>\n      <th>54</th>\n      <td>Hispanic or Latinx</td>\n      <td>NaN</td>\n      <td>Male</td>\n      <td>NaN</td>\n      <td>2023</td>\n      <td>Yes</td>\n      <td>No</td>\n      <td>NaN</td>\n      <td>California</td>\n      <td>1</td>\n      <td>...</td>\n      <td>Instagram</td>\n      <td>NaN</td>\n      <td>4</td>\n      <td>Once every few weeks</td>\n      <td>Staying updated on current events,Finding ente...</td>\n      <td>NaN</td>\n      <td>2</td>\n      <td>Facebook,Facebook Messenger,Instagram,Snapchat...</td>\n      <td>NaN</td>\n      <td>Facebook,Facebook Messenger,Instagram,Snapchat...</td>\n    </tr>\n    <tr>\n      <th>62</th>\n      <td>Hispanic or Latinx</td>\n      <td>NaN</td>\n      <td>Female</td>\n      <td>NaN</td>\n      <td>2023</td>\n      <td>Yes</td>\n      <td>No</td>\n      <td>NaN</td>\n      <td>MA</td>\n      <td>1</td>\n      <td>...</td>\n      <td>Instagram,Snapchat,TikTok</td>\n      <td>NaN</td>\n      <td>5</td>\n      <td>Less often</td>\n      <td>Finding entertaining content,Sharing photos an...</td>\n      <td>NaN</td>\n      <td>2</td>\n      <td>Facebook,Instagram,Snapchat</td>\n      <td>NaN</td>\n      <td>Facebook,Instagram,Snapchat,TikTok</td>\n    </tr>\n    <tr>\n      <th>64</th>\n      <td>White</td>\n      <td>NaN</td>\n      <td>Female</td>\n      <td>NaN</td>\n      <td>2023</td>\n      <td>No</td>\n      <td>No</td>\n      <td>NaN</td>\n      <td>Pennsylvania</td>\n      <td>1</td>\n      <td>...</td>\n      <td>Facebook,Instagram,Snapchat</td>\n      <td>NaN</td>\n      <td>3</td>\n      <td>Less often</td>\n      <td>Staying in touch with friends and/or family,St...</td>\n      <td>NaN</td>\n      <td>2</td>\n      <td>Facebook,Facebook Messenger,Instagram,GroupMe</td>\n      <td>NaN</td>\n      <td>Facebook,Facebook Messenger,Instagram,LinkedIn...</td>\n    </tr>\n    <tr>\n      <th>71</th>\n      <td>Hispanic or Latinx</td>\n      <td>NaN</td>\n      <td>Female</td>\n      <td>NaN</td>\n      <td>2023</td>\n      <td>No</td>\n      <td>No</td>\n      <td>NaN</td>\n      <td>Michigan</td>\n      <td>1</td>\n      <td>...</td>\n      <td>Instagram,Twitter,TikTok</td>\n      <td>NaN</td>\n      <td>2</td>\n      <td>Several times a day</td>\n      <td>Staying in touch with friends and/or family,Fi...</td>\n      <td>NaN</td>\n      <td>1</td>\n      <td>Facebook,Facebook Messenger,Instagram,Snapchat...</td>\n      <td>NaN</td>\n      <td>Facebook,Facebook Messenger,Instagram,Snapchat...</td>\n    </tr>\n    <tr>\n      <th>76</th>\n      <td>Hispanic or Latinx</td>\n      <td>NaN</td>\n      <td>Female</td>\n      <td>NaN</td>\n      <td>2023</td>\n      <td>No</td>\n      <td>No</td>\n      <td>NaN</td>\n      <td>California</td>\n      <td>1</td>\n      <td>...</td>\n      <td>Instagram,Snapchat,Twitter</td>\n      <td>NaN</td>\n      <td>3</td>\n      <td>About once a day</td>\n      <td>Staying in touch with friends and/or family,St...</td>\n      <td>NaN</td>\n      <td>-2</td>\n      <td>Facebook,Facebook Messenger,Instagram,LinkedIn...</td>\n      <td>Pinterest</td>\n      <td>Facebook,Facebook Messenger,LinkedIn,Snapchat,...</td>\n    </tr>\n    <tr>\n      <th>77</th>\n      <td>Asian or Asian American</td>\n      <td>NaN</td>\n      <td>Female</td>\n      <td>NaN</td>\n      <td>2023</td>\n      <td>No</td>\n      <td>No</td>\n      <td>NaN</td>\n      <td>Florida</td>\n      <td>2</td>\n      <td>...</td>\n      <td>Instagram,Snapchat,TikTok</td>\n      <td>NaN</td>\n      <td>4</td>\n      <td>Once every few weeks</td>\n      <td>Staying in touch with friends and/or family,St...</td>\n      <td>NaN</td>\n      <td>4</td>\n      <td>Facebook,Instagram,Snapchat,Twitter,GroupMe</td>\n      <td>NaN</td>\n      <td>LinkedIn,TikTok</td>\n    </tr>\n    <tr>\n      <th>85</th>\n      <td>Asian or Asian American</td>\n      <td>NaN</td>\n      <td>Female</td>\n      <td>NaN</td>\n      <td>2023</td>\n      <td>Prefer not to say</td>\n      <td>No</td>\n      <td>NaN</td>\n      <td>Georgia</td>\n      <td>2</td>\n      <td>...</td>\n      <td>Instagram,Snapchat,TikTok</td>\n      <td>NaN</td>\n      <td>4</td>\n      <td>Less often</td>\n      <td>Staying in touch with friends and/or family,St...</td>\n      <td>NaN</td>\n      <td>0</td>\n      <td>Facebook,Facebook Messenger,Instagram,LinkedIn...</td>\n      <td>NaN</td>\n      <td>Facebook,Facebook Messenger,LinkedIn,Snapchat,...</td>\n    </tr>\n    <tr>\n      <th>86</th>\n      <td>White</td>\n      <td>NaN</td>\n      <td>Female</td>\n      <td>NaN</td>\n      <td>2023</td>\n      <td>No</td>\n      <td>No</td>\n      <td>NaN</td>\n      <td>Massachusetts</td>\n      <td>1</td>\n      <td>...</td>\n      <td>Instagram,Snapchat,TikTok</td>\n      <td>NaN</td>\n      <td>4</td>\n      <td>About once a week</td>\n      <td>Staying in touch with friends and/or family,Fi...</td>\n      <td>NaN</td>\n      <td>2</td>\n      <td>Facebook,Instagram,LinkedIn,Snapchat</td>\n      <td>NaN</td>\n      <td>Facebook,Instagram,LinkedIn,Snapchat,GroupMe,T...</td>\n    </tr>\n    <tr>\n      <th>87</th>\n      <td>Other</td>\n      <td>Asian and Middle Eastern</td>\n      <td>Female</td>\n      <td>NaN</td>\n      <td>2023</td>\n      <td>No</td>\n      <td>No</td>\n      <td>NaN</td>\n      <td>Connecticut</td>\n      <td>4</td>\n      <td>...</td>\n      <td>Instagram,Snapchat,TikTok</td>\n      <td>NaN</td>\n      <td>3</td>\n      <td>Once every few weeks</td>\n      <td>Staying in touch with friends and/or family,Me...</td>\n      <td>NaN</td>\n      <td>2</td>\n      <td>Facebook,Instagram,Snapchat,GroupMe</td>\n      <td>NaN</td>\n      <td>Instagram,Snapchat,WhatsApp,GroupMe,TikTok</td>\n    </tr>\n    <tr>\n      <th>88</th>\n      <td>White</td>\n      <td>NaN</td>\n      <td>Male</td>\n      <td>NaN</td>\n      <td>2023</td>\n      <td>Prefer not to say</td>\n      <td>Yes</td>\n      <td>Slovakia</td>\n      <td>NaN</td>\n      <td>1</td>\n      <td>...</td>\n      <td>Instagram,Snapchat,TikTok</td>\n      <td>NaN</td>\n      <td>3</td>\n      <td>Less often</td>\n      <td>Staying in touch with friends and/or family,St...</td>\n      <td>NaN</td>\n      <td>1</td>\n      <td>Facebook,Facebook Messenger,Instagram,WhatsApp...</td>\n      <td>NaN</td>\n      <td>Facebook,Facebook Messenger,Instagram,WhatsApp...</td>\n    </tr>\n    <tr>\n      <th>89</th>\n      <td>Asian or Asian American</td>\n      <td>NaN</td>\n      <td>Male</td>\n      <td>NaN</td>\n      <td>2023</td>\n      <td>No</td>\n      <td>Yes</td>\n      <td>Singapore</td>\n      <td>NaN</td>\n      <td>2</td>\n      <td>...</td>\n      <td>Facebook,Instagram,Twitter</td>\n      <td>NaN</td>\n      <td>4</td>\n      <td>Never</td>\n      <td>Staying in touch with friends and/or family,Fi...</td>\n      <td>NaN</td>\n      <td>2</td>\n      <td>Facebook,Facebook Messenger,Instagram,WhatsApp</td>\n      <td>NaN</td>\n      <td>Facebook,Facebook Messenger,Instagram,WhatsApp</td>\n    </tr>\n    <tr>\n      <th>90</th>\n      <td>White</td>\n      <td>NaN</td>\n      <td>Male</td>\n      <td>NaN</td>\n      <td>2023</td>\n      <td>No</td>\n      <td>No</td>\n      <td>NaN</td>\n      <td>Massachusetts</td>\n      <td>3</td>\n      <td>...</td>\n      <td>Instagram,Snapchat,TikTok</td>\n      <td>NaN</td>\n      <td>1</td>\n      <td>Less often</td>\n      <td>Networking with other people,Finding entertain...</td>\n      <td>NaN</td>\n      <td>2</td>\n      <td>Facebook,Instagram,LinkedIn,Snapchat</td>\n      <td>NaN</td>\n      <td>Facebook,Instagram,LinkedIn,Snapchat</td>\n    </tr>\n    <tr>\n      <th>93</th>\n      <td>Black or African American</td>\n      <td>NaN</td>\n      <td>Female</td>\n      <td>NaN</td>\n      <td>2023</td>\n      <td>Yes</td>\n      <td>No</td>\n      <td>NaN</td>\n      <td>Kentucky</td>\n      <td>2</td>\n      <td>...</td>\n      <td>Snapchat,Twitter,TikTok</td>\n      <td>NaN</td>\n      <td>10</td>\n      <td>Several times a day</td>\n      <td>Finding entertaining content,Sharing opinions,...</td>\n      <td>NaN</td>\n      <td>4</td>\n      <td>Instagram,Snapchat,Twitter,TikTok</td>\n      <td>NaN</td>\n      <td>Instagram,Snapchat,Twitter,TikTok</td>\n    </tr>\n    <tr>\n      <th>94</th>\n      <td>Black or African American</td>\n      <td>NaN</td>\n      <td>Female</td>\n      <td>NaN</td>\n      <td>2023</td>\n      <td>No</td>\n      <td>No</td>\n      <td>NaN</td>\n      <td>FL</td>\n      <td>1</td>\n      <td>...</td>\n      <td>Instagram,Snapchat,Twitter</td>\n      <td>NaN</td>\n      <td>2</td>\n      <td>Less often</td>\n      <td>Staying in touch with friends and/or family,Fi...</td>\n      <td>NaN</td>\n      <td>1</td>\n      <td>Instagram,Snapchat,Twitter,GroupMe</td>\n      <td>NaN</td>\n      <td>Instagram,Snapchat,Twitter,GroupMe,TikTok</td>\n    </tr>\n    <tr>\n      <th>97</th>\n      <td>Hispanic or Latinx</td>\n      <td>NaN</td>\n      <td>Male</td>\n      <td>NaN</td>\n      <td>2023</td>\n      <td>Yes</td>\n      <td>No</td>\n      <td>NaN</td>\n      <td>Puerto Rico</td>\n      <td>NaN</td>\n      <td>...</td>\n      <td>Instagram,Snapchat,Twitter</td>\n      <td>NaN</td>\n      <td>1</td>\n      <td>Never</td>\n      <td>Staying in touch with friends and/or family</td>\n      <td>NaN</td>\n      <td>0</td>\n      <td>Facebook,Instagram,LinkedIn,Snapchat,Twitter,W...</td>\n      <td>NaN</td>\n      <td>Facebook,Instagram,LinkedIn,Snapchat,Twitter,W...</td>\n    </tr>\n    <tr>\n      <th>100</th>\n      <td>Other</td>\n      <td>NaN</td>\n      <td>Female</td>\n      <td>NaN</td>\n      <td>2023</td>\n      <td>Yes</td>\n      <td>No</td>\n      <td>NaN</td>\n      <td>ga</td>\n      <td>NaN</td>\n      <td>...</td>\n      <td>Instagram,Snapchat,TikTok</td>\n      <td>NaN</td>\n      <td>1</td>\n      <td>Never</td>\n      <td>Staying in touch with friends and/or family,Sh...</td>\n      <td>NaN</td>\n      <td>2</td>\n      <td>GroupMe,Other</td>\n      <td>I don't really use social media, don't even ha...</td>\n      <td>Other</td>\n    </tr>\n    <tr>\n      <th>107</th>\n      <td>Hispanic or Latinx</td>\n      <td>NaN</td>\n      <td>Male</td>\n      <td>NaN</td>\n      <td>2023</td>\n      <td>No</td>\n      <td>No</td>\n      <td>NaN</td>\n      <td>Indiana</td>\n      <td>2</td>\n      <td>...</td>\n      <td>Instagram,Snapchat,TikTok</td>\n      <td>NaN</td>\n      <td>1</td>\n      <td>Once every few weeks</td>\n      <td>Staying in touch with friends and/or family,St...</td>\n      <td>NaN</td>\n      <td>1</td>\n      <td>Instagram,Snapchat,WhatsApp,GroupMe</td>\n      <td>NaN</td>\n      <td>Instagram,Snapchat,WhatsApp,GroupMe</td>\n    </tr>\n    <tr>\n      <th>113</th>\n      <td>White</td>\n      <td>NaN</td>\n      <td>Male</td>\n      <td>NaN</td>\n      <td>2023</td>\n      <td>Yes</td>\n      <td>No</td>\n      <td>NaN</td>\n      <td>Colorado</td>\n      <td>2</td>\n      <td>...</td>\n      <td>Instagram,Snapchat,TikTok</td>\n      <td>NaN</td>\n      <td>4</td>\n      <td>Less often</td>\n      <td>Staying in touch with friends and/or family,Fi...</td>\n      <td>NaN</td>\n      <td>6</td>\n      <td>Facebook,Facebook Messenger,Instagram,Snapchat...</td>\n      <td>NaN</td>\n      <td>Facebook,Facebook Messenger,Instagram,LinkedIn...</td>\n    </tr>\n    <tr>\n      <th>114</th>\n      <td>Asian or Asian American</td>\n      <td>NaN</td>\n      <td>Female</td>\n      <td>NaN</td>\n      <td>2023</td>\n      <td>No</td>\n      <td>No</td>\n      <td>NaN</td>\n      <td>NJ</td>\n      <td>2</td>\n      <td>...</td>\n      <td>Instagram,Snapchat,TikTok</td>\n      <td>NaN</td>\n      <td>2</td>\n      <td>Once every few weeks</td>\n      <td>Staying in touch with friends and/or family,Fi...</td>\n      <td>NaN</td>\n      <td>2</td>\n      <td>Facebook,Facebook Messenger,Instagram,LinkedIn...</td>\n      <td>NaN</td>\n      <td>Facebook,Facebook Messenger,Instagram,LinkedIn...</td>\n    </tr>\n    <tr>\n      <th>115</th>\n      <td>Hispanic or Latinx</td>\n      <td>NaN</td>\n      <td>Non-Binary</td>\n      <td>NaN</td>\n      <td>2023</td>\n      <td>Yes</td>\n      <td>No</td>\n      <td>NaN</td>\n      <td>california</td>\n      <td>3</td>\n      <td>...</td>\n      <td>Instagram,Twitter,TikTok</td>\n      <td>NaN</td>\n      <td>5</td>\n      <td>Several times a day</td>\n      <td>Staying updated on current events,Sharing opin...</td>\n      <td>NaN</td>\n      <td>5</td>\n      <td>Facebook,Facebook Messenger,Instagram</td>\n      <td>NaN</td>\n      <td>Facebook,Instagram,Snapchat,Twitter,TikTok</td>\n    </tr>\n    <tr>\n      <th>118</th>\n      <td>White</td>\n      <td>NaN</td>\n      <td>Female</td>\n      <td>NaN</td>\n      <td>2023</td>\n      <td>Yes</td>\n      <td>No</td>\n      <td>NaN</td>\n      <td>Arkansas</td>\n      <td>1</td>\n      <td>...</td>\n      <td>Instagram,Snapchat,TikTok</td>\n      <td>NaN</td>\n      <td>4</td>\n      <td>About once a week</td>\n      <td>Staying in touch with friends and/or family,Sh...</td>\n      <td>NaN</td>\n      <td>2</td>\n      <td>Facebook,Facebook Messenger,Instagram,Snapchat...</td>\n      <td>NaN</td>\n      <td>Facebook,Facebook Messenger,Instagram,Snapchat...</td>\n    </tr>\n    <tr>\n      <th>123</th>\n      <td>White</td>\n      <td>NaN</td>\n      <td>Female</td>\n      <td>NaN</td>\n      <td>2023</td>\n      <td>Yes</td>\n      <td>No</td>\n      <td>NaN</td>\n      <td>PA</td>\n      <td>1</td>\n      <td>...</td>\n      <td>Instagram,Snapchat,TikTok</td>\n      <td>NaN</td>\n      <td>2</td>\n      <td>Never</td>\n      <td>Staying in touch with friends and/or family,St...</td>\n      <td>NaN</td>\n      <td>-5</td>\n      <td>Facebook,Facebook Messenger,Instagram,LinkedIn...</td>\n      <td>YouTube</td>\n      <td>Other</td>\n    </tr>\n    <tr>\n      <th>125</th>\n      <td>Asian or Asian American</td>\n      <td>NaN</td>\n      <td>Male</td>\n      <td>NaN</td>\n      <td>2023</td>\n      <td>No</td>\n      <td>No</td>\n      <td>NaN</td>\n      <td>New York</td>\n      <td>2</td>\n      <td>...</td>\n      <td>Instagram,Snapchat,GroupMe</td>\n      <td>NaN</td>\n      <td>3</td>\n      <td>About once a day</td>\n      <td>Staying updated on current events,Sharing phot...</td>\n      <td>NaN</td>\n      <td>2</td>\n      <td>Instagram,Snapchat</td>\n      <td>NaN</td>\n      <td>Facebook,Facebook Messenger,Instagram,LinkedIn...</td>\n    </tr>\n    <tr>\n      <th>127</th>\n      <td>Asian or Asian American</td>\n      <td>NaN</td>\n      <td>Female</td>\n      <td>NaN</td>\n      <td>2023</td>\n      <td>No</td>\n      <td>No</td>\n      <td>NaN</td>\n      <td>New Hampshire</td>\n      <td>0</td>\n      <td>...</td>\n      <td>Instagram,Snapchat,Twitter</td>\n      <td>NaN</td>\n      <td>2</td>\n      <td>About once a week</td>\n      <td>Meeting other people,Filling spare time</td>\n      <td>NaN</td>\n      <td>4</td>\n      <td>Other</td>\n      <td>None</td>\n      <td>Snapchat,Twitter</td>\n    </tr>\n    <tr>\n      <th>128</th>\n      <td>Asian or Asian American</td>\n      <td>NaN</td>\n      <td>Female</td>\n      <td>NaN</td>\n      <td>2023</td>\n      <td>No</td>\n      <td>No</td>\n      <td>NaN</td>\n      <td>California</td>\n      <td>2</td>\n      <td>...</td>\n      <td>Facebook Messenger,Instagram,TikTok</td>\n      <td>NaN</td>\n      <td>4</td>\n      <td>Less often</td>\n      <td>Staying in touch with friends and/or family,St...</td>\n      <td>NaN</td>\n      <td>2</td>\n      <td>Facebook,Facebook Messenger,Instagram,Snapchat...</td>\n      <td>NaN</td>\n      <td>Facebook,Facebook Messenger,Instagram,Snapchat...</td>\n    </tr>\n    <tr>\n      <th>130</th>\n      <td>Asian or Asian American</td>\n      <td>NaN</td>\n      <td>Male</td>\n      <td>NaN</td>\n      <td>2023</td>\n      <td>No</td>\n      <td>No</td>\n      <td>NaN</td>\n      <td>Massachusetts</td>\n      <td>0</td>\n      <td>...</td>\n      <td>Instagram,Twitter,TikTok</td>\n      <td>NaN</td>\n      <td>4</td>\n      <td>Less often</td>\n      <td>Staying in touch with friends and/or family,Fi...</td>\n      <td>NaN</td>\n      <td>2</td>\n      <td>Facebook,Facebook Messenger,Instagram</td>\n      <td>NaN</td>\n      <td>Facebook,Facebook Messenger,Instagram,LinkedIn...</td>\n    </tr>\n    <tr>\n      <th>137</th>\n      <td>White</td>\n      <td>NaN</td>\n      <td>Male</td>\n      <td>NaN</td>\n      <td>2023</td>\n      <td>Yes</td>\n      <td>No</td>\n      <td>NaN</td>\n      <td>Michigan</td>\n      <td>NaN</td>\n      <td>...</td>\n      <td>NaN</td>\n      <td>NaN</td>\n      <td>NaN</td>\n      <td>NaN</td>\n      <td>NaN</td>\n      <td>NaN</td>\n      <td>NaN</td>\n      <td>NaN</td>\n      <td>NaN</td>\n      <td>NaN</td>\n    </tr>\n    <tr>\n      <th>146</th>\n      <td>Asian or Asian American</td>\n      <td>NaN</td>\n      <td>Female</td>\n      <td>NaN</td>\n      <td>2023</td>\n      <td>No</td>\n      <td>No</td>\n      <td>NaN</td>\n      <td>Massachusetts</td>\n      <td>2</td>\n      <td>...</td>\n      <td>Instagram,Snapchat,TikTok</td>\n      <td>NaN</td>\n      <td>6</td>\n      <td>About once a day</td>\n      <td>Staying in touch with friends and/or family,Sh...</td>\n      <td>NaN</td>\n      <td>3</td>\n      <td>Facebook,Facebook Messenger,Instagram,LinkedIn...</td>\n      <td>NaN</td>\n      <td>Facebook,Facebook Messenger,Instagram,LinkedIn...</td>\n    </tr>\n  </tbody>\n</table>\n<p>46 rows × 24 columns</p>\n</div>"
          },
          "metadata": {},
          "output_type": "display_data"
        }
      ]
    },
    {
      "cell_type": "markdown",
      "source": "### FRESHMEN DATAFRAME : frosh_data",
      "metadata": {
        "tags": [],
        "cell_id": "00007-97dfa174-ad46-4ee0-9d83-1edb36db11bb",
        "deepnote_cell_type": "text-cell-h3"
      }
    },
    {
      "cell_type": "code",
      "metadata": {
        "tags": [],
        "cell_id": "00011-4c612b92-2f05-4206-8524-10b9af6f9c31",
        "deepnote_to_be_reexecuted": false,
        "source_hash": "491ddc87",
        "execution_millis": 125,
        "execution_start": 1617582034888,
        "deepnote_cell_type": "code"
      },
      "source": "# DATAFRAME WITH RESPONSES FROM CLASS OF 2024\n\nfrosh = pd.read_csv(\"SMS43.csv\")\nfrosh_data = frosh.drop(frosh.index[1])\nfrosh_data = frosh_data.iloc[:, 17:41]\n\n# Get names of indexes for which the class columns is not 2021\nindex_names = frosh_data[frosh_data['Q20'] != '2024'].index\n\nfrosh_data.drop(index_names, inplace = True)\ndisplay(frosh_data)",
      "execution_count": 6,
      "outputs": [
        {
          "data": {
            "application/vnd.deepnote.dataframe.v2+json": {
              "row_count": 46,
              "column_count": 24,
              "columns": [
                {
                  "name": "Q14",
                  "dtype": "object",
                  "stats": {
                    "unique_count": 8,
                    "nan_count": 0,
                    "categories": [
                      {
                        "name": "White",
                        "count": 15
                      },
                      {
                        "name": "Asian or Asian American",
                        "count": 14
                      },
                      {
                        "name": "6 others",
                        "count": 17
                      }
                    ]
                  }
                },
                {
                  "name": "Q14_8_TEXT",
                  "dtype": "object",
                  "stats": {
                    "unique_count": 1,
                    "nan_count": 45,
                    "categories": [
                      {
                        "name": "Multiracial",
                        "count": 1
                      },
                      {
                        "name": "Missing",
                        "count": 45
                      }
                    ]
                  }
                },
                {
                  "name": "Q15",
                  "dtype": "object",
                  "stats": {
                    "unique_count": 3,
                    "nan_count": 0,
                    "categories": [
                      {
                        "name": "Female",
                        "count": 28
                      },
                      {
                        "name": "Male",
                        "count": 16
                      },
                      {
                        "name": "Non-Binary",
                        "count": 2
                      }
                    ]
                  }
                },
                {
                  "name": "Q15_4_TEXT",
                  "dtype": "object",
                  "stats": {
                    "unique_count": 0,
                    "nan_count": 46,
                    "categories": [
                      {
                        "name": "Missing",
                        "count": 46
                      }
                    ]
                  }
                },
                {
                  "name": "Q20",
                  "dtype": "object",
                  "stats": {
                    "unique_count": 1,
                    "nan_count": 0,
                    "categories": [
                      {
                        "name": "2024",
                        "count": 46
                      }
                    ]
                  }
                },
                {
                  "name": "Q16",
                  "dtype": "object",
                  "stats": {
                    "unique_count": 2,
                    "nan_count": 0,
                    "categories": [
                      {
                        "name": "No",
                        "count": 30
                      },
                      {
                        "name": "Yes",
                        "count": 16
                      }
                    ]
                  }
                },
                {
                  "name": "Q17",
                  "dtype": "object",
                  "stats": {
                    "unique_count": 2,
                    "nan_count": 0,
                    "categories": [
                      {
                        "name": "No",
                        "count": 43
                      },
                      {
                        "name": "Yes",
                        "count": 3
                      }
                    ]
                  }
                },
                {
                  "name": "Q18",
                  "dtype": "object",
                  "stats": {
                    "unique_count": 2,
                    "nan_count": 43,
                    "categories": [
                      {
                        "name": "Canada",
                        "count": 2
                      },
                      {
                        "name": "Lebanon",
                        "count": 1
                      },
                      {
                        "name": "Missing",
                        "count": 43
                      }
                    ]
                  }
                },
                {
                  "name": "Q19",
                  "dtype": "object",
                  "stats": {
                    "unique_count": 24,
                    "nan_count": 4,
                    "categories": [
                      {
                        "name": "California",
                        "count": 6
                      },
                      {
                        "name": "23 others",
                        "count": 36
                      },
                      {
                        "name": "Missing",
                        "count": 4
                      }
                    ]
                  }
                },
                {
                  "name": "Q24_1",
                  "dtype": "object",
                  "stats": {
                    "unique_count": 4,
                    "nan_count": 5,
                    "categories": [
                      {
                        "name": "2",
                        "count": 21
                      },
                      {
                        "name": "3 others",
                        "count": 20
                      },
                      {
                        "name": "Missing",
                        "count": 5
                      }
                    ]
                  }
                },
                {
                  "name": "Q1",
                  "dtype": "object",
                  "stats": {
                    "unique_count": 37,
                    "nan_count": 2,
                    "categories": [
                      {
                        "name": "Instagram,Snapchat,WhatsApp,GroupMe,TikTok",
                        "count": 3
                      },
                      {
                        "name": "36 others",
                        "count": 41
                      },
                      {
                        "name": "Missing",
                        "count": 2
                      }
                    ]
                  }
                },
                {
                  "name": "Q1_10_TEXT",
                  "dtype": "object",
                  "stats": {
                    "unique_count": 5,
                    "nan_count": 40,
                    "categories": [
                      {
                        "name": "YouTube",
                        "count": 2
                      },
                      {
                        "name": "4 others",
                        "count": 4
                      },
                      {
                        "name": "Missing",
                        "count": 40
                      }
                    ]
                  }
                },
                {
                  "name": "Q5",
                  "dtype": "object",
                  "stats": {
                    "unique_count": 25,
                    "nan_count": 2,
                    "categories": [
                      {
                        "name": "Instagram,Twitter,TikTok",
                        "count": 6
                      },
                      {
                        "name": "24 others",
                        "count": 38
                      },
                      {
                        "name": "Missing",
                        "count": 2
                      }
                    ]
                  }
                },
                {
                  "name": "Q5_10_TEXT",
                  "dtype": "object",
                  "stats": {
                    "unique_count": 6,
                    "nan_count": 39,
                    "categories": [
                      {
                        "name": "YouTube",
                        "count": 2
                      },
                      {
                        "name": "5 others",
                        "count": 5
                      },
                      {
                        "name": "Missing",
                        "count": 39
                      }
                    ]
                  }
                },
                {
                  "name": "Q6",
                  "dtype": "object",
                  "stats": {
                    "unique_count": 10,
                    "nan_count": 2,
                    "categories": [
                      {
                        "name": "Instagram,Snapchat,TikTok",
                        "count": 30
                      },
                      {
                        "name": "9 others",
                        "count": 14
                      },
                      {
                        "name": "Missing",
                        "count": 2
                      }
                    ]
                  }
                },
                {
                  "name": "Q6_10_TEXT",
                  "dtype": "object",
                  "stats": {
                    "unique_count": 0,
                    "nan_count": 46,
                    "categories": [
                      {
                        "name": "Missing",
                        "count": 46
                      }
                    ]
                  }
                },
                {
                  "name": "Q2_1",
                  "dtype": "object",
                  "stats": {
                    "unique_count": 8,
                    "nan_count": 2,
                    "categories": [
                      {
                        "name": "1",
                        "count": 10
                      },
                      {
                        "name": "7 others",
                        "count": 34
                      },
                      {
                        "name": "Missing",
                        "count": 2
                      }
                    ]
                  }
                },
                {
                  "name": "Q3",
                  "dtype": "object",
                  "stats": {
                    "unique_count": 7,
                    "nan_count": 2,
                    "categories": [
                      {
                        "name": "Less often",
                        "count": 21
                      },
                      {
                        "name": "6 others",
                        "count": 23
                      },
                      {
                        "name": "Missing",
                        "count": 2
                      }
                    ]
                  }
                },
                {
                  "name": "Q4",
                  "dtype": "object",
                  "stats": {
                    "unique_count": 18,
                    "nan_count": 2,
                    "categories": [
                      {
                        "name": "Staying in touch with friends and/or family,Finding entertaining content,Filling spare time",
                        "count": 10
                      },
                      {
                        "name": "17 others",
                        "count": 34
                      },
                      {
                        "name": "Missing",
                        "count": 2
                      }
                    ]
                  }
                },
                {
                  "name": "Q4_10_TEXT",
                  "dtype": "object",
                  "stats": {
                    "unique_count": 0,
                    "nan_count": 46,
                    "categories": [
                      {
                        "name": "Missing",
                        "count": 46
                      }
                    ]
                  }
                },
                {
                  "name": "Q9_1",
                  "dtype": "object",
                  "stats": {
                    "unique_count": 10,
                    "nan_count": 2,
                    "categories": [
                      {
                        "name": "1",
                        "count": 13
                      },
                      {
                        "name": "9 others",
                        "count": 31
                      },
                      {
                        "name": "Missing",
                        "count": 2
                      }
                    ]
                  }
                },
                {
                  "name": "Q11",
                  "dtype": "object",
                  "stats": {
                    "unique_count": 34,
                    "nan_count": 2,
                    "categories": [
                      {
                        "name": "Instagram,Snapchat",
                        "count": 4
                      },
                      {
                        "name": "33 others",
                        "count": 40
                      },
                      {
                        "name": "Missing",
                        "count": 2
                      }
                    ]
                  }
                },
                {
                  "name": "Q11_10_TEXT",
                  "dtype": "object",
                  "stats": {
                    "unique_count": 4,
                    "nan_count": 41,
                    "categories": [
                      {
                        "name": "Reddit",
                        "count": 2
                      },
                      {
                        "name": "3 others",
                        "count": 3
                      },
                      {
                        "name": "Missing",
                        "count": 41
                      }
                    ]
                  }
                },
                {
                  "name": "Q12",
                  "dtype": "object",
                  "stats": {
                    "unique_count": 41,
                    "nan_count": 2,
                    "categories": [
                      {
                        "name": "Facebook,Facebook Messenger,Instagram,Snapchat,Twitter,GroupMe,TikTok",
                        "count": 3
                      },
                      {
                        "name": "40 others",
                        "count": 41
                      },
                      {
                        "name": "Missing",
                        "count": 2
                      }
                    ]
                  }
                },
                {
                  "name": "_deepnote_index_column",
                  "dtype": "int64"
                }
              ],
              "rows_top": [
                {
                  "Q14": "Native Hawaiian or Pacific Islander",
                  "Q14_8_TEXT": "nan",
                  "Q15": "Female",
                  "Q15_4_TEXT": "nan",
                  "Q20": "2024",
                  "Q16": "Yes",
                  "Q17": "No",
                  "Q18": "nan",
                  "Q19": "New York",
                  "Q24_1": "3",
                  "Q1": "Facebook,Instagram,LinkedIn,Snapchat,Twitter,GroupMe,TikTok",
                  "Q1_10_TEXT": "nan",
                  "Q5": "Instagram,Snapchat",
                  "Q5_10_TEXT": "nan",
                  "Q6": "Instagram,Snapchat,TikTok",
                  "Q6_10_TEXT": "nan",
                  "Q2_1": "6",
                  "Q3": "Less often",
                  "Q4": "Staying in touch with friends and/or family,Networking with other people,Filling spare time",
                  "Q4_10_TEXT": "nan",
                  "Q9_1": "4",
                  "Q11": "Instagram,Snapchat",
                  "Q11_10_TEXT": "nan",
                  "Q12": "Facebook,LinkedIn,Twitter,GroupMe,TikTok",
                  "_deepnote_index_column": 6
                },
                {
                  "Q14": "Asian or Asian American",
                  "Q14_8_TEXT": "nan",
                  "Q15": "Male",
                  "Q15_4_TEXT": "nan",
                  "Q20": "2024",
                  "Q16": "No",
                  "Q17": "No",
                  "Q18": "nan",
                  "Q19": "New Jersey",
                  "Q24_1": "2",
                  "Q1": "Facebook,Facebook Messenger,LinkedIn,Twitter,Other",
                  "Q1_10_TEXT": "Reddit",
                  "Q5": "Facebook Messenger,LinkedIn,Other",
                  "Q5_10_TEXT": "Reddit",
                  "Q6": "Facebook,Instagram,Snapchat",
                  "Q6_10_TEXT": "nan",
                  "Q2_1": "3",
                  "Q3": "Never",
                  "Q4": "Staying in touch with friends and/or family,Networking with other people,Filling spare time",
                  "Q4_10_TEXT": "nan",
                  "Q9_1": "2",
                  "Q11": "Facebook,Facebook Messenger,Instagram,LinkedIn,Other",
                  "Q11_10_TEXT": "Reddit",
                  "Q12": "Facebook,Facebook Messenger,LinkedIn,Other",
                  "_deepnote_index_column": 12
                },
                {
                  "Q14": "Hispanic or Latinx",
                  "Q14_8_TEXT": "nan",
                  "Q15": "Male",
                  "Q15_4_TEXT": "nan",
                  "Q20": "2024",
                  "Q16": "Yes",
                  "Q17": "No",
                  "Q18": "nan",
                  "Q19": "Connecticut",
                  "Q24_1": "1",
                  "Q1": "Instagram,Snapchat,Twitter,TikTok",
                  "Q1_10_TEXT": "nan",
                  "Q5": "Instagram,Twitter,TikTok",
                  "Q5_10_TEXT": "nan",
                  "Q6": "Instagram,Snapchat,TikTok",
                  "Q6_10_TEXT": "nan",
                  "Q2_1": "4",
                  "Q3": "Less often",
                  "Q4": "Staying updated on current events,Finding entertaining content,Filling spare time",
                  "Q4_10_TEXT": "nan",
                  "Q9_1": "2",
                  "Q11": "Instagram,LinkedIn,Snapchat,Twitter,GroupMe,TikTok",
                  "Q11_10_TEXT": "nan",
                  "Q12": "Instagram,LinkedIn,Snapchat,Twitter,TikTok",
                  "_deepnote_index_column": 13
                },
                {
                  "Q14": "Middle Eastern or North African",
                  "Q14_8_TEXT": "nan",
                  "Q15": "Female",
                  "Q15_4_TEXT": "nan",
                  "Q20": "2024",
                  "Q16": "No",
                  "Q17": "No",
                  "Q18": "nan",
                  "Q19": "New York",
                  "Q24_1": "3",
                  "Q1": "Instagram,Snapchat,WhatsApp,GroupMe,TikTok",
                  "Q1_10_TEXT": "nan",
                  "Q5": "Instagram,Snapchat,TikTok",
                  "Q5_10_TEXT": "nan",
                  "Q6": "Instagram,Snapchat,TikTok",
                  "Q6_10_TEXT": "nan",
                  "Q2_1": "3",
                  "Q3": "Several times a day",
                  "Q4": "Staying in touch with friends and/or family,Sharing photos and videos,Shopping and/or researching products",
                  "Q4_10_TEXT": "nan",
                  "Q9_1": "3",
                  "Q11": "Instagram,Snapchat,GroupMe",
                  "Q11_10_TEXT": "nan",
                  "Q12": "Facebook,Facebook Messenger,Instagram,Snapchat,WhatsApp,GroupMe,TikTok",
                  "_deepnote_index_column": 19
                },
                {
                  "Q14": "White",
                  "Q14_8_TEXT": "nan",
                  "Q15": "Male",
                  "Q15_4_TEXT": "nan",
                  "Q20": "2024",
                  "Q16": "No",
                  "Q17": "No",
                  "Q18": "nan",
                  "Q19": "Massachusetts",
                  "Q24_1": "2",
                  "Q1": "Facebook Messenger,Instagram,LinkedIn,Twitter,GroupMe",
                  "Q1_10_TEXT": "nan",
                  "Q5": "Instagram,Twitter,GroupMe",
                  "Q5_10_TEXT": "nan",
                  "Q6": "Instagram,Snapchat,TikTok",
                  "Q6_10_TEXT": "nan",
                  "Q2_1": "2",
                  "Q3": "Several times a day",
                  "Q4": "Staying updated on current events,Sharing photos and videos,Sharing opinions",
                  "Q4_10_TEXT": "nan",
                  "Q9_1": "2",
                  "Q11": "Facebook Messenger,Instagram,Twitter,GroupMe",
                  "Q11_10_TEXT": "nan",
                  "Q12": "Facebook Messenger,LinkedIn,Twitter,GroupMe",
                  "_deepnote_index_column": 22
                },
                {
                  "Q14": "Asian or Asian American",
                  "Q14_8_TEXT": "nan",
                  "Q15": "Female",
                  "Q15_4_TEXT": "nan",
                  "Q20": "2024",
                  "Q16": "Yes",
                  "Q17": "No",
                  "Q18": "nan",
                  "Q19": "New Jersey",
                  "Q24_1": "1",
                  "Q1": "Snapchat,Twitter,Other",
                  "Q1_10_TEXT": "YouTube",
                  "Q5": "Snapchat,Twitter,Other",
                  "Q5_10_TEXT": "YouTube",
                  "Q6": "Instagram,Snapchat,TikTok",
                  "Q6_10_TEXT": "nan",
                  "Q2_1": "4",
                  "Q3": "Less often",
                  "Q4": "Staying updated on current events,Finding entertaining content,Filling spare time",
                  "Q4_10_TEXT": "nan",
                  "Q9_1": "3",
                  "Q11": "Snapchat,Twitter,GroupMe,Other",
                  "Q11_10_TEXT": "YouTube",
                  "Q12": "Facebook,Facebook Messenger,Instagram,Snapchat,Twitter,GroupMe,Other",
                  "_deepnote_index_column": 24
                },
                {
                  "Q14": "Other",
                  "Q14_8_TEXT": "Multiracial",
                  "Q15": "Female",
                  "Q15_4_TEXT": "nan",
                  "Q20": "2024",
                  "Q16": "No",
                  "Q17": "No",
                  "Q18": "nan",
                  "Q19": "Maryland",
                  "Q24_1": "2",
                  "Q1": "Facebook,Facebook Messenger,Instagram,GroupMe",
                  "Q1_10_TEXT": "nan",
                  "Q5": "Facebook,Facebook Messenger,Instagram",
                  "Q5_10_TEXT": "nan",
                  "Q6": "Instagram,Snapchat,TikTok",
                  "Q6_10_TEXT": "nan",
                  "Q2_1": "2",
                  "Q3": "Less often",
                  "Q4": "Staying updated on current events,Finding entertaining content,Filling spare time",
                  "Q4_10_TEXT": "nan",
                  "Q9_1": "1",
                  "Q11": "Facebook Messenger,Instagram,Snapchat",
                  "Q11_10_TEXT": "nan",
                  "Q12": "Facebook,Facebook Messenger,Instagram,GroupMe",
                  "_deepnote_index_column": 28
                },
                {
                  "Q14": "White",
                  "Q14_8_TEXT": "nan",
                  "Q15": "Male",
                  "Q15_4_TEXT": "nan",
                  "Q20": "2024",
                  "Q16": "No",
                  "Q17": "No",
                  "Q18": "nan",
                  "Q19": "South Dakota",
                  "Q24_1": "0",
                  "Q1": "GroupMe,Other",
                  "Q1_10_TEXT": "Discord, Slack",
                  "Q5": "Other",
                  "Q5_10_TEXT": "None of the above",
                  "Q6": "Instagram,Twitter,TikTok",
                  "Q6_10_TEXT": "nan",
                  "Q2_1": "0",
                  "Q3": "Never",
                  "Q4": "Staying in touch with friends and/or family",
                  "Q4_10_TEXT": "nan",
                  "Q9_1": "-1",
                  "Q11": "Snapchat",
                  "Q11_10_TEXT": "nan",
                  "Q12": "GroupMe,Other",
                  "_deepnote_index_column": 29
                },
                {
                  "Q14": "Middle Eastern or North African",
                  "Q14_8_TEXT": "nan",
                  "Q15": "Female",
                  "Q15_4_TEXT": "nan",
                  "Q20": "2024",
                  "Q16": "No",
                  "Q17": "Yes",
                  "Q18": "Lebanon",
                  "Q19": "nan",
                  "Q24_1": "2",
                  "Q1": "Instagram,WhatsApp,GroupMe,TikTok",
                  "Q1_10_TEXT": "nan",
                  "Q5": "Instagram,WhatsApp,TikTok",
                  "Q5_10_TEXT": "nan",
                  "Q6": "Instagram,Snapchat,TikTok",
                  "Q6_10_TEXT": "nan",
                  "Q2_1": "5",
                  "Q3": "Less often",
                  "Q4": "Staying updated on current events,Finding entertaining content,Sharing photos and videos",
                  "Q4_10_TEXT": "nan",
                  "Q9_1": "2",
                  "Q11": "Facebook Messenger,Instagram,WhatsApp,GroupMe",
                  "Q11_10_TEXT": "nan",
                  "Q12": "Facebook Messenger,Instagram,WhatsApp,GroupMe,TikTok",
                  "_deepnote_index_column": 37
                },
                {
                  "Q14": "Asian or Asian American",
                  "Q14_8_TEXT": "nan",
                  "Q15": "Female",
                  "Q15_4_TEXT": "nan",
                  "Q20": "2024",
                  "Q16": "No",
                  "Q17": "No",
                  "Q18": "nan",
                  "Q19": "IL",
                  "Q24_1": "1",
                  "Q1": "Facebook Messenger,Instagram,Snapchat,WhatsApp,GroupMe,Other",
                  "Q1_10_TEXT": "reddit",
                  "Q5": "Instagram,Snapchat,Other",
                  "Q5_10_TEXT": "reddit",
                  "Q6": "Instagram,Snapchat,TikTok",
                  "Q6_10_TEXT": "nan",
                  "Q2_1": "3",
                  "Q3": "Less often",
                  "Q4": "Staying in touch with friends and/or family,Finding entertaining content,Filling spare time",
                  "Q4_10_TEXT": "nan",
                  "Q9_1": "2",
                  "Q11": "Instagram,Snapchat,WhatsApp,Other",
                  "Q11_10_TEXT": "Reddit",
                  "Q12": "Facebook Messenger,Instagram,Snapchat,WhatsApp,GroupMe,Other",
                  "_deepnote_index_column": 38
                },
                {
                  "Q14": "Asian or Asian American",
                  "Q14_8_TEXT": "nan",
                  "Q15": "Male",
                  "Q15_4_TEXT": "nan",
                  "Q20": "2024",
                  "Q16": "No",
                  "Q17": "No",
                  "Q18": "nan",
                  "Q19": "Massachusetts",
                  "Q24_1": "2",
                  "Q1": "Facebook Messenger,Instagram,Snapchat,GroupMe",
                  "Q1_10_TEXT": "nan",
                  "Q5": "Facebook Messenger,Instagram,Snapchat",
                  "Q5_10_TEXT": "nan",
                  "Q6": "Instagram,Snapchat,TikTok",
                  "Q6_10_TEXT": "nan",
                  "Q2_1": "1",
                  "Q3": "About once a day",
                  "Q4": "Staying in touch with friends and/or family,Staying updated on current events,Sharing opinions",
                  "Q4_10_TEXT": "nan",
                  "Q9_1": "0",
                  "Q11": "Facebook,Facebook Messenger,Instagram,Snapchat,GroupMe",
                  "Q11_10_TEXT": "nan",
                  "Q12": "Facebook,Facebook Messenger,Instagram,Snapchat,Twitter,GroupMe",
                  "_deepnote_index_column": 43
                },
                {
                  "Q14": "Asian or Asian American",
                  "Q14_8_TEXT": "nan",
                  "Q15": "Female",
                  "Q15_4_TEXT": "nan",
                  "Q20": "2024",
                  "Q16": "No",
                  "Q17": "No",
                  "Q18": "nan",
                  "Q19": "Texas",
                  "Q24_1": "3",
                  "Q1": "Facebook,Facebook Messenger,Instagram,Snapchat,TikTok",
                  "Q1_10_TEXT": "nan",
                  "Q5": "Facebook,Instagram,TikTok",
                  "Q5_10_TEXT": "nan",
                  "Q6": "Instagram,Snapchat,TikTok",
                  "Q6_10_TEXT": "nan",
                  "Q2_1": "1",
                  "Q3": "Once every few weeks",
                  "Q4": "Finding entertaining content,Sharing photos and videos,Filling spare time",
                  "Q4_10_TEXT": "nan",
                  "Q9_1": "1",
                  "Q11": "Facebook Messenger,Instagram,Snapchat,GroupMe",
                  "Q11_10_TEXT": "nan",
                  "Q12": "Facebook,Facebook Messenger,Instagram,LinkedIn,Snapchat,Twitter,TikTok",
                  "_deepnote_index_column": 45
                },
                {
                  "Q14": "White",
                  "Q14_8_TEXT": "nan",
                  "Q15": "Female",
                  "Q15_4_TEXT": "nan",
                  "Q20": "2024",
                  "Q16": "Yes",
                  "Q17": "No",
                  "Q18": "nan",
                  "Q19": "MA",
                  "Q24_1": "3",
                  "Q1": "Instagram,Snapchat,GroupMe,TikTok",
                  "Q1_10_TEXT": "nan",
                  "Q5": "Instagram,Snapchat,TikTok",
                  "Q5_10_TEXT": "nan",
                  "Q6": "Instagram,Snapchat,TikTok",
                  "Q6_10_TEXT": "nan",
                  "Q2_1": "3",
                  "Q3": "Once every few weeks",
                  "Q4": "Staying in touch with friends and/or family,Sharing photos and videos,Filling spare time",
                  "Q4_10_TEXT": "nan",
                  "Q9_1": "1",
                  "Q11": "Instagram,Snapchat,TikTok",
                  "Q11_10_TEXT": "nan",
                  "Q12": "Instagram,LinkedIn,Snapchat,GroupMe,TikTok",
                  "_deepnote_index_column": 47
                },
                {
                  "Q14": "Asian or Asian American",
                  "Q14_8_TEXT": "nan",
                  "Q15": "Male",
                  "Q15_4_TEXT": "nan",
                  "Q20": "2024",
                  "Q16": "No",
                  "Q17": "Yes",
                  "Q18": "Canada",
                  "Q19": "nan",
                  "Q24_1": "1",
                  "Q1": "Facebook,Facebook Messenger,Instagram,LinkedIn",
                  "Q1_10_TEXT": "nan",
                  "Q5": "Facebook,Facebook Messenger,Instagram",
                  "Q5_10_TEXT": "nan",
                  "Q6": "Instagram,Snapchat,TikTok",
                  "Q6_10_TEXT": "nan",
                  "Q2_1": "1",
                  "Q3": "Less often",
                  "Q4": "Staying in touch with friends and/or family,Finding entertaining content,Filling spare time",
                  "Q4_10_TEXT": "nan",
                  "Q9_1": "1",
                  "Q11": "Facebook,Facebook Messenger,Instagram,LinkedIn",
                  "Q11_10_TEXT": "nan",
                  "Q12": "Facebook,Facebook Messenger,Instagram,LinkedIn,Twitter,GroupMe",
                  "_deepnote_index_column": 50
                },
                {
                  "Q14": "White",
                  "Q14_8_TEXT": "nan",
                  "Q15": "Female",
                  "Q15_4_TEXT": "nan",
                  "Q20": "2024",
                  "Q16": "No",
                  "Q17": "No",
                  "Q18": "nan",
                  "Q19": "California",
                  "Q24_1": "2",
                  "Q1": "Facebook,Facebook Messenger,Instagram,LinkedIn,GroupMe",
                  "Q1_10_TEXT": "nan",
                  "Q5": "Facebook,Facebook Messenger,Instagram",
                  "Q5_10_TEXT": "nan",
                  "Q6": "Facebook Messenger,Instagram,TikTok",
                  "Q6_10_TEXT": "nan",
                  "Q2_1": "1",
                  "Q3": "Less often",
                  "Q4": "Staying in touch with friends and/or family,Staying updated on current events,Networking with other people",
                  "Q4_10_TEXT": "nan",
                  "Q9_1": "1",
                  "Q11": "Facebook,Facebook Messenger,Instagram",
                  "Q11_10_TEXT": "nan",
                  "Q12": "Facebook,Facebook Messenger,Instagram,LinkedIn,GroupMe",
                  "_deepnote_index_column": 57
                },
                {
                  "Q14": "White",
                  "Q14_8_TEXT": "nan",
                  "Q15": "Male",
                  "Q15_4_TEXT": "nan",
                  "Q20": "2024",
                  "Q16": "No",
                  "Q17": "No",
                  "Q18": "nan",
                  "Q19": "Maine",
                  "Q24_1": "2",
                  "Q1": "Instagram,Snapchat,GroupMe",
                  "Q1_10_TEXT": "nan",
                  "Q5": "Instagram,Snapchat",
                  "Q5_10_TEXT": "nan",
                  "Q6": "Instagram,Snapchat,TikTok",
                  "Q6_10_TEXT": "nan",
                  "Q2_1": "4",
                  "Q3": "Less often",
                  "Q4": "Staying in touch with friends and/or family,Staying updated on current events,Finding entertaining content",
                  "Q4_10_TEXT": "nan",
                  "Q9_1": "5",
                  "Q11": "Facebook,Instagram,Snapchat",
                  "Q11_10_TEXT": "nan",
                  "Q12": "Instagram,Snapchat,GroupMe",
                  "_deepnote_index_column": 58
                },
                {
                  "Q14": "Asian or Asian American",
                  "Q14_8_TEXT": "nan",
                  "Q15": "Female",
                  "Q15_4_TEXT": "nan",
                  "Q20": "2024",
                  "Q16": "No",
                  "Q17": "No",
                  "Q18": "nan",
                  "Q19": "texas",
                  "Q24_1": "2",
                  "Q1": "Facebook,Facebook Messenger,Instagram,LinkedIn,Snapchat,GroupMe,TikTok",
                  "Q1_10_TEXT": "nan",
                  "Q5": "Facebook Messenger,Instagram,LinkedIn",
                  "Q5_10_TEXT": "nan",
                  "Q6": "Instagram,LinkedIn,TikTok",
                  "Q6_10_TEXT": "nan",
                  "Q2_1": "3",
                  "Q3": "About once a week",
                  "Q4": "Meeting other people,Finding entertaining content,Sharing photos and videos",
                  "Q4_10_TEXT": "nan",
                  "Q9_1": "4",
                  "Q11": "Facebook,Facebook Messenger,Instagram,LinkedIn,GroupMe,TikTok",
                  "Q11_10_TEXT": "nan",
                  "Q12": "Facebook,Facebook Messenger,Instagram,LinkedIn,Snapchat,Twitter,GroupMe,TikTok",
                  "_deepnote_index_column": 59
                },
                {
                  "Q14": "Native American",
                  "Q14_8_TEXT": "nan",
                  "Q15": "Female",
                  "Q15_4_TEXT": "nan",
                  "Q20": "2024",
                  "Q16": "Yes",
                  "Q17": "No",
                  "Q18": "nan",
                  "Q19": "California",
                  "Q24_1": "3",
                  "Q1": "Instagram,Snapchat,Twitter,TikTok",
                  "Q1_10_TEXT": "nan",
                  "Q5": "Instagram,Twitter,TikTok",
                  "Q5_10_TEXT": "nan",
                  "Q6": "Snapchat,Twitter,TikTok",
                  "Q6_10_TEXT": "nan",
                  "Q2_1": "2",
                  "Q3": "Several times a day",
                  "Q4": "Staying updated on current events,Sharing photos and videos,Filling spare time",
                  "Q4_10_TEXT": "nan",
                  "Q9_1": "-2",
                  "Q11": "Facebook,Instagram,LinkedIn,Snapchat,Twitter,GroupMe,TikTok",
                  "Q11_10_TEXT": "nan",
                  "Q12": "Instagram,Snapchat,TikTok",
                  "_deepnote_index_column": 61
                },
                {
                  "Q14": "White",
                  "Q14_8_TEXT": "nan",
                  "Q15": "Male",
                  "Q15_4_TEXT": "nan",
                  "Q20": "2024",
                  "Q16": "No",
                  "Q17": "No",
                  "Q18": "nan",
                  "Q19": "Maryland",
                  "Q24_1": "2",
                  "Q1": "Instagram,LinkedIn,Snapchat,GroupMe",
                  "Q1_10_TEXT": "nan",
                  "Q5": "Instagram,LinkedIn,Snapchat",
                  "Q5_10_TEXT": "nan",
                  "Q6": "Instagram,Snapchat,TikTok",
                  "Q6_10_TEXT": "nan",
                  "Q2_1": "3",
                  "Q3": "Less often",
                  "Q4": "Staying in touch with friends and/or family,Networking with other people,Filling spare time",
                  "Q4_10_TEXT": "nan",
                  "Q9_1": "-2",
                  "Q11": "Facebook,Facebook Messenger,Instagram,LinkedIn,Snapchat,WhatsApp",
                  "Q11_10_TEXT": "nan",
                  "Q12": "Facebook,Facebook Messenger,Instagram,LinkedIn,Snapchat,WhatsApp,GroupMe",
                  "_deepnote_index_column": 63
                },
                {
                  "Q14": "White",
                  "Q14_8_TEXT": "nan",
                  "Q15": "Female",
                  "Q15_4_TEXT": "nan",
                  "Q20": "2024",
                  "Q16": "No",
                  "Q17": "No",
                  "Q18": "nan",
                  "Q19": "Virginia",
                  "Q24_1": "2",
                  "Q1": "Instagram,Twitter,TikTok",
                  "Q1_10_TEXT": "nan",
                  "Q5": "Instagram,Twitter,TikTok",
                  "Q5_10_TEXT": "nan",
                  "Q6": "Instagram,Snapchat,TikTok",
                  "Q6_10_TEXT": "nan",
                  "Q2_1": "3",
                  "Q3": "Less often",
                  "Q4": "Staying updated on current events,Finding entertaining content,Filling spare time",
                  "Q4_10_TEXT": "nan",
                  "Q9_1": "0",
                  "Q11": "Instagram,Snapchat,Twitter",
                  "Q11_10_TEXT": "nan",
                  "Q12": "Instagram,Snapchat,Twitter,TikTok",
                  "_deepnote_index_column": 65
                }
              ],
              "rows_bottom": [
                {
                  "Q14": "Black or African American",
                  "Q14_8_TEXT": "nan",
                  "Q15": "Female",
                  "Q15_4_TEXT": "nan",
                  "Q20": "2024",
                  "Q16": "No",
                  "Q17": "No",
                  "Q18": "nan",
                  "Q19": "Massachusetts",
                  "Q24_1": "0",
                  "Q1": "Instagram,Twitter,GroupMe,TikTok",
                  "Q1_10_TEXT": "nan",
                  "Q5": "Instagram,Twitter,TikTok",
                  "Q5_10_TEXT": "nan",
                  "Q6": "Instagram,Snapchat,TikTok",
                  "Q6_10_TEXT": "nan",
                  "Q2_1": "9",
                  "Q3": "Less often",
                  "Q4": "Staying updated on current events,Finding entertaining content,Filling spare time",
                  "Q4_10_TEXT": "nan",
                  "Q9_1": "5",
                  "Q11": "Instagram,Twitter,TikTok",
                  "Q11_10_TEXT": "nan",
                  "Q12": "Facebook,Instagram,Twitter,GroupMe,TikTok",
                  "_deepnote_index_column": 79
                },
                {
                  "Q14": "Asian or Asian American",
                  "Q14_8_TEXT": "nan",
                  "Q15": "Female",
                  "Q15_4_TEXT": "nan",
                  "Q20": "2024",
                  "Q16": "Yes",
                  "Q17": "No",
                  "Q18": "nan",
                  "Q19": "Connecticut",
                  "Q24_1": "1",
                  "Q1": "Facebook Messenger,Instagram,Snapchat,GroupMe",
                  "Q1_10_TEXT": "nan",
                  "Q5": "Instagram,Snapchat,GroupMe",
                  "Q5_10_TEXT": "nan",
                  "Q6": "Instagram,Snapchat,TikTok",
                  "Q6_10_TEXT": "nan",
                  "Q2_1": "2",
                  "Q3": "Several times a week",
                  "Q4": "Staying in touch with friends and/or family,Finding entertaining content,Sharing photos and videos",
                  "Q4_10_TEXT": "nan",
                  "Q9_1": "2",
                  "Q11": "Facebook,Facebook Messenger,Instagram,Snapchat,Twitter,GroupMe,TikTok",
                  "Q11_10_TEXT": "nan",
                  "Q12": "Facebook,Facebook Messenger,Instagram,Snapchat,Twitter,GroupMe,TikTok",
                  "_deepnote_index_column": 83
                },
                {
                  "Q14": "Asian or Asian American",
                  "Q14_8_TEXT": "nan",
                  "Q15": "Female",
                  "Q15_4_TEXT": "nan",
                  "Q20": "2024",
                  "Q16": "Yes",
                  "Q17": "No",
                  "Q18": "nan",
                  "Q19": "Missouri",
                  "Q24_1": "3",
                  "Q1": "Facebook,Facebook Messenger,Instagram,GroupMe",
                  "Q1_10_TEXT": "nan",
                  "Q5": "Facebook,Facebook Messenger,Instagram",
                  "Q5_10_TEXT": "nan",
                  "Q6": "Instagram,Snapchat,TikTok",
                  "Q6_10_TEXT": "nan",
                  "Q2_1": "5",
                  "Q3": "Once every few weeks",
                  "Q4": "Staying in touch with friends and/or family,Staying updated on current events,Finding entertaining content",
                  "Q4_10_TEXT": "nan",
                  "Q9_1": "4",
                  "Q11": "Facebook,Facebook Messenger,Instagram,Snapchat,GroupMe",
                  "Q11_10_TEXT": "nan",
                  "Q12": "Facebook,Facebook Messenger,Instagram,GroupMe",
                  "_deepnote_index_column": 91
                },
                {
                  "Q14": "Hispanic or Latinx",
                  "Q14_8_TEXT": "nan",
                  "Q15": "Female",
                  "Q15_4_TEXT": "nan",
                  "Q20": "2024",
                  "Q16": "Yes",
                  "Q17": "No",
                  "Q18": "nan",
                  "Q19": "California",
                  "Q24_1": "0",
                  "Q1": "Instagram,LinkedIn",
                  "Q1_10_TEXT": "nan",
                  "Q5": "Instagram,LinkedIn,Twitter",
                  "Q5_10_TEXT": "nan",
                  "Q6": "Instagram,Twitter,TikTok",
                  "Q6_10_TEXT": "nan",
                  "Q2_1": "4",
                  "Q3": "Several times a week",
                  "Q4": "Staying updated on current events,Finding entertaining content,Filling spare time",
                  "Q4_10_TEXT": "nan",
                  "Q9_1": "4",
                  "Q11": "Instagram,Snapchat",
                  "Q11_10_TEXT": "nan",
                  "Q12": "Instagram,LinkedIn,Twitter",
                  "_deepnote_index_column": 92
                },
                {
                  "Q14": "White",
                  "Q14_8_TEXT": "nan",
                  "Q15": "Female",
                  "Q15_4_TEXT": "nan",
                  "Q20": "2024",
                  "Q16": "No",
                  "Q17": "No",
                  "Q18": "nan",
                  "Q19": "california",
                  "Q24_1": "2",
                  "Q1": "Facebook,Instagram,Snapchat,WhatsApp",
                  "Q1_10_TEXT": "nan",
                  "Q5": "WhatsApp",
                  "Q5_10_TEXT": "nan",
                  "Q6": "Instagram,WhatsApp,TikTok",
                  "Q6_10_TEXT": "nan",
                  "Q2_1": "1",
                  "Q3": "Less often",
                  "Q4": "Staying in touch with friends and/or family,Finding entertaining content,Filling spare time",
                  "Q4_10_TEXT": "nan",
                  "Q9_1": "1",
                  "Q11": "Facebook,Instagram,Snapchat,Twitter,WhatsApp,GroupMe",
                  "Q11_10_TEXT": "nan",
                  "Q12": "Facebook,Facebook Messenger,Instagram,LinkedIn,Snapchat,Twitter,WhatsApp,GroupMe",
                  "_deepnote_index_column": 96
                },
                {
                  "Q14": "White",
                  "Q14_8_TEXT": "nan",
                  "Q15": "Female",
                  "Q15_4_TEXT": "nan",
                  "Q20": "2024",
                  "Q16": "No",
                  "Q17": "No",
                  "Q18": "nan",
                  "Q19": "TX",
                  "Q24_1": "2",
                  "Q1": "Instagram,Snapchat,WhatsApp,GroupMe,TikTok",
                  "Q1_10_TEXT": "nan",
                  "Q5": "Instagram,Snapchat,TikTok",
                  "Q5_10_TEXT": "nan",
                  "Q6": "Instagram,Snapchat,TikTok",
                  "Q6_10_TEXT": "nan",
                  "Q2_1": "4",
                  "Q3": "Less often",
                  "Q4": "Staying in touch with friends and/or family,Finding entertaining content,Filling spare time",
                  "Q4_10_TEXT": "nan",
                  "Q9_1": "1",
                  "Q11": "Instagram,LinkedIn,Snapchat,WhatsApp,GroupMe,TikTok",
                  "Q11_10_TEXT": "nan",
                  "Q12": "Facebook,Instagram,LinkedIn,Snapchat,WhatsApp,GroupMe,TikTok",
                  "_deepnote_index_column": 99
                },
                {
                  "Q14": "White",
                  "Q14_8_TEXT": "nan",
                  "Q15": "Female",
                  "Q15_4_TEXT": "nan",
                  "Q20": "2024",
                  "Q16": "No",
                  "Q17": "No",
                  "Q18": "nan",
                  "Q19": "CT",
                  "Q24_1": "nan",
                  "Q1": "Facebook,Facebook Messenger,GroupMe",
                  "Q1_10_TEXT": "nan",
                  "Q5": "Facebook,Facebook Messenger,GroupMe",
                  "Q5_10_TEXT": "nan",
                  "Q6": "Instagram,Snapchat,TikTok",
                  "Q6_10_TEXT": "nan",
                  "Q2_1": "0",
                  "Q3": "Less often",
                  "Q4": "Staying in touch with friends and/or family,Staying updated on current events,Networking with other people",
                  "Q4_10_TEXT": "nan",
                  "Q9_1": "1",
                  "Q11": "Other",
                  "Q11_10_TEXT": "None",
                  "Q12": "Facebook,Facebook Messenger,GroupMe",
                  "_deepnote_index_column": 103
                },
                {
                  "Q14": "Asian or Asian American",
                  "Q14_8_TEXT": "nan",
                  "Q15": "Male",
                  "Q15_4_TEXT": "nan",
                  "Q20": "2024",
                  "Q16": "Yes",
                  "Q17": "No",
                  "Q18": "nan",
                  "Q19": "California",
                  "Q24_1": "2",
                  "Q1": "Facebook Messenger,GroupMe",
                  "Q1_10_TEXT": "nan",
                  "Q5": "Facebook,Facebook Messenger,Instagram",
                  "Q5_10_TEXT": "nan",
                  "Q6": "Instagram,Snapchat,Twitter",
                  "Q6_10_TEXT": "nan",
                  "Q2_1": "1",
                  "Q3": "Less often",
                  "Q4": "Staying in touch with friends and/or family,Sharing photos and videos,Filling spare time",
                  "Q4_10_TEXT": "nan",
                  "Q9_1": "-4",
                  "Q11": "Facebook,Facebook Messenger,Instagram,Snapchat,GroupMe,TikTok",
                  "Q11_10_TEXT": "nan",
                  "Q12": "Facebook Messenger,GroupMe",
                  "_deepnote_index_column": 104
                },
                {
                  "Q14": "Asian or Asian American",
                  "Q14_8_TEXT": "nan",
                  "Q15": "Female",
                  "Q15_4_TEXT": "nan",
                  "Q20": "2024",
                  "Q16": "Yes",
                  "Q17": "No",
                  "Q18": "nan",
                  "Q19": "CA",
                  "Q24_1": "0",
                  "Q1": "LinkedIn,Twitter,GroupMe",
                  "Q1_10_TEXT": "nan",
                  "Q5": "Other",
                  "Q5_10_TEXT": "I don’t use any of the above regularly. ",
                  "Q6": "Instagram,Snapchat,TikTok",
                  "Q6_10_TEXT": "nan",
                  "Q2_1": "1",
                  "Q3": "Never",
                  "Q4": "Staying in touch with friends and/or family,Staying updated on current events,Finding entertaining content",
                  "Q4_10_TEXT": "nan",
                  "Q9_1": "4",
                  "Q11": "Facebook Messenger,LinkedIn",
                  "Q11_10_TEXT": "nan",
                  "Q12": "Twitter",
                  "_deepnote_index_column": 105
                },
                {
                  "Q14": "Asian or Asian American",
                  "Q14_8_TEXT": "nan",
                  "Q15": "Male",
                  "Q15_4_TEXT": "nan",
                  "Q20": "2024",
                  "Q16": "No",
                  "Q17": "No",
                  "Q18": "nan",
                  "Q19": "Michigan",
                  "Q24_1": "0",
                  "Q1": "Facebook,Facebook Messenger,GroupMe",
                  "Q1_10_TEXT": "nan",
                  "Q5": "Facebook Messenger",
                  "Q5_10_TEXT": "nan",
                  "Q6": "Instagram,Twitter,TikTok",
                  "Q6_10_TEXT": "nan",
                  "Q2_1": "1",
                  "Q3": "Less often",
                  "Q4": "Staying in touch with friends and/or family,Finding entertaining content,Filling spare time",
                  "Q4_10_TEXT": "nan",
                  "Q9_1": "-4",
                  "Q11": "Facebook,Facebook Messenger,Snapchat",
                  "Q11_10_TEXT": "nan",
                  "Q12": "Facebook,Facebook Messenger,LinkedIn,GroupMe",
                  "_deepnote_index_column": 110
                },
                {
                  "Q14": "White",
                  "Q14_8_TEXT": "nan",
                  "Q15": "Male",
                  "Q15_4_TEXT": "nan",
                  "Q20": "2024",
                  "Q16": "No",
                  "Q17": "No",
                  "Q18": "nan",
                  "Q19": "Minnesota",
                  "Q24_1": "1",
                  "Q1": "Facebook,Instagram,Snapchat,Other",
                  "Q1_10_TEXT": "YouTube",
                  "Q5": "Snapchat,Other",
                  "Q5_10_TEXT": "YouTube",
                  "Q6": "Snapchat",
                  "Q6_10_TEXT": "nan",
                  "Q2_1": "1",
                  "Q3": "Less often",
                  "Q4": "Staying in touch with friends and/or family,Networking with other people,Finding entertaining content",
                  "Q4_10_TEXT": "nan",
                  "Q9_1": "1",
                  "Q11": "Snapchat",
                  "Q11_10_TEXT": "nan",
                  "Q12": "Facebook,Instagram,Snapchat",
                  "_deepnote_index_column": 112
                },
                {
                  "Q14": "Hispanic or Latinx",
                  "Q14_8_TEXT": "nan",
                  "Q15": "Female",
                  "Q15_4_TEXT": "nan",
                  "Q20": "2024",
                  "Q16": "Yes",
                  "Q17": "No",
                  "Q18": "nan",
                  "Q19": "California",
                  "Q24_1": "2",
                  "Q1": "Instagram,Twitter,GroupMe",
                  "Q1_10_TEXT": "nan",
                  "Q5": "Instagram,Twitter,GroupMe",
                  "Q5_10_TEXT": "nan",
                  "Q6": "Instagram,Snapchat,TikTok",
                  "Q6_10_TEXT": "nan",
                  "Q2_1": "4",
                  "Q3": "About once a week",
                  "Q4": "Staying in touch with friends and/or family,Staying updated on current events,Finding entertaining content",
                  "Q4_10_TEXT": "nan",
                  "Q9_1": "1",
                  "Q11": "Instagram,Twitter",
                  "Q11_10_TEXT": "nan",
                  "Q12": "Instagram,Twitter,GroupMe",
                  "_deepnote_index_column": 116
                },
                {
                  "Q14": "Asian or Asian American",
                  "Q14_8_TEXT": "nan",
                  "Q15": "Female",
                  "Q15_4_TEXT": "nan",
                  "Q20": "2024",
                  "Q16": "No",
                  "Q17": "No",
                  "Q18": "nan",
                  "Q19": "MA",
                  "Q24_1": "2",
                  "Q1": "Facebook,Facebook Messenger,Instagram,Snapchat,Twitter,GroupMe,TikTok",
                  "Q1_10_TEXT": "nan",
                  "Q5": "Facebook,Instagram,Snapchat",
                  "Q5_10_TEXT": "nan",
                  "Q6": "Instagram,Snapchat,TikTok",
                  "Q6_10_TEXT": "nan",
                  "Q2_1": "2",
                  "Q3": "Less often",
                  "Q4": "Staying in touch with friends and/or family,Finding entertaining content,Filling spare time",
                  "Q4_10_TEXT": "nan",
                  "Q9_1": "1",
                  "Q11": "Facebook,Instagram,Snapchat,GroupMe",
                  "Q11_10_TEXT": "nan",
                  "Q12": "Facebook,Facebook Messenger,Instagram,Snapchat,Twitter,GroupMe,TikTok",
                  "_deepnote_index_column": 117
                },
                {
                  "Q14": "Hispanic or Latinx",
                  "Q14_8_TEXT": "nan",
                  "Q15": "Female",
                  "Q15_4_TEXT": "nan",
                  "Q20": "2024",
                  "Q16": "Yes",
                  "Q17": "No",
                  "Q18": "nan",
                  "Q19": "california",
                  "Q24_1": "nan",
                  "Q1": "Instagram,Snapchat,WhatsApp,GroupMe,TikTok",
                  "Q1_10_TEXT": "nan",
                  "Q5": "Instagram,Snapchat,TikTok",
                  "Q5_10_TEXT": "nan",
                  "Q6": "Instagram,Snapchat,TikTok",
                  "Q6_10_TEXT": "nan",
                  "Q2_1": "4",
                  "Q3": "About once a week",
                  "Q4": "Staying in touch with friends and/or family,Sharing photos and videos,Filling spare time",
                  "Q4_10_TEXT": "nan",
                  "Q9_1": "3",
                  "Q11": "Instagram,Snapchat",
                  "Q11_10_TEXT": "nan",
                  "Q12": "TikTok",
                  "_deepnote_index_column": 121
                },
                {
                  "Q14": "Black or African American",
                  "Q14_8_TEXT": "nan",
                  "Q15": "Male",
                  "Q15_4_TEXT": "nan",
                  "Q20": "2024",
                  "Q16": "Yes",
                  "Q17": "No",
                  "Q18": "nan",
                  "Q19": "Massachusetts",
                  "Q24_1": "2",
                  "Q1": "Instagram,LinkedIn,Snapchat,Other",
                  "Q1_10_TEXT": "Discord",
                  "Q5": "Instagram,Snapchat,Other",
                  "Q5_10_TEXT": "Discord",
                  "Q6": "Instagram,Snapchat,TikTok",
                  "Q6_10_TEXT": "nan",
                  "Q2_1": "5",
                  "Q3": "Once every few weeks",
                  "Q4": "Staying in touch with friends and/or family,Meeting other people,Filling spare time",
                  "Q4_10_TEXT": "nan",
                  "Q9_1": "4",
                  "Q11": "Instagram,Snapchat,Other",
                  "Q11_10_TEXT": "Discord",
                  "Q12": "Instagram,LinkedIn,Snapchat,Twitter,GroupMe,TikTok,Other",
                  "_deepnote_index_column": 124
                },
                {
                  "Q14": "Hispanic or Latinx",
                  "Q14_8_TEXT": "nan",
                  "Q15": "Female",
                  "Q15_4_TEXT": "nan",
                  "Q20": "2024",
                  "Q16": "Yes",
                  "Q17": "No",
                  "Q18": "nan",
                  "Q19": "Texas",
                  "Q24_1": "2",
                  "Q1": "WhatsApp",
                  "Q1_10_TEXT": "nan",
                  "Q5": "Instagram,WhatsApp,GroupMe",
                  "Q5_10_TEXT": "nan",
                  "Q6": "Instagram,Snapchat,TikTok",
                  "Q6_10_TEXT": "nan",
                  "Q2_1": "2",
                  "Q3": "Never",
                  "Q4": "Staying in touch with friends and/or family,Finding entertaining content,Filling spare time",
                  "Q4_10_TEXT": "nan",
                  "Q9_1": "2",
                  "Q11": "Instagram,WhatsApp,GroupMe",
                  "Q11_10_TEXT": "nan",
                  "Q12": "Instagram,WhatsApp,GroupMe",
                  "_deepnote_index_column": 129
                },
                {
                  "Q14": "Black or African American",
                  "Q14_8_TEXT": "nan",
                  "Q15": "Female",
                  "Q15_4_TEXT": "nan",
                  "Q20": "2024",
                  "Q16": "No",
                  "Q17": "Yes",
                  "Q18": "Canada",
                  "Q19": "nan",
                  "Q24_1": "1",
                  "Q1": "Facebook Messenger,Instagram,Snapchat,WhatsApp,TikTok",
                  "Q1_10_TEXT": "nan",
                  "Q5": "Instagram,Snapchat,TikTok",
                  "Q5_10_TEXT": "nan",
                  "Q6": "Snapchat,Twitter,TikTok",
                  "Q6_10_TEXT": "nan",
                  "Q2_1": "6",
                  "Q3": "Several times a day",
                  "Q4": "Staying in touch with friends and/or family,Finding entertaining content,Filling spare time",
                  "Q4_10_TEXT": "nan",
                  "Q9_1": "5",
                  "Q11": "Snapchat",
                  "Q11_10_TEXT": "nan",
                  "Q12": "Facebook,Facebook Messenger,Instagram,LinkedIn,Snapchat,WhatsApp,GroupMe,TikTok",
                  "_deepnote_index_column": 131
                },
                {
                  "Q14": "Black or African American",
                  "Q14_8_TEXT": "nan",
                  "Q15": "Female",
                  "Q15_4_TEXT": "nan",
                  "Q20": "2024",
                  "Q16": "Yes",
                  "Q17": "No",
                  "Q18": "nan",
                  "Q19": "Texas",
                  "Q24_1": "2",
                  "Q1": "Instagram,TikTok",
                  "Q1_10_TEXT": "nan",
                  "Q5": "Instagram,Twitter,TikTok",
                  "Q5_10_TEXT": "nan",
                  "Q6": "Instagram,LinkedIn,Twitter",
                  "Q6_10_TEXT": "nan",
                  "Q2_1": "6",
                  "Q3": "Several times a week",
                  "Q4": "Staying updated on current events,Finding entertaining content,Sharing opinions",
                  "Q4_10_TEXT": "nan",
                  "Q9_1": "10",
                  "Q11": "Instagram,Snapchat,TikTok",
                  "Q11_10_TEXT": "nan",
                  "Q12": "Facebook,Facebook Messenger,Instagram,Snapchat,Twitter,GroupMe,TikTok",
                  "_deepnote_index_column": 132
                },
                {
                  "Q14": "Black or African American",
                  "Q14_8_TEXT": "nan",
                  "Q15": "Non-Binary",
                  "Q15_4_TEXT": "nan",
                  "Q20": "2024",
                  "Q16": "No",
                  "Q17": "No",
                  "Q18": "nan",
                  "Q19": "Texas",
                  "Q24_1": "2",
                  "Q1": "Instagram,Snapchat,Twitter,GroupMe",
                  "Q1_10_TEXT": "nan",
                  "Q5": "Instagram,Snapchat,Twitter",
                  "Q5_10_TEXT": "nan",
                  "Q6": "Instagram,Snapchat,TikTok",
                  "Q6_10_TEXT": "nan",
                  "Q2_1": "4",
                  "Q3": "About once a week",
                  "Q4": "Staying updated on current events,Finding entertaining content,Filling spare time",
                  "Q4_10_TEXT": "nan",
                  "Q9_1": "4",
                  "Q11": "Facebook,Facebook Messenger,Instagram,Snapchat,GroupMe",
                  "Q11_10_TEXT": "nan",
                  "Q12": "Instagram,Snapchat,Twitter,GroupMe",
                  "_deepnote_index_column": 133
                },
                {
                  "Q14": "Hispanic or Latinx",
                  "Q14_8_TEXT": "nan",
                  "Q15": "Male",
                  "Q15_4_TEXT": "nan",
                  "Q20": "2024",
                  "Q16": "Yes",
                  "Q17": "No",
                  "Q18": "nan",
                  "Q19": "IA",
                  "Q24_1": "nan",
                  "Q1": "nan",
                  "Q1_10_TEXT": "nan",
                  "Q5": "nan",
                  "Q5_10_TEXT": "nan",
                  "Q6": "nan",
                  "Q6_10_TEXT": "nan",
                  "Q2_1": "nan",
                  "Q3": "nan",
                  "Q4": "nan",
                  "Q4_10_TEXT": "nan",
                  "Q9_1": "nan",
                  "Q11": "nan",
                  "Q11_10_TEXT": "nan",
                  "Q12": "nan",
                  "_deepnote_index_column": 134
                },
                {
                  "Q14": "White",
                  "Q14_8_TEXT": "nan",
                  "Q15": "Male",
                  "Q15_4_TEXT": "nan",
                  "Q20": "2024",
                  "Q16": "No",
                  "Q17": "No",
                  "Q18": "nan",
                  "Q19": "nan",
                  "Q24_1": "nan",
                  "Q1": "nan",
                  "Q1_10_TEXT": "nan",
                  "Q5": "nan",
                  "Q5_10_TEXT": "nan",
                  "Q6": "nan",
                  "Q6_10_TEXT": "nan",
                  "Q2_1": "nan",
                  "Q3": "nan",
                  "Q4": "nan",
                  "Q4_10_TEXT": "nan",
                  "Q9_1": "nan",
                  "Q11": "nan",
                  "Q11_10_TEXT": "nan",
                  "Q12": "nan",
                  "_deepnote_index_column": 141
                }
              ]
            },
            "text/plain": "                                     Q14   Q14_8_TEXT         Q15 Q15_4_TEXT  \\\n6    Native Hawaiian or Pacific Islander          NaN      Female        NaN   \n12               Asian or Asian American          NaN        Male        NaN   \n13                    Hispanic or Latinx          NaN        Male        NaN   \n19       Middle Eastern or North African          NaN      Female        NaN   \n22                                 White          NaN        Male        NaN   \n24               Asian or Asian American          NaN      Female        NaN   \n28                                 Other  Multiracial      Female        NaN   \n29                                 White          NaN        Male        NaN   \n37       Middle Eastern or North African          NaN      Female        NaN   \n38               Asian or Asian American          NaN      Female        NaN   \n43               Asian or Asian American          NaN        Male        NaN   \n45               Asian or Asian American          NaN      Female        NaN   \n47                                 White          NaN      Female        NaN   \n50               Asian or Asian American          NaN        Male        NaN   \n57                                 White          NaN      Female        NaN   \n58                                 White          NaN        Male        NaN   \n59               Asian or Asian American          NaN      Female        NaN   \n61                       Native American          NaN      Female        NaN   \n63                                 White          NaN        Male        NaN   \n65                                 White          NaN      Female        NaN   \n67             Black or African American          NaN        Male        NaN   \n72                                 White          NaN        Male        NaN   \n73               Asian or Asian American          NaN  Non-Binary        NaN   \n75                                 White          NaN      Female        NaN   \n78                                 White          NaN      Female        NaN   \n79             Black or African American          NaN      Female        NaN   \n83               Asian or Asian American          NaN      Female        NaN   \n91               Asian or Asian American          NaN      Female        NaN   \n92                    Hispanic or Latinx          NaN      Female        NaN   \n96                                 White          NaN      Female        NaN   \n99                                 White          NaN      Female        NaN   \n103                                White          NaN      Female        NaN   \n104              Asian or Asian American          NaN        Male        NaN   \n105              Asian or Asian American          NaN      Female        NaN   \n110              Asian or Asian American          NaN        Male        NaN   \n112                                White          NaN        Male        NaN   \n116                   Hispanic or Latinx          NaN      Female        NaN   \n117              Asian or Asian American          NaN      Female        NaN   \n121                   Hispanic or Latinx          NaN      Female        NaN   \n124            Black or African American          NaN        Male        NaN   \n129                   Hispanic or Latinx          NaN      Female        NaN   \n131            Black or African American          NaN      Female        NaN   \n132            Black or African American          NaN      Female        NaN   \n133            Black or African American          NaN  Non-Binary        NaN   \n134                   Hispanic or Latinx          NaN        Male        NaN   \n141                                White          NaN        Male        NaN   \n\n      Q20  Q16  Q17      Q18             Q19 Q24_1  ...  \\\n6    2024  Yes   No      NaN        New York     3  ...   \n12   2024   No   No      NaN      New Jersey     2  ...   \n13   2024  Yes   No      NaN     Connecticut     1  ...   \n19   2024   No   No      NaN        New York     3  ...   \n22   2024   No   No      NaN   Massachusetts     2  ...   \n24   2024  Yes   No      NaN      New Jersey     1  ...   \n28   2024   No   No      NaN        Maryland     2  ...   \n29   2024   No   No      NaN    South Dakota     0  ...   \n37   2024   No  Yes  Lebanon             NaN     2  ...   \n38   2024   No   No      NaN              IL     1  ...   \n43   2024   No   No      NaN   Massachusetts     2  ...   \n45   2024   No   No      NaN           Texas     3  ...   \n47   2024  Yes   No      NaN              MA     3  ...   \n50   2024   No  Yes   Canada             NaN     1  ...   \n57   2024   No   No      NaN      California     2  ...   \n58   2024   No   No      NaN           Maine     2  ...   \n59   2024   No   No      NaN           texas     2  ...   \n61   2024  Yes   No      NaN      California     3  ...   \n63   2024   No   No      NaN        Maryland     2  ...   \n65   2024   No   No      NaN        Virginia     2  ...   \n67   2024   No   No      NaN  New York State     2  ...   \n72   2024   No   No      NaN      Washington     2  ...   \n73   2024   No   No      NaN      California     1  ...   \n75   2024   No   No      NaN        Virginia   NaN  ...   \n78   2024   No   No      NaN        Illinois     1  ...   \n79   2024   No   No      NaN   Massachusetts     0  ...   \n83   2024  Yes   No      NaN     Connecticut     1  ...   \n91   2024  Yes   No      NaN        Missouri     3  ...   \n92   2024  Yes   No      NaN      California     0  ...   \n96   2024   No   No      NaN      california     2  ...   \n99   2024   No   No      NaN              TX     2  ...   \n103  2024   No   No      NaN              CT   NaN  ...   \n104  2024  Yes   No      NaN      California     2  ...   \n105  2024  Yes   No      NaN              CA     0  ...   \n110  2024   No   No      NaN        Michigan     0  ...   \n112  2024   No   No      NaN       Minnesota     1  ...   \n116  2024  Yes   No      NaN      California     2  ...   \n117  2024   No   No      NaN              MA     2  ...   \n121  2024  Yes   No      NaN      california   NaN  ...   \n124  2024  Yes   No      NaN   Massachusetts     2  ...   \n129  2024  Yes   No      NaN           Texas     2  ...   \n131  2024   No  Yes   Canada             NaN     1  ...   \n132  2024  Yes   No      NaN           Texas     2  ...   \n133  2024   No   No      NaN           Texas     2  ...   \n134  2024  Yes   No      NaN              IA   NaN  ...   \n141  2024   No   No      NaN             NaN   NaN  ...   \n\n                                      Q6 Q6_10_TEXT Q2_1  \\\n6              Instagram,Snapchat,TikTok        NaN    6   \n12           Facebook,Instagram,Snapchat        NaN    3   \n13             Instagram,Snapchat,TikTok        NaN    4   \n19             Instagram,Snapchat,TikTok        NaN    3   \n22             Instagram,Snapchat,TikTok        NaN    2   \n24             Instagram,Snapchat,TikTok        NaN    4   \n28             Instagram,Snapchat,TikTok        NaN    2   \n29              Instagram,Twitter,TikTok        NaN    0   \n37             Instagram,Snapchat,TikTok        NaN    5   \n38             Instagram,Snapchat,TikTok        NaN    3   \n43             Instagram,Snapchat,TikTok        NaN    1   \n45             Instagram,Snapchat,TikTok        NaN    1   \n47             Instagram,Snapchat,TikTok        NaN    3   \n50             Instagram,Snapchat,TikTok        NaN    1   \n57   Facebook Messenger,Instagram,TikTok        NaN    1   \n58             Instagram,Snapchat,TikTok        NaN    4   \n59             Instagram,LinkedIn,TikTok        NaN    3   \n61               Snapchat,Twitter,TikTok        NaN    2   \n63             Instagram,Snapchat,TikTok        NaN    3   \n65             Instagram,Snapchat,TikTok        NaN    3   \n67             Instagram,Snapchat,TikTok        NaN    4   \n72              Instagram,Twitter,TikTok        NaN    1   \n73             Instagram,Snapchat,TikTok        NaN    2   \n75              Instagram,Twitter,TikTok        NaN    2   \n78             Instagram,Snapchat,TikTok        NaN    2   \n79             Instagram,Snapchat,TikTok        NaN    9   \n83             Instagram,Snapchat,TikTok        NaN    2   \n91             Instagram,Snapchat,TikTok        NaN    5   \n92              Instagram,Twitter,TikTok        NaN    4   \n96             Instagram,WhatsApp,TikTok        NaN    1   \n99             Instagram,Snapchat,TikTok        NaN    4   \n103            Instagram,Snapchat,TikTok        NaN    0   \n104           Instagram,Snapchat,Twitter        NaN    1   \n105            Instagram,Snapchat,TikTok        NaN    1   \n110             Instagram,Twitter,TikTok        NaN    1   \n112                             Snapchat        NaN    1   \n116            Instagram,Snapchat,TikTok        NaN    4   \n117            Instagram,Snapchat,TikTok        NaN    2   \n121            Instagram,Snapchat,TikTok        NaN    4   \n124            Instagram,Snapchat,TikTok        NaN    5   \n129            Instagram,Snapchat,TikTok        NaN    2   \n131              Snapchat,Twitter,TikTok        NaN    6   \n132           Instagram,LinkedIn,Twitter        NaN    6   \n133            Instagram,Snapchat,TikTok        NaN    4   \n134                                  NaN        NaN  NaN   \n141                                  NaN        NaN  NaN   \n\n                       Q3                                                 Q4  \\\n6              Less often  Staying in touch with friends and/or family,Ne...   \n12                  Never  Staying in touch with friends and/or family,Ne...   \n13             Less often  Staying updated on current events,Finding ente...   \n19    Several times a day  Staying in touch with friends and/or family,Sh...   \n22    Several times a day  Staying updated on current events,Sharing phot...   \n24             Less often  Staying updated on current events,Finding ente...   \n28             Less often  Staying updated on current events,Finding ente...   \n29                  Never        Staying in touch with friends and/or family   \n37             Less often  Staying updated on current events,Finding ente...   \n38             Less often  Staying in touch with friends and/or family,Fi...   \n43       About once a day  Staying in touch with friends and/or family,St...   \n45   Once every few weeks  Finding entertaining content,Sharing photos an...   \n47   Once every few weeks  Staying in touch with friends and/or family,Sh...   \n50             Less often  Staying in touch with friends and/or family,Fi...   \n57             Less often  Staying in touch with friends and/or family,St...   \n58             Less often  Staying in touch with friends and/or family,St...   \n59      About once a week  Meeting other people,Finding entertaining cont...   \n61    Several times a day  Staying updated on current events,Sharing phot...   \n63             Less often  Staying in touch with friends and/or family,Ne...   \n65             Less often  Staying updated on current events,Finding ente...   \n67    Several times a day  Staying updated on current events,Finding ente...   \n72   Once every few weeks  Staying in touch with friends and/or family,Fi...   \n73             Less often  Staying in touch with friends and/or family,Fi...   \n75   Once every few weeks  Staying in touch with friends and/or family,Fi...   \n78             Less often  Staying updated on current events,Finding ente...   \n79             Less often  Staying updated on current events,Finding ente...   \n83   Several times a week  Staying in touch with friends and/or family,Fi...   \n91   Once every few weeks  Staying in touch with friends and/or family,St...   \n92   Several times a week  Staying updated on current events,Finding ente...   \n96             Less often  Staying in touch with friends and/or family,Fi...   \n99             Less often  Staying in touch with friends and/or family,Fi...   \n103            Less often  Staying in touch with friends and/or family,St...   \n104            Less often  Staying in touch with friends and/or family,Sh...   \n105                 Never  Staying in touch with friends and/or family,St...   \n110            Less often  Staying in touch with friends and/or family,Fi...   \n112            Less often  Staying in touch with friends and/or family,Ne...   \n116     About once a week  Staying in touch with friends and/or family,St...   \n117            Less often  Staying in touch with friends and/or family,Fi...   \n121     About once a week  Staying in touch with friends and/or family,Sh...   \n124  Once every few weeks  Staying in touch with friends and/or family,Me...   \n129                 Never  Staying in touch with friends and/or family,Fi...   \n131   Several times a day  Staying in touch with friends and/or family,Fi...   \n132  Several times a week  Staying updated on current events,Finding ente...   \n133     About once a week  Staying updated on current events,Finding ente...   \n134                   NaN                                                NaN   \n141                   NaN                                                NaN   \n\n    Q4_10_TEXT Q9_1                                                Q11  \\\n6          NaN    4                                 Instagram,Snapchat   \n12         NaN    2  Facebook,Facebook Messenger,Instagram,LinkedIn...   \n13         NaN    2  Instagram,LinkedIn,Snapchat,Twitter,GroupMe,Ti...   \n19         NaN    3                         Instagram,Snapchat,GroupMe   \n22         NaN    2       Facebook Messenger,Instagram,Twitter,GroupMe   \n24         NaN    3                     Snapchat,Twitter,GroupMe,Other   \n28         NaN    1              Facebook Messenger,Instagram,Snapchat   \n29         NaN   -1                                           Snapchat   \n37         NaN    2      Facebook Messenger,Instagram,WhatsApp,GroupMe   \n38         NaN    2                  Instagram,Snapchat,WhatsApp,Other   \n43         NaN    0  Facebook,Facebook Messenger,Instagram,Snapchat...   \n45         NaN    1      Facebook Messenger,Instagram,Snapchat,GroupMe   \n47         NaN    1                          Instagram,Snapchat,TikTok   \n50         NaN    1     Facebook,Facebook Messenger,Instagram,LinkedIn   \n57         NaN    1              Facebook,Facebook Messenger,Instagram   \n58         NaN    5                        Facebook,Instagram,Snapchat   \n59         NaN    4  Facebook,Facebook Messenger,Instagram,LinkedIn...   \n61         NaN   -2  Facebook,Instagram,LinkedIn,Snapchat,Twitter,G...   \n63         NaN   -2  Facebook,Facebook Messenger,Instagram,LinkedIn...   \n65         NaN    0                         Instagram,Snapchat,Twitter   \n67         NaN    2                Instagram,LinkedIn,Twitter,WhatsApp   \n72         NaN    1                                 Instagram,Snapchat   \n73         NaN    0     Facebook,Facebook Messenger,Instagram,LinkedIn   \n75         NaN   -2                         Instagram,Twitter,WhatsApp   \n78         NaN    1                         Instagram,Snapchat,GroupMe   \n79         NaN    5                           Instagram,Twitter,TikTok   \n83         NaN    2  Facebook,Facebook Messenger,Instagram,Snapchat...   \n91         NaN    4  Facebook,Facebook Messenger,Instagram,Snapchat...   \n92         NaN    4                                 Instagram,Snapchat   \n96         NaN    1  Facebook,Instagram,Snapchat,Twitter,WhatsApp,G...   \n99         NaN    1  Instagram,LinkedIn,Snapchat,WhatsApp,GroupMe,T...   \n103        NaN    1                                              Other   \n104        NaN   -4  Facebook,Facebook Messenger,Instagram,Snapchat...   \n105        NaN    4                        Facebook Messenger,LinkedIn   \n110        NaN   -4               Facebook,Facebook Messenger,Snapchat   \n112        NaN    1                                           Snapchat   \n116        NaN    1                                  Instagram,Twitter   \n117        NaN    1                Facebook,Instagram,Snapchat,GroupMe   \n121        NaN    3                                 Instagram,Snapchat   \n124        NaN    4                           Instagram,Snapchat,Other   \n129        NaN    2                         Instagram,WhatsApp,GroupMe   \n131        NaN    5                                           Snapchat   \n132        NaN   10                          Instagram,Snapchat,TikTok   \n133        NaN    4  Facebook,Facebook Messenger,Instagram,Snapchat...   \n134        NaN  NaN                                                NaN   \n141        NaN  NaN                                                NaN   \n\n    Q11_10_TEXT                                                Q12  \n6           NaN           Facebook,LinkedIn,Twitter,GroupMe,TikTok  \n12       Reddit         Facebook,Facebook Messenger,LinkedIn,Other  \n13          NaN         Instagram,LinkedIn,Snapchat,Twitter,TikTok  \n19          NaN  Facebook,Facebook Messenger,Instagram,Snapchat...  \n22          NaN        Facebook Messenger,LinkedIn,Twitter,GroupMe  \n24      YouTube  Facebook,Facebook Messenger,Instagram,Snapchat...  \n28          NaN      Facebook,Facebook Messenger,Instagram,GroupMe  \n29          NaN                                      GroupMe,Other  \n37          NaN  Facebook Messenger,Instagram,WhatsApp,GroupMe,...  \n38       Reddit  Facebook Messenger,Instagram,Snapchat,WhatsApp...  \n43          NaN  Facebook,Facebook Messenger,Instagram,Snapchat...  \n45          NaN  Facebook,Facebook Messenger,Instagram,LinkedIn...  \n47          NaN         Instagram,LinkedIn,Snapchat,GroupMe,TikTok  \n50          NaN  Facebook,Facebook Messenger,Instagram,LinkedIn...  \n57          NaN  Facebook,Facebook Messenger,Instagram,LinkedIn...  \n58          NaN                         Instagram,Snapchat,GroupMe  \n59          NaN  Facebook,Facebook Messenger,Instagram,LinkedIn...  \n61          NaN                          Instagram,Snapchat,TikTok  \n63          NaN  Facebook,Facebook Messenger,Instagram,LinkedIn...  \n65          NaN                  Instagram,Snapchat,Twitter,TikTok  \n67          NaN  Facebook,Facebook Messenger,Instagram,LinkedIn...  \n72          NaN                  Instagram,Snapchat,GroupMe,TikTok  \n73          NaN      Facebook Messenger,Instagram,LinkedIn,GroupMe  \n75          NaN                            WhatsApp,GroupMe,TikTok  \n78          NaN      Facebook Messenger,Instagram,Snapchat,GroupMe  \n79          NaN          Facebook,Instagram,Twitter,GroupMe,TikTok  \n83          NaN  Facebook,Facebook Messenger,Instagram,Snapchat...  \n91          NaN      Facebook,Facebook Messenger,Instagram,GroupMe  \n92          NaN                         Instagram,LinkedIn,Twitter  \n96          NaN  Facebook,Facebook Messenger,Instagram,LinkedIn...  \n99          NaN  Facebook,Instagram,LinkedIn,Snapchat,WhatsApp,...  \n103        None                Facebook,Facebook Messenger,GroupMe  \n104         NaN                         Facebook Messenger,GroupMe  \n105         NaN                                            Twitter  \n110         NaN       Facebook,Facebook Messenger,LinkedIn,GroupMe  \n112         NaN                        Facebook,Instagram,Snapchat  \n116         NaN                          Instagram,Twitter,GroupMe  \n117         NaN  Facebook,Facebook Messenger,Instagram,Snapchat...  \n121         NaN                                             TikTok  \n124     Discord  Instagram,LinkedIn,Snapchat,Twitter,GroupMe,Ti...  \n129         NaN                         Instagram,WhatsApp,GroupMe  \n131         NaN  Facebook,Facebook Messenger,Instagram,LinkedIn...  \n132         NaN  Facebook,Facebook Messenger,Instagram,Snapchat...  \n133         NaN                 Instagram,Snapchat,Twitter,GroupMe  \n134         NaN                                                NaN  \n141         NaN                                                NaN  \n\n[46 rows x 24 columns]",
            "text/html": "<div>\n<style scoped>\n    .dataframe tbody tr th:only-of-type {\n        vertical-align: middle;\n    }\n\n    .dataframe tbody tr th {\n        vertical-align: top;\n    }\n\n    .dataframe thead th {\n        text-align: right;\n    }\n</style>\n<table border=\"1\" class=\"dataframe\">\n  <thead>\n    <tr style=\"text-align: right;\">\n      <th></th>\n      <th>Q14</th>\n      <th>Q14_8_TEXT</th>\n      <th>Q15</th>\n      <th>Q15_4_TEXT</th>\n      <th>Q20</th>\n      <th>Q16</th>\n      <th>Q17</th>\n      <th>Q18</th>\n      <th>Q19</th>\n      <th>Q24_1</th>\n      <th>...</th>\n      <th>Q6</th>\n      <th>Q6_10_TEXT</th>\n      <th>Q2_1</th>\n      <th>Q3</th>\n      <th>Q4</th>\n      <th>Q4_10_TEXT</th>\n      <th>Q9_1</th>\n      <th>Q11</th>\n      <th>Q11_10_TEXT</th>\n      <th>Q12</th>\n    </tr>\n  </thead>\n  <tbody>\n    <tr>\n      <th>6</th>\n      <td>Native Hawaiian or Pacific Islander</td>\n      <td>NaN</td>\n      <td>Female</td>\n      <td>NaN</td>\n      <td>2024</td>\n      <td>Yes</td>\n      <td>No</td>\n      <td>NaN</td>\n      <td>New York</td>\n      <td>3</td>\n      <td>...</td>\n      <td>Instagram,Snapchat,TikTok</td>\n      <td>NaN</td>\n      <td>6</td>\n      <td>Less often</td>\n      <td>Staying in touch with friends and/or family,Ne...</td>\n      <td>NaN</td>\n      <td>4</td>\n      <td>Instagram,Snapchat</td>\n      <td>NaN</td>\n      <td>Facebook,LinkedIn,Twitter,GroupMe,TikTok</td>\n    </tr>\n    <tr>\n      <th>12</th>\n      <td>Asian or Asian American</td>\n      <td>NaN</td>\n      <td>Male</td>\n      <td>NaN</td>\n      <td>2024</td>\n      <td>No</td>\n      <td>No</td>\n      <td>NaN</td>\n      <td>New Jersey</td>\n      <td>2</td>\n      <td>...</td>\n      <td>Facebook,Instagram,Snapchat</td>\n      <td>NaN</td>\n      <td>3</td>\n      <td>Never</td>\n      <td>Staying in touch with friends and/or family,Ne...</td>\n      <td>NaN</td>\n      <td>2</td>\n      <td>Facebook,Facebook Messenger,Instagram,LinkedIn...</td>\n      <td>Reddit</td>\n      <td>Facebook,Facebook Messenger,LinkedIn,Other</td>\n    </tr>\n    <tr>\n      <th>13</th>\n      <td>Hispanic or Latinx</td>\n      <td>NaN</td>\n      <td>Male</td>\n      <td>NaN</td>\n      <td>2024</td>\n      <td>Yes</td>\n      <td>No</td>\n      <td>NaN</td>\n      <td>Connecticut</td>\n      <td>1</td>\n      <td>...</td>\n      <td>Instagram,Snapchat,TikTok</td>\n      <td>NaN</td>\n      <td>4</td>\n      <td>Less often</td>\n      <td>Staying updated on current events,Finding ente...</td>\n      <td>NaN</td>\n      <td>2</td>\n      <td>Instagram,LinkedIn,Snapchat,Twitter,GroupMe,Ti...</td>\n      <td>NaN</td>\n      <td>Instagram,LinkedIn,Snapchat,Twitter,TikTok</td>\n    </tr>\n    <tr>\n      <th>19</th>\n      <td>Middle Eastern or North African</td>\n      <td>NaN</td>\n      <td>Female</td>\n      <td>NaN</td>\n      <td>2024</td>\n      <td>No</td>\n      <td>No</td>\n      <td>NaN</td>\n      <td>New York</td>\n      <td>3</td>\n      <td>...</td>\n      <td>Instagram,Snapchat,TikTok</td>\n      <td>NaN</td>\n      <td>3</td>\n      <td>Several times a day</td>\n      <td>Staying in touch with friends and/or family,Sh...</td>\n      <td>NaN</td>\n      <td>3</td>\n      <td>Instagram,Snapchat,GroupMe</td>\n      <td>NaN</td>\n      <td>Facebook,Facebook Messenger,Instagram,Snapchat...</td>\n    </tr>\n    <tr>\n      <th>22</th>\n      <td>White</td>\n      <td>NaN</td>\n      <td>Male</td>\n      <td>NaN</td>\n      <td>2024</td>\n      <td>No</td>\n      <td>No</td>\n      <td>NaN</td>\n      <td>Massachusetts</td>\n      <td>2</td>\n      <td>...</td>\n      <td>Instagram,Snapchat,TikTok</td>\n      <td>NaN</td>\n      <td>2</td>\n      <td>Several times a day</td>\n      <td>Staying updated on current events,Sharing phot...</td>\n      <td>NaN</td>\n      <td>2</td>\n      <td>Facebook Messenger,Instagram,Twitter,GroupMe</td>\n      <td>NaN</td>\n      <td>Facebook Messenger,LinkedIn,Twitter,GroupMe</td>\n    </tr>\n    <tr>\n      <th>24</th>\n      <td>Asian or Asian American</td>\n      <td>NaN</td>\n      <td>Female</td>\n      <td>NaN</td>\n      <td>2024</td>\n      <td>Yes</td>\n      <td>No</td>\n      <td>NaN</td>\n      <td>New Jersey</td>\n      <td>1</td>\n      <td>...</td>\n      <td>Instagram,Snapchat,TikTok</td>\n      <td>NaN</td>\n      <td>4</td>\n      <td>Less often</td>\n      <td>Staying updated on current events,Finding ente...</td>\n      <td>NaN</td>\n      <td>3</td>\n      <td>Snapchat,Twitter,GroupMe,Other</td>\n      <td>YouTube</td>\n      <td>Facebook,Facebook Messenger,Instagram,Snapchat...</td>\n    </tr>\n    <tr>\n      <th>28</th>\n      <td>Other</td>\n      <td>Multiracial</td>\n      <td>Female</td>\n      <td>NaN</td>\n      <td>2024</td>\n      <td>No</td>\n      <td>No</td>\n      <td>NaN</td>\n      <td>Maryland</td>\n      <td>2</td>\n      <td>...</td>\n      <td>Instagram,Snapchat,TikTok</td>\n      <td>NaN</td>\n      <td>2</td>\n      <td>Less often</td>\n      <td>Staying updated on current events,Finding ente...</td>\n      <td>NaN</td>\n      <td>1</td>\n      <td>Facebook Messenger,Instagram,Snapchat</td>\n      <td>NaN</td>\n      <td>Facebook,Facebook Messenger,Instagram,GroupMe</td>\n    </tr>\n    <tr>\n      <th>29</th>\n      <td>White</td>\n      <td>NaN</td>\n      <td>Male</td>\n      <td>NaN</td>\n      <td>2024</td>\n      <td>No</td>\n      <td>No</td>\n      <td>NaN</td>\n      <td>South Dakota</td>\n      <td>0</td>\n      <td>...</td>\n      <td>Instagram,Twitter,TikTok</td>\n      <td>NaN</td>\n      <td>0</td>\n      <td>Never</td>\n      <td>Staying in touch with friends and/or family</td>\n      <td>NaN</td>\n      <td>-1</td>\n      <td>Snapchat</td>\n      <td>NaN</td>\n      <td>GroupMe,Other</td>\n    </tr>\n    <tr>\n      <th>37</th>\n      <td>Middle Eastern or North African</td>\n      <td>NaN</td>\n      <td>Female</td>\n      <td>NaN</td>\n      <td>2024</td>\n      <td>No</td>\n      <td>Yes</td>\n      <td>Lebanon</td>\n      <td>NaN</td>\n      <td>2</td>\n      <td>...</td>\n      <td>Instagram,Snapchat,TikTok</td>\n      <td>NaN</td>\n      <td>5</td>\n      <td>Less often</td>\n      <td>Staying updated on current events,Finding ente...</td>\n      <td>NaN</td>\n      <td>2</td>\n      <td>Facebook Messenger,Instagram,WhatsApp,GroupMe</td>\n      <td>NaN</td>\n      <td>Facebook Messenger,Instagram,WhatsApp,GroupMe,...</td>\n    </tr>\n    <tr>\n      <th>38</th>\n      <td>Asian or Asian American</td>\n      <td>NaN</td>\n      <td>Female</td>\n      <td>NaN</td>\n      <td>2024</td>\n      <td>No</td>\n      <td>No</td>\n      <td>NaN</td>\n      <td>IL</td>\n      <td>1</td>\n      <td>...</td>\n      <td>Instagram,Snapchat,TikTok</td>\n      <td>NaN</td>\n      <td>3</td>\n      <td>Less often</td>\n      <td>Staying in touch with friends and/or family,Fi...</td>\n      <td>NaN</td>\n      <td>2</td>\n      <td>Instagram,Snapchat,WhatsApp,Other</td>\n      <td>Reddit</td>\n      <td>Facebook Messenger,Instagram,Snapchat,WhatsApp...</td>\n    </tr>\n    <tr>\n      <th>43</th>\n      <td>Asian or Asian American</td>\n      <td>NaN</td>\n      <td>Male</td>\n      <td>NaN</td>\n      <td>2024</td>\n      <td>No</td>\n      <td>No</td>\n      <td>NaN</td>\n      <td>Massachusetts</td>\n      <td>2</td>\n      <td>...</td>\n      <td>Instagram,Snapchat,TikTok</td>\n      <td>NaN</td>\n      <td>1</td>\n      <td>About once a day</td>\n      <td>Staying in touch with friends and/or family,St...</td>\n      <td>NaN</td>\n      <td>0</td>\n      <td>Facebook,Facebook Messenger,Instagram,Snapchat...</td>\n      <td>NaN</td>\n      <td>Facebook,Facebook Messenger,Instagram,Snapchat...</td>\n    </tr>\n    <tr>\n      <th>45</th>\n      <td>Asian or Asian American</td>\n      <td>NaN</td>\n      <td>Female</td>\n      <td>NaN</td>\n      <td>2024</td>\n      <td>No</td>\n      <td>No</td>\n      <td>NaN</td>\n      <td>Texas</td>\n      <td>3</td>\n      <td>...</td>\n      <td>Instagram,Snapchat,TikTok</td>\n      <td>NaN</td>\n      <td>1</td>\n      <td>Once every few weeks</td>\n      <td>Finding entertaining content,Sharing photos an...</td>\n      <td>NaN</td>\n      <td>1</td>\n      <td>Facebook Messenger,Instagram,Snapchat,GroupMe</td>\n      <td>NaN</td>\n      <td>Facebook,Facebook Messenger,Instagram,LinkedIn...</td>\n    </tr>\n    <tr>\n      <th>47</th>\n      <td>White</td>\n      <td>NaN</td>\n      <td>Female</td>\n      <td>NaN</td>\n      <td>2024</td>\n      <td>Yes</td>\n      <td>No</td>\n      <td>NaN</td>\n      <td>MA</td>\n      <td>3</td>\n      <td>...</td>\n      <td>Instagram,Snapchat,TikTok</td>\n      <td>NaN</td>\n      <td>3</td>\n      <td>Once every few weeks</td>\n      <td>Staying in touch with friends and/or family,Sh...</td>\n      <td>NaN</td>\n      <td>1</td>\n      <td>Instagram,Snapchat,TikTok</td>\n      <td>NaN</td>\n      <td>Instagram,LinkedIn,Snapchat,GroupMe,TikTok</td>\n    </tr>\n    <tr>\n      <th>50</th>\n      <td>Asian or Asian American</td>\n      <td>NaN</td>\n      <td>Male</td>\n      <td>NaN</td>\n      <td>2024</td>\n      <td>No</td>\n      <td>Yes</td>\n      <td>Canada</td>\n      <td>NaN</td>\n      <td>1</td>\n      <td>...</td>\n      <td>Instagram,Snapchat,TikTok</td>\n      <td>NaN</td>\n      <td>1</td>\n      <td>Less often</td>\n      <td>Staying in touch with friends and/or family,Fi...</td>\n      <td>NaN</td>\n      <td>1</td>\n      <td>Facebook,Facebook Messenger,Instagram,LinkedIn</td>\n      <td>NaN</td>\n      <td>Facebook,Facebook Messenger,Instagram,LinkedIn...</td>\n    </tr>\n    <tr>\n      <th>57</th>\n      <td>White</td>\n      <td>NaN</td>\n      <td>Female</td>\n      <td>NaN</td>\n      <td>2024</td>\n      <td>No</td>\n      <td>No</td>\n      <td>NaN</td>\n      <td>California</td>\n      <td>2</td>\n      <td>...</td>\n      <td>Facebook Messenger,Instagram,TikTok</td>\n      <td>NaN</td>\n      <td>1</td>\n      <td>Less often</td>\n      <td>Staying in touch with friends and/or family,St...</td>\n      <td>NaN</td>\n      <td>1</td>\n      <td>Facebook,Facebook Messenger,Instagram</td>\n      <td>NaN</td>\n      <td>Facebook,Facebook Messenger,Instagram,LinkedIn...</td>\n    </tr>\n    <tr>\n      <th>58</th>\n      <td>White</td>\n      <td>NaN</td>\n      <td>Male</td>\n      <td>NaN</td>\n      <td>2024</td>\n      <td>No</td>\n      <td>No</td>\n      <td>NaN</td>\n      <td>Maine</td>\n      <td>2</td>\n      <td>...</td>\n      <td>Instagram,Snapchat,TikTok</td>\n      <td>NaN</td>\n      <td>4</td>\n      <td>Less often</td>\n      <td>Staying in touch with friends and/or family,St...</td>\n      <td>NaN</td>\n      <td>5</td>\n      <td>Facebook,Instagram,Snapchat</td>\n      <td>NaN</td>\n      <td>Instagram,Snapchat,GroupMe</td>\n    </tr>\n    <tr>\n      <th>59</th>\n      <td>Asian or Asian American</td>\n      <td>NaN</td>\n      <td>Female</td>\n      <td>NaN</td>\n      <td>2024</td>\n      <td>No</td>\n      <td>No</td>\n      <td>NaN</td>\n      <td>texas</td>\n      <td>2</td>\n      <td>...</td>\n      <td>Instagram,LinkedIn,TikTok</td>\n      <td>NaN</td>\n      <td>3</td>\n      <td>About once a week</td>\n      <td>Meeting other people,Finding entertaining cont...</td>\n      <td>NaN</td>\n      <td>4</td>\n      <td>Facebook,Facebook Messenger,Instagram,LinkedIn...</td>\n      <td>NaN</td>\n      <td>Facebook,Facebook Messenger,Instagram,LinkedIn...</td>\n    </tr>\n    <tr>\n      <th>61</th>\n      <td>Native American</td>\n      <td>NaN</td>\n      <td>Female</td>\n      <td>NaN</td>\n      <td>2024</td>\n      <td>Yes</td>\n      <td>No</td>\n      <td>NaN</td>\n      <td>California</td>\n      <td>3</td>\n      <td>...</td>\n      <td>Snapchat,Twitter,TikTok</td>\n      <td>NaN</td>\n      <td>2</td>\n      <td>Several times a day</td>\n      <td>Staying updated on current events,Sharing phot...</td>\n      <td>NaN</td>\n      <td>-2</td>\n      <td>Facebook,Instagram,LinkedIn,Snapchat,Twitter,G...</td>\n      <td>NaN</td>\n      <td>Instagram,Snapchat,TikTok</td>\n    </tr>\n    <tr>\n      <th>63</th>\n      <td>White</td>\n      <td>NaN</td>\n      <td>Male</td>\n      <td>NaN</td>\n      <td>2024</td>\n      <td>No</td>\n      <td>No</td>\n      <td>NaN</td>\n      <td>Maryland</td>\n      <td>2</td>\n      <td>...</td>\n      <td>Instagram,Snapchat,TikTok</td>\n      <td>NaN</td>\n      <td>3</td>\n      <td>Less often</td>\n      <td>Staying in touch with friends and/or family,Ne...</td>\n      <td>NaN</td>\n      <td>-2</td>\n      <td>Facebook,Facebook Messenger,Instagram,LinkedIn...</td>\n      <td>NaN</td>\n      <td>Facebook,Facebook Messenger,Instagram,LinkedIn...</td>\n    </tr>\n    <tr>\n      <th>65</th>\n      <td>White</td>\n      <td>NaN</td>\n      <td>Female</td>\n      <td>NaN</td>\n      <td>2024</td>\n      <td>No</td>\n      <td>No</td>\n      <td>NaN</td>\n      <td>Virginia</td>\n      <td>2</td>\n      <td>...</td>\n      <td>Instagram,Snapchat,TikTok</td>\n      <td>NaN</td>\n      <td>3</td>\n      <td>Less often</td>\n      <td>Staying updated on current events,Finding ente...</td>\n      <td>NaN</td>\n      <td>0</td>\n      <td>Instagram,Snapchat,Twitter</td>\n      <td>NaN</td>\n      <td>Instagram,Snapchat,Twitter,TikTok</td>\n    </tr>\n    <tr>\n      <th>67</th>\n      <td>Black or African American</td>\n      <td>NaN</td>\n      <td>Male</td>\n      <td>NaN</td>\n      <td>2024</td>\n      <td>No</td>\n      <td>No</td>\n      <td>NaN</td>\n      <td>New York State</td>\n      <td>2</td>\n      <td>...</td>\n      <td>Instagram,Snapchat,TikTok</td>\n      <td>NaN</td>\n      <td>4</td>\n      <td>Several times a day</td>\n      <td>Staying updated on current events,Finding ente...</td>\n      <td>NaN</td>\n      <td>2</td>\n      <td>Instagram,LinkedIn,Twitter,WhatsApp</td>\n      <td>NaN</td>\n      <td>Facebook,Facebook Messenger,Instagram,LinkedIn...</td>\n    </tr>\n    <tr>\n      <th>72</th>\n      <td>White</td>\n      <td>NaN</td>\n      <td>Male</td>\n      <td>NaN</td>\n      <td>2024</td>\n      <td>No</td>\n      <td>No</td>\n      <td>NaN</td>\n      <td>Washington</td>\n      <td>2</td>\n      <td>...</td>\n      <td>Instagram,Twitter,TikTok</td>\n      <td>NaN</td>\n      <td>1</td>\n      <td>Once every few weeks</td>\n      <td>Staying in touch with friends and/or family,Fi...</td>\n      <td>NaN</td>\n      <td>1</td>\n      <td>Instagram,Snapchat</td>\n      <td>NaN</td>\n      <td>Instagram,Snapchat,GroupMe,TikTok</td>\n    </tr>\n    <tr>\n      <th>73</th>\n      <td>Asian or Asian American</td>\n      <td>NaN</td>\n      <td>Non-Binary</td>\n      <td>NaN</td>\n      <td>2024</td>\n      <td>No</td>\n      <td>No</td>\n      <td>NaN</td>\n      <td>California</td>\n      <td>1</td>\n      <td>...</td>\n      <td>Instagram,Snapchat,TikTok</td>\n      <td>NaN</td>\n      <td>2</td>\n      <td>Less often</td>\n      <td>Staying in touch with friends and/or family,Fi...</td>\n      <td>NaN</td>\n      <td>0</td>\n      <td>Facebook,Facebook Messenger,Instagram,LinkedIn</td>\n      <td>NaN</td>\n      <td>Facebook Messenger,Instagram,LinkedIn,GroupMe</td>\n    </tr>\n    <tr>\n      <th>75</th>\n      <td>White</td>\n      <td>NaN</td>\n      <td>Female</td>\n      <td>NaN</td>\n      <td>2024</td>\n      <td>No</td>\n      <td>No</td>\n      <td>NaN</td>\n      <td>Virginia</td>\n      <td>NaN</td>\n      <td>...</td>\n      <td>Instagram,Twitter,TikTok</td>\n      <td>NaN</td>\n      <td>2</td>\n      <td>Once every few weeks</td>\n      <td>Staying in touch with friends and/or family,Fi...</td>\n      <td>NaN</td>\n      <td>-2</td>\n      <td>Instagram,Twitter,WhatsApp</td>\n      <td>NaN</td>\n      <td>WhatsApp,GroupMe,TikTok</td>\n    </tr>\n    <tr>\n      <th>78</th>\n      <td>White</td>\n      <td>NaN</td>\n      <td>Female</td>\n      <td>NaN</td>\n      <td>2024</td>\n      <td>No</td>\n      <td>No</td>\n      <td>NaN</td>\n      <td>Illinois</td>\n      <td>1</td>\n      <td>...</td>\n      <td>Instagram,Snapchat,TikTok</td>\n      <td>NaN</td>\n      <td>2</td>\n      <td>Less often</td>\n      <td>Staying updated on current events,Finding ente...</td>\n      <td>NaN</td>\n      <td>1</td>\n      <td>Instagram,Snapchat,GroupMe</td>\n      <td>NaN</td>\n      <td>Facebook Messenger,Instagram,Snapchat,GroupMe</td>\n    </tr>\n    <tr>\n      <th>79</th>\n      <td>Black or African American</td>\n      <td>NaN</td>\n      <td>Female</td>\n      <td>NaN</td>\n      <td>2024</td>\n      <td>No</td>\n      <td>No</td>\n      <td>NaN</td>\n      <td>Massachusetts</td>\n      <td>0</td>\n      <td>...</td>\n      <td>Instagram,Snapchat,TikTok</td>\n      <td>NaN</td>\n      <td>9</td>\n      <td>Less often</td>\n      <td>Staying updated on current events,Finding ente...</td>\n      <td>NaN</td>\n      <td>5</td>\n      <td>Instagram,Twitter,TikTok</td>\n      <td>NaN</td>\n      <td>Facebook,Instagram,Twitter,GroupMe,TikTok</td>\n    </tr>\n    <tr>\n      <th>83</th>\n      <td>Asian or Asian American</td>\n      <td>NaN</td>\n      <td>Female</td>\n      <td>NaN</td>\n      <td>2024</td>\n      <td>Yes</td>\n      <td>No</td>\n      <td>NaN</td>\n      <td>Connecticut</td>\n      <td>1</td>\n      <td>...</td>\n      <td>Instagram,Snapchat,TikTok</td>\n      <td>NaN</td>\n      <td>2</td>\n      <td>Several times a week</td>\n      <td>Staying in touch with friends and/or family,Fi...</td>\n      <td>NaN</td>\n      <td>2</td>\n      <td>Facebook,Facebook Messenger,Instagram,Snapchat...</td>\n      <td>NaN</td>\n      <td>Facebook,Facebook Messenger,Instagram,Snapchat...</td>\n    </tr>\n    <tr>\n      <th>91</th>\n      <td>Asian or Asian American</td>\n      <td>NaN</td>\n      <td>Female</td>\n      <td>NaN</td>\n      <td>2024</td>\n      <td>Yes</td>\n      <td>No</td>\n      <td>NaN</td>\n      <td>Missouri</td>\n      <td>3</td>\n      <td>...</td>\n      <td>Instagram,Snapchat,TikTok</td>\n      <td>NaN</td>\n      <td>5</td>\n      <td>Once every few weeks</td>\n      <td>Staying in touch with friends and/or family,St...</td>\n      <td>NaN</td>\n      <td>4</td>\n      <td>Facebook,Facebook Messenger,Instagram,Snapchat...</td>\n      <td>NaN</td>\n      <td>Facebook,Facebook Messenger,Instagram,GroupMe</td>\n    </tr>\n    <tr>\n      <th>92</th>\n      <td>Hispanic or Latinx</td>\n      <td>NaN</td>\n      <td>Female</td>\n      <td>NaN</td>\n      <td>2024</td>\n      <td>Yes</td>\n      <td>No</td>\n      <td>NaN</td>\n      <td>California</td>\n      <td>0</td>\n      <td>...</td>\n      <td>Instagram,Twitter,TikTok</td>\n      <td>NaN</td>\n      <td>4</td>\n      <td>Several times a week</td>\n      <td>Staying updated on current events,Finding ente...</td>\n      <td>NaN</td>\n      <td>4</td>\n      <td>Instagram,Snapchat</td>\n      <td>NaN</td>\n      <td>Instagram,LinkedIn,Twitter</td>\n    </tr>\n    <tr>\n      <th>96</th>\n      <td>White</td>\n      <td>NaN</td>\n      <td>Female</td>\n      <td>NaN</td>\n      <td>2024</td>\n      <td>No</td>\n      <td>No</td>\n      <td>NaN</td>\n      <td>california</td>\n      <td>2</td>\n      <td>...</td>\n      <td>Instagram,WhatsApp,TikTok</td>\n      <td>NaN</td>\n      <td>1</td>\n      <td>Less often</td>\n      <td>Staying in touch with friends and/or family,Fi...</td>\n      <td>NaN</td>\n      <td>1</td>\n      <td>Facebook,Instagram,Snapchat,Twitter,WhatsApp,G...</td>\n      <td>NaN</td>\n      <td>Facebook,Facebook Messenger,Instagram,LinkedIn...</td>\n    </tr>\n    <tr>\n      <th>99</th>\n      <td>White</td>\n      <td>NaN</td>\n      <td>Female</td>\n      <td>NaN</td>\n      <td>2024</td>\n      <td>No</td>\n      <td>No</td>\n      <td>NaN</td>\n      <td>TX</td>\n      <td>2</td>\n      <td>...</td>\n      <td>Instagram,Snapchat,TikTok</td>\n      <td>NaN</td>\n      <td>4</td>\n      <td>Less often</td>\n      <td>Staying in touch with friends and/or family,Fi...</td>\n      <td>NaN</td>\n      <td>1</td>\n      <td>Instagram,LinkedIn,Snapchat,WhatsApp,GroupMe,T...</td>\n      <td>NaN</td>\n      <td>Facebook,Instagram,LinkedIn,Snapchat,WhatsApp,...</td>\n    </tr>\n    <tr>\n      <th>103</th>\n      <td>White</td>\n      <td>NaN</td>\n      <td>Female</td>\n      <td>NaN</td>\n      <td>2024</td>\n      <td>No</td>\n      <td>No</td>\n      <td>NaN</td>\n      <td>CT</td>\n      <td>NaN</td>\n      <td>...</td>\n      <td>Instagram,Snapchat,TikTok</td>\n      <td>NaN</td>\n      <td>0</td>\n      <td>Less often</td>\n      <td>Staying in touch with friends and/or family,St...</td>\n      <td>NaN</td>\n      <td>1</td>\n      <td>Other</td>\n      <td>None</td>\n      <td>Facebook,Facebook Messenger,GroupMe</td>\n    </tr>\n    <tr>\n      <th>104</th>\n      <td>Asian or Asian American</td>\n      <td>NaN</td>\n      <td>Male</td>\n      <td>NaN</td>\n      <td>2024</td>\n      <td>Yes</td>\n      <td>No</td>\n      <td>NaN</td>\n      <td>California</td>\n      <td>2</td>\n      <td>...</td>\n      <td>Instagram,Snapchat,Twitter</td>\n      <td>NaN</td>\n      <td>1</td>\n      <td>Less often</td>\n      <td>Staying in touch with friends and/or family,Sh...</td>\n      <td>NaN</td>\n      <td>-4</td>\n      <td>Facebook,Facebook Messenger,Instagram,Snapchat...</td>\n      <td>NaN</td>\n      <td>Facebook Messenger,GroupMe</td>\n    </tr>\n    <tr>\n      <th>105</th>\n      <td>Asian or Asian American</td>\n      <td>NaN</td>\n      <td>Female</td>\n      <td>NaN</td>\n      <td>2024</td>\n      <td>Yes</td>\n      <td>No</td>\n      <td>NaN</td>\n      <td>CA</td>\n      <td>0</td>\n      <td>...</td>\n      <td>Instagram,Snapchat,TikTok</td>\n      <td>NaN</td>\n      <td>1</td>\n      <td>Never</td>\n      <td>Staying in touch with friends and/or family,St...</td>\n      <td>NaN</td>\n      <td>4</td>\n      <td>Facebook Messenger,LinkedIn</td>\n      <td>NaN</td>\n      <td>Twitter</td>\n    </tr>\n    <tr>\n      <th>110</th>\n      <td>Asian or Asian American</td>\n      <td>NaN</td>\n      <td>Male</td>\n      <td>NaN</td>\n      <td>2024</td>\n      <td>No</td>\n      <td>No</td>\n      <td>NaN</td>\n      <td>Michigan</td>\n      <td>0</td>\n      <td>...</td>\n      <td>Instagram,Twitter,TikTok</td>\n      <td>NaN</td>\n      <td>1</td>\n      <td>Less often</td>\n      <td>Staying in touch with friends and/or family,Fi...</td>\n      <td>NaN</td>\n      <td>-4</td>\n      <td>Facebook,Facebook Messenger,Snapchat</td>\n      <td>NaN</td>\n      <td>Facebook,Facebook Messenger,LinkedIn,GroupMe</td>\n    </tr>\n    <tr>\n      <th>112</th>\n      <td>White</td>\n      <td>NaN</td>\n      <td>Male</td>\n      <td>NaN</td>\n      <td>2024</td>\n      <td>No</td>\n      <td>No</td>\n      <td>NaN</td>\n      <td>Minnesota</td>\n      <td>1</td>\n      <td>...</td>\n      <td>Snapchat</td>\n      <td>NaN</td>\n      <td>1</td>\n      <td>Less often</td>\n      <td>Staying in touch with friends and/or family,Ne...</td>\n      <td>NaN</td>\n      <td>1</td>\n      <td>Snapchat</td>\n      <td>NaN</td>\n      <td>Facebook,Instagram,Snapchat</td>\n    </tr>\n    <tr>\n      <th>116</th>\n      <td>Hispanic or Latinx</td>\n      <td>NaN</td>\n      <td>Female</td>\n      <td>NaN</td>\n      <td>2024</td>\n      <td>Yes</td>\n      <td>No</td>\n      <td>NaN</td>\n      <td>California</td>\n      <td>2</td>\n      <td>...</td>\n      <td>Instagram,Snapchat,TikTok</td>\n      <td>NaN</td>\n      <td>4</td>\n      <td>About once a week</td>\n      <td>Staying in touch with friends and/or family,St...</td>\n      <td>NaN</td>\n      <td>1</td>\n      <td>Instagram,Twitter</td>\n      <td>NaN</td>\n      <td>Instagram,Twitter,GroupMe</td>\n    </tr>\n    <tr>\n      <th>117</th>\n      <td>Asian or Asian American</td>\n      <td>NaN</td>\n      <td>Female</td>\n      <td>NaN</td>\n      <td>2024</td>\n      <td>No</td>\n      <td>No</td>\n      <td>NaN</td>\n      <td>MA</td>\n      <td>2</td>\n      <td>...</td>\n      <td>Instagram,Snapchat,TikTok</td>\n      <td>NaN</td>\n      <td>2</td>\n      <td>Less often</td>\n      <td>Staying in touch with friends and/or family,Fi...</td>\n      <td>NaN</td>\n      <td>1</td>\n      <td>Facebook,Instagram,Snapchat,GroupMe</td>\n      <td>NaN</td>\n      <td>Facebook,Facebook Messenger,Instagram,Snapchat...</td>\n    </tr>\n    <tr>\n      <th>121</th>\n      <td>Hispanic or Latinx</td>\n      <td>NaN</td>\n      <td>Female</td>\n      <td>NaN</td>\n      <td>2024</td>\n      <td>Yes</td>\n      <td>No</td>\n      <td>NaN</td>\n      <td>california</td>\n      <td>NaN</td>\n      <td>...</td>\n      <td>Instagram,Snapchat,TikTok</td>\n      <td>NaN</td>\n      <td>4</td>\n      <td>About once a week</td>\n      <td>Staying in touch with friends and/or family,Sh...</td>\n      <td>NaN</td>\n      <td>3</td>\n      <td>Instagram,Snapchat</td>\n      <td>NaN</td>\n      <td>TikTok</td>\n    </tr>\n    <tr>\n      <th>124</th>\n      <td>Black or African American</td>\n      <td>NaN</td>\n      <td>Male</td>\n      <td>NaN</td>\n      <td>2024</td>\n      <td>Yes</td>\n      <td>No</td>\n      <td>NaN</td>\n      <td>Massachusetts</td>\n      <td>2</td>\n      <td>...</td>\n      <td>Instagram,Snapchat,TikTok</td>\n      <td>NaN</td>\n      <td>5</td>\n      <td>Once every few weeks</td>\n      <td>Staying in touch with friends and/or family,Me...</td>\n      <td>NaN</td>\n      <td>4</td>\n      <td>Instagram,Snapchat,Other</td>\n      <td>Discord</td>\n      <td>Instagram,LinkedIn,Snapchat,Twitter,GroupMe,Ti...</td>\n    </tr>\n    <tr>\n      <th>129</th>\n      <td>Hispanic or Latinx</td>\n      <td>NaN</td>\n      <td>Female</td>\n      <td>NaN</td>\n      <td>2024</td>\n      <td>Yes</td>\n      <td>No</td>\n      <td>NaN</td>\n      <td>Texas</td>\n      <td>2</td>\n      <td>...</td>\n      <td>Instagram,Snapchat,TikTok</td>\n      <td>NaN</td>\n      <td>2</td>\n      <td>Never</td>\n      <td>Staying in touch with friends and/or family,Fi...</td>\n      <td>NaN</td>\n      <td>2</td>\n      <td>Instagram,WhatsApp,GroupMe</td>\n      <td>NaN</td>\n      <td>Instagram,WhatsApp,GroupMe</td>\n    </tr>\n    <tr>\n      <th>131</th>\n      <td>Black or African American</td>\n      <td>NaN</td>\n      <td>Female</td>\n      <td>NaN</td>\n      <td>2024</td>\n      <td>No</td>\n      <td>Yes</td>\n      <td>Canada</td>\n      <td>NaN</td>\n      <td>1</td>\n      <td>...</td>\n      <td>Snapchat,Twitter,TikTok</td>\n      <td>NaN</td>\n      <td>6</td>\n      <td>Several times a day</td>\n      <td>Staying in touch with friends and/or family,Fi...</td>\n      <td>NaN</td>\n      <td>5</td>\n      <td>Snapchat</td>\n      <td>NaN</td>\n      <td>Facebook,Facebook Messenger,Instagram,LinkedIn...</td>\n    </tr>\n    <tr>\n      <th>132</th>\n      <td>Black or African American</td>\n      <td>NaN</td>\n      <td>Female</td>\n      <td>NaN</td>\n      <td>2024</td>\n      <td>Yes</td>\n      <td>No</td>\n      <td>NaN</td>\n      <td>Texas</td>\n      <td>2</td>\n      <td>...</td>\n      <td>Instagram,LinkedIn,Twitter</td>\n      <td>NaN</td>\n      <td>6</td>\n      <td>Several times a week</td>\n      <td>Staying updated on current events,Finding ente...</td>\n      <td>NaN</td>\n      <td>10</td>\n      <td>Instagram,Snapchat,TikTok</td>\n      <td>NaN</td>\n      <td>Facebook,Facebook Messenger,Instagram,Snapchat...</td>\n    </tr>\n    <tr>\n      <th>133</th>\n      <td>Black or African American</td>\n      <td>NaN</td>\n      <td>Non-Binary</td>\n      <td>NaN</td>\n      <td>2024</td>\n      <td>No</td>\n      <td>No</td>\n      <td>NaN</td>\n      <td>Texas</td>\n      <td>2</td>\n      <td>...</td>\n      <td>Instagram,Snapchat,TikTok</td>\n      <td>NaN</td>\n      <td>4</td>\n      <td>About once a week</td>\n      <td>Staying updated on current events,Finding ente...</td>\n      <td>NaN</td>\n      <td>4</td>\n      <td>Facebook,Facebook Messenger,Instagram,Snapchat...</td>\n      <td>NaN</td>\n      <td>Instagram,Snapchat,Twitter,GroupMe</td>\n    </tr>\n    <tr>\n      <th>134</th>\n      <td>Hispanic or Latinx</td>\n      <td>NaN</td>\n      <td>Male</td>\n      <td>NaN</td>\n      <td>2024</td>\n      <td>Yes</td>\n      <td>No</td>\n      <td>NaN</td>\n      <td>IA</td>\n      <td>NaN</td>\n      <td>...</td>\n      <td>NaN</td>\n      <td>NaN</td>\n      <td>NaN</td>\n      <td>NaN</td>\n      <td>NaN</td>\n      <td>NaN</td>\n      <td>NaN</td>\n      <td>NaN</td>\n      <td>NaN</td>\n      <td>NaN</td>\n    </tr>\n    <tr>\n      <th>141</th>\n      <td>White</td>\n      <td>NaN</td>\n      <td>Male</td>\n      <td>NaN</td>\n      <td>2024</td>\n      <td>No</td>\n      <td>No</td>\n      <td>NaN</td>\n      <td>NaN</td>\n      <td>NaN</td>\n      <td>...</td>\n      <td>NaN</td>\n      <td>NaN</td>\n      <td>NaN</td>\n      <td>NaN</td>\n      <td>NaN</td>\n      <td>NaN</td>\n      <td>NaN</td>\n      <td>NaN</td>\n      <td>NaN</td>\n      <td>NaN</td>\n    </tr>\n  </tbody>\n</table>\n<p>46 rows × 24 columns</p>\n</div>"
          },
          "metadata": {},
          "output_type": "display_data"
        }
      ]
    },
    {
      "cell_type": "markdown",
      "source": "# Figures",
      "metadata": {
        "tags": [],
        "cell_id": "00009-6ff93be2-1acf-46e6-8992-55cc223d187c",
        "deepnote_cell_type": "text-cell-h1"
      }
    },
    {
      "cell_type": "markdown",
      "source": "### Figures Template",
      "metadata": {
        "tags": [],
        "cell_id": "00007-4495d481-68e8-44c2-8c19-e8bd5b5c4c31",
        "deepnote_cell_type": "text-cell-h3"
      }
    },
    {
      "cell_type": "code",
      "metadata": {
        "tags": [],
        "cell_id": "00008-5a6caa2f-5926-4604-a9aa-5419b21ad91c",
        "deepnote_to_be_reexecuted": false,
        "source_hash": "e2362659",
        "execution_millis": 172,
        "execution_start": 1617582035009,
        "deepnote_cell_type": "code"
      },
      "source": "import plotly.graph_objects as go\n\n# HODP colors\nmonochrome_colors = ['#251616', '#760000', '#C63F3F', '#E28073', '#F1D3CF']\nprimary_colors = ['#C63F3F', '#F4B436', '#83BFCC', '#455574', '#E2DDDB']\n\n# HODP template\ntheme_hodp = go.layout.Template(\n    layout=go.Layout(\n        title = {'font':{'size':24, 'family':\"Helvetica\", 'color':monochrome_colors[0]}, 'pad':{'t':100, 'r':0, 'b':0, 'l':0}},\n        font = {'size':18, 'family':'Helvetica', 'color':'#717171'},\n        xaxis = {'ticks': \"outside\",\n                'tickfont': {'size': 14, 'family':\"Helvetica\"},\n                'showticksuffix': 'all',\n                'showtickprefix': 'last',\n                'showline': True,\n                'title':{'font':{'size':18, 'family':'Helvetica'}, 'standoff':20},\n                'automargin': True\n                },\n        yaxis = {'ticks': \"outside\",\n                'tickfont': {'size': 14, 'family':\"Helvetica\"},\n                'showticksuffix': 'all',\n                'showtickprefix': 'last',\n                'title':{'font':{'size':18, 'family':'Helvetica'}, 'standoff':20},\n                'showline': True,\n                'automargin': True\n                },\n        legend = {'bgcolor':'rgba(0,0,0,0)', \n                'title':{'font':{'size':18, 'family':\"Helvetica\", 'color':monochrome_colors[0]}}, \n                'font':{'size':14, 'family':\"Helvetica\"}, \n                'yanchor':'bottom'\n                },\n        colorscale = {'diverging':monochrome_colors},\n        coloraxis = {'autocolorscale':True, \n                'cauto':True, \n                'colorbar':{'tickfont':{'size':14,'family':'Helvetica'}, 'title':{'font':{'size':18, 'family':'Helvetica'}}},\n                }\n    )\n)",
      "execution_count": 7,
      "outputs": []
    },
    {
      "cell_type": "markdown",
      "source": "### Figure 1: Pie chart of hours spent on social media per day",
      "metadata": {
        "tags": [],
        "cell_id": "00012-b413d09e-214a-47e3-bac6-a1285d401707",
        "deepnote_cell_type": "text-cell-h3"
      }
    },
    {
      "cell_type": "code",
      "metadata": {
        "tags": [],
        "cell_id": "00012-536fb8b1-f067-4887-8d73-96f685d4f935",
        "deepnote_to_be_reexecuted": false,
        "source_hash": "2200bc07",
        "execution_millis": 193,
        "output_cleared": false,
        "execution_start": 1617582035196,
        "deepnote_cell_type": "code"
      },
      "source": "# Determine number of people who spend x amount of hours on social media per day\nzeroes = survey_data[survey_data[\"Q2_1\"] == '0'][\"Q2_1\"].count()\nones = survey_data[survey_data[\"Q2_1\"] == '1'][\"Q2_1\"].count()\ntwos = survey_data[survey_data[\"Q2_1\"] == '2'][\"Q2_1\"].count()\nthrees = survey_data[survey_data[\"Q2_1\"] == '3'][\"Q2_1\"].count()\nfours = survey_data[survey_data[\"Q2_1\"] == '4'][\"Q2_1\"].count()\nfives = survey_data[survey_data[\"Q2_1\"] == '5'][\"Q2_1\"].count()\nsixes = survey_data[survey_data[\"Q2_1\"] == '6'][\"Q2_1\"].count()\nsevens = survey_data[survey_data[\"Q2_1\"] == '7'][\"Q2_1\"].count()\neights = survey_data[survey_data[\"Q2_1\"] == '8'][\"Q2_1\"].count()\nnines = survey_data[survey_data[\"Q2_1\"] == '9'][\"Q2_1\"].count()\ntens = survey_data[survey_data[\"Q2_1\"] == '10'][\"Q2_1\"].count()\n\nlabels = [\"0 hours\", \"1-2 hours\", \"3-4 hours\", \"5-6 hours\", \"7+ hours\"]\nvalues = [zeroes, ones + twos, threes + fours, fives + sixes, sevens + eights + nines + tens]\n\n# initialize the figure\nfig = go.Figure()\n\n# add a trace\nfig.add_trace(go.Pie(\n   values=values, \n   labels=labels,\n   textinfo='label+percent',\n   marker_colors=monochrome_colors,\n   hoverinfo='label+percent',\n   direction='clockwise',\n   sort=False\n))\n\n# update the layout\nfig.update_layout(\n   title=\"Hours spent on social media per day.\", \n   legend={'title':{'text':'Hours spent on social media'}},\n   template=theme_hodp\n)\n\n# display the figure\nfig.show()",
      "execution_count": 8,
      "outputs": [
        {
          "data": {
            "text/html": "<html>\n<head><meta charset=\"utf-8\" /></head>\n<body>\n    <div>            <script src=\"https://cdnjs.cloudflare.com/ajax/libs/mathjax/2.7.5/MathJax.js?config=TeX-AMS-MML_SVG\"></script><script type=\"text/javascript\">if (window.MathJax) {MathJax.Hub.Config({SVG: {font: \"STIX-Web\"}});}</script>                <script type=\"text/javascript\">window.PlotlyConfig = {MathJaxConfig: 'local'};</script>\n        <script src=\"https://cdn.plot.ly/plotly-latest.min.js\"></script>                <div id=\"306b5c9e-a06f-4355-9492-d1d55a2102f6\" class=\"plotly-graph-div\" style=\"height:525px; width:100%;\"></div>            <script type=\"text/javascript\">                                    window.PLOTLYENV=window.PLOTLYENV || {};                                    if (document.getElementById(\"306b5c9e-a06f-4355-9492-d1d55a2102f6\")) {                    Plotly.newPlot(                        \"306b5c9e-a06f-4355-9492-d1d55a2102f6\",                        [{\"direction\": \"clockwise\", \"hoverinfo\": \"label+percent\", \"labels\": [\"0 hours\", \"1-2 hours\", \"3-4 hours\", \"5-6 hours\", \"7+ hours\"], \"marker\": {\"colors\": [\"#251616\", \"#760000\", \"#C63F3F\", \"#E28073\", \"#F1D3CF\"]}, \"sort\": false, \"textinfo\": \"label+percent\", \"type\": \"pie\", \"values\": [5, 52, 53, 20, 3]}],                        {\"legend\": {\"title\": {\"text\": \"Hours spent on social media\"}}, \"template\": {\"layout\": {\"coloraxis\": {\"autocolorscale\": true, \"cauto\": true, \"colorbar\": {\"tickfont\": {\"family\": \"Helvetica\", \"size\": 14}, \"title\": {\"font\": {\"family\": \"Helvetica\", \"size\": 18}}}}, \"colorscale\": {\"diverging\": [[0.0, \"#251616\"], [0.25, \"#760000\"], [0.5, \"#C63F3F\"], [0.75, \"#E28073\"], [1.0, \"#F1D3CF\"]]}, \"font\": {\"color\": \"#717171\", \"family\": \"Helvetica\", \"size\": 18}, \"legend\": {\"bgcolor\": \"rgba(0,0,0,0)\", \"font\": {\"family\": \"Helvetica\", \"size\": 14}, \"title\": {\"font\": {\"color\": \"#251616\", \"family\": \"Helvetica\", \"size\": 18}}, \"yanchor\": \"bottom\"}, \"title\": {\"font\": {\"color\": \"#251616\", \"family\": \"Helvetica\", \"size\": 24}, \"pad\": {\"b\": 0, \"l\": 0, \"r\": 0, \"t\": 100}}, \"xaxis\": {\"automargin\": true, \"showline\": true, \"showtickprefix\": \"last\", \"showticksuffix\": \"all\", \"tickfont\": {\"family\": \"Helvetica\", \"size\": 14}, \"ticks\": \"outside\", \"title\": {\"font\": {\"family\": \"Helvetica\", \"size\": 18}, \"standoff\": 20}}, \"yaxis\": {\"automargin\": true, \"showline\": true, \"showtickprefix\": \"last\", \"showticksuffix\": \"all\", \"tickfont\": {\"family\": \"Helvetica\", \"size\": 14}, \"ticks\": \"outside\", \"title\": {\"font\": {\"family\": \"Helvetica\", \"size\": 18}, \"standoff\": 20}}}}, \"title\": {\"text\": \"Hours spent on social media per day.\"}},                        {\"responsive\": true}                    ).then(function(){\n                            \nvar gd = document.getElementById('306b5c9e-a06f-4355-9492-d1d55a2102f6');\nvar x = new MutationObserver(function (mutations, observer) {{\n        var display = window.getComputedStyle(gd).display;\n        if (!display || display === 'none') {{\n            console.log([gd, 'removed!']);\n            Plotly.purge(gd);\n            observer.disconnect();\n        }}\n}});\n\n// Listen for the removal of the full notebook cells\nvar notebookContainer = gd.closest('#notebook-container');\nif (notebookContainer) {{\n    x.observe(notebookContainer, {childList: true});\n}}\n\n// Listen for the clearing of the current output cell\nvar outputEl = gd.closest('.output');\nif (outputEl) {{\n    x.observe(outputEl, {childList: true});\n}}\n\n                        })                };                            </script>        </div>\n</body>\n</html>"
          },
          "metadata": {},
          "output_type": "display_data"
        }
      ]
    },
    {
      "cell_type": "markdown",
      "source": "### Figure 2: Horizontal bar graph of USED apps by class year",
      "metadata": {
        "tags": [],
        "cell_id": "00016-69fe8ec1-8454-4098-a026-23351a014643",
        "deepnote_cell_type": "text-cell-h3"
      }
    },
    {
      "cell_type": "code",
      "metadata": {
        "tags": [],
        "cell_id": "00020-93dbbfa1-c50d-4039-a250-5716cd0569b2",
        "deepnote_to_be_reexecuted": false,
        "source_hash": "3645963f",
        "execution_millis": 33,
        "execution_start": 1617582035417,
        "deepnote_cell_type": "code"
      },
      "source": "# Get a list of all the apps that seniors say they use\nseniorsapps = list(seniors_data['Q1'][1:])\n\n# clean the list to remove NaN values\ncleanedList = [x for x in seniorsapps if str(x) != 'nan']\nseniorsapps = \",\".join(cleanedList)\nseniorsapps = seniorsapps.split(',')\nseniorsappsdict = {'Facebook': 0, 'Snapchat': 0, 'Instagram': 0, \n            'Twitter': 0, 'TikTok': 0, 'LinkedIn': 0, 'GroupMe': 0, \n            'Messenger': 0, 'WhatsApp': 0, 'Other': 0}\n\nfor e in range(len(seniorsapps)):\n    if seniorsapps[e] == 'Facebook':\n        seniorsappsdict['Facebook'] += 1\n    elif seniorsapps[e] == 'Facebook Messenger':\n        seniorsappsdict['Messenger'] += 1\n    elif seniorsapps[e] == 'Snapchat':\n        seniorsappsdict['Snapchat'] += 1\n    elif seniorsapps[e] == 'Instagram':\n        seniorsappsdict['Instagram'] += 1\n    elif seniorsapps[e] == 'Twitter':\n        seniorsappsdict['Twitter'] += 1\n    elif seniorsapps[e] == 'TikTok':\n        seniorsappsdict['TikTok'] += 1\n    elif seniorsapps[e] == 'LinkedIn':\n        seniorsappsdict['LinkedIn'] += 1\n    elif seniorsapps[e] == 'GroupMe':\n        seniorsappsdict['GroupMe'] += 1\n    elif seniorsapps[e] == 'WhatsApp':\n        seniorsappsdict['WhatsApp'] += 1\n    else:\n        seniorsappsdict['Other'] += 1\n    \nprint(seniorsappsdict)",
      "execution_count": 9,
      "outputs": [
        {
          "name": "stdout",
          "text": "{'Facebook': 11, 'Snapchat': 7, 'Instagram': 12, 'Twitter': 9, 'TikTok': 4, 'LinkedIn': 5, 'GroupMe': 5, 'Messenger': 11, 'WhatsApp': 5, 'Other': 2}\n",
          "output_type": "stream"
        }
      ]
    },
    {
      "cell_type": "code",
      "metadata": {
        "tags": [],
        "cell_id": "00020-798ba62f-8725-4286-b15f-ed021f68690c",
        "deepnote_to_be_reexecuted": false,
        "source_hash": "5ad013e8",
        "execution_millis": 32,
        "execution_start": 1617582035418,
        "deepnote_cell_type": "code"
      },
      "source": "# Get a list of all the apps that juniors say they use\njuniorsapps = list(juniors_data['Q1'][1:])\n\n# clean the list to remove NaN values\ncleanedList = [x for x in juniorsapps if str(x) != 'nan']\njuniorsapps = \",\".join(cleanedList)\njuniorsapps = juniorsapps.split(',')\njuniorsappsdict = {'Facebook': 0, 'Snapchat': 0, 'Instagram': 0, \n            'Twitter': 0, 'TikTok': 0, 'LinkedIn': 0, 'GroupMe': 0, \n            'Messenger': 0, 'WhatsApp': 0, 'Other': 0}\n\nfor e in range(len(juniorsapps)):\n    if juniorsapps[e] == 'Facebook':\n        juniorsappsdict['Facebook'] += 1\n    elif juniorsapps[e] == 'Facebook Messenger':\n        juniorsappsdict['Messenger'] += 1\n    elif juniorsapps[e] == 'Snapchat':\n        juniorsappsdict['Snapchat'] += 1\n    elif juniorsapps[e] == 'Instagram':\n        juniorsappsdict['Instagram'] += 1\n    elif juniorsapps[e] == 'Twitter':\n        juniorsappsdict['Twitter'] += 1\n    elif juniorsapps[e] == 'TikTok':\n        juniorsappsdict['TikTok'] += 1\n    elif juniorsapps[e] == 'LinkedIn':\n        juniorsappsdict['LinkedIn'] += 1\n    elif juniorsapps[e] == 'GroupMe':\n        juniorsappsdict['GroupMe'] += 1\n    elif juniorsapps[e] == 'WhatsApp':\n        juniorsappsdict['WhatsApp'] += 1\n    else:\n        juniorsappsdict['Other'] += 1\n    \nprint(juniorsappsdict)",
      "execution_count": 10,
      "outputs": [
        {
          "name": "stdout",
          "text": "{'Facebook': 16, 'Snapchat': 13, 'Instagram': 19, 'Twitter': 11, 'TikTok': 9, 'LinkedIn': 13, 'GroupMe': 16, 'Messenger': 14, 'WhatsApp': 4, 'Other': 1}\n",
          "output_type": "stream"
        }
      ]
    },
    {
      "cell_type": "code",
      "metadata": {
        "tags": [],
        "cell_id": "00021-5c3f4fda-f7ca-4637-95a3-d2aeb2d159c3",
        "deepnote_to_be_reexecuted": false,
        "source_hash": "bef2bce5",
        "execution_millis": 31,
        "execution_start": 1617582035420,
        "deepnote_cell_type": "code"
      },
      "source": "# Get a list of all the apps that sophomores say they use\nsophsapps = list(sophs_data['Q1'][1:])\n\n# clean the list to remove NaN values\ncleanedList = [x for x in sophsapps if str(x) != 'nan']\nsophsapps = \",\".join(cleanedList)\nsophsapps = sophsapps.split(',')\nsophsappsdict = {'Facebook': 0, 'Snapchat': 0, 'Instagram': 0, \n            'Twitter': 0, 'TikTok': 0, 'LinkedIn': 0, 'GroupMe': 0, \n            'Messenger': 0, 'WhatsApp': 0, 'Other': 0}\n\nfor e in range(len(sophsapps)):\n    if sophsapps[e] == 'Facebook':\n        sophsappsdict['Facebook'] += 1\n    elif sophsapps[e] == 'Facebook Messenger':\n        sophsappsdict['Messenger'] += 1\n    elif sophsapps[e] == 'Snapchat':\n        sophsappsdict['Snapchat'] += 1\n    elif sophsapps[e] == 'Instagram':\n        sophsappsdict['Instagram'] += 1\n    elif sophsapps[e] == 'Twitter':\n        sophsappsdict['Twitter'] += 1\n    elif sophsapps[e] == 'TikTok':\n        sophsappsdict['TikTok'] += 1\n    elif sophsapps[e] == 'LinkedIn':\n        sophsappsdict['LinkedIn'] += 1\n    elif sophsapps[e] == 'GroupMe':\n        sophsappsdict['GroupMe'] += 1\n    elif sophsapps[e] == 'WhatsApp':\n        sophsappsdict['WhatsApp'] += 1\n    else:\n        sophsappsdict['Other'] += 1\n    \nprint(sophsappsdict)",
      "execution_count": 11,
      "outputs": [
        {
          "name": "stdout",
          "text": "{'Facebook': 21, 'Snapchat': 31, 'Instagram': 38, 'Twitter': 15, 'TikTok': 21, 'LinkedIn': 13, 'GroupMe': 23, 'Messenger': 18, 'WhatsApp': 11, 'Other': 2}\n",
          "output_type": "stream"
        }
      ]
    },
    {
      "cell_type": "code",
      "metadata": {
        "tags": [],
        "cell_id": "00022-9e47803b-0c47-43af-9b26-e063a6b8303f",
        "deepnote_to_be_reexecuted": false,
        "source_hash": "de50c850",
        "execution_millis": 17,
        "execution_start": 1617582035434,
        "deepnote_cell_type": "code"
      },
      "source": "# Get a list of all the apps that freshmen say they use\nfroshapps = list(frosh_data['Q1'][1:])\n\n# clean the list to remove NaN values\ncleanedList = [x for x in froshapps if str(x) != 'nan']\nfroshapps = \",\".join(cleanedList)\nfroshapps = froshapps.split(',')\nfroshappsdict = {'Facebook': 0, 'Snapchat': 0, 'Instagram': 0, \n            'Twitter': 0, 'TikTok': 0, 'LinkedIn': 0, 'GroupMe': 0, \n            'Messenger': 0, 'WhatsApp': 0, 'Other': 0}\n\nfor e in range(len(froshapps)):\n    if froshapps[e] == 'Facebook':\n        froshappsdict['Facebook'] += 1\n    elif froshapps[e] == 'Facebook Messenger':\n        froshappsdict['Messenger'] += 1\n    elif froshapps[e] == 'Snapchat':\n        froshappsdict['Snapchat'] += 1\n    elif froshapps[e] == 'Instagram':\n        froshappsdict['Instagram'] += 1\n    elif froshapps[e] == 'Twitter':\n        froshappsdict['Twitter'] += 1\n    elif froshapps[e] == 'TikTok':\n        froshappsdict['TikTok'] += 1\n    elif froshapps[e] == 'LinkedIn':\n        froshappsdict['LinkedIn'] += 1\n    elif froshapps[e] == 'GroupMe':\n        froshappsdict['GroupMe'] += 1\n    elif froshapps[e] == 'WhatsApp':\n        froshappsdict['WhatsApp'] += 1\n    else:\n        froshappsdict['Other'] += 1\n    \nprint(froshappsdict)",
      "execution_count": 12,
      "outputs": [
        {
          "name": "stdout",
          "text": "{'Facebook': 13, 'Snapchat': 21, 'Instagram': 34, 'Twitter': 12, 'TikTok': 16, 'LinkedIn': 10, 'GroupMe': 26, 'Messenger': 17, 'WhatsApp': 10, 'Other': 6}\n",
          "output_type": "stream"
        }
      ]
    },
    {
      "cell_type": "code",
      "metadata": {
        "tags": [],
        "cell_id": "00023-14009b3b-5b17-42d3-8ebc-7e9a2464f5bb",
        "deepnote_to_be_reexecuted": false,
        "source_hash": "fce987ab",
        "execution_millis": 534,
        "execution_start": 1617582035443,
        "deepnote_cell_type": "code"
      },
      "source": "import matplotlib.pyplot as plt\n\nplt.style.use('ggplot')\n\nplt.figure()\n#plt.figure(figsize = (12,6))\nplt.xlabel('Social Media App')\n# Set the y axis label of the current axis.\nplt.ylabel('Number of Respondents')\n# Set a title of the current axes.\nplt.title('Seniors')\n\nplt.bar(seniorsappsdict.keys(), seniorsappsdict.values())\n#plt.savefig('apps.png', dpi=300, bbox_inches='tight')",
      "execution_count": 13,
      "outputs": [
        {
          "output_type": "execute_result",
          "execution_count": 13,
          "data": {
            "text/plain": "<BarContainer object of 10 artists>"
          },
          "metadata": {}
        },
        {
          "data": {
            "text/plain": "<Figure size 432x288 with 1 Axes>",
            "image/png": "[encoded data removed]"
          },
          "metadata": {},
          "output_type": "display_data"
        }
      ]
    },
    {
      "cell_type": "code",
      "metadata": {
        "tags": [],
        "cell_id": "00024-ddcf5802-c09d-4447-9789-1c0665e782c6",
        "deepnote_to_be_reexecuted": false,
        "source_hash": "2b390fbd",
        "execution_millis": 186,
        "execution_start": 1617582036000,
        "deepnote_cell_type": "code"
      },
      "source": "plt.style.use('ggplot')\n\nplt.figure()\n#plt.figure(figsize = (12,6))\nplt.xlabel('Social Media App')\n# Set the y axis label of the current axis.\nplt.ylabel('Number of Respondents')\n# Set a title of the current axes.\nplt.title('Juniors')\n\nplt.bar(juniorsappsdict.keys(), juniorsappsdict.values())\n#plt.savefig('apps.png', dpi=300, bbox_inches='tight')",
      "execution_count": 14,
      "outputs": [
        {
          "output_type": "execute_result",
          "execution_count": 14,
          "data": {
            "text/plain": "<BarContainer object of 10 artists>"
          },
          "metadata": {}
        },
        {
          "data": {
            "text/plain": "<Figure size 432x288 with 1 Axes>",
            "image/png": "[encoded data removed]"
          },
          "metadata": {},
          "output_type": "display_data"
        }
      ]
    },
    {
      "cell_type": "code",
      "metadata": {
        "tags": [],
        "cell_id": "00025-d5bec284-fc80-4a1d-b1f7-d9cef4a9fe5f",
        "deepnote_to_be_reexecuted": false,
        "source_hash": "3ca244c8",
        "execution_millis": 256,
        "execution_start": 1617582036188,
        "deepnote_cell_type": "code"
      },
      "source": "plt.style.use('ggplot')\n\nplt.figure()\n#plt.figure(figsize = (12,6))\nplt.xlabel('Social Media App')\n# Set the y axis label of the current axis.\nplt.ylabel('Number of Respondents')\n# Set a title of the current axes.\nplt.title('Sophomores')\n\nplt.bar(sophsappsdict.keys(), sophsappsdict.values())\n#plt.savefig('apps.png', dpi=300, bbox_inches='tight')",
      "execution_count": 15,
      "outputs": [
        {
          "output_type": "execute_result",
          "execution_count": 15,
          "data": {
            "text/plain": "<BarContainer object of 10 artists>"
          },
          "metadata": {}
        },
        {
          "data": {
            "text/plain": "<Figure size 432x288 with 1 Axes>",
            "image/png": "[encoded data removed]"
          },
          "metadata": {},
          "output_type": "display_data"
        }
      ]
    },
    {
      "cell_type": "code",
      "metadata": {
        "tags": [],
        "cell_id": "00026-d6c0be9b-375f-4f31-b58c-3a0c35733a9f",
        "deepnote_to_be_reexecuted": false,
        "source_hash": "fd2ffd3e",
        "execution_millis": 175,
        "execution_start": 1617582036482,
        "deepnote_cell_type": "code"
      },
      "source": "plt.style.use('ggplot')\n\nplt.figure()\n#plt.figure(figsize = (12,6))\nplt.xlabel('Social Media App')\n# Set the y axis label of the current axis.\nplt.ylabel('Number of Respondents')\n# Set a title of the current axes.\nplt.title('Freshmen')\n\nplt.bar(froshappsdict.keys(), froshappsdict.values())\n#plt.savefig('apps.png', dpi=300, bbox_inches='tight')",
      "execution_count": 16,
      "outputs": [
        {
          "output_type": "execute_result",
          "execution_count": 16,
          "data": {
            "text/plain": "<BarContainer object of 10 artists>"
          },
          "metadata": {}
        },
        {
          "data": {
            "text/plain": "<Figure size 432x288 with 1 Axes>",
            "image/png": "[encoded data removed]"
          },
          "metadata": {},
          "output_type": "display_data"
        }
      ]
    },
    {
      "cell_type": "code",
      "metadata": {
        "tags": [],
        "cell_id": "00027-75cff896-3a4d-432c-870a-15b209f705b8",
        "deepnote_to_be_reexecuted": false,
        "source_hash": "e00b51ab",
        "execution_millis": 11,
        "execution_start": 1617582036659,
        "deepnote_cell_type": "code"
      },
      "source": "len(seniors_data) - 1",
      "execution_count": 17,
      "outputs": [
        {
          "output_type": "execute_result",
          "execution_count": 17,
          "data": {
            "text/plain": "17"
          },
          "metadata": {}
        }
      ]
    },
    {
      "cell_type": "code",
      "metadata": {
        "tags": [],
        "cell_id": "00021-f43c3bf5-86b2-423b-b7d4-8336a5e887fa",
        "deepnote_to_be_reexecuted": false,
        "source_hash": "66f1dd8a",
        "execution_millis": 82,
        "execution_start": 1617582036706,
        "deepnote_cell_type": "code"
      },
      "source": "# Testing out the bar figure\n\ntop_labels = ['Facebook', 'Snapchat', 'Instagram', 'GroupMe', 'Facebook Messenger']\ncolors = monochrome_colors\n\nnumseniors = len(seniors_data) - 1\nnumjuniors = len(juniors_data) - 1\nnumsophs = len(sophs_data) - 1\nnumfrosh = len(frosh_data) - 1\n\nx_data = [[seniorsappsdict['Facebook'], seniorsappsdict['Snapchat'], seniorsappsdict['Instagram'], seniorsappsdict['GroupMe'], seniorsappsdict['Messenger']],\n          [juniorsappsdict['Facebook'], juniorsappsdict['Snapchat'], juniorsappsdict['Instagram'], juniorsappsdict['GroupMe'], juniorsappsdict['Messenger']],\n          [sophsappsdict['Facebook'], sophsappsdict['Snapchat'], sophsappsdict['Instagram'], sophsappsdict['GroupMe'], sophsappsdict['Messenger']],\n          [froshappsdict['Facebook'], froshappsdict['Snapchat'], froshappsdict['Instagram'], froshappsdict['GroupMe'], froshappsdict['Messenger']]]\n\ny_data = ['2021', '2022', '2023', '2024']\n\nfig = go.Figure()\n\nfor i in range(0, len(x_data[0])):\n    for xd, yd in zip(x_data, y_data):\n        fig.add_trace(go.Bar(\n            x=[xd[i]], y=[yd],\n            orientation='h',\n            marker=dict(\n                color=colors[i],\n                line=dict(color='rgb(248, 248, 249)', width=1)\n            )\n        ))\n\nfig.update_layout(\n    xaxis=dict(\n        showgrid=False,\n        showline=False,\n        showticklabels=False,\n        zeroline=False,\n        domain=[0.15, 1]\n    ),\n    yaxis=dict(\n        showgrid=False,\n        showline=False,\n        showticklabels=False,\n        zeroline=False,\n    ),\n    barmode='stack',\n    margin=dict(l=120, r=10, t=140, b=80),\n    showlegend=False,\n    template=theme_hodp\n\n)\n\nannotations = []\n\nfor yd, xd in zip(y_data, x_data):\n    # labeling the y-axis\n    annotations.append(dict(xref='paper', yref='y',\n                            x=0.14, y=yd,\n                            xanchor='right',\n                            text=str(yd),\n                            font=dict(family='Arial', size=14,\n                                      color='rgb(67, 67, 67)'),\n                            showarrow=False, align='right'))\n    # labeling the first percentage of each bar (x_axis)\n    annotations.append(dict(xref='x', yref='y',\n                            x=xd[0] / 2, y=yd,\n                            text=str(xd[0]) + '%',\n                            font=dict(family='Arial', size=14,\n                                      color='rgb(248, 248, 255)'),\n                            showarrow=False))\n    # labeling the first Likert scale (on the top)\n    if yd == y_data[-1]:\n        annotations.append(dict(xref='x', yref='paper',\n                                x=xd[0] / 2, y=1.1,\n                                text=top_labels[0],\n                                font=dict(family='Arial', size=14,\n                                          color='rgb(67, 67, 67)'),\n                                showarrow=False))\n    space = xd[0]\n    for i in range(1, len(xd)):\n            # labeling the rest of percentages for each bar (x_axis)\n            annotations.append(dict(xref='x', yref='y',\n                                    x=space + (xd[i]/2), y=yd,\n                                    text=str(xd[i]) + '%',\n                                    font=dict(family='Arial', size=14,\n                                              color='rgb(248, 248, 255)'),\n                                    showarrow=False))\n            # labeling the Likert scale\n            if yd == y_data[-1]:\n                annotations.append(dict(xref='x', yref='paper',\n                                        x=space + (xd[i]/2), y=1.1,\n                                        text=top_labels[i],\n                                        font=dict(family='Arial', size=14,\n                                                  color='rgb(67, 67, 67)'),\n                                        showarrow=False))\n            space += xd[i]\n\nfig.update_layout(annotations=annotations)\n\nfig.show()",
      "execution_count": 18,
      "outputs": [
        {
          "data": {
            "text/html": "<html>\n<head><meta charset=\"utf-8\" /></head>\n<body>\n    <div>            <script src=\"https://cdnjs.cloudflare.com/ajax/libs/mathjax/2.7.5/MathJax.js?config=TeX-AMS-MML_SVG\"></script><script type=\"text/javascript\">if (window.MathJax) {MathJax.Hub.Config({SVG: {font: \"STIX-Web\"}});}</script>                <script type=\"text/javascript\">window.PlotlyConfig = {MathJaxConfig: 'local'};</script>\n        <script src=\"https://cdn.plot.ly/plotly-latest.min.js\"></script>                <div id=\"2080884f-7a6e-482a-b42f-4b2e64264372\" class=\"plotly-graph-div\" style=\"height:525px; width:100%;\"></div>            <script type=\"text/javascript\">                                    window.PLOTLYENV=window.PLOTLYENV || {};                                    if (document.getElementById(\"2080884f-7a6e-482a-b42f-4b2e64264372\")) {                    Plotly.newPlot(                        \"2080884f-7a6e-482a-b42f-4b2e64264372\",                        [{\"marker\": {\"color\": \"#251616\", \"line\": {\"color\": \"rgb(248, 248, 249)\", \"width\": 1}}, \"orientation\": \"h\", \"type\": \"bar\", \"x\": [11], \"y\": [\"2021\"]}, {\"marker\": {\"color\": \"#251616\", \"line\": {\"color\": \"rgb(248, 248, 249)\", \"width\": 1}}, \"orientation\": \"h\", \"type\": \"bar\", \"x\": [16], \"y\": [\"2022\"]}, {\"marker\": {\"color\": \"#251616\", \"line\": {\"color\": \"rgb(248, 248, 249)\", \"width\": 1}}, \"orientation\": \"h\", \"type\": \"bar\", \"x\": [21], \"y\": [\"2023\"]}, {\"marker\": {\"color\": \"#251616\", \"line\": {\"color\": \"rgb(248, 248, 249)\", \"width\": 1}}, \"orientation\": \"h\", \"type\": \"bar\", \"x\": [13], \"y\": [\"2024\"]}, {\"marker\": {\"color\": \"#760000\", \"line\": {\"color\": \"rgb(248, 248, 249)\", \"width\": 1}}, \"orientation\": \"h\", \"type\": \"bar\", \"x\": [7], \"y\": [\"2021\"]}, {\"marker\": {\"color\": \"#760000\", \"line\": {\"color\": \"rgb(248, 248, 249)\", \"width\": 1}}, \"orientation\": \"h\", \"type\": \"bar\", \"x\": [13], \"y\": [\"2022\"]}, {\"marker\": {\"color\": \"#760000\", \"line\": {\"color\": \"rgb(248, 248, 249)\", \"width\": 1}}, \"orientation\": \"h\", \"type\": \"bar\", \"x\": [31], \"y\": [\"2023\"]}, {\"marker\": {\"color\": \"#760000\", \"line\": {\"color\": \"rgb(248, 248, 249)\", \"width\": 1}}, \"orientation\": \"h\", \"type\": \"bar\", \"x\": [21], \"y\": [\"2024\"]}, {\"marker\": {\"color\": \"#C63F3F\", \"line\": {\"color\": \"rgb(248, 248, 249)\", \"width\": 1}}, \"orientation\": \"h\", \"type\": \"bar\", \"x\": [12], \"y\": [\"2021\"]}, {\"marker\": {\"color\": \"#C63F3F\", \"line\": {\"color\": \"rgb(248, 248, 249)\", \"width\": 1}}, \"orientation\": \"h\", \"type\": \"bar\", \"x\": [19], \"y\": [\"2022\"]}, {\"marker\": {\"color\": \"#C63F3F\", \"line\": {\"color\": \"rgb(248, 248, 249)\", \"width\": 1}}, \"orientation\": \"h\", \"type\": \"bar\", \"x\": [38], \"y\": [\"2023\"]}, {\"marker\": {\"color\": \"#C63F3F\", \"line\": {\"color\": \"rgb(248, 248, 249)\", \"width\": 1}}, \"orientation\": \"h\", \"type\": \"bar\", \"x\": [34], \"y\": [\"2024\"]}, {\"marker\": {\"color\": \"#E28073\", \"line\": {\"color\": \"rgb(248, 248, 249)\", \"width\": 1}}, \"orientation\": \"h\", \"type\": \"bar\", \"x\": [5], \"y\": [\"2021\"]}, {\"marker\": {\"color\": \"#E28073\", \"line\": {\"color\": \"rgb(248, 248, 249)\", \"width\": 1}}, \"orientation\": \"h\", \"type\": \"bar\", \"x\": [16], \"y\": [\"2022\"]}, {\"marker\": {\"color\": \"#E28073\", \"line\": {\"color\": \"rgb(248, 248, 249)\", \"width\": 1}}, \"orientation\": \"h\", \"type\": \"bar\", \"x\": [23], \"y\": [\"2023\"]}, {\"marker\": {\"color\": \"#E28073\", \"line\": {\"color\": \"rgb(248, 248, 249)\", \"width\": 1}}, \"orientation\": \"h\", \"type\": \"bar\", \"x\": [26], \"y\": [\"2024\"]}, {\"marker\": {\"color\": \"#F1D3CF\", \"line\": {\"color\": \"rgb(248, 248, 249)\", \"width\": 1}}, \"orientation\": \"h\", \"type\": \"bar\", \"x\": [11], \"y\": [\"2021\"]}, {\"marker\": {\"color\": \"#F1D3CF\", \"line\": {\"color\": \"rgb(248, 248, 249)\", \"width\": 1}}, \"orientation\": \"h\", \"type\": \"bar\", \"x\": [14], \"y\": [\"2022\"]}, {\"marker\": {\"color\": \"#F1D3CF\", \"line\": {\"color\": \"rgb(248, 248, 249)\", \"width\": 1}}, \"orientation\": \"h\", \"type\": \"bar\", \"x\": [18], \"y\": [\"2023\"]}, {\"marker\": {\"color\": \"#F1D3CF\", \"line\": {\"color\": \"rgb(248, 248, 249)\", \"width\": 1}}, \"orientation\": \"h\", \"type\": \"bar\", \"x\": [17], \"y\": [\"2024\"]}],                        {\"annotations\": [{\"align\": \"right\", \"font\": {\"color\": \"rgb(67, 67, 67)\", \"family\": \"Arial\", \"size\": 14}, \"showarrow\": false, \"text\": \"2021\", \"x\": 0.14, \"xanchor\": \"right\", \"xref\": \"paper\", \"y\": \"2021\", \"yref\": \"y\"}, {\"font\": {\"color\": \"rgb(248, 248, 255)\", \"family\": \"Arial\", \"size\": 14}, \"showarrow\": false, \"text\": \"11%\", \"x\": 5.5, \"xref\": \"x\", \"y\": \"2021\", \"yref\": \"y\"}, {\"font\": {\"color\": \"rgb(248, 248, 255)\", \"family\": \"Arial\", \"size\": 14}, \"showarrow\": false, \"text\": \"7%\", \"x\": 14.5, \"xref\": \"x\", \"y\": \"2021\", \"yref\": \"y\"}, {\"font\": {\"color\": \"rgb(248, 248, 255)\", \"family\": \"Arial\", \"size\": 14}, \"showarrow\": false, \"text\": \"12%\", \"x\": 24.0, \"xref\": \"x\", \"y\": \"2021\", \"yref\": \"y\"}, {\"font\": {\"color\": \"rgb(248, 248, 255)\", \"family\": \"Arial\", \"size\": 14}, \"showarrow\": false, \"text\": \"5%\", \"x\": 32.5, \"xref\": \"x\", \"y\": \"2021\", \"yref\": \"y\"}, {\"font\": {\"color\": \"rgb(248, 248, 255)\", \"family\": \"Arial\", \"size\": 14}, \"showarrow\": false, \"text\": \"11%\", \"x\": 40.5, \"xref\": \"x\", \"y\": \"2021\", \"yref\": \"y\"}, {\"align\": \"right\", \"font\": {\"color\": \"rgb(67, 67, 67)\", \"family\": \"Arial\", \"size\": 14}, \"showarrow\": false, \"text\": \"2022\", \"x\": 0.14, \"xanchor\": \"right\", \"xref\": \"paper\", \"y\": \"2022\", \"yref\": \"y\"}, {\"font\": {\"color\": \"rgb(248, 248, 255)\", \"family\": \"Arial\", \"size\": 14}, \"showarrow\": false, \"text\": \"16%\", \"x\": 8.0, \"xref\": \"x\", \"y\": \"2022\", \"yref\": \"y\"}, {\"font\": {\"color\": \"rgb(248, 248, 255)\", \"family\": \"Arial\", \"size\": 14}, \"showarrow\": false, \"text\": \"13%\", \"x\": 22.5, \"xref\": \"x\", \"y\": \"2022\", \"yref\": \"y\"}, {\"font\": {\"color\": \"rgb(248, 248, 255)\", \"family\": \"Arial\", \"size\": 14}, \"showarrow\": false, \"text\": \"19%\", \"x\": 38.5, \"xref\": \"x\", \"y\": \"2022\", \"yref\": \"y\"}, {\"font\": {\"color\": \"rgb(248, 248, 255)\", \"family\": \"Arial\", \"size\": 14}, \"showarrow\": false, \"text\": \"16%\", \"x\": 56.0, \"xref\": \"x\", \"y\": \"2022\", \"yref\": \"y\"}, {\"font\": {\"color\": \"rgb(248, 248, 255)\", \"family\": \"Arial\", \"size\": 14}, \"showarrow\": false, \"text\": \"14%\", \"x\": 71.0, \"xref\": \"x\", \"y\": \"2022\", \"yref\": \"y\"}, {\"align\": \"right\", \"font\": {\"color\": \"rgb(67, 67, 67)\", \"family\": \"Arial\", \"size\": 14}, \"showarrow\": false, \"text\": \"2023\", \"x\": 0.14, \"xanchor\": \"right\", \"xref\": \"paper\", \"y\": \"2023\", \"yref\": \"y\"}, {\"font\": {\"color\": \"rgb(248, 248, 255)\", \"family\": \"Arial\", \"size\": 14}, \"showarrow\": false, \"text\": \"21%\", \"x\": 10.5, \"xref\": \"x\", \"y\": \"2023\", \"yref\": \"y\"}, {\"font\": {\"color\": \"rgb(248, 248, 255)\", \"family\": \"Arial\", \"size\": 14}, \"showarrow\": false, \"text\": \"31%\", \"x\": 36.5, \"xref\": \"x\", \"y\": \"2023\", \"yref\": \"y\"}, {\"font\": {\"color\": \"rgb(248, 248, 255)\", \"family\": \"Arial\", \"size\": 14}, \"showarrow\": false, \"text\": \"38%\", \"x\": 71.0, \"xref\": \"x\", \"y\": \"2023\", \"yref\": \"y\"}, {\"font\": {\"color\": \"rgb(248, 248, 255)\", \"family\": \"Arial\", \"size\": 14}, \"showarrow\": false, \"text\": \"23%\", \"x\": 101.5, \"xref\": \"x\", \"y\": \"2023\", \"yref\": \"y\"}, {\"font\": {\"color\": \"rgb(248, 248, 255)\", \"family\": \"Arial\", \"size\": 14}, \"showarrow\": false, \"text\": \"18%\", \"x\": 122.0, \"xref\": \"x\", \"y\": \"2023\", \"yref\": \"y\"}, {\"align\": \"right\", \"font\": {\"color\": \"rgb(67, 67, 67)\", \"family\": \"Arial\", \"size\": 14}, \"showarrow\": false, \"text\": \"2024\", \"x\": 0.14, \"xanchor\": \"right\", \"xref\": \"paper\", \"y\": \"2024\", \"yref\": \"y\"}, {\"font\": {\"color\": \"rgb(248, 248, 255)\", \"family\": \"Arial\", \"size\": 14}, \"showarrow\": false, \"text\": \"13%\", \"x\": 6.5, \"xref\": \"x\", \"y\": \"2024\", \"yref\": \"y\"}, {\"font\": {\"color\": \"rgb(67, 67, 67)\", \"family\": \"Arial\", \"size\": 14}, \"showarrow\": false, \"text\": \"Facebook\", \"x\": 6.5, \"xref\": \"x\", \"y\": 1.1, \"yref\": \"paper\"}, {\"font\": {\"color\": \"rgb(248, 248, 255)\", \"family\": \"Arial\", \"size\": 14}, \"showarrow\": false, \"text\": \"21%\", \"x\": 23.5, \"xref\": \"x\", \"y\": \"2024\", \"yref\": \"y\"}, {\"font\": {\"color\": \"rgb(67, 67, 67)\", \"family\": \"Arial\", \"size\": 14}, \"showarrow\": false, \"text\": \"Snapchat\", \"x\": 23.5, \"xref\": \"x\", \"y\": 1.1, \"yref\": \"paper\"}, {\"font\": {\"color\": \"rgb(248, 248, 255)\", \"family\": \"Arial\", \"size\": 14}, \"showarrow\": false, \"text\": \"34%\", \"x\": 51.0, \"xref\": \"x\", \"y\": \"2024\", \"yref\": \"y\"}, {\"font\": {\"color\": \"rgb(67, 67, 67)\", \"family\": \"Arial\", \"size\": 14}, \"showarrow\": false, \"text\": \"Instagram\", \"x\": 51.0, \"xref\": \"x\", \"y\": 1.1, \"yref\": \"paper\"}, {\"font\": {\"color\": \"rgb(248, 248, 255)\", \"family\": \"Arial\", \"size\": 14}, \"showarrow\": false, \"text\": \"26%\", \"x\": 81.0, \"xref\": \"x\", \"y\": \"2024\", \"yref\": \"y\"}, {\"font\": {\"color\": \"rgb(67, 67, 67)\", \"family\": \"Arial\", \"size\": 14}, \"showarrow\": false, \"text\": \"GroupMe\", \"x\": 81.0, \"xref\": \"x\", \"y\": 1.1, \"yref\": \"paper\"}, {\"font\": {\"color\": \"rgb(248, 248, 255)\", \"family\": \"Arial\", \"size\": 14}, \"showarrow\": false, \"text\": \"17%\", \"x\": 102.5, \"xref\": \"x\", \"y\": \"2024\", \"yref\": \"y\"}, {\"font\": {\"color\": \"rgb(67, 67, 67)\", \"family\": \"Arial\", \"size\": 14}, \"showarrow\": false, \"text\": \"Facebook Messenger\", \"x\": 102.5, \"xref\": \"x\", \"y\": 1.1, \"yref\": \"paper\"}], \"barmode\": \"stack\", \"margin\": {\"b\": 80, \"l\": 120, \"r\": 10, \"t\": 140}, \"showlegend\": false, \"template\": {\"layout\": {\"coloraxis\": {\"autocolorscale\": true, \"cauto\": true, \"colorbar\": {\"tickfont\": {\"family\": \"Helvetica\", \"size\": 14}, \"title\": {\"font\": {\"family\": \"Helvetica\", \"size\": 18}}}}, \"colorscale\": {\"diverging\": [[0.0, \"#251616\"], [0.25, \"#760000\"], [0.5, \"#C63F3F\"], [0.75, \"#E28073\"], [1.0, \"#F1D3CF\"]]}, \"font\": {\"color\": \"#717171\", \"family\": \"Helvetica\", \"size\": 18}, \"legend\": {\"bgcolor\": \"rgba(0,0,0,0)\", \"font\": {\"family\": \"Helvetica\", \"size\": 14}, \"title\": {\"font\": {\"color\": \"#251616\", \"family\": \"Helvetica\", \"size\": 18}}, \"yanchor\": \"bottom\"}, \"title\": {\"font\": {\"color\": \"#251616\", \"family\": \"Helvetica\", \"size\": 24}, \"pad\": {\"b\": 0, \"l\": 0, \"r\": 0, \"t\": 100}}, \"xaxis\": {\"automargin\": true, \"showline\": true, \"showtickprefix\": \"last\", \"showticksuffix\": \"all\", \"tickfont\": {\"family\": \"Helvetica\", \"size\": 14}, \"ticks\": \"outside\", \"title\": {\"font\": {\"family\": \"Helvetica\", \"size\": 18}, \"standoff\": 20}}, \"yaxis\": {\"automargin\": true, \"showline\": true, \"showtickprefix\": \"last\", \"showticksuffix\": \"all\", \"tickfont\": {\"family\": \"Helvetica\", \"size\": 14}, \"ticks\": \"outside\", \"title\": {\"font\": {\"family\": \"Helvetica\", \"size\": 18}, \"standoff\": 20}}}}, \"xaxis\": {\"domain\": [0.15, 1], \"showgrid\": false, \"showline\": false, \"showticklabels\": false, \"zeroline\": false}, \"yaxis\": {\"showgrid\": false, \"showline\": false, \"showticklabels\": false, \"zeroline\": false}},                        {\"responsive\": true}                    ).then(function(){\n                            \nvar gd = document.getElementById('2080884f-7a6e-482a-b42f-4b2e64264372');\nvar x = new MutationObserver(function (mutations, observer) {{\n        var display = window.getComputedStyle(gd).display;\n        if (!display || display === 'none') {{\n            console.log([gd, 'removed!']);\n            Plotly.purge(gd);\n            observer.disconnect();\n        }}\n}});\n\n// Listen for the removal of the full notebook cells\nvar notebookContainer = gd.closest('#notebook-container');\nif (notebookContainer) {{\n    x.observe(notebookContainer, {childList: true});\n}}\n\n// Listen for the clearing of the current output cell\nvar outputEl = gd.closest('.output');\nif (outputEl) {{\n    x.observe(outputEl, {childList: true});\n}}\n\n                        })                };                            </script>        </div>\n</body>\n</html>"
          },
          "metadata": {},
          "output_type": "display_data"
        }
      ]
    },
    {
      "cell_type": "code",
      "source": "X = ['Seniors', 'Juniors', 'Sophomores', 'Freshmen']\n\nY1 = [int(seniorsappsdict['Facebook'] / numseniors * 100),\n      int(juniorsappsdict['Facebook'] / numjuniors * 100),\n      int(sophsappsdict['Facebook'] / numsophs * 100),\n      int(froshappsdict['Facebook'] / numfrosh * 100)]\n\nY1labels = list(map(str, Y1))\nY1labels = [item + '%' for item in Y1labels]\n\nY2 = [int(seniorsappsdict['Snapchat'] / numseniors * 100),\n      int(juniorsappsdict['Snapchat'] / numjuniors * 100),\n      int(sophsappsdict['Snapchat'] / numsophs * 100),\n      int(froshappsdict['Snapchat'] / numfrosh * 100)]\n\nY2labels = list(map(str, Y2))\nY2labels = [item + '%' for item in Y2labels]\n\nY3 = [int(seniorsappsdict['Instagram'] / numseniors * 100),\n      int(juniorsappsdict['Instagram'] / numjuniors * 100),\n      int(sophsappsdict['Instagram'] / numsophs * 100),\n      int(froshappsdict['Instagram'] / numfrosh * 100)]\n\nY3labels = list(map(str, Y3))\nY3labels = [item + '%' for item in Y3labels]\n\nY4 = [int(seniorsappsdict['GroupMe'] / numseniors * 100),\n      int(juniorsappsdict['GroupMe'] / numjuniors * 100),\n      int(sophsappsdict['GroupMe'] / numsophs * 100),\n      int(froshappsdict['GroupMe'] / numfrosh * 100)]\n\nY4labels = list(map(str, Y4))\nY4labels = [item + '%' for item in Y4labels]\n\nY5 = [int(seniorsappsdict['Messenger'] / numseniors * 100),\n      int(juniorsappsdict['Messenger'] / numjuniors * 100),\n      int(sophsappsdict['Messenger'] / numsophs * 100),\n      int(froshappsdict['Messenger'] / numfrosh * 100)]\n\nY5labels = list(map(str, Y5))\nY5labels = [item + '%' for item in Y5labels]\n\nfig = go.Figure()\n\nfig.add_trace(go.Bar(\n    x=X, \n    y=Y1, \n    text=Y1labels,\n    textposition='inside',\n    name=\"Facebook\",\n    marker_color=monochrome_colors[0],\n))\n\nfig.add_trace(go.Bar(\n    x=X, \n    y=Y2, \n    text=Y2labels,\n    textposition='inside',\n    name=\"Snapchat\",\n    marker_color=monochrome_colors[1],\n))\n\nfig.add_trace(go.Bar(\n    x=X, \n    y=Y3, \n    text=Y3labels,\n    textposition='inside',\n    name=\"Instagram\",\n    marker_color=monochrome_colors[2],\n))\n\nfig.add_trace(go.Bar(\n    x=X, \n    y=Y4, \n    text=Y4labels,\n    textposition='inside',\n    name=\"GroupMe\",\n    marker_color=monochrome_colors[3],\n))\n\nfig.add_trace(go.Bar(\n    x=X, \n    y=Y5, \n    text=Y5labels,\n    textposition='inside',\n    name=\"Messenger\",\n    marker_color=monochrome_colors[4],\n))\n\nfig.update_layout(barmode='stack', template=theme_hodp)\n\nfig.update_layout(\n   barmode='stack',\n   title=\"Usage of social media apps per class.\", \n   xaxis={'title':{'text':'Class Year'}}, \n   yaxis={'title':{'text':'Percentages that use this app.'}}, \n   legend={'title':{'text':'Social Media App'}},\n   template=theme_hodp\n)\n\nfig.update_xaxes(ticks=\"\")\n\nfig.update_yaxes(showticklabels=False, ticks=\"\")\n\nfig.show()",
      "metadata": {
        "tags": [],
        "cell_id": "00029-f089af1b-5267-496d-af40-69877eb448cc",
        "deepnote_to_be_reexecuted": false,
        "source_hash": "7017dbc4",
        "execution_millis": 52,
        "execution_start": 1617582734856,
        "deepnote_cell_type": "code"
      },
      "outputs": [
        {
          "data": {
            "text/html": "<html>\n<head><meta charset=\"utf-8\" /></head>\n<body>\n    <div>            <script src=\"https://cdnjs.cloudflare.com/ajax/libs/mathjax/2.7.5/MathJax.js?config=TeX-AMS-MML_SVG\"></script><script type=\"text/javascript\">if (window.MathJax) {MathJax.Hub.Config({SVG: {font: \"STIX-Web\"}});}</script>                <script type=\"text/javascript\">window.PlotlyConfig = {MathJaxConfig: 'local'};</script>\n        <script src=\"https://cdn.plot.ly/plotly-latest.min.js\"></script>                <div id=\"38c5c39d-d4ab-45e7-aed7-18c877fc4e87\" class=\"plotly-graph-div\" style=\"height:525px; width:100%;\"></div>            <script type=\"text/javascript\">                                    window.PLOTLYENV=window.PLOTLYENV || {};                                    if (document.getElementById(\"38c5c39d-d4ab-45e7-aed7-18c877fc4e87\")) {                    Plotly.newPlot(                        \"38c5c39d-d4ab-45e7-aed7-18c877fc4e87\",                        [{\"marker\": {\"color\": \"#251616\"}, \"name\": \"Facebook\", \"text\": [\"64%\", \"64%\", \"46%\", \"28%\"], \"textposition\": \"inside\", \"type\": \"bar\", \"x\": [\"Seniors\", \"Juniors\", \"Sophomores\", \"Freshmen\"], \"y\": [64, 64, 46, 28]}, {\"marker\": {\"color\": \"#760000\"}, \"name\": \"Snapchat\", \"text\": [\"41%\", \"52%\", \"68%\", \"46%\"], \"textposition\": \"inside\", \"type\": \"bar\", \"x\": [\"Seniors\", \"Juniors\", \"Sophomores\", \"Freshmen\"], \"y\": [41, 52, 68, 46]}, {\"marker\": {\"color\": \"#C63F3F\"}, \"name\": \"Instagram\", \"text\": [\"70%\", \"76%\", \"84%\", \"75%\"], \"textposition\": \"inside\", \"type\": \"bar\", \"x\": [\"Seniors\", \"Juniors\", \"Sophomores\", \"Freshmen\"], \"y\": [70, 76, 84, 75]}, {\"marker\": {\"color\": \"#E28073\"}, \"name\": \"GroupMe\", \"text\": [\"29%\", \"64%\", \"51%\", \"57%\"], \"textposition\": \"inside\", \"type\": \"bar\", \"x\": [\"Seniors\", \"Juniors\", \"Sophomores\", \"Freshmen\"], \"y\": [29, 64, 51, 57]}, {\"marker\": {\"color\": \"#F1D3CF\"}, \"name\": \"Messenger\", \"text\": [\"64%\", \"56%\", \"40%\", \"37%\"], \"textposition\": \"inside\", \"type\": \"bar\", \"x\": [\"Seniors\", \"Juniors\", \"Sophomores\", \"Freshmen\"], \"y\": [64, 56, 40, 37]}],                        {\"barmode\": \"stack\", \"legend\": {\"title\": {\"text\": \"Social Media App\"}}, \"template\": {\"layout\": {\"coloraxis\": {\"autocolorscale\": true, \"cauto\": true, \"colorbar\": {\"tickfont\": {\"family\": \"Helvetica\", \"size\": 14}, \"title\": {\"font\": {\"family\": \"Helvetica\", \"size\": 18}}}}, \"colorscale\": {\"diverging\": [[0.0, \"#251616\"], [0.25, \"#760000\"], [0.5, \"#C63F3F\"], [0.75, \"#E28073\"], [1.0, \"#F1D3CF\"]]}, \"font\": {\"color\": \"#717171\", \"family\": \"Helvetica\", \"size\": 18}, \"legend\": {\"bgcolor\": \"rgba(0,0,0,0)\", \"font\": {\"family\": \"Helvetica\", \"size\": 14}, \"title\": {\"font\": {\"color\": \"#251616\", \"family\": \"Helvetica\", \"size\": 18}}, \"yanchor\": \"bottom\"}, \"title\": {\"font\": {\"color\": \"#251616\", \"family\": \"Helvetica\", \"size\": 24}, \"pad\": {\"b\": 0, \"l\": 0, \"r\": 0, \"t\": 100}}, \"xaxis\": {\"automargin\": true, \"showline\": true, \"showtickprefix\": \"last\", \"showticksuffix\": \"all\", \"tickfont\": {\"family\": \"Helvetica\", \"size\": 14}, \"ticks\": \"outside\", \"title\": {\"font\": {\"family\": \"Helvetica\", \"size\": 18}, \"standoff\": 20}}, \"yaxis\": {\"automargin\": true, \"showline\": true, \"showtickprefix\": \"last\", \"showticksuffix\": \"all\", \"tickfont\": {\"family\": \"Helvetica\", \"size\": 14}, \"ticks\": \"outside\", \"title\": {\"font\": {\"family\": \"Helvetica\", \"size\": 18}, \"standoff\": 20}}}}, \"title\": {\"text\": \"Usage of social media apps per class.\"}, \"xaxis\": {\"ticks\": \"\", \"title\": {\"text\": \"Class Year\"}}, \"yaxis\": {\"showticklabels\": false, \"ticks\": \"\", \"title\": {\"text\": \"Percentages that use this app.\"}}},                        {\"responsive\": true}                    ).then(function(){\n                            \nvar gd = document.getElementById('38c5c39d-d4ab-45e7-aed7-18c877fc4e87');\nvar x = new MutationObserver(function (mutations, observer) {{\n        var display = window.getComputedStyle(gd).display;\n        if (!display || display === 'none') {{\n            console.log([gd, 'removed!']);\n            Plotly.purge(gd);\n            observer.disconnect();\n        }}\n}});\n\n// Listen for the removal of the full notebook cells\nvar notebookContainer = gd.closest('#notebook-container');\nif (notebookContainer) {{\n    x.observe(notebookContainer, {childList: true});\n}}\n\n// Listen for the clearing of the current output cell\nvar outputEl = gd.closest('.output');\nif (outputEl) {{\n    x.observe(outputEl, {childList: true});\n}}\n\n                        })                };                            </script>        </div>\n</body>\n</html>"
          },
          "metadata": {},
          "output_type": "display_data"
        }
      ],
      "execution_count": 55
    },
    {
      "cell_type": "markdown",
      "source": "### Figure 3: Horizontal bar graph of FAVORITE apps by class year",
      "metadata": {
        "tags": [],
        "cell_id": "00029-b9eb4b1d-457f-4e20-a8bc-24e163c0d9b9",
        "deepnote_cell_type": "text-cell-h3"
      }
    },
    {
      "cell_type": "code",
      "metadata": {
        "tags": [],
        "cell_id": "00030-0e576200-9a63-4734-82dd-04c96aa6bfd8",
        "deepnote_to_be_reexecuted": false,
        "source_hash": "ab64e252",
        "execution_millis": 7,
        "execution_start": 1617582036895,
        "deepnote_cell_type": "code"
      },
      "source": "# Get a list of FAVORITE apps used by seniors\nseniorsfavs = list(seniors_data['Q5'][1:])\n\n# clean the list to remove NaN values\ncleanedList = [x for x in seniorsfavs if str(x) != 'nan']\nseniorsfavs = \",\".join(cleanedList)\nseniorsfavs = seniorsfavs.split(',')\nseniorsfavsdict = {'Facebook': 0, 'Snapchat': 0, 'Instagram': 0, \n            'Twitter': 0, 'TikTok': 0, 'LinkedIn': 0, 'GroupMe': 0, \n            'Messenger': 0, 'Other': 0}\n\nfor e in range(len(seniorsfavs)):\n    if seniorsfavs[e] == 'Facebook':\n        seniorsfavsdict['Facebook'] += 1\n    elif seniorsfavs[e] == 'Facebook Messenger':\n        seniorsfavsdict['Messenger'] += 1\n    elif seniorsfavs[e] == 'Snapchat':\n        seniorsfavsdict['Snapchat'] += 1\n    elif seniorsfavs[e] == 'Instagram':\n        seniorsfavsdict['Instagram'] += 1\n    elif seniorsfavs[e] == 'Twitter':\n        seniorsfavsdict['Twitter'] += 1\n    elif seniorsfavs[e] == 'TikTok':\n        seniorsfavsdict['TikTok'] += 1\n    elif seniorsfavs[e] == 'LinkedIn':\n        seniorsfavsdict['LinkedIn'] += 1\n    elif seniorsfavs[e] == 'GroupMe':\n        seniorsfavsdict['GroupMe'] += 1\n    else:\n        seniorsfavsdict['Other'] += 1\n    \nprint(seniorsfavsdict)",
      "execution_count": 20,
      "outputs": [
        {
          "name": "stdout",
          "text": "{'Facebook': 5, 'Snapchat': 5, 'Instagram': 11, 'Twitter': 8, 'TikTok': 4, 'LinkedIn': 1, 'GroupMe': 2, 'Messenger': 4, 'Other': 5}\n",
          "output_type": "stream"
        }
      ]
    },
    {
      "cell_type": "code",
      "metadata": {
        "tags": [],
        "cell_id": "00031-9bbcae4a-136d-4479-8e78-b4f4b2bf09a8",
        "deepnote_to_be_reexecuted": false,
        "source_hash": "b4551afe",
        "execution_millis": 180,
        "execution_start": 1617582036922,
        "deepnote_cell_type": "code"
      },
      "source": "# Get a list of FAVORITE apps used by juniors\njuniorsfavs = list(juniors_data['Q5'][1:])\n\n# clean the list to remove NaN values\ncleanedList = [x for x in juniorsfavs if str(x) != 'nan']\njuniorsfavs = \",\".join(cleanedList)\njuniorsfavs = juniorsfavs.split(',')\njuniorsfavsdict = {'Facebook': 0, 'Snapchat': 0, 'Instagram': 0, \n            'Twitter': 0, 'TikTok': 0, 'LinkedIn': 0, 'GroupMe': 0, \n            'Messenger': 0, 'Other': 0}\n\nfor e in range(len(juniorsfavs)):\n    if juniorsfavs[e] == 'Facebook':\n        juniorsfavsdict['Facebook'] += 1\n    elif juniorsfavs[e] == 'Facebook Messenger':\n        juniorsfavsdict['Messenger'] += 1\n    elif juniorsfavs[e] == 'Snapchat':\n        juniorsfavsdict['Snapchat'] += 1\n    elif juniorsfavs[e] == 'Instagram':\n        juniorsfavsdict['Instagram'] += 1\n    elif juniorsfavs[e] == 'Twitter':\n        juniorsfavsdict['Twitter'] += 1\n    elif juniorsfavs[e] == 'TikTok':\n        juniorsfavsdict['TikTok'] += 1\n    elif juniorsfavs[e] == 'LinkedIn':\n        juniorsfavsdict['LinkedIn'] += 1\n    elif juniorsfavs[e] == 'GroupMe':\n        juniorsfavsdict['GroupMe'] += 1\n    else:\n        juniorsfavsdict['Other'] += 1\n    \nprint(juniorsfavsdict)",
      "execution_count": 21,
      "outputs": [
        {
          "name": "stdout",
          "text": "{'Facebook': 8, 'Snapchat': 7, 'Instagram': 15, 'Twitter': 11, 'TikTok': 10, 'LinkedIn': 2, 'GroupMe': 3, 'Messenger': 6, 'Other': 2}\n",
          "output_type": "stream"
        }
      ]
    },
    {
      "cell_type": "code",
      "metadata": {
        "tags": [],
        "cell_id": "00032-aa7dc9e8-5460-46df-9b3e-f4e846df0a49",
        "deepnote_to_be_reexecuted": false,
        "source_hash": "956c445a",
        "execution_millis": 178,
        "execution_start": 1617582036924,
        "deepnote_cell_type": "code"
      },
      "source": "# Get a list of FAVORITE apps used by sophomores\nsophsfavs = list(sophs_data['Q5'][1:])\n\n# clean the list to remove NaN values\ncleanedList = [x for x in sophsfavs if str(x) != 'nan']\nsophsfavs = \",\".join(cleanedList)\nsophsfavs = sophsfavs.split(',')\nsophsfavsdict = {'Facebook': 0, 'Snapchat': 0, 'Instagram': 0, \n            'Twitter': 0, 'TikTok': 0, 'LinkedIn': 0, 'GroupMe': 0, \n            'Messenger': 0, 'Other': 0}\n\nfor e in range(len(sophsfavs)):\n    if sophsfavs[e] == 'Facebook':\n        sophsfavsdict['Facebook'] += 1\n    elif sophsfavs[e] == 'Facebook Messenger':\n        sophsfavsdict['Messenger'] += 1\n    elif sophsfavs[e] == 'Snapchat':\n        sophsfavsdict['Snapchat'] += 1\n    elif sophsfavs[e] == 'Instagram':\n        sophsfavsdict['Instagram'] += 1\n    elif sophsfavs[e] == 'Twitter':\n        sophsfavsdict['Twitter'] += 1\n    elif sophsfavs[e] == 'TikTok':\n        sophsfavsdict['TikTok'] += 1\n    elif sophsfavs[e] == 'LinkedIn':\n        sophsfavsdict['LinkedIn'] += 1\n    elif sophsfavs[e] == 'GroupMe':\n        sophsfavsdict['GroupMe'] += 1\n    else:\n        sophsfavsdict['Other'] += 1\n    \nprint(sophsfavsdict)",
      "execution_count": 22,
      "outputs": [
        {
          "name": "stdout",
          "text": "{'Facebook': 8, 'Snapchat': 26, 'Instagram': 36, 'Twitter': 7, 'TikTok': 20, 'LinkedIn': 5, 'GroupMe': 2, 'Messenger': 13, 'Other': 8}\n",
          "output_type": "stream"
        }
      ]
    },
    {
      "cell_type": "code",
      "metadata": {
        "tags": [],
        "cell_id": "00033-4dc2f7e9-bde8-4a20-808f-0aaefacdd386",
        "deepnote_to_be_reexecuted": false,
        "source_hash": "4b9805bb",
        "execution_millis": 171,
        "execution_start": 1617582036931,
        "deepnote_cell_type": "code"
      },
      "source": "# Get a list of FAVORITE apps used by freshmen\nfroshfavs = list(frosh_data['Q5'][1:])\n\n# clean the list to remove NaN values\ncleanedList = [x for x in froshfavs if str(x) != 'nan']\nfroshfavs = \",\".join(cleanedList)\nfroshfavs = froshfavs.split(',')\nfroshfavsdict = {'Facebook': 0, 'Snapchat': 0, 'Instagram': 0, \n            'Twitter': 0, 'TikTok': 0, 'LinkedIn': 0, 'GroupMe': 0, \n            'Messenger': 0, 'Other': 0}\n\nfor e in range(len(froshfavs)):\n    if froshfavs[e] == 'Facebook':\n        froshfavsdict['Facebook'] += 1\n    elif froshfavs[e] == 'Facebook Messenger':\n        froshfavsdict['Messenger'] += 1\n    elif froshfavs[e] == 'Snapchat':\n        froshfavsdict['Snapchat'] += 1\n    elif froshfavs[e] == 'Instagram':\n        froshfavsdict['Instagram'] += 1\n    elif froshfavs[e] == 'Twitter':\n        froshfavsdict['Twitter'] += 1\n    elif froshfavs[e] == 'TikTok':\n        froshfavsdict['TikTok'] += 1\n    elif froshfavs[e] == 'LinkedIn':\n        froshfavsdict['LinkedIn'] += 1\n    elif froshfavs[e] == 'GroupMe':\n        froshfavsdict['GroupMe'] += 1\n    else:\n        froshfavsdict['Other'] += 1\n    \nprint(froshfavsdict)",
      "execution_count": 23,
      "outputs": [
        {
          "name": "stdout",
          "text": "{'Facebook': 8, 'Snapchat': 17, 'Instagram': 34, 'Twitter': 12, 'TikTok': 15, 'LinkedIn': 4, 'GroupMe': 6, 'Messenger': 11, 'Other': 10}\n",
          "output_type": "stream"
        }
      ]
    },
    {
      "cell_type": "code",
      "metadata": {
        "tags": [],
        "cell_id": "00034-c32824e9-5e78-4ac7-a15e-685dff7c3666",
        "deepnote_to_be_reexecuted": false,
        "source_hash": "6e545a64",
        "execution_millis": 150,
        "execution_start": 1617582036980,
        "deepnote_cell_type": "code"
      },
      "source": "# Visualize seniors' favorite apps\nplt.style.use('ggplot')\n\nplt.figure()\n#plt.figure(figsize = (12,6))\nplt.xlabel('Social Media App')\n# Set the y axis label of the current axis.\nplt.ylabel('Number of Respondents')\n# Set a title of the current axes.\nplt.title('Seniors')\n\nplt.bar(seniorsfavsdict.keys(), seniorsfavsdict.values())\n#plt.savefig('apps.png', dpi=300, bbox_inches='tight')",
      "execution_count": 24,
      "outputs": [
        {
          "output_type": "execute_result",
          "execution_count": 24,
          "data": {
            "text/plain": "<BarContainer object of 9 artists>"
          },
          "metadata": {}
        },
        {
          "data": {
            "text/plain": "<Figure size 432x288 with 1 Axes>",
            "image/png": "[encoded data removed]"
          },
          "metadata": {},
          "output_type": "display_data"
        }
      ]
    },
    {
      "cell_type": "code",
      "metadata": {
        "tags": [],
        "cell_id": "00035-2cae5b35-d6a3-4e98-bffd-76338201c7c2",
        "deepnote_to_be_reexecuted": false,
        "source_hash": "f0ff7c61",
        "execution_millis": 169,
        "execution_start": 1617582037170,
        "deepnote_cell_type": "code"
      },
      "source": "# Visualize juniors' favorite apps\nplt.style.use('ggplot')\n\nplt.figure()\n#plt.figure(figsize = (12,6))\nplt.xlabel('Social Media App')\n# Set the y axis label of the current axis.\nplt.ylabel('Number of Respondents')\n# Set a title of the current axes.\nplt.title('Juniors')\n\nplt.bar(juniorsfavsdict.keys(), juniorsfavsdict.values())\n#plt.savefig('apps.png', dpi=300, bbox_inches='tight')",
      "execution_count": 25,
      "outputs": [
        {
          "output_type": "execute_result",
          "execution_count": 25,
          "data": {
            "text/plain": "<BarContainer object of 9 artists>"
          },
          "metadata": {}
        },
        {
          "data": {
            "text/plain": "<Figure size 432x288 with 1 Axes>",
            "image/png": "[encoded data removed]"
          },
          "metadata": {},
          "output_type": "display_data"
        }
      ]
    },
    {
      "cell_type": "code",
      "metadata": {
        "tags": [],
        "cell_id": "00036-1d0c9385-dda3-482a-a001-6477f4d197bd",
        "deepnote_to_be_reexecuted": false,
        "source_hash": "e0714d31",
        "execution_millis": 193,
        "execution_start": 1617582037333,
        "deepnote_cell_type": "code"
      },
      "source": "# Visualize sophomores' favorite apps\nplt.style.use('ggplot')\n\nplt.figure()\n#plt.figure(figsize = (12,6))\nplt.xlabel('Social Media App')\n# Set the y axis label of the current axis.\nplt.ylabel('Number of Respondents')\n# Set a title of the current axes.\nplt.title('Sophomores')\n\nplt.bar(sophsfavsdict.keys(), sophsfavsdict.values())\n#plt.savefig('apps.png', dpi=300, bbox_inches='tight')",
      "execution_count": 26,
      "outputs": [
        {
          "output_type": "execute_result",
          "execution_count": 26,
          "data": {
            "text/plain": "<BarContainer object of 9 artists>"
          },
          "metadata": {}
        },
        {
          "data": {
            "text/plain": "<Figure size 432x288 with 1 Axes>",
            "image/png": "[encoded data removed]"
          },
          "metadata": {},
          "output_type": "display_data"
        }
      ]
    },
    {
      "cell_type": "code",
      "metadata": {
        "tags": [],
        "cell_id": "00037-63b47ba1-3eeb-4a64-8eaf-e33493ce3858",
        "deepnote_to_be_reexecuted": false,
        "source_hash": "8bd9c758",
        "execution_millis": 190,
        "execution_start": 1617582037593,
        "deepnote_cell_type": "code"
      },
      "source": "# Visualize freshmen's favorite apps\nplt.style.use('ggplot')\n\nplt.figure()\n#plt.figure(figsize = (12,6))\nplt.xlabel('Social Media App')\n# Set the y axis label of the current axis.\nplt.ylabel('Number of Respondents')\n# Set a title of the current axes.\nplt.title('Freshmen')\n\nplt.bar(froshfavsdict.keys(), froshfavsdict.values())\n#plt.savefig('apps.png', dpi=300, bbox_inches='tight')",
      "execution_count": 27,
      "outputs": [
        {
          "output_type": "execute_result",
          "execution_count": 27,
          "data": {
            "text/plain": "<BarContainer object of 9 artists>"
          },
          "metadata": {}
        },
        {
          "data": {
            "text/plain": "<Figure size 432x288 with 1 Axes>",
            "image/png": "[encoded data removed]"
          },
          "metadata": {},
          "output_type": "display_data"
        }
      ]
    },
    {
      "cell_type": "code",
      "source": "X = ['Seniors', 'Juniors', 'Sophomores', 'Freshmen']\n\nY1 = [int(seniorsfavsdict['Facebook'] / numseniors * 100),\n      int(juniorsfavsdict['Facebook'] / numjuniors * 100),\n      int(sophsfavsdict['Facebook'] / numsophs * 100),\n      int(froshfavsdict['Facebook'] / numfrosh * 100)]\n\nY1labels = list(map(str, Y1))\nY1labels = [item + '%' for item in Y1labels]\n\nY2 = [int(seniorsfavsdict['Snapchat'] / numseniors * 100),\n      int(juniorsfavsdict['Snapchat'] / numjuniors * 100),\n      int(sophsfavsdict['Snapchat'] / numsophs * 100),\n      int(froshfavsdict['Snapchat'] / numfrosh * 100)]\n\nY2labels = list(map(str, Y2))\nY2labels = [item + '%' for item in Y2labels]\n\nY3 = [int(seniorsfavsdict['Instagram'] / numseniors * 100),\n      int(juniorsfavsdict['Instagram'] / numjuniors * 100),\n      int(sophsfavsdict['Instagram'] / numsophs * 100),\n      int(froshfavsdict['Instagram'] / numfrosh * 100)]\n\nY3labels = list(map(str, Y3))\nY3labels = [item + '%' for item in Y3labels]\n\nY4 = [int(seniorsfavsdict['TikTok'] / numseniors * 100),\n      int(juniorsfavsdict['TikTok'] / numjuniors * 100),\n      int(sophsfavsdict['TikTok'] / numsophs * 100),\n      int(froshfavsdict['TikTok'] / numfrosh * 100)]\n\nY4labels = list(map(str, Y4))\nY4labels = [item + '%' for item in Y4labels]\n\nY5 = [int(seniorsfavsdict['Twitter'] / numseniors * 100),\n      int(juniorsfavsdict['Twitter'] / numjuniors * 100),\n      int(sophsfavsdict['Twitter'] / numsophs * 100),\n      int(froshfavsdict['Twitter'] / numfrosh * 100)]\n\nY5labels = list(map(str, Y5))\nY5labels = [item + '%' for item in Y5labels]\n\nfig = go.Figure()\n\nfig.add_trace(go.Bar(\n    x=X, \n    y=Y1, \n    text=Y1labels,\n    textposition='inside',\n    name=\"Facebook\",\n    marker_color=monochrome_colors[0],\n))\n\nfig.add_trace(go.Bar(\n    x=X, \n    y=Y2, \n    text=Y2labels,\n    textposition='inside',\n    name=\"Snapchat\",\n    marker_color=monochrome_colors[1],\n))\n\nfig.add_trace(go.Bar(\n    x=X, \n    y=Y3, \n    text=Y3labels,\n    textposition='inside',\n    name=\"Instagram\",\n    marker_color=monochrome_colors[2],\n))\n\nfig.add_trace(go.Bar(\n    x=X, \n    y=Y4, \n    text=Y4labels,\n    textposition='inside',\n    name=\"TikTok\",\n    marker_color=monochrome_colors[3],\n))\n\nfig.add_trace(go.Bar(\n    x=X, \n    y=Y5, \n    text=Y5labels,\n    textposition='inside',\n    name=\"Twitter\",\n    marker_color=monochrome_colors[4],\n))\n\nfig.update_layout(barmode='stack', template=theme_hodp)\n\nfig.update_layout(\n   barmode='stack',\n   title=\"Favorite social media apps per class.\", \n   xaxis={'title':{'text':'Class Year'}}, \n   yaxis={'title':{'text':'Percentages that say this is a favorite app.'}}, \n   legend={'title':{'text':'Social Media App'}},\n   template=theme_hodp\n)\n\nfig.update_xaxes(ticks=\"\")\n\nfig.update_yaxes(showticklabels=False, ticks=\"\")\n\nfig.show()",
      "metadata": {
        "tags": [],
        "cell_id": "00039-08744857-0cd0-4f54-87ea-5f8e538a95fc",
        "deepnote_to_be_reexecuted": false,
        "source_hash": "c1b0f4b9",
        "execution_millis": 52,
        "execution_start": 1617582648752,
        "deepnote_cell_type": "code"
      },
      "outputs": [
        {
          "data": {
            "text/html": "<html>\n<head><meta charset=\"utf-8\" /></head>\n<body>\n    <div>            <script src=\"https://cdnjs.cloudflare.com/ajax/libs/mathjax/2.7.5/MathJax.js?config=TeX-AMS-MML_SVG\"></script><script type=\"text/javascript\">if (window.MathJax) {MathJax.Hub.Config({SVG: {font: \"STIX-Web\"}});}</script>                <script type=\"text/javascript\">window.PlotlyConfig = {MathJaxConfig: 'local'};</script>\n        <script src=\"https://cdn.plot.ly/plotly-latest.min.js\"></script>                <div id=\"bc058fa7-3797-4065-a24d-22b0454b8888\" class=\"plotly-graph-div\" style=\"height:525px; width:100%;\"></div>            <script type=\"text/javascript\">                                    window.PLOTLYENV=window.PLOTLYENV || {};                                    if (document.getElementById(\"bc058fa7-3797-4065-a24d-22b0454b8888\")) {                    Plotly.newPlot(                        \"bc058fa7-3797-4065-a24d-22b0454b8888\",                        [{\"marker\": {\"color\": \"#251616\"}, \"name\": \"Facebook\", \"text\": [\"29%\", \"32%\", \"17%\", \"17%\"], \"textposition\": \"inside\", \"type\": \"bar\", \"x\": [\"Seniors\", \"Juniors\", \"Sophomores\", \"Freshmen\"], \"y\": [29, 32, 17, 17]}, {\"marker\": {\"color\": \"#760000\"}, \"name\": \"Snapchat\", \"text\": [\"29%\", \"28%\", \"57%\", \"37%\"], \"textposition\": \"inside\", \"type\": \"bar\", \"x\": [\"Seniors\", \"Juniors\", \"Sophomores\", \"Freshmen\"], \"y\": [29, 28, 57, 37]}, {\"marker\": {\"color\": \"#C63F3F\"}, \"name\": \"Instagram\", \"text\": [\"64%\", \"60%\", \"80%\", \"75%\"], \"textposition\": \"inside\", \"type\": \"bar\", \"x\": [\"Seniors\", \"Juniors\", \"Sophomores\", \"Freshmen\"], \"y\": [64, 60, 80, 75]}, {\"marker\": {\"color\": \"#E28073\"}, \"name\": \"TikTok\", \"text\": [\"23%\", \"40%\", \"44%\", \"33%\"], \"textposition\": \"inside\", \"type\": \"bar\", \"x\": [\"Seniors\", \"Juniors\", \"Sophomores\", \"Freshmen\"], \"y\": [23, 40, 44, 33]}, {\"marker\": {\"color\": \"#F1D3CF\"}, \"name\": \"Twitter\", \"text\": [\"47%\", \"44%\", \"15%\", \"26%\"], \"textposition\": \"inside\", \"type\": \"bar\", \"x\": [\"Seniors\", \"Juniors\", \"Sophomores\", \"Freshmen\"], \"y\": [47, 44, 15, 26]}],                        {\"barmode\": \"stack\", \"legend\": {\"title\": {\"text\": \"Social Media App\"}}, \"template\": {\"layout\": {\"coloraxis\": {\"autocolorscale\": true, \"cauto\": true, \"colorbar\": {\"tickfont\": {\"family\": \"Helvetica\", \"size\": 14}, \"title\": {\"font\": {\"family\": \"Helvetica\", \"size\": 18}}}}, \"colorscale\": {\"diverging\": [[0.0, \"#251616\"], [0.25, \"#760000\"], [0.5, \"#C63F3F\"], [0.75, \"#E28073\"], [1.0, \"#F1D3CF\"]]}, \"font\": {\"color\": \"#717171\", \"family\": \"Helvetica\", \"size\": 18}, \"legend\": {\"bgcolor\": \"rgba(0,0,0,0)\", \"font\": {\"family\": \"Helvetica\", \"size\": 14}, \"title\": {\"font\": {\"color\": \"#251616\", \"family\": \"Helvetica\", \"size\": 18}}, \"yanchor\": \"bottom\"}, \"title\": {\"font\": {\"color\": \"#251616\", \"family\": \"Helvetica\", \"size\": 24}, \"pad\": {\"b\": 0, \"l\": 0, \"r\": 0, \"t\": 100}}, \"xaxis\": {\"automargin\": true, \"showline\": true, \"showtickprefix\": \"last\", \"showticksuffix\": \"all\", \"tickfont\": {\"family\": \"Helvetica\", \"size\": 14}, \"ticks\": \"outside\", \"title\": {\"font\": {\"family\": \"Helvetica\", \"size\": 18}, \"standoff\": 20}}, \"yaxis\": {\"automargin\": true, \"showline\": true, \"showtickprefix\": \"last\", \"showticksuffix\": \"all\", \"tickfont\": {\"family\": \"Helvetica\", \"size\": 14}, \"ticks\": \"outside\", \"title\": {\"font\": {\"family\": \"Helvetica\", \"size\": 18}, \"standoff\": 20}}}}, \"title\": {\"text\": \"Favorite social media apps per class.\"}, \"xaxis\": {\"ticks\": \"\", \"title\": {\"text\": \"Class Year\"}}, \"yaxis\": {\"showticklabels\": false, \"ticks\": \"\", \"title\": {\"text\": \"Percentages that say this is a favorite app.\"}}},                        {\"responsive\": true}                    ).then(function(){\n                            \nvar gd = document.getElementById('bc058fa7-3797-4065-a24d-22b0454b8888');\nvar x = new MutationObserver(function (mutations, observer) {{\n        var display = window.getComputedStyle(gd).display;\n        if (!display || display === 'none') {{\n            console.log([gd, 'removed!']);\n            Plotly.purge(gd);\n            observer.disconnect();\n        }}\n}});\n\n// Listen for the removal of the full notebook cells\nvar notebookContainer = gd.closest('#notebook-container');\nif (notebookContainer) {{\n    x.observe(notebookContainer, {childList: true});\n}}\n\n// Listen for the clearing of the current output cell\nvar outputEl = gd.closest('.output');\nif (outputEl) {{\n    x.observe(outputEl, {childList: true});\n}}\n\n                        })                };                            </script>        </div>\n</body>\n</html>"
          },
          "metadata": {},
          "output_type": "display_data"
        }
      ],
      "execution_count": 54
    },
    {
      "cell_type": "markdown",
      "source": "### Figure 4: Horizontal bar graph of purpose of social media apps by class year",
      "metadata": {
        "tags": [],
        "cell_id": "00029-160da6fb-8c64-483f-8de2-4a5a6536de81",
        "deepnote_cell_type": "text-cell-h3"
      }
    },
    {
      "cell_type": "code",
      "metadata": {
        "tags": [],
        "cell_id": "00030-930e744c-716d-4d4f-b746-954d09be4d3f",
        "deepnote_to_be_reexecuted": false,
        "source_hash": "c2c6bf66",
        "execution_millis": 193,
        "execution_start": 1617582037903,
        "deepnote_cell_type": "code"
      },
      "source": "# Get a list of the purposes of why seniors use these apps\nseniorspurpose = list(seniors_data['Q4'][1:])\n\n# clean the list to remove NaN values\ncleanedList = [x for x in seniorspurpose if str(x) != 'nan']\nseniorspurpose = \",\".join(cleanedList)\nseniorspurpose = seniorspurpose.split(',')\nseniorspurposedict = {'friends': 0, 'current': 0, 'network': 0, \n            'meet': 0, 'entertainment': 0, 'photos': 0, 'opinions': 0, \n            'shopping': 0, 'spare time': 0, 'other': 0}\n\nfor e in range(len(seniorspurpose)):\n    if seniorspurpose[e] == 'Staying in touch with friends and/or family':\n        seniorspurposedict['friends'] += 1\n    elif seniorspurpose[e] == 'Staying updated on current events':\n        seniorspurposedict['current'] += 1\n    elif seniorspurpose[e] == 'Networking with other people':\n        seniorspurposedict['network'] += 1\n    elif seniorspurpose[e] == 'Meeting other people':\n        seniorspurposedict['meet'] += 1\n    elif seniorspurpose[e] == 'Finding entertaining content':\n        seniorspurposedict['entertainment'] += 1\n    elif seniorspurpose[e] == 'Sharing photos and videos':\n        seniorspurposedict['photos'] += 1\n    elif seniorspurpose[e] == 'Sharing opinions':\n        seniorspurposedict['opinions'] += 1\n    elif seniorspurpose[e] == 'Shopping and/or researching products':\n        seniorspurposedict['shopping'] += 1\n    elif seniorspurpose[e] == 'Filling spare time':\n        seniorspurposedict['spare time'] += 1\n    else:\n        seniorspurposedict['other'] += 1\n    \nprint(seniorspurposedict)",
      "execution_count": 30,
      "outputs": [
        {
          "name": "stdout",
          "text": "{'friends': 8, 'current': 9, 'network': 1, 'meet': 0, 'entertainment': 11, 'photos': 4, 'opinions': 2, 'shopping': 3, 'spare time': 6, 'other': 1}\n",
          "output_type": "stream"
        }
      ]
    },
    {
      "cell_type": "code",
      "metadata": {
        "tags": [],
        "cell_id": "00041-d2cf6f7e-12de-46cd-8f18-6bc789ea1d69",
        "deepnote_to_be_reexecuted": false,
        "source_hash": "651caabb",
        "execution_millis": 191,
        "execution_start": 1617582037905,
        "deepnote_cell_type": "code"
      },
      "source": "# Get a list of the purposes of why juniors use these apps\njuniorspurpose = list(juniors_data['Q4'][1:])\n\n# clean the list to remove NaN values\ncleanedList = [x for x in juniorspurpose if str(x) != 'nan']\njuniorspurpose = \",\".join(cleanedList)\njuniorspurpose = juniorspurpose.split(',')\njuniorspurposedict = {'friends': 0, 'current': 0, 'network': 0, \n            'meet': 0, 'entertainment': 0, 'photos': 0, 'opinions': 0, \n            'shopping': 0, 'spare time': 0, 'other': 0}\n\nfor e in range(len(juniorspurpose)):\n    if juniorspurpose[e] == 'Staying in touch with friends and/or family':\n        juniorspurposedict['friends'] += 1\n    elif juniorspurpose[e] == 'Staying updated on current events':\n        juniorspurposedict['current'] += 1\n    elif juniorspurpose[e] == 'Networking with other people':\n        juniorspurposedict['network'] += 1\n    elif juniorspurpose[e] == 'Meeting other people':\n        juniorspurposedict['meet'] += 1\n    elif juniorspurpose[e] == 'Finding entertaining content':\n        juniorspurposedict['entertainment'] += 1\n    elif juniorspurpose[e] == 'Sharing photos and videos':\n        juniorspurposedict['photos'] += 1\n    elif juniorspurpose[e] == 'Sharing opinions':\n        juniorspurposedict['opinions'] += 1\n    elif juniorspurpose[e] == 'Shopping and/or researching products':\n        juniorspurposedict['shopping'] += 1\n    elif juniorspurpose[e] == 'Filling spare time':\n        juniorspurposedict['spare time'] += 1\n    else:\n        juniorspurposedict['other'] += 1\n    \nprint(juniorspurposedict)",
      "execution_count": 31,
      "outputs": [
        {
          "name": "stdout",
          "text": "{'friends': 17, 'current': 15, 'network': 1, 'meet': 0, 'entertainment': 22, 'photos': 3, 'opinions': 0, 'shopping': 0, 'spare time': 11, 'other': 0}\n",
          "output_type": "stream"
        }
      ]
    },
    {
      "cell_type": "code",
      "metadata": {
        "tags": [],
        "cell_id": "00042-1dedf564-4cf6-423d-8eaf-e07533ae60cf",
        "deepnote_to_be_reexecuted": false,
        "source_hash": "24198f89",
        "execution_millis": 188,
        "execution_start": 1617582037908,
        "deepnote_cell_type": "code"
      },
      "source": "# Get a list of the purposes of why sophomores use these apps\nsophspurpose = list(sophs_data['Q4'][1:])\n\n# clean the list to remove NaN values\ncleanedList = [x for x in sophspurpose if str(x) != 'nan']\nsophspurpose = \",\".join(cleanedList)\nsophspurpose = sophspurpose.split(',')\nsophspurposedict = {'friends': 0, 'current': 0, 'network': 0, \n            'meet': 0, 'entertainment': 0, 'photos': 0, 'opinions': 0, \n            'shopping': 0, 'spare time': 0, 'other': 0}\n\nfor e in range(len(sophspurpose)):\n    if sophspurpose[e] == 'Staying in touch with friends and/or family':\n        sophspurposedict['friends'] += 1\n    elif sophspurpose[e] == 'Staying updated on current events':\n        sophspurposedict['current'] += 1\n    elif sophspurpose[e] == 'Networking with other people':\n        sophspurposedict['network'] += 1\n    elif sophspurpose[e] == 'Meeting other people':\n        sophspurposedict['meet'] += 1\n    elif sophspurpose[e] == 'Finding entertaining content':\n        sophspurposedict['entertainment'] += 1\n    elif sophspurpose[e] == 'Sharing photos and videos':\n        sophspurposedict['photos'] += 1\n    elif sophspurpose[e] == 'Sharing opinions':\n        sophspurposedict['opinions'] += 1\n    elif sophspurpose[e] == 'Shopping and/or researching products':\n        sophspurposedict['shopping'] += 1\n    elif sophspurpose[e] == 'Filling spare time':\n        sophspurposedict['spare time'] += 1\n    else:\n        sophspurposedict['other'] += 1\n    \nprint(sophspurposedict)",
      "execution_count": 32,
      "outputs": [
        {
          "name": "stdout",
          "text": "{'friends': 35, 'current': 17, 'network': 3, 'meet': 2, 'entertainment': 29, 'photos': 18, 'opinions': 5, 'shopping': 1, 'spare time': 14, 'other': 0}\n",
          "output_type": "stream"
        }
      ]
    },
    {
      "cell_type": "code",
      "metadata": {
        "tags": [],
        "cell_id": "00043-0e2ea54e-8f8c-4173-968f-b0ac0b75ca15",
        "deepnote_to_be_reexecuted": false,
        "source_hash": "bbd35f45",
        "execution_millis": 176,
        "execution_start": 1617582037920,
        "deepnote_cell_type": "code"
      },
      "source": "# Get a list of the purposes of why freshmen use these apps\nfroshpurpose = list(frosh_data['Q4'][1:])\n\n# clean the list to remove NaN values\ncleanedList = [x for x in froshpurpose if str(x) != 'nan']\nfroshpurpose = \",\".join(cleanedList)\nfroshpurpose = froshpurpose.split(',')\nfroshpurposedict = {'friends': 0, 'current': 0, 'network': 0, \n            'meet': 0, 'entertainment': 0, 'photos': 0, 'opinions': 0, \n            'shopping': 0, 'spare time': 0, 'other': 0}\n\nfor e in range(len(froshpurpose)):\n    if froshpurpose[e] == 'Staying in touch with friends and/or family':\n        froshpurposedict['friends'] += 1\n    elif froshpurpose[e] == 'Staying updated on current events':\n        froshpurposedict['current'] += 1\n    elif froshpurpose[e] == 'Networking with other people':\n        froshpurposedict['network'] += 1\n    elif froshpurpose[e] == 'Meeting other people':\n        froshpurposedict['meet'] += 1\n    elif froshpurpose[e] == 'Finding entertaining content':\n        froshpurposedict['entertainment'] += 1\n    elif froshpurpose[e] == 'Sharing photos and videos':\n        froshpurposedict['photos'] += 1\n    elif froshpurpose[e] == 'Sharing opinions':\n        froshpurposedict['opinions'] += 1\n    elif froshpurpose[e] == 'Shopping and/or researching products':\n        froshpurposedict['shopping'] += 1\n    elif froshpurpose[e] == 'Filling spare time':\n        froshpurposedict['spare time'] += 1\n    else:\n        froshpurposedict['other'] += 1\n    \nprint(froshpurposedict)",
      "execution_count": 33,
      "outputs": [
        {
          "name": "stdout",
          "text": "{'friends': 28, 'current': 20, 'network': 5, 'meet': 2, 'entertainment': 30, 'photos': 11, 'opinions': 4, 'shopping': 1, 'spare time': 26, 'other': 0}\n",
          "output_type": "stream"
        }
      ]
    },
    {
      "cell_type": "code",
      "metadata": {
        "tags": [],
        "cell_id": "00044-7d78ddc9-8e1b-4fb2-8d9b-ce1de8256699",
        "deepnote_to_be_reexecuted": false,
        "source_hash": "93600551",
        "execution_millis": 233,
        "execution_start": 1617582037970,
        "deepnote_cell_type": "code"
      },
      "source": "# Visualize seniors' app purpose\nplt.style.use('ggplot')\n\nplt.figure()\n#plt.figure(figsize = (12,6))\nplt.xlabel('Social Media App')\n# Set the y axis label of the current axis.\nplt.ylabel('Number of Respondents')\n# Set a title of the current axes.\nplt.title('Seniors')\n\nplt.bar(seniorspurposedict.keys(), seniorspurposedict.values())\n#plt.savefig('apps.png', dpi=300, bbox_inches='tight')",
      "execution_count": 34,
      "outputs": [
        {
          "output_type": "execute_result",
          "execution_count": 34,
          "data": {
            "text/plain": "<BarContainer object of 10 artists>"
          },
          "metadata": {}
        },
        {
          "data": {
            "text/plain": "<Figure size 432x288 with 1 Axes>",
            "image/png": "[encoded data removed]"
          },
          "metadata": {},
          "output_type": "display_data"
        }
      ]
    },
    {
      "cell_type": "code",
      "metadata": {
        "tags": [],
        "cell_id": "00045-1435c7b6-6634-4c45-9719-93b165fc223c",
        "deepnote_to_be_reexecuted": false,
        "source_hash": "aaa9c8e7",
        "execution_millis": 184,
        "execution_start": 1617582038210,
        "deepnote_cell_type": "code"
      },
      "source": "# Visualize juniors' app purpose\nplt.style.use('ggplot')\n\nplt.figure()\n#plt.figure(figsize = (12,6))\nplt.xlabel('Social Media App')\n# Set the y axis label of the current axis.\nplt.ylabel('Number of Respondents')\n# Set a title of the current axes.\nplt.title('Juniors')\n\nplt.bar(juniorspurposedict.keys(), juniorspurposedict.values())\n#plt.savefig('apps.png', dpi=300, bbox_inches='tight')",
      "execution_count": 35,
      "outputs": [
        {
          "output_type": "execute_result",
          "execution_count": 35,
          "data": {
            "text/plain": "<BarContainer object of 10 artists>"
          },
          "metadata": {}
        },
        {
          "data": {
            "text/plain": "<Figure size 432x288 with 1 Axes>",
            "image/png": "[encoded data removed]"
          },
          "metadata": {},
          "output_type": "display_data"
        }
      ]
    },
    {
      "cell_type": "code",
      "metadata": {
        "tags": [],
        "cell_id": "00046-36df2416-38ba-470b-905e-a7ed87cefab5",
        "deepnote_to_be_reexecuted": false,
        "source_hash": "44eb7f51",
        "execution_millis": 195,
        "execution_start": 1617582038405,
        "deepnote_cell_type": "code"
      },
      "source": "# Visualize sophomores' app purpose\nplt.style.use('ggplot')\n\nplt.figure()\n#plt.figure(figsize = (12,6))\nplt.xlabel('Social Media App')\n# Set the y axis label of the current axis.\nplt.ylabel('Number of Respondents')\n# Set a title of the current axes.\nplt.title('Sophomores')\n\nplt.bar(sophspurposedict.keys(), sophspurposedict.values())\n#plt.savefig('apps.png', dpi=300, bbox_inches='tight')",
      "execution_count": 36,
      "outputs": [
        {
          "output_type": "execute_result",
          "execution_count": 36,
          "data": {
            "text/plain": "<BarContainer object of 10 artists>"
          },
          "metadata": {}
        },
        {
          "data": {
            "text/plain": "<Figure size 432x288 with 1 Axes>",
            "image/png": "[encoded data removed]"
          },
          "metadata": {},
          "output_type": "display_data"
        }
      ]
    },
    {
      "cell_type": "code",
      "metadata": {
        "tags": [],
        "cell_id": "00047-f8d24a99-adca-45be-9b22-b50a2c089f9f",
        "deepnote_to_be_reexecuted": false,
        "source_hash": "18ce6112",
        "execution_millis": 168,
        "execution_start": 1617582038646,
        "deepnote_cell_type": "code"
      },
      "source": "# Visualize freshmen's app purpose\nplt.style.use('ggplot')\n\nplt.figure()\n#plt.figure(figsize = (12,6))\nplt.xlabel('Social Media App')\n# Set the y axis label of the current axis.\nplt.ylabel('Number of Respondents')\n# Set a title of the current axes.\nplt.title('Freshmen')\n\nplt.bar(froshpurposedict.keys(), froshpurposedict.values())\n#plt.savefig('apps.png', dpi=300, bbox_inches='tight')",
      "execution_count": 37,
      "outputs": [
        {
          "output_type": "execute_result",
          "execution_count": 37,
          "data": {
            "text/plain": "<BarContainer object of 10 artists>"
          },
          "metadata": {}
        },
        {
          "data": {
            "text/plain": "<Figure size 432x288 with 1 Axes>",
            "image/png": "[encoded data removed]"
          },
          "metadata": {},
          "output_type": "display_data"
        }
      ]
    },
    {
      "cell_type": "code",
      "source": "X = ['Seniors', 'Juniors', 'Sophomores', 'Freshmen']\n\nY1 = [int(seniorspurposedict['friends'] / numseniors * 100),\n      int(juniorspurposedict['friends'] / numjuniors * 100),\n      int(sophspurposedict['friends'] / numsophs * 100),\n      int(froshpurposedict['friends'] / numfrosh * 100)]\n\nY1labels = list(map(str, Y1))\nY1labels = [item + '%' for item in Y1labels]\n\nY2 = [int(seniorspurposedict['current'] / numseniors * 100),\n      int(juniorspurposedict['current'] / numjuniors * 100),\n      int(sophspurposedict['current'] / numsophs * 100),\n      int(froshpurposedict['current'] / numfrosh * 100)]\n\nY2labels = list(map(str, Y2))\nY2labels = [item + '%' for item in Y2labels]\n\nY3 = [int(seniorspurposedict['entertainment'] / numseniors * 100),\n      int(juniorspurposedict['entertainment'] / numjuniors * 100),\n      int(sophspurposedict['entertainment'] / numsophs * 100),\n      int(froshpurposedict['entertainment'] / numfrosh * 100)]\n\nY3labels = list(map(str, Y3))\nY3labels = [item + '%' for item in Y3labels]\n\nY4 = [int(seniorspurposedict['photos'] / numseniors * 100),\n      int(juniorspurposedict['photos'] / numjuniors * 100),\n      int(sophspurposedict['photos'] / numsophs * 100),\n      int(froshpurposedict['photos'] / numfrosh * 100)]\n\nY4labels = list(map(str, Y4))\nY4labels = [item + '%' for item in Y4labels]\n\nY5 = [int(seniorspurposedict['spare time'] / numseniors * 100),\n      int(juniorspurposedict['spare time'] / numjuniors * 100),\n      int(sophspurposedict['spare time'] / numsophs * 100),\n      int(froshpurposedict['spare time'] / numfrosh * 100)]\n\nY5labels = list(map(str, Y5))\nY5labels = [item + '%' for item in Y5labels]\n\nfig = go.Figure()\n\nfig.add_trace(go.Bar(\n    x=X, \n    y=Y1, \n    text=Y1labels,\n    textposition='inside',\n    name=\"Staying in touch with friends/family\",\n    marker_color=monochrome_colors[0],\n))\n\nfig.add_trace(go.Bar(\n    x=X, \n    y=Y2, \n    text=Y2labels,\n    textposition='inside',\n    name=\"Staying updated on current events\",\n    marker_color=monochrome_colors[1],\n))\n\nfig.add_trace(go.Bar(\n    x=X, \n    y=Y3, \n    text=Y3labels,\n    textposition='inside',\n    name=\"Finding entertaining content\",\n    marker_color=monochrome_colors[2],\n))\n\nfig.add_trace(go.Bar(\n    x=X, \n    y=Y4, \n    text=Y4labels,\n    textposition='inside',\n    name=\"Sharing photos and videos\",\n    marker_color=monochrome_colors[3],\n))\n\nfig.add_trace(go.Bar(\n    x=X, \n    y=Y5, \n    text=Y5labels,\n    textposition='inside',\n    name=\"Filling spare time\",\n    marker_color=monochrome_colors[4],\n))\n\nfig.update_layout(barmode='stack', template=theme_hodp)\n\nfig.update_layout(\n   barmode='stack',\n   title=\"Purpose of social media per class.\", \n   xaxis={'title':{'text':'Class Year'}}, \n   yaxis={'title':{'text':'Percentages that use for this purpose'}}, \n   legend={'title':{'text':'Purpose for using social media'}},\n   template=theme_hodp\n)\n\nfig.update_xaxes(ticks=\"\")\n\nfig.update_yaxes(showticklabels=False, ticks=\"\")\n\nfig.show()",
      "metadata": {
        "tags": [],
        "cell_id": "00049-251f81cc-15a0-4c74-8171-f2c899bec6a2",
        "deepnote_to_be_reexecuted": false,
        "source_hash": "700fe701",
        "execution_millis": 17,
        "execution_start": 1617582183011,
        "deepnote_cell_type": "code"
      },
      "outputs": [
        {
          "data": {
            "text/html": "<html>\n<head><meta charset=\"utf-8\" /></head>\n<body>\n    <div>            <script src=\"https://cdnjs.cloudflare.com/ajax/libs/mathjax/2.7.5/MathJax.js?config=TeX-AMS-MML_SVG\"></script><script type=\"text/javascript\">if (window.MathJax) {MathJax.Hub.Config({SVG: {font: \"STIX-Web\"}});}</script>                <script type=\"text/javascript\">window.PlotlyConfig = {MathJaxConfig: 'local'};</script>\n        <script src=\"https://cdn.plot.ly/plotly-latest.min.js\"></script>                <div id=\"8cc17859-9cd2-47d0-90a2-82ed9c6d7316\" class=\"plotly-graph-div\" style=\"height:525px; width:100%;\"></div>            <script type=\"text/javascript\">                                    window.PLOTLYENV=window.PLOTLYENV || {};                                    if (document.getElementById(\"8cc17859-9cd2-47d0-90a2-82ed9c6d7316\")) {                    Plotly.newPlot(                        \"8cc17859-9cd2-47d0-90a2-82ed9c6d7316\",                        [{\"marker\": {\"color\": \"#251616\"}, \"name\": \"Staying in touch with friends/family\", \"text\": [\"47%\", \"68%\", \"77%\", \"62%\"], \"textposition\": \"inside\", \"type\": \"bar\", \"x\": [\"Seniors\", \"Juniors\", \"Sophomores\", \"Freshmen\"], \"y\": [47, 68, 77, 62]}, {\"marker\": {\"color\": \"#760000\"}, \"name\": \"Staying updated on current events\", \"text\": [\"52%\", \"60%\", \"37%\", \"44%\"], \"textposition\": \"inside\", \"type\": \"bar\", \"x\": [\"Seniors\", \"Juniors\", \"Sophomores\", \"Freshmen\"], \"y\": [52, 60, 37, 44]}, {\"marker\": {\"color\": \"#C63F3F\"}, \"name\": \"Finding entertaining content\", \"text\": [\"64%\", \"88%\", \"64%\", \"66%\"], \"textposition\": \"inside\", \"type\": \"bar\", \"x\": [\"Seniors\", \"Juniors\", \"Sophomores\", \"Freshmen\"], \"y\": [64, 88, 64, 66]}, {\"marker\": {\"color\": \"#E28073\"}, \"name\": \"Sharing photos and videos\", \"text\": [\"23%\", \"12%\", \"40%\", \"24%\"], \"textposition\": \"inside\", \"type\": \"bar\", \"x\": [\"Seniors\", \"Juniors\", \"Sophomores\", \"Freshmen\"], \"y\": [23, 12, 40, 24]}, {\"marker\": {\"color\": \"#F1D3CF\"}, \"name\": \"Filling spare time\", \"text\": [\"35%\", \"44%\", \"31%\", \"57%\"], \"textposition\": \"inside\", \"type\": \"bar\", \"x\": [\"Seniors\", \"Juniors\", \"Sophomores\", \"Freshmen\"], \"y\": [35, 44, 31, 57]}],                        {\"barmode\": \"stack\", \"legend\": {\"title\": {\"text\": \"Purpose for using social media\"}}, \"template\": {\"layout\": {\"coloraxis\": {\"autocolorscale\": true, \"cauto\": true, \"colorbar\": {\"tickfont\": {\"family\": \"Helvetica\", \"size\": 14}, \"title\": {\"font\": {\"family\": \"Helvetica\", \"size\": 18}}}}, \"colorscale\": {\"diverging\": [[0.0, \"#251616\"], [0.25, \"#760000\"], [0.5, \"#C63F3F\"], [0.75, \"#E28073\"], [1.0, \"#F1D3CF\"]]}, \"font\": {\"color\": \"#717171\", \"family\": \"Helvetica\", \"size\": 18}, \"legend\": {\"bgcolor\": \"rgba(0,0,0,0)\", \"font\": {\"family\": \"Helvetica\", \"size\": 14}, \"title\": {\"font\": {\"color\": \"#251616\", \"family\": \"Helvetica\", \"size\": 18}}, \"yanchor\": \"bottom\"}, \"title\": {\"font\": {\"color\": \"#251616\", \"family\": \"Helvetica\", \"size\": 24}, \"pad\": {\"b\": 0, \"l\": 0, \"r\": 0, \"t\": 100}}, \"xaxis\": {\"automargin\": true, \"showline\": true, \"showtickprefix\": \"last\", \"showticksuffix\": \"all\", \"tickfont\": {\"family\": \"Helvetica\", \"size\": 14}, \"ticks\": \"outside\", \"title\": {\"font\": {\"family\": \"Helvetica\", \"size\": 18}, \"standoff\": 20}}, \"yaxis\": {\"automargin\": true, \"showline\": true, \"showtickprefix\": \"last\", \"showticksuffix\": \"all\", \"tickfont\": {\"family\": \"Helvetica\", \"size\": 14}, \"ticks\": \"outside\", \"title\": {\"font\": {\"family\": \"Helvetica\", \"size\": 18}, \"standoff\": 20}}}}, \"title\": {\"text\": \"Purpose of social media per class.\"}, \"xaxis\": {\"ticks\": \"\", \"title\": {\"text\": \"Class Year\"}}, \"yaxis\": {\"showticklabels\": false, \"ticks\": \"\", \"title\": {\"text\": \"Percentages that use for this purpose\"}}},                        {\"responsive\": true}                    ).then(function(){\n                            \nvar gd = document.getElementById('8cc17859-9cd2-47d0-90a2-82ed9c6d7316');\nvar x = new MutationObserver(function (mutations, observer) {{\n        var display = window.getComputedStyle(gd).display;\n        if (!display || display === 'none') {{\n            console.log([gd, 'removed!']);\n            Plotly.purge(gd);\n            observer.disconnect();\n        }}\n}});\n\n// Listen for the removal of the full notebook cells\nvar notebookContainer = gd.closest('#notebook-container');\nif (notebookContainer) {{\n    x.observe(notebookContainer, {childList: true});\n}}\n\n// Listen for the clearing of the current output cell\nvar outputEl = gd.closest('.output');\nif (outputEl) {{\n    x.observe(outputEl, {childList: true});\n}}\n\n                        })                };                            </script>        </div>\n</body>\n</html>"
          },
          "metadata": {},
          "output_type": "display_data"
        }
      ],
      "execution_count": 50
    },
    {
      "cell_type": "markdown",
      "source": "### Figure 5: Change in time on social media apps",
      "metadata": {
        "tags": [],
        "cell_id": "00049-e1753e1b-ea8f-4176-a66d-71caaf77992b",
        "deepnote_cell_type": "text-cell-h3"
      }
    },
    {
      "cell_type": "code",
      "source": "# Change in social media usage\nnegfives = survey_data[survey_data[\"Q9_1\"] == '-5'][\"Q9_1\"].count()\nnegfours = survey_data[survey_data[\"Q9_1\"] == '-4'][\"Q9_1\"].count()\nnegthrees = survey_data[survey_data[\"Q9_1\"] == '-3'][\"Q9_1\"].count()\nnegtwos = survey_data[survey_data[\"Q9_1\"] == '-2'][\"Q9_1\"].count()\nnegones = survey_data[survey_data[\"Q9_1\"] == '-1'][\"Q9_1\"].count()\nzeros = survey_data[survey_data[\"Q9_1\"] == '0'][\"Q9_1\"].count()\nones = survey_data[survey_data[\"Q9_1\"] == '1'][\"Q9_1\"].count()\ntwos = survey_data[survey_data[\"Q9_1\"] == '2'][\"Q9_1\"].count()\nthrees = survey_data[survey_data[\"Q9_1\"] == '3'][\"Q9_1\"].count()\nfours = survey_data[survey_data[\"Q9_1\"] == '4'][\"Q9_1\"].count()\nfives = survey_data[survey_data[\"Q9_1\"] == '5'][\"Q9_1\"].count()\nsixes = survey_data[survey_data[\"Q9_1\"] == '6'][\"Q9_1\"].count()\nsevens = survey_data[survey_data[\"Q9_1\"] == '7'][\"Q9_1\"].count()\neights = survey_data[survey_data[\"Q9_1\"] == '8'][\"Q9_1\"].count()\nnines = survey_data[survey_data[\"Q9_1\"] == '9'][\"Q9_1\"].count()\ntens = survey_data[survey_data[\"Q9_1\"] == '10'][\"Q9_1\"].count()\n\nlabels = [\"-3 or more\", \"-2 to -1\", \"0\", \"+1 to +2\", \"+3 to +4\", \"+5 or more\"]\nvalues = [negfives + negfours + negthrees, \n          negtwos + negones,\n          zeros,\n          ones + twos,\n          threes + fours,\n          fives + sixes + sevens + eights + nines + tens]\n\n# initialize the figure\nfig = go.Figure()\n\n# add a trace\nfig.add_trace(go.Pie(\n   values=values, \n   labels=labels,\n   textinfo='label',\n   marker_colors=primary_colors,\n   hoverinfo='label+percent',\n   direction='clockwise'\n))\n\n# update the layout\nfig.update_layout(\n   title=\"Figure 5: Change in hours spent on social media. \", \n   xaxis={'title':{'text':'X Axis Label'}}, \n   yaxis={'title':{'text':'Y Axis Label'}}, \n   legend={'title':{'text':'Hours spent on social media'}},\n   template=theme_hodp\n)\n\n# display the figure\nfig.show()",
      "metadata": {
        "tags": [],
        "cell_id": "00049-c355774f-5e8d-45a1-ad8c-74dc2049c468",
        "deepnote_to_be_reexecuted": false,
        "source_hash": "4f963407",
        "execution_millis": 11,
        "execution_start": 1617582038883,
        "deepnote_cell_type": "code"
      },
      "outputs": [
        {
          "data": {
            "text/html": "<html>\n<head><meta charset=\"utf-8\" /></head>\n<body>\n    <div>            <script src=\"https://cdnjs.cloudflare.com/ajax/libs/mathjax/2.7.5/MathJax.js?config=TeX-AMS-MML_SVG\"></script><script type=\"text/javascript\">if (window.MathJax) {MathJax.Hub.Config({SVG: {font: \"STIX-Web\"}});}</script>                <script type=\"text/javascript\">window.PlotlyConfig = {MathJaxConfig: 'local'};</script>\n        <script src=\"https://cdn.plot.ly/plotly-latest.min.js\"></script>                <div id=\"c5fbfe6e-5b63-469c-89c1-b39dd2183de3\" class=\"plotly-graph-div\" style=\"height:525px; width:100%;\"></div>            <script type=\"text/javascript\">                                    window.PLOTLYENV=window.PLOTLYENV || {};                                    if (document.getElementById(\"c5fbfe6e-5b63-469c-89c1-b39dd2183de3\")) {                    Plotly.newPlot(                        \"c5fbfe6e-5b63-469c-89c1-b39dd2183de3\",                        [{\"direction\": \"clockwise\", \"hoverinfo\": \"label+percent\", \"labels\": [\"-3 or more\", \"-2 to -1\", \"0\", \"+1 to +2\", \"+3 to +4\", \"+5 or more\"], \"marker\": {\"colors\": [\"#C63F3F\", \"#F4B436\", \"#83BFCC\", \"#455574\", \"#E2DDDB\"]}, \"textinfo\": \"label\", \"type\": \"pie\", \"values\": [8, 7, 11, 66, 32, 9]}],                        {\"legend\": {\"title\": {\"text\": \"Hours spent on social media\"}}, \"template\": {\"layout\": {\"coloraxis\": {\"autocolorscale\": true, \"cauto\": true, \"colorbar\": {\"tickfont\": {\"family\": \"Helvetica\", \"size\": 14}, \"title\": {\"font\": {\"family\": \"Helvetica\", \"size\": 18}}}}, \"colorscale\": {\"diverging\": [[0.0, \"#251616\"], [0.25, \"#760000\"], [0.5, \"#C63F3F\"], [0.75, \"#E28073\"], [1.0, \"#F1D3CF\"]]}, \"font\": {\"color\": \"#717171\", \"family\": \"Helvetica\", \"size\": 18}, \"legend\": {\"bgcolor\": \"rgba(0,0,0,0)\", \"font\": {\"family\": \"Helvetica\", \"size\": 14}, \"title\": {\"font\": {\"color\": \"#251616\", \"family\": \"Helvetica\", \"size\": 18}}, \"yanchor\": \"bottom\"}, \"title\": {\"font\": {\"color\": \"#251616\", \"family\": \"Helvetica\", \"size\": 24}, \"pad\": {\"b\": 0, \"l\": 0, \"r\": 0, \"t\": 100}}, \"xaxis\": {\"automargin\": true, \"showline\": true, \"showtickprefix\": \"last\", \"showticksuffix\": \"all\", \"tickfont\": {\"family\": \"Helvetica\", \"size\": 14}, \"ticks\": \"outside\", \"title\": {\"font\": {\"family\": \"Helvetica\", \"size\": 18}, \"standoff\": 20}}, \"yaxis\": {\"automargin\": true, \"showline\": true, \"showtickprefix\": \"last\", \"showticksuffix\": \"all\", \"tickfont\": {\"family\": \"Helvetica\", \"size\": 14}, \"ticks\": \"outside\", \"title\": {\"font\": {\"family\": \"Helvetica\", \"size\": 18}, \"standoff\": 20}}}}, \"title\": {\"text\": \"Figure 5: Change in hours spent on social media. \"}, \"xaxis\": {\"title\": {\"text\": \"X Axis Label\"}}, \"yaxis\": {\"title\": {\"text\": \"Y Axis Label\"}}},                        {\"responsive\": true}                    ).then(function(){\n                            \nvar gd = document.getElementById('c5fbfe6e-5b63-469c-89c1-b39dd2183de3');\nvar x = new MutationObserver(function (mutations, observer) {{\n        var display = window.getComputedStyle(gd).display;\n        if (!display || display === 'none') {{\n            console.log([gd, 'removed!']);\n            Plotly.purge(gd);\n            observer.disconnect();\n        }}\n}});\n\n// Listen for the removal of the full notebook cells\nvar notebookContainer = gd.closest('#notebook-container');\nif (notebookContainer) {{\n    x.observe(notebookContainer, {childList: true});\n}}\n\n// Listen for the clearing of the current output cell\nvar outputEl = gd.closest('.output');\nif (outputEl) {{\n    x.observe(outputEl, {childList: true});\n}}\n\n                        })                };                            </script>        </div>\n</body>\n</html>"
          },
          "metadata": {},
          "output_type": "display_data"
        }
      ],
      "execution_count": 39
    },
    {
      "cell_type": "code",
      "source": "# Get average change in use of social media apps\n\nusechange = list(survey_data['Q9_1'][1:])\n\n# clean the list to remove NaN values\ncleanedList = [x for x in usechange if str(x) != 'nan']\nprint(cleanedList)\n\ncounter = 0\n\nfor i in range (len(cleanedList)): \n    counter += int(cleanedList[i])\n\naverage = counter / len(cleanedList)\n\nprint(average)",
      "metadata": {
        "tags": [],
        "cell_id": "00051-72f768d7-74fa-4a28-a68b-2f4ae9794359",
        "deepnote_to_be_reexecuted": false,
        "source_hash": "7caee08",
        "execution_millis": 13,
        "execution_start": 1617582038885,
        "deepnote_cell_type": "code"
      },
      "outputs": [
        {
          "name": "stdout",
          "text": "['-1', '4', '3', '4', '4', '2', '9', '-3', '2', '2', '2', '2', '0', '1', '3', '2', '2', '3', '2', '4', '2', '4', '3', '-2', '2', '1', '1', '-1', '-4', '1', '2', '2', '3', '1', '2', '2', '2', '2', '8', '3', '1', '0', '2', '1', '0', '1', '1', '0', '1', '4', '1', '1', '2', '2', '3', '1', '5', '4', '2', '-2', '2', '-2', '2', '0', '3', '2', '1', '1', '-3', '1', '1', '0', '0', '-2', '-2', '4', '1', '5', '3', '3', '0', '2', '3', '0', '2', '2', '1', '2', '2', '4', '4', '4', '1', '2', '1', '0', '4', '1', '2', '9', '-4', '1', '-4', '4', '1', '1', '-3', '3', '-4', '3', '1', '6', '2', '5', '1', '1', '2', '0', '2', '3', '3', '-5', '4', '2', '1', '4', '2', '2', '2', '5', '10', '4', '3']\n1.7669172932330828\n",
          "output_type": "stream"
        }
      ],
      "execution_count": 40
    },
    {
      "cell_type": "markdown",
      "source": "### Figure 6: Change in use of apps pre/post pandemic",
      "metadata": {
        "tags": [],
        "cell_id": "00052-0763386e-0dc0-4dd7-9a26-7aabd3a91e5a",
        "deepnote_cell_type": "text-cell-h3"
      }
    },
    {
      "cell_type": "code",
      "source": "# Apps used prior to the pandemic\nbeforeapps = list(survey_data['Q11'][1:])\n\n# clean the list to remove NaN values\ncleanedList = [x for x in beforeapps if str(x) != 'nan']\nbeforeapps = \",\".join(cleanedList)\nbeforeapps = beforeapps.split(',')\nbeforeappsdict = {'Facebook': 0, 'Snapchat': 0, 'Instagram': 0, \n            'Twitter': 0, 'TikTok': 0, 'LinkedIn': 0, 'GroupMe': 0, \n            'Messenger': 0, 'Other': 0}\n\nfor e in range(len(beforeapps)):\n    if beforeapps[e] == 'Facebook':\n        beforeappsdict['Facebook'] += 1\n    elif beforeapps[e] == 'Facebook Messenger':\n        beforeappsdict['Messenger'] += 1\n    elif beforeapps[e] == 'Snapchat':\n        beforeappsdict['Snapchat'] += 1\n    elif beforeapps[e] == 'Instagram':\n        beforeappsdict['Instagram'] += 1\n    elif beforeapps[e] == 'Twitter':\n        beforeappsdict['Twitter'] += 1\n    elif beforeapps[e] == 'TikTok':\n        beforeappsdict['TikTok'] += 1\n    elif beforeapps[e] == 'LinkedIn':\n        beforeappsdict['LinkedIn'] += 1\n    elif beforeapps[e] == 'GroupMe':\n        beforeappsdict['GroupMe'] += 1\n    else:\n        beforeappsdict['Other'] += 1\n    \nprint(beforeappsdict)\n",
      "metadata": {
        "tags": [],
        "cell_id": "00052-d6d330d3-27f9-4031-8929-1634c0e163e2",
        "deepnote_to_be_reexecuted": false,
        "source_hash": "c643883f",
        "execution_millis": 33,
        "execution_start": 1617582038930,
        "deepnote_cell_type": "code"
      },
      "outputs": [
        {
          "name": "stdout",
          "text": "{'Facebook': 82, 'Snapchat': 87, 'Instagram': 115, 'Twitter': 43, 'TikTok': 24, 'LinkedIn': 46, 'GroupMe': 77, 'Messenger': 73, 'Other': 43}\n",
          "output_type": "stream"
        }
      ],
      "execution_count": 41
    },
    {
      "cell_type": "code",
      "source": "# Apps used prior to the pandemic\nafterapps = list(survey_data['Q12'][1:])\n\n# clean the list to remove NaN values\ncleanedList = [x for x in afterapps if str(x) != 'nan']\nafterapps = \",\".join(cleanedList)\nafterapps = afterapps.split(',')\nafterappsdict = {'Facebook': 0, 'Snapchat': 0, 'Instagram': 0, \n            'Twitter': 0, 'TikTok': 0, 'LinkedIn': 0, 'GroupMe': 0, \n            'Messenger': 0, 'Other': 0}\n\nfor e in range(len(afterapps)):\n    if afterapps[e] == 'Facebook':\n        afterappsdict['Facebook'] += 1\n    elif afterapps[e] == 'Facebook Messenger':\n        afterappsdict['Messenger'] += 1\n    elif afterapps[e] == 'Snapchat':\n        afterappsdict['Snapchat'] += 1\n    elif afterapps[e] == 'Instagram':\n        afterappsdict['Instagram'] += 1\n    elif afterapps[e] == 'Twitter':\n        afterappsdict['Twitter'] += 1\n    elif afterapps[e] == 'TikTok':\n        afterappsdict['TikTok'] += 1\n    elif afterapps[e] == 'LinkedIn':\n        afterappsdict['LinkedIn'] += 1\n    elif afterapps[e] == 'GroupMe':\n        afterappsdict['GroupMe'] += 1\n    else:\n        afterappsdict['Other'] += 1\n    \nprint(afterappsdict)",
      "metadata": {
        "tags": [],
        "cell_id": "00054-ffcc2e49-1bfa-428d-822a-17255e4c80f5",
        "deepnote_to_be_reexecuted": false,
        "source_hash": "6c28fcf7",
        "execution_millis": 32,
        "execution_start": 1617582038931,
        "deepnote_cell_type": "code"
      },
      "outputs": [
        {
          "name": "stdout",
          "text": "{'Facebook': 82, 'Snapchat': 80, 'Instagram': 105, 'Twitter': 61, 'TikTok': 60, 'LinkedIn': 62, 'GroupMe': 87, 'Messenger': 80, 'Other': 48}\n",
          "output_type": "stream"
        }
      ],
      "execution_count": 42
    },
    {
      "cell_type": "code",
      "source": "# Change in apps\n\nrespondents = len(survey_data['Q11'][1:])\n\nchangeappsdict = {'Facebook': (afterappsdict['Facebook'] - beforeappsdict['Facebook']) / respondents * 100,\n                  'Snapchat': (afterappsdict['Snapchat'] - beforeappsdict['Snapchat']) / respondents * 100,\n                  'Instagram': (afterappsdict['Instagram'] - beforeappsdict['Instagram']) / respondents * 100,\n                  'Twitter': (afterappsdict['Twitter'] - beforeappsdict['Twitter']) / respondents * 100,\n                  'TikTok': (afterappsdict['TikTok'] - beforeappsdict['TikTok']) / respondents * 100,\n                  'LinkedIn': (afterappsdict['LinkedIn'] - beforeappsdict['LinkedIn']) / respondents * 100,\n                  'GroupMe': (afterappsdict['GroupMe'] - beforeappsdict['GroupMe']) / respondents * 100,\n                  'Messenger': (afterappsdict['Messenger'] - beforeappsdict['Messenger']) / respondents * 100,\n                  'Other': (afterappsdict['Other'] - beforeappsdict['Other']) / respondents * 100}\nprint(changeappsdict)\n\nprint(afterappsdict['Snapchat'])\nprint(beforeappsdict['Facebook'])",
      "metadata": {
        "tags": [],
        "cell_id": "00055-07695d93-12b3-4ef6-8f1f-2577bbb3e922",
        "deepnote_to_be_reexecuted": false,
        "source_hash": "409004df",
        "execution_millis": 29,
        "execution_start": 1617582038934,
        "deepnote_cell_type": "code"
      },
      "outputs": [
        {
          "name": "stdout",
          "text": "{'Facebook': 0.0, 'Snapchat': -4.827586206896552, 'Instagram': -6.896551724137931, 'Twitter': 12.413793103448276, 'TikTok': 24.82758620689655, 'LinkedIn': 11.03448275862069, 'GroupMe': 6.896551724137931, 'Messenger': 4.827586206896552, 'Other': 3.4482758620689653}\n80\n82\n",
          "output_type": "stream"
        }
      ],
      "execution_count": 43
    },
    {
      "cell_type": "code",
      "source": "X = ['Facebook', 'Snapchat', 'Instagram', 'Twitter', 'TikTok', 'LinkedIn', 'GroupMe', 'Messenger', 'Other']\nY = [changeappsdict['Facebook'], changeappsdict['Snapchat'], changeappsdict['Instagram'], changeappsdict['Twitter'],\n     changeappsdict['TikTok'], changeappsdict['LinkedIn'], changeappsdict['GroupMe'], changeappsdict['Messenger'],\n     changeappsdict['Other']]\n\nfig = go.Figure()\n\nfig.add_trace(go.Bar(\n    x = X,\n    y = Y,\n    marker_color=primary_colors[0]\n))\n\nfig.update_layout(\n   title=\"Percent change in social media app usage after the start of the pandemic.\", \n   xaxis={'title':{'text':'Social Media Apps'}}, \n   yaxis={'title':{'text':'Percent change in respondents who use this app.'}}, \n   template=theme_hodp\n)\nfig.show()",
      "metadata": {
        "tags": [],
        "cell_id": "00056-c93fe8e0-40fb-4299-84ac-1c22b186873e",
        "deepnote_to_be_reexecuted": false,
        "source_hash": "9971d93d",
        "execution_millis": 26,
        "execution_start": 1617587451644,
        "deepnote_cell_type": "code"
      },
      "outputs": [
        {
          "data": {
            "text/html": "<html>\n<head><meta charset=\"utf-8\" /></head>\n<body>\n    <div>            <script src=\"https://cdnjs.cloudflare.com/ajax/libs/mathjax/2.7.5/MathJax.js?config=TeX-AMS-MML_SVG\"></script><script type=\"text/javascript\">if (window.MathJax) {MathJax.Hub.Config({SVG: {font: \"STIX-Web\"}});}</script>                <script type=\"text/javascript\">window.PlotlyConfig = {MathJaxConfig: 'local'};</script>\n        <script src=\"https://cdn.plot.ly/plotly-latest.min.js\"></script>                <div id=\"0eced2b7-ffde-4c9b-9ab8-e05398534166\" class=\"plotly-graph-div\" style=\"height:525px; width:100%;\"></div>            <script type=\"text/javascript\">                                    window.PLOTLYENV=window.PLOTLYENV || {};                                    if (document.getElementById(\"0eced2b7-ffde-4c9b-9ab8-e05398534166\")) {                    Plotly.newPlot(                        \"0eced2b7-ffde-4c9b-9ab8-e05398534166\",                        [{\"marker\": {\"color\": \"#C63F3F\"}, \"type\": \"bar\", \"x\": [\"Facebook\", \"Snapchat\", \"Instagram\", \"Twitter\", \"TikTok\", \"LinkedIn\", \"GroupMe\", \"Messenger\", \"Other\"], \"y\": [0.0, -4.827586206896552, -6.896551724137931, 12.413793103448276, 24.82758620689655, 11.03448275862069, 6.896551724137931, 4.827586206896552, 3.4482758620689653]}],                        {\"template\": {\"layout\": {\"coloraxis\": {\"autocolorscale\": true, \"cauto\": true, \"colorbar\": {\"tickfont\": {\"family\": \"Helvetica\", \"size\": 14}, \"title\": {\"font\": {\"family\": \"Helvetica\", \"size\": 18}}}}, \"colorscale\": {\"diverging\": [[0.0, \"#251616\"], [0.25, \"#760000\"], [0.5, \"#C63F3F\"], [0.75, \"#E28073\"], [1.0, \"#F1D3CF\"]]}, \"font\": {\"color\": \"#717171\", \"family\": \"Helvetica\", \"size\": 18}, \"legend\": {\"bgcolor\": \"rgba(0,0,0,0)\", \"font\": {\"family\": \"Helvetica\", \"size\": 14}, \"title\": {\"font\": {\"color\": \"#251616\", \"family\": \"Helvetica\", \"size\": 18}}, \"yanchor\": \"bottom\"}, \"title\": {\"font\": {\"color\": \"#251616\", \"family\": \"Helvetica\", \"size\": 24}, \"pad\": {\"b\": 0, \"l\": 0, \"r\": 0, \"t\": 100}}, \"xaxis\": {\"automargin\": true, \"showline\": true, \"showtickprefix\": \"last\", \"showticksuffix\": \"all\", \"tickfont\": {\"family\": \"Helvetica\", \"size\": 14}, \"ticks\": \"outside\", \"title\": {\"font\": {\"family\": \"Helvetica\", \"size\": 18}, \"standoff\": 20}}, \"yaxis\": {\"automargin\": true, \"showline\": true, \"showtickprefix\": \"last\", \"showticksuffix\": \"all\", \"tickfont\": {\"family\": \"Helvetica\", \"size\": 14}, \"ticks\": \"outside\", \"title\": {\"font\": {\"family\": \"Helvetica\", \"size\": 18}, \"standoff\": 20}}}}, \"title\": {\"text\": \"Percent change in social media app usage after the start of the pandemic.\"}, \"xaxis\": {\"title\": {\"text\": \"Social Media Apps\"}}, \"yaxis\": {\"title\": {\"text\": \"Percent change in respondents who use this app.\"}}},                        {\"responsive\": true}                    ).then(function(){\n                            \nvar gd = document.getElementById('0eced2b7-ffde-4c9b-9ab8-e05398534166');\nvar x = new MutationObserver(function (mutations, observer) {{\n        var display = window.getComputedStyle(gd).display;\n        if (!display || display === 'none') {{\n            console.log([gd, 'removed!']);\n            Plotly.purge(gd);\n            observer.disconnect();\n        }}\n}});\n\n// Listen for the removal of the full notebook cells\nvar notebookContainer = gd.closest('#notebook-container');\nif (notebookContainer) {{\n    x.observe(notebookContainer, {childList: true});\n}}\n\n// Listen for the clearing of the current output cell\nvar outputEl = gd.closest('.output');\nif (outputEl) {{\n    x.observe(outputEl, {childList: true});\n}}\n\n                        })                };                            </script>        </div>\n</body>\n</html>"
          },
          "metadata": {},
          "output_type": "display_data"
        }
      ],
      "execution_count": 135
    },
    {
      "cell_type": "markdown",
      "source": "### Figure ? : Relating popularity and frequency of posting?",
      "metadata": {
        "tags": [],
        "cell_id": "00058-76ea13c9-936b-4aa5-bea4-7c68bf528af1",
        "deepnote_cell_type": "text-cell-h3"
      }
    },
    {
      "cell_type": "code",
      "source": "X = [1,2,3,4,5]\nY = [4,5,6,7,8]\n\nfig = go.Figure()\n\nfig.add_trace(go.Scatter(\n    x=X,\n    y=Y\n))\n\nfig.show()",
      "metadata": {
        "tags": [],
        "cell_id": "00060-655b3c46-923c-4d0c-bb44-461a4e8c0398",
        "deepnote_to_be_reexecuted": false,
        "source_hash": "db0dcab6",
        "execution_millis": 57,
        "execution_start": 1617582957903,
        "deepnote_cell_type": "code"
      },
      "outputs": [
        {
          "data": {
            "text/html": "<html>\n<head><meta charset=\"utf-8\" /></head>\n<body>\n    <div>            <script src=\"https://cdnjs.cloudflare.com/ajax/libs/mathjax/2.7.5/MathJax.js?config=TeX-AMS-MML_SVG\"></script><script type=\"text/javascript\">if (window.MathJax) {MathJax.Hub.Config({SVG: {font: \"STIX-Web\"}});}</script>                <script type=\"text/javascript\">window.PlotlyConfig = {MathJaxConfig: 'local'};</script>\n        <script src=\"https://cdn.plot.ly/plotly-latest.min.js\"></script>                <div id=\"fd174f4b-5dcb-47f0-82d2-e1fa04ef2b3c\" class=\"plotly-graph-div\" style=\"height:525px; width:100%;\"></div>            <script type=\"text/javascript\">                                    window.PLOTLYENV=window.PLOTLYENV || {};                                    if (document.getElementById(\"fd174f4b-5dcb-47f0-82d2-e1fa04ef2b3c\")) {                    Plotly.newPlot(                        \"fd174f4b-5dcb-47f0-82d2-e1fa04ef2b3c\",                        [{\"type\": \"scatter\", \"x\": [1, 2, 3, 4, 5], \"y\": [4, 5, 6, 7, 8]}],                        {\"template\": {\"data\": {\"bar\": [{\"error_x\": {\"color\": \"#2a3f5f\"}, \"error_y\": {\"color\": \"#2a3f5f\"}, \"marker\": {\"line\": {\"color\": \"#E5ECF6\", \"width\": 0.5}}, \"type\": \"bar\"}], \"barpolar\": [{\"marker\": {\"line\": {\"color\": \"#E5ECF6\", \"width\": 0.5}}, \"type\": \"barpolar\"}], \"carpet\": [{\"aaxis\": {\"endlinecolor\": \"#2a3f5f\", \"gridcolor\": \"white\", \"linecolor\": \"white\", \"minorgridcolor\": \"white\", \"startlinecolor\": \"#2a3f5f\"}, \"baxis\": {\"endlinecolor\": \"#2a3f5f\", \"gridcolor\": \"white\", \"linecolor\": \"white\", \"minorgridcolor\": \"white\", \"startlinecolor\": \"#2a3f5f\"}, \"type\": \"carpet\"}], \"choropleth\": [{\"colorbar\": {\"outlinewidth\": 0, \"ticks\": \"\"}, \"type\": \"choropleth\"}], \"contour\": [{\"colorbar\": {\"outlinewidth\": 0, \"ticks\": \"\"}, \"colorscale\": [[0.0, \"#0d0887\"], [0.1111111111111111, \"#46039f\"], [0.2222222222222222, \"#7201a8\"], [0.3333333333333333, \"#9c179e\"], [0.4444444444444444, \"#bd3786\"], [0.5555555555555556, \"#d8576b\"], [0.6666666666666666, \"#ed7953\"], [0.7777777777777778, \"#fb9f3a\"], [0.8888888888888888, \"#fdca26\"], [1.0, \"#f0f921\"]], \"type\": \"contour\"}], \"contourcarpet\": [{\"colorbar\": {\"outlinewidth\": 0, \"ticks\": \"\"}, \"type\": \"contourcarpet\"}], \"heatmap\": [{\"colorbar\": {\"outlinewidth\": 0, \"ticks\": \"\"}, \"colorscale\": [[0.0, \"#0d0887\"], [0.1111111111111111, \"#46039f\"], [0.2222222222222222, \"#7201a8\"], [0.3333333333333333, \"#9c179e\"], [0.4444444444444444, \"#bd3786\"], [0.5555555555555556, \"#d8576b\"], [0.6666666666666666, \"#ed7953\"], [0.7777777777777778, \"#fb9f3a\"], [0.8888888888888888, \"#fdca26\"], [1.0, \"#f0f921\"]], \"type\": \"heatmap\"}], \"heatmapgl\": [{\"colorbar\": {\"outlinewidth\": 0, \"ticks\": \"\"}, \"colorscale\": [[0.0, \"#0d0887\"], [0.1111111111111111, \"#46039f\"], [0.2222222222222222, \"#7201a8\"], [0.3333333333333333, \"#9c179e\"], [0.4444444444444444, \"#bd3786\"], [0.5555555555555556, \"#d8576b\"], [0.6666666666666666, \"#ed7953\"], [0.7777777777777778, \"#fb9f3a\"], [0.8888888888888888, \"#fdca26\"], [1.0, \"#f0f921\"]], \"type\": \"heatmapgl\"}], \"histogram\": [{\"marker\": {\"colorbar\": {\"outlinewidth\": 0, \"ticks\": \"\"}}, \"type\": \"histogram\"}], \"histogram2d\": [{\"colorbar\": {\"outlinewidth\": 0, \"ticks\": \"\"}, \"colorscale\": [[0.0, \"#0d0887\"], [0.1111111111111111, \"#46039f\"], [0.2222222222222222, \"#7201a8\"], [0.3333333333333333, \"#9c179e\"], [0.4444444444444444, \"#bd3786\"], [0.5555555555555556, \"#d8576b\"], [0.6666666666666666, \"#ed7953\"], [0.7777777777777778, \"#fb9f3a\"], [0.8888888888888888, \"#fdca26\"], [1.0, \"#f0f921\"]], \"type\": \"histogram2d\"}], \"histogram2dcontour\": [{\"colorbar\": {\"outlinewidth\": 0, \"ticks\": \"\"}, \"colorscale\": [[0.0, \"#0d0887\"], [0.1111111111111111, \"#46039f\"], [0.2222222222222222, \"#7201a8\"], [0.3333333333333333, \"#9c179e\"], [0.4444444444444444, \"#bd3786\"], [0.5555555555555556, \"#d8576b\"], [0.6666666666666666, \"#ed7953\"], [0.7777777777777778, \"#fb9f3a\"], [0.8888888888888888, \"#fdca26\"], [1.0, \"#f0f921\"]], \"type\": \"histogram2dcontour\"}], \"mesh3d\": [{\"colorbar\": {\"outlinewidth\": 0, \"ticks\": \"\"}, \"type\": \"mesh3d\"}], \"parcoords\": [{\"line\": {\"colorbar\": {\"outlinewidth\": 0, \"ticks\": \"\"}}, \"type\": \"parcoords\"}], \"pie\": [{\"automargin\": true, \"type\": \"pie\"}], \"scatter\": [{\"marker\": {\"colorbar\": {\"outlinewidth\": 0, \"ticks\": \"\"}}, \"type\": \"scatter\"}], \"scatter3d\": [{\"line\": {\"colorbar\": {\"outlinewidth\": 0, \"ticks\": \"\"}}, \"marker\": {\"colorbar\": {\"outlinewidth\": 0, \"ticks\": \"\"}}, \"type\": \"scatter3d\"}], \"scattercarpet\": [{\"marker\": {\"colorbar\": {\"outlinewidth\": 0, \"ticks\": \"\"}}, \"type\": \"scattercarpet\"}], \"scattergeo\": [{\"marker\": {\"colorbar\": {\"outlinewidth\": 0, \"ticks\": \"\"}}, \"type\": \"scattergeo\"}], \"scattergl\": [{\"marker\": {\"colorbar\": {\"outlinewidth\": 0, \"ticks\": \"\"}}, \"type\": \"scattergl\"}], \"scattermapbox\": [{\"marker\": {\"colorbar\": {\"outlinewidth\": 0, \"ticks\": \"\"}}, \"type\": \"scattermapbox\"}], \"scatterpolar\": [{\"marker\": {\"colorbar\": {\"outlinewidth\": 0, \"ticks\": \"\"}}, \"type\": \"scatterpolar\"}], \"scatterpolargl\": [{\"marker\": {\"colorbar\": {\"outlinewidth\": 0, \"ticks\": \"\"}}, \"type\": \"scatterpolargl\"}], \"scatterternary\": [{\"marker\": {\"colorbar\": {\"outlinewidth\": 0, \"ticks\": \"\"}}, \"type\": \"scatterternary\"}], \"surface\": [{\"colorbar\": {\"outlinewidth\": 0, \"ticks\": \"\"}, \"colorscale\": [[0.0, \"#0d0887\"], [0.1111111111111111, \"#46039f\"], [0.2222222222222222, \"#7201a8\"], [0.3333333333333333, \"#9c179e\"], [0.4444444444444444, \"#bd3786\"], [0.5555555555555556, \"#d8576b\"], [0.6666666666666666, \"#ed7953\"], [0.7777777777777778, \"#fb9f3a\"], [0.8888888888888888, \"#fdca26\"], [1.0, \"#f0f921\"]], \"type\": \"surface\"}], \"table\": [{\"cells\": {\"fill\": {\"color\": \"#EBF0F8\"}, \"line\": {\"color\": \"white\"}}, \"header\": {\"fill\": {\"color\": \"#C8D4E3\"}, \"line\": {\"color\": \"white\"}}, \"type\": \"table\"}]}, \"layout\": {\"annotationdefaults\": {\"arrowcolor\": \"#2a3f5f\", \"arrowhead\": 0, \"arrowwidth\": 1}, \"autotypenumbers\": \"strict\", \"coloraxis\": {\"colorbar\": {\"outlinewidth\": 0, \"ticks\": \"\"}}, \"colorscale\": {\"diverging\": [[0, \"#8e0152\"], [0.1, \"#c51b7d\"], [0.2, \"#de77ae\"], [0.3, \"#f1b6da\"], [0.4, \"#fde0ef\"], [0.5, \"#f7f7f7\"], [0.6, \"#e6f5d0\"], [0.7, \"#b8e186\"], [0.8, \"#7fbc41\"], [0.9, \"#4d9221\"], [1, \"#276419\"]], \"sequential\": [[0.0, \"#0d0887\"], [0.1111111111111111, \"#46039f\"], [0.2222222222222222, \"#7201a8\"], [0.3333333333333333, \"#9c179e\"], [0.4444444444444444, \"#bd3786\"], [0.5555555555555556, \"#d8576b\"], [0.6666666666666666, \"#ed7953\"], [0.7777777777777778, \"#fb9f3a\"], [0.8888888888888888, \"#fdca26\"], [1.0, \"#f0f921\"]], \"sequentialminus\": [[0.0, \"#0d0887\"], [0.1111111111111111, \"#46039f\"], [0.2222222222222222, \"#7201a8\"], [0.3333333333333333, \"#9c179e\"], [0.4444444444444444, \"#bd3786\"], [0.5555555555555556, \"#d8576b\"], [0.6666666666666666, \"#ed7953\"], [0.7777777777777778, \"#fb9f3a\"], [0.8888888888888888, \"#fdca26\"], [1.0, \"#f0f921\"]]}, \"colorway\": [\"#636efa\", \"#EF553B\", \"#00cc96\", \"#ab63fa\", \"#FFA15A\", \"#19d3f3\", \"#FF6692\", \"#B6E880\", \"#FF97FF\", \"#FECB52\"], \"font\": {\"color\": \"#2a3f5f\"}, \"geo\": {\"bgcolor\": \"white\", \"lakecolor\": \"white\", \"landcolor\": \"#E5ECF6\", \"showlakes\": true, \"showland\": true, \"subunitcolor\": \"white\"}, \"hoverlabel\": {\"align\": \"left\"}, \"hovermode\": \"closest\", \"mapbox\": {\"style\": \"light\"}, \"paper_bgcolor\": \"white\", \"plot_bgcolor\": \"#E5ECF6\", \"polar\": {\"angularaxis\": {\"gridcolor\": \"white\", \"linecolor\": \"white\", \"ticks\": \"\"}, \"bgcolor\": \"#E5ECF6\", \"radialaxis\": {\"gridcolor\": \"white\", \"linecolor\": \"white\", \"ticks\": \"\"}}, \"scene\": {\"xaxis\": {\"backgroundcolor\": \"#E5ECF6\", \"gridcolor\": \"white\", \"gridwidth\": 2, \"linecolor\": \"white\", \"showbackground\": true, \"ticks\": \"\", \"zerolinecolor\": \"white\"}, \"yaxis\": {\"backgroundcolor\": \"#E5ECF6\", \"gridcolor\": \"white\", \"gridwidth\": 2, \"linecolor\": \"white\", \"showbackground\": true, \"ticks\": \"\", \"zerolinecolor\": \"white\"}, \"zaxis\": {\"backgroundcolor\": \"#E5ECF6\", \"gridcolor\": \"white\", \"gridwidth\": 2, \"linecolor\": \"white\", \"showbackground\": true, \"ticks\": \"\", \"zerolinecolor\": \"white\"}}, \"shapedefaults\": {\"line\": {\"color\": \"#2a3f5f\"}}, \"ternary\": {\"aaxis\": {\"gridcolor\": \"white\", \"linecolor\": \"white\", \"ticks\": \"\"}, \"baxis\": {\"gridcolor\": \"white\", \"linecolor\": \"white\", \"ticks\": \"\"}, \"bgcolor\": \"#E5ECF6\", \"caxis\": {\"gridcolor\": \"white\", \"linecolor\": \"white\", \"ticks\": \"\"}}, \"title\": {\"x\": 0.05}, \"xaxis\": {\"automargin\": true, \"gridcolor\": \"white\", \"linecolor\": \"white\", \"ticks\": \"\", \"title\": {\"standoff\": 15}, \"zerolinecolor\": \"white\", \"zerolinewidth\": 2}, \"yaxis\": {\"automargin\": true, \"gridcolor\": \"white\", \"linecolor\": \"white\", \"ticks\": \"\", \"title\": {\"standoff\": 15}, \"zerolinecolor\": \"white\", \"zerolinewidth\": 2}}}},                        {\"responsive\": true}                    ).then(function(){\n                            \nvar gd = document.getElementById('fd174f4b-5dcb-47f0-82d2-e1fa04ef2b3c');\nvar x = new MutationObserver(function (mutations, observer) {{\n        var display = window.getComputedStyle(gd).display;\n        if (!display || display === 'none') {{\n            console.log([gd, 'removed!']);\n            Plotly.purge(gd);\n            observer.disconnect();\n        }}\n}});\n\n// Listen for the removal of the full notebook cells\nvar notebookContainer = gd.closest('#notebook-container');\nif (notebookContainer) {{\n    x.observe(notebookContainer, {childList: true});\n}}\n\n// Listen for the clearing of the current output cell\nvar outputEl = gd.closest('.output');\nif (outputEl) {{\n    x.observe(outputEl, {childList: true});\n}}\n\n                        })                };                            </script>        </div>\n</body>\n</html>"
          },
          "metadata": {},
          "output_type": "display_data"
        }
      ],
      "execution_count": 56
    },
    {
      "cell_type": "code",
      "source": "# Create dataframe with just the popularity and posting results\n\nscatter = pd.read_csv(\"SMS43.csv\")\nscatter_data = scatter.drop(scatter.index[1])\nscatter_data = scatter_data.iloc[:, 26:41]\nscatter_data = scatter_data.drop(['Q1', 'Q1_10_TEXT', 'Q5', 'Q5_10_TEXT', 'Q6', 'Q6_10_TEXT', 'Q2_1', 'Q4', 'Q4_10_TEXT', 'Q9_1', 'Q11', 'Q11_10_TEXT', 'Q12'], axis=1)\nscatter_data = scatter_data.dropna()\n\nscatter_data = scatter_data[1:].sort_values(by=['Q24_1'], ascending=[True])\n\ndisplay(scatter_data)",
      "metadata": {
        "tags": [],
        "cell_id": "00059-328fac30-0dd5-4778-8a42-5f37a6171cc1",
        "deepnote_to_be_reexecuted": false,
        "source_hash": "536c851e",
        "execution_millis": 36,
        "execution_start": 1617585591298,
        "deepnote_cell_type": "code"
      },
      "outputs": [
        {
          "data": {
            "application/vnd.deepnote.dataframe.v2+json": {
              "row_count": 126,
              "column_count": 2,
              "columns": [
                {
                  "name": "Q24_1",
                  "dtype": "object",
                  "stats": {
                    "unique_count": 5,
                    "nan_count": 0,
                    "categories": [
                      {
                        "name": "2",
                        "count": 57
                      },
                      {
                        "name": "1",
                        "count": 37
                      },
                      {
                        "name": "3 others",
                        "count": 32
                      }
                    ]
                  }
                },
                {
                  "name": "Q3",
                  "dtype": "object",
                  "stats": {
                    "unique_count": 7,
                    "nan_count": 0,
                    "categories": [
                      {
                        "name": "Less often",
                        "count": 50
                      },
                      {
                        "name": "Once every few weeks",
                        "count": 32
                      },
                      {
                        "name": "5 others",
                        "count": 44
                      }
                    ]
                  }
                },
                {
                  "name": "_deepnote_index_column",
                  "dtype": "int64"
                }
              ],
              "rows_top": [
                {
                  "Q24_1": "0",
                  "Q3": "Never",
                  "_deepnote_index_column": 105
                },
                {
                  "Q24_1": "0",
                  "Q3": "Several times a day",
                  "_deepnote_index_column": 82
                },
                {
                  "Q24_1": "0",
                  "Q3": "Once every few weeks",
                  "_deepnote_index_column": 69
                },
                {
                  "Q24_1": "0",
                  "Q3": "Several times a week",
                  "_deepnote_index_column": 92
                },
                {
                  "Q24_1": "0",
                  "Q3": "Once every few weeks",
                  "_deepnote_index_column": 55
                },
                {
                  "Q24_1": "0",
                  "Q3": "Once every few weeks",
                  "_deepnote_index_column": 51
                },
                {
                  "Q24_1": "0",
                  "Q3": "Never",
                  "_deepnote_index_column": 102
                },
                {
                  "Q24_1": "0",
                  "Q3": "About once a day",
                  "_deepnote_index_column": 39
                },
                {
                  "Q24_1": "0",
                  "Q3": "Less often",
                  "_deepnote_index_column": 110
                },
                {
                  "Q24_1": "0",
                  "Q3": "Never",
                  "_deepnote_index_column": 111
                },
                {
                  "Q24_1": "0",
                  "Q3": "Never",
                  "_deepnote_index_column": 29
                },
                {
                  "Q24_1": "0",
                  "Q3": "Never",
                  "_deepnote_index_column": 25
                },
                {
                  "Q24_1": "0",
                  "Q3": "Less often",
                  "_deepnote_index_column": 20
                },
                {
                  "Q24_1": "0",
                  "Q3": "Less often",
                  "_deepnote_index_column": 79
                },
                {
                  "Q24_1": "0",
                  "Q3": "Less often",
                  "_deepnote_index_column": 130
                },
                {
                  "Q24_1": "0",
                  "Q3": "About once a week",
                  "_deepnote_index_column": 127
                },
                {
                  "Q24_1": "1",
                  "Q3": "Never",
                  "_deepnote_index_column": 2
                },
                {
                  "Q24_1": "1",
                  "Q3": "Less often",
                  "_deepnote_index_column": 78
                },
                {
                  "Q24_1": "1",
                  "Q3": "Less often",
                  "_deepnote_index_column": 41
                },
                {
                  "Q24_1": "1",
                  "Q3": "About once a week",
                  "_deepnote_index_column": 86
                },
                {
                  "Q24_1": "1",
                  "Q3": "Less often",
                  "_deepnote_index_column": 88
                },
                {
                  "Q24_1": "1",
                  "Q3": "Less often",
                  "_deepnote_index_column": 64
                },
                {
                  "Q24_1": "1",
                  "Q3": "Never",
                  "_deepnote_index_column": 46
                },
                {
                  "Q24_1": "1",
                  "Q3": "Once every few weeks",
                  "_deepnote_index_column": 48
                },
                {
                  "Q24_1": "1",
                  "Q3": "Never",
                  "_deepnote_index_column": 49
                },
                {
                  "Q24_1": "1",
                  "Q3": "Less often",
                  "_deepnote_index_column": 50
                },
                {
                  "Q24_1": "1",
                  "Q3": "Once every few weeks",
                  "_deepnote_index_column": 7
                },
                {
                  "Q24_1": "1",
                  "Q3": "Less often",
                  "_deepnote_index_column": 52
                },
                {
                  "Q24_1": "1",
                  "Q3": "Never",
                  "_deepnote_index_column": 53
                },
                {
                  "Q24_1": "1",
                  "Q3": "Once every few weeks",
                  "_deepnote_index_column": 54
                },
                {
                  "Q24_1": "1",
                  "Q3": "Several times a day",
                  "_deepnote_index_column": 131
                },
                {
                  "Q24_1": "1",
                  "Q3": "Less often",
                  "_deepnote_index_column": 62
                },
                {
                  "Q24_1": "1",
                  "Q3": "Once every few weeks",
                  "_deepnote_index_column": 5
                },
                {
                  "Q24_1": "1",
                  "Q3": "Less often",
                  "_deepnote_index_column": 10
                },
                {
                  "Q24_1": "1",
                  "Q3": "Less often",
                  "_deepnote_index_column": 94
                },
                {
                  "Q24_1": "1",
                  "Q3": "Less often",
                  "_deepnote_index_column": 38
                },
                {
                  "Q24_1": "1",
                  "Q3": "Less often",
                  "_deepnote_index_column": 68
                },
                {
                  "Q24_1": "1",
                  "Q3": "Less often",
                  "_deepnote_index_column": 81
                },
                {
                  "Q24_1": "1",
                  "Q3": "Never",
                  "_deepnote_index_column": 123
                },
                {
                  "Q24_1": "1",
                  "Q3": "Once every few weeks",
                  "_deepnote_index_column": 15
                },
                {
                  "Q24_1": "1",
                  "Q3": "Several times a week",
                  "_deepnote_index_column": 122
                },
                {
                  "Q24_1": "1",
                  "Q3": "About once a day",
                  "_deepnote_index_column": 76
                },
                {
                  "Q24_1": "1",
                  "Q3": "About once a week",
                  "_deepnote_index_column": 118
                },
                {
                  "Q24_1": "1",
                  "Q3": "Less often",
                  "_deepnote_index_column": 24
                },
                {
                  "Q24_1": "1",
                  "Q3": "Several times a week",
                  "_deepnote_index_column": 83
                },
                {
                  "Q24_1": "1",
                  "Q3": "Less often",
                  "_deepnote_index_column": 73
                },
                {
                  "Q24_1": "1",
                  "Q3": "Less often",
                  "_deepnote_index_column": 13
                },
                {
                  "Q24_1": "1",
                  "Q3": "Several times a day",
                  "_deepnote_index_column": 71
                },
                {
                  "Q24_1": "1",
                  "Q3": "Less often",
                  "_deepnote_index_column": 112
                },
                {
                  "Q24_1": "1",
                  "Q3": "Less often",
                  "_deepnote_index_column": 4
                },
                {
                  "Q24_1": "1",
                  "Q3": "Less often",
                  "_deepnote_index_column": 109
                },
                {
                  "Q24_1": "1",
                  "Q3": "Less often",
                  "_deepnote_index_column": 35
                },
                {
                  "Q24_1": "1",
                  "Q3": "Less often",
                  "_deepnote_index_column": 60
                },
                {
                  "Q24_1": "2",
                  "Q3": "Less often",
                  "_deepnote_index_column": 85
                },
                {
                  "Q24_1": "2",
                  "Q3": "Several times a week",
                  "_deepnote_index_column": 132
                },
                {
                  "Q24_1": "2",
                  "Q3": "Once every few weeks",
                  "_deepnote_index_column": 84
                },
                {
                  "Q24_1": "2",
                  "Q3": "Never",
                  "_deepnote_index_column": 89
                },
                {
                  "Q24_1": "2",
                  "Q3": "About once a day",
                  "_deepnote_index_column": 125
                },
                {
                  "Q24_1": "2",
                  "Q3": "Several times a week",
                  "_deepnote_index_column": 95
                },
                {
                  "Q24_1": "2",
                  "Q3": "Once every few weeks",
                  "_deepnote_index_column": 124
                },
                {
                  "Q24_1": "2",
                  "Q3": "Less often",
                  "_deepnote_index_column": 119
                },
                {
                  "Q24_1": "2",
                  "Q3": "Less often",
                  "_deepnote_index_column": 117
                },
                {
                  "Q24_1": "2",
                  "Q3": "About once a week",
                  "_deepnote_index_column": 116
                },
                {
                  "Q24_1": "2",
                  "Q3": "Once every few weeks",
                  "_deepnote_index_column": 114
                },
                {
                  "Q24_1": "2",
                  "Q3": "Less often",
                  "_deepnote_index_column": 113
                },
                {
                  "Q24_1": "2",
                  "Q3": "Less often",
                  "_deepnote_index_column": 128
                },
                {
                  "Q24_1": "2",
                  "Q3": "Never",
                  "_deepnote_index_column": 129
                },
                {
                  "Q24_1": "2",
                  "Q3": "Once every few weeks",
                  "_deepnote_index_column": 107
                },
                {
                  "Q24_1": "2",
                  "Q3": "About once a week",
                  "_deepnote_index_column": 106
                },
                {
                  "Q24_1": "2",
                  "Q3": "Less often",
                  "_deepnote_index_column": 104
                },
                {
                  "Q24_1": "2",
                  "Q3": "Less often",
                  "_deepnote_index_column": 101
                },
                {
                  "Q24_1": "2",
                  "Q3": "Less often",
                  "_deepnote_index_column": 99
                },
                {
                  "Q24_1": "2",
                  "Q3": "Less often",
                  "_deepnote_index_column": 126
                },
                {
                  "Q24_1": "2",
                  "Q3": "Less often",
                  "_deepnote_index_column": 96
                },
                {
                  "Q24_1": "2",
                  "Q3": "Several times a day",
                  "_deepnote_index_column": 93
                },
                {
                  "Q24_1": "2",
                  "Q3": "Once every few weeks",
                  "_deepnote_index_column": 98
                },
                {
                  "Q24_1": "2",
                  "Q3": "Less often",
                  "_deepnote_index_column": 65
                },
                {
                  "Q24_1": "2",
                  "Q3": "Once every few weeks",
                  "_deepnote_index_column": 74
                },
                {
                  "Q24_1": "2",
                  "Q3": "Once every few weeks",
                  "_deepnote_index_column": 77
                },
                {
                  "Q24_1": "2",
                  "Q3": "Less often",
                  "_deepnote_index_column": 32
                },
                {
                  "Q24_1": "2",
                  "Q3": "Less often",
                  "_deepnote_index_column": 31
                },
                {
                  "Q24_1": "2",
                  "Q3": "Less often",
                  "_deepnote_index_column": 30
                },
                {
                  "Q24_1": "2",
                  "Q3": "Less often",
                  "_deepnote_index_column": 28
                },
                {
                  "Q24_1": "2",
                  "Q3": "Once every few weeks",
                  "_deepnote_index_column": 27
                },
                {
                  "Q24_1": "2",
                  "Q3": "Less often",
                  "_deepnote_index_column": 23
                },
                {
                  "Q24_1": "2",
                  "Q3": "Several times a day",
                  "_deepnote_index_column": 22
                },
                {
                  "Q24_1": "2",
                  "Q3": "Less often",
                  "_deepnote_index_column": 21
                },
                {
                  "Q24_1": "2",
                  "Q3": "Once every few weeks",
                  "_deepnote_index_column": 18
                },
                {
                  "Q24_1": "2",
                  "Q3": "Once every few weeks",
                  "_deepnote_index_column": 17
                },
                {
                  "Q24_1": "2",
                  "Q3": "Once every few weeks",
                  "_deepnote_index_column": 16
                },
                {
                  "Q24_1": "2",
                  "Q3": "Less often",
                  "_deepnote_index_column": 14
                },
                {
                  "Q24_1": "2",
                  "Q3": "Never",
                  "_deepnote_index_column": 12
                },
                {
                  "Q24_1": "2",
                  "Q3": "Several times a week",
                  "_deepnote_index_column": 11
                },
                {
                  "Q24_1": "2",
                  "Q3": "Once every few weeks",
                  "_deepnote_index_column": 8
                },
                {
                  "Q24_1": "2",
                  "Q3": "Several times a day",
                  "_deepnote_index_column": 3
                },
                {
                  "Q24_1": "2",
                  "Q3": "Once every few weeks",
                  "_deepnote_index_column": 36
                },
                {
                  "Q24_1": "2",
                  "Q3": "Less often",
                  "_deepnote_index_column": 37
                },
                {
                  "Q24_1": "2",
                  "Q3": "About once a day",
                  "_deepnote_index_column": 146
                },
                {
                  "Q24_1": "2",
                  "Q3": "Less often",
                  "_deepnote_index_column": 42
                },
                {
                  "Q24_1": "2",
                  "Q3": "About once a day",
                  "_deepnote_index_column": 43
                },
                {
                  "Q24_1": "2",
                  "Q3": "Once every few weeks",
                  "_deepnote_index_column": 72
                },
                {
                  "Q24_1": "2",
                  "Q3": "Once every few weeks",
                  "_deepnote_index_column": 70
                },
                {
                  "Q24_1": "2",
                  "Q3": "Several times a day",
                  "_deepnote_index_column": 67
                },
                {
                  "Q24_1": "2",
                  "Q3": "Once every few weeks",
                  "_deepnote_index_column": 66
                },
                {
                  "Q24_1": "2",
                  "Q3": "About once a week",
                  "_deepnote_index_column": 56
                },
                {
                  "Q24_1": "2",
                  "Q3": "Less often",
                  "_deepnote_index_column": 57
                },
                {
                  "Q24_1": "2",
                  "Q3": "About once a week",
                  "_deepnote_index_column": 133
                },
                {
                  "Q24_1": "2",
                  "Q3": "Less often",
                  "_deepnote_index_column": 58
                },
                {
                  "Q24_1": "2",
                  "Q3": "Less often",
                  "_deepnote_index_column": 63
                },
                {
                  "Q24_1": "2",
                  "Q3": "About once a week",
                  "_deepnote_index_column": 59
                },
                {
                  "Q24_1": "3",
                  "Q3": "Less often",
                  "_deepnote_index_column": 6
                },
                {
                  "Q24_1": "3",
                  "Q3": "Less often",
                  "_deepnote_index_column": 90
                },
                {
                  "Q24_1": "3",
                  "Q3": "Several times a day",
                  "_deepnote_index_column": 19
                },
                {
                  "Q24_1": "3",
                  "Q3": "Several times a day",
                  "_deepnote_index_column": 61
                },
                {
                  "Q24_1": "3",
                  "Q3": "Once every few weeks",
                  "_deepnote_index_column": 120
                },
                {
                  "Q24_1": "3",
                  "Q3": "Once every few weeks",
                  "_deepnote_index_column": 40
                },
                {
                  "Q24_1": "3",
                  "Q3": "About once a week",
                  "_deepnote_index_column": 26
                },
                {
                  "Q24_1": "3",
                  "Q3": "Several times a day",
                  "_deepnote_index_column": 115
                },
                {
                  "Q24_1": "3",
                  "Q3": "Once every few weeks",
                  "_deepnote_index_column": 47
                },
                {
                  "Q24_1": "3",
                  "Q3": "Once every few weeks",
                  "_deepnote_index_column": 45
                },
                {
                  "Q24_1": "3",
                  "Q3": "About once a week",
                  "_deepnote_index_column": 33
                },
                {
                  "Q24_1": "3",
                  "Q3": "Once every few weeks",
                  "_deepnote_index_column": 44
                },
                {
                  "Q24_1": "3",
                  "Q3": "Less often",
                  "_deepnote_index_column": 108
                },
                {
                  "Q24_1": "3",
                  "Q3": "Once every few weeks",
                  "_deepnote_index_column": 91
                },
                {
                  "Q24_1": "3",
                  "Q3": "Once every few weeks",
                  "_deepnote_index_column": 34
                },
                {
                  "Q24_1": "4",
                  "Q3": "Once every few weeks",
                  "_deepnote_index_column": 87
                }
              ],
              "rows_bottom": null
            },
            "text/plain": "    Q24_1                    Q3\n105     0                 Never\n82      0   Several times a day\n69      0  Once every few weeks\n92      0  Several times a week\n55      0  Once every few weeks\n..    ...                   ...\n44      3  Once every few weeks\n108     3            Less often\n91      3  Once every few weeks\n34      3  Once every few weeks\n87      4  Once every few weeks\n\n[126 rows x 2 columns]",
            "text/html": "<div>\n<style scoped>\n    .dataframe tbody tr th:only-of-type {\n        vertical-align: middle;\n    }\n\n    .dataframe tbody tr th {\n        vertical-align: top;\n    }\n\n    .dataframe thead th {\n        text-align: right;\n    }\n</style>\n<table border=\"1\" class=\"dataframe\">\n  <thead>\n    <tr style=\"text-align: right;\">\n      <th></th>\n      <th>Q24_1</th>\n      <th>Q3</th>\n    </tr>\n  </thead>\n  <tbody>\n    <tr>\n      <th>105</th>\n      <td>0</td>\n      <td>Never</td>\n    </tr>\n    <tr>\n      <th>82</th>\n      <td>0</td>\n      <td>Several times a day</td>\n    </tr>\n    <tr>\n      <th>69</th>\n      <td>0</td>\n      <td>Once every few weeks</td>\n    </tr>\n    <tr>\n      <th>92</th>\n      <td>0</td>\n      <td>Several times a week</td>\n    </tr>\n    <tr>\n      <th>55</th>\n      <td>0</td>\n      <td>Once every few weeks</td>\n    </tr>\n    <tr>\n      <th>...</th>\n      <td>...</td>\n      <td>...</td>\n    </tr>\n    <tr>\n      <th>44</th>\n      <td>3</td>\n      <td>Once every few weeks</td>\n    </tr>\n    <tr>\n      <th>108</th>\n      <td>3</td>\n      <td>Less often</td>\n    </tr>\n    <tr>\n      <th>91</th>\n      <td>3</td>\n      <td>Once every few weeks</td>\n    </tr>\n    <tr>\n      <th>34</th>\n      <td>3</td>\n      <td>Once every few weeks</td>\n    </tr>\n    <tr>\n      <th>87</th>\n      <td>4</td>\n      <td>Once every few weeks</td>\n    </tr>\n  </tbody>\n</table>\n<p>126 rows × 2 columns</p>\n</div>"
          },
          "metadata": {},
          "output_type": "display_data"
        }
      ],
      "execution_count": 98
    },
    {
      "cell_type": "code",
      "source": "popularitystrings = list(scatter_data['Q24_1'][1:])\n\npopularitynums = list(map(int, popularitystrings))\n\nfreqstrings = list(scatter_data['Q3'][1:])\n\n\n# several times a day = 6\n# once a day = 5\n# several times a week = 4\n# once a week = 3\n# once every few weeks = 2\n# less often = 1\n# never = 0\n\nfreqstrings = [0 if x == 'Never' else x for x in freqstrings]\nfreqstrings = [1 if x == 'Less often' else x for x in freqstrings]\nfreqstrings = [2 if x == 'Once every few weeks' else x for x in freqstrings]\nfreqstrings = [3 if x == 'About once a week' else x for x in freqstrings]\nfreqstrings = [4 if x == 'Several times a week' else x for x in freqstrings]\nfreqstrings = [5 if x == 'About once a day' else x for x in freqstrings]\nfreqstrings = [6 if x == 'Several times a day' else x for x in freqstrings]\n\n\nprint(popularitynums)\nprint(freqstrings)",
      "metadata": {
        "tags": [],
        "cell_id": "00060-bbd0feaa-a8fc-4b34-ae93-b11ba35d7e48",
        "deepnote_to_be_reexecuted": false,
        "source_hash": "4b57b98a",
        "execution_millis": 13,
        "execution_start": 1617585593023,
        "deepnote_cell_type": "code"
      },
      "outputs": [
        {
          "name": "stdout",
          "text": "[0, 0, 0, 0, 0, 0, 0, 0, 0, 0, 0, 0, 0, 0, 0, 1, 1, 1, 1, 1, 1, 1, 1, 1, 1, 1, 1, 1, 1, 1, 1, 1, 1, 1, 1, 1, 1, 1, 1, 1, 1, 1, 1, 1, 1, 1, 1, 1, 1, 1, 1, 1, 2, 2, 2, 2, 2, 2, 2, 2, 2, 2, 2, 2, 2, 2, 2, 2, 2, 2, 2, 2, 2, 2, 2, 2, 2, 2, 2, 2, 2, 2, 2, 2, 2, 2, 2, 2, 2, 2, 2, 2, 2, 2, 2, 2, 2, 2, 2, 2, 2, 2, 2, 2, 2, 2, 2, 2, 2, 3, 3, 3, 3, 3, 3, 3, 3, 3, 3, 3, 3, 3, 3, 3, 4]\n[6, 2, 4, 2, 2, 0, 5, 1, 0, 0, 0, 1, 1, 1, 3, 0, 1, 1, 3, 1, 1, 0, 2, 0, 1, 2, 1, 0, 2, 6, 1, 2, 1, 1, 1, 1, 1, 0, 2, 4, 5, 3, 1, 4, 1, 1, 6, 1, 1, 1, 1, 1, 1, 4, 2, 0, 5, 4, 2, 1, 1, 3, 2, 1, 1, 0, 2, 3, 1, 1, 1, 1, 1, 6, 2, 1, 2, 2, 1, 1, 1, 1, 2, 1, 6, 1, 2, 2, 2, 1, 0, 4, 2, 6, 2, 1, 5, 1, 5, 2, 2, 6, 2, 3, 1, 3, 1, 1, 3, 1, 1, 6, 6, 2, 2, 3, 6, 2, 2, 3, 2, 1, 2, 2, 2]\n",
          "output_type": "stream"
        }
      ],
      "execution_count": 99
    },
    {
      "cell_type": "code",
      "source": "X = popularitynums\nY = freqstrings\n\nfig = go.Figure()\n\nfig.add_trace(go.Scatter(\n    x=X,\n    y=Y,\n    mode='markers',\n    marker=go.Marker(color=monochrome_colors[3]),\n    name='Data'\n))\n\n\nz = np.polyfit(X, Y, 1)\nf = np.poly1d(z)\nprint(f)\n\nx_new = np.linspace(X[0], X[-1], 50)\ny_new = f(x_new)\n\nfig.add_trace(go.Scatter(\n                  x=x_new,\n                  y=y_new,\n                  mode='lines',\n                  marker=go.Marker(color=monochrome_colors[1]),\n                  name='Linear Fit'\n                        ))\n\nfig.update_layout(\n   title=\"Self-Reported Popularity and Frequency of Posting Online\", \n   xaxis={'title':{'text':'Self-Reported Popularity'},\n          'zeroline': False}, \n   yaxis={'title':{'text':'Frequency of Social Media Posts'},\n          'zeroline': False}, \n   template=theme_hodp\n)\n\n\nfig.show()\n",
      "metadata": {
        "tags": [],
        "cell_id": "00061-96f4fafd-1210-4f01-b1b6-51f6c1d5cad9",
        "deepnote_to_be_reexecuted": false,
        "source_hash": "d177aa2e",
        "execution_millis": 25,
        "execution_start": 1617586236992,
        "deepnote_cell_type": "code"
      },
      "outputs": [
        {
          "name": "stdout",
          "text": " \n0.3042 x + 1.537\n/shared-libs/python3.7/py/lib/python3.7/site-packages/plotly/graph_objs/_deprecations.py:441: DeprecationWarning:\n\nplotly.graph_objs.Marker is deprecated.\nPlease replace it with one of the following more specific types\n  - plotly.graph_objs.scatter.Marker\n  - plotly.graph_objs.histogram.selected.Marker\n  - etc.\n\n\n",
          "output_type": "stream"
        },
        {
          "data": {
            "text/html": "<html>\n<head><meta charset=\"utf-8\" /></head>\n<body>\n    <div>            <script src=\"https://cdnjs.cloudflare.com/ajax/libs/mathjax/2.7.5/MathJax.js?config=TeX-AMS-MML_SVG\"></script><script type=\"text/javascript\">if (window.MathJax) {MathJax.Hub.Config({SVG: {font: \"STIX-Web\"}});}</script>                <script type=\"text/javascript\">window.PlotlyConfig = {MathJaxConfig: 'local'};</script>\n        <script src=\"https://cdn.plot.ly/plotly-latest.min.js\"></script>                <div id=\"cd0b99fa-35ed-4c67-b099-5125bb4abb85\" class=\"plotly-graph-div\" style=\"height:525px; width:100%;\"></div>            <script type=\"text/javascript\">                                    window.PLOTLYENV=window.PLOTLYENV || {};                                    if (document.getElementById(\"cd0b99fa-35ed-4c67-b099-5125bb4abb85\")) {                    Plotly.newPlot(                        \"cd0b99fa-35ed-4c67-b099-5125bb4abb85\",                        [{\"marker\": {\"color\": \"#E28073\"}, \"mode\": \"markers\", \"name\": \"Data\", \"type\": \"scatter\", \"x\": [0, 0, 0, 0, 0, 0, 0, 0, 0, 0, 0, 0, 0, 0, 0, 1, 1, 1, 1, 1, 1, 1, 1, 1, 1, 1, 1, 1, 1, 1, 1, 1, 1, 1, 1, 1, 1, 1, 1, 1, 1, 1, 1, 1, 1, 1, 1, 1, 1, 1, 1, 1, 2, 2, 2, 2, 2, 2, 2, 2, 2, 2, 2, 2, 2, 2, 2, 2, 2, 2, 2, 2, 2, 2, 2, 2, 2, 2, 2, 2, 2, 2, 2, 2, 2, 2, 2, 2, 2, 2, 2, 2, 2, 2, 2, 2, 2, 2, 2, 2, 2, 2, 2, 2, 2, 2, 2, 2, 2, 3, 3, 3, 3, 3, 3, 3, 3, 3, 3, 3, 3, 3, 3, 3, 4], \"y\": [6, 2, 4, 2, 2, 0, 5, 1, 0, 0, 0, 1, 1, 1, 3, 0, 1, 1, 3, 1, 1, 0, 2, 0, 1, 2, 1, 0, 2, 6, 1, 2, 1, 1, 1, 1, 1, 0, 2, 4, 5, 3, 1, 4, 1, 1, 6, 1, 1, 1, 1, 1, 1, 4, 2, 0, 5, 4, 2, 1, 1, 3, 2, 1, 1, 0, 2, 3, 1, 1, 1, 1, 1, 6, 2, 1, 2, 2, 1, 1, 1, 1, 2, 1, 6, 1, 2, 2, 2, 1, 0, 4, 2, 6, 2, 1, 5, 1, 5, 2, 2, 6, 2, 3, 1, 3, 1, 1, 3, 1, 1, 6, 6, 2, 2, 3, 6, 2, 2, 3, 2, 1, 2, 2, 2]}, {\"marker\": {\"color\": \"#760000\"}, \"mode\": \"lines\", \"name\": \"Linear Fit\", \"type\": \"scatter\", \"x\": [0.0, 0.08163265306122448, 0.16326530612244897, 0.24489795918367346, 0.32653061224489793, 0.4081632653061224, 0.4897959183673469, 0.5714285714285714, 0.6530612244897959, 0.7346938775510203, 0.8163265306122448, 0.8979591836734693, 0.9795918367346939, 1.0612244897959182, 1.1428571428571428, 1.2244897959183672, 1.3061224489795917, 1.3877551020408163, 1.4693877551020407, 1.5510204081632653, 1.6326530612244896, 1.7142857142857142, 1.7959183673469385, 1.8775510204081631, 1.9591836734693877, 2.0408163265306123, 2.1224489795918364, 2.204081632653061, 2.2857142857142856, 2.36734693877551, 2.4489795918367343, 2.530612244897959, 2.6122448979591835, 2.693877551020408, 2.7755102040816326, 2.8571428571428568, 2.9387755102040813, 3.020408163265306, 3.1020408163265305, 3.1836734693877546, 3.265306122448979, 3.346938775510204, 3.4285714285714284, 3.510204081632653, 3.591836734693877, 3.6734693877551017, 3.7551020408163263, 3.836734693877551, 3.9183673469387754, 4.0], \"y\": [1.5373333333333339, 1.562163265306123, 1.586993197278912, 1.6118231292517011, 1.6366530612244903, 1.6614829931972792, 1.6863129251700684, 1.7111428571428575, 1.7359727891156465, 1.7608027210884356, 1.7856326530612248, 1.8104625850340137, 1.8352925170068028, 1.8601224489795918, 1.884952380952381, 1.90978231292517, 1.9346122448979592, 1.9594421768707484, 1.9842721088435373, 2.0091020408163263, 2.0339319727891154, 2.0587619047619046, 2.0835918367346937, 2.108421768707483, 2.1332517006802716, 2.1580816326530607, 2.18291156462585, 2.207741496598639, 2.232571428571428, 2.2574013605442174, 2.282231292517006, 2.3070612244897952, 2.3318911564625844, 2.3567210884353735, 2.3815510204081627, 2.4063809523809514, 2.4312108843537406, 2.4560408163265297, 2.480870748299319, 2.505700680272108, 2.530530612244897, 2.5553605442176863, 2.5801904761904755, 2.6050204081632646, 2.6298503401360533, 2.6546802721088425, 2.6795102040816317, 2.7043401360544204, 2.7291700680272095, 2.7539999999999987]}],                        {\"template\": {\"layout\": {\"coloraxis\": {\"autocolorscale\": true, \"cauto\": true, \"colorbar\": {\"tickfont\": {\"family\": \"Helvetica\", \"size\": 14}, \"title\": {\"font\": {\"family\": \"Helvetica\", \"size\": 18}}}}, \"colorscale\": {\"diverging\": [[0.0, \"#251616\"], [0.25, \"#760000\"], [0.5, \"#C63F3F\"], [0.75, \"#E28073\"], [1.0, \"#F1D3CF\"]]}, \"font\": {\"color\": \"#717171\", \"family\": \"Helvetica\", \"size\": 18}, \"legend\": {\"bgcolor\": \"rgba(0,0,0,0)\", \"font\": {\"family\": \"Helvetica\", \"size\": 14}, \"title\": {\"font\": {\"color\": \"#251616\", \"family\": \"Helvetica\", \"size\": 18}}, \"yanchor\": \"bottom\"}, \"title\": {\"font\": {\"color\": \"#251616\", \"family\": \"Helvetica\", \"size\": 24}, \"pad\": {\"b\": 0, \"l\": 0, \"r\": 0, \"t\": 100}}, \"xaxis\": {\"automargin\": true, \"showline\": true, \"showtickprefix\": \"last\", \"showticksuffix\": \"all\", \"tickfont\": {\"family\": \"Helvetica\", \"size\": 14}, \"ticks\": \"outside\", \"title\": {\"font\": {\"family\": \"Helvetica\", \"size\": 18}, \"standoff\": 20}}, \"yaxis\": {\"automargin\": true, \"showline\": true, \"showtickprefix\": \"last\", \"showticksuffix\": \"all\", \"tickfont\": {\"family\": \"Helvetica\", \"size\": 14}, \"ticks\": \"outside\", \"title\": {\"font\": {\"family\": \"Helvetica\", \"size\": 18}, \"standoff\": 20}}}}, \"title\": {\"text\": \"Self-Reported Popularity and Frequency of Posting Online\"}, \"xaxis\": {\"title\": {\"text\": \"Self-Reported Popularity\"}, \"zeroline\": false}, \"yaxis\": {\"title\": {\"text\": \"Frequency of Social Media Posts\"}, \"zeroline\": false}},                        {\"responsive\": true}                    ).then(function(){\n                            \nvar gd = document.getElementById('cd0b99fa-35ed-4c67-b099-5125bb4abb85');\nvar x = new MutationObserver(function (mutations, observer) {{\n        var display = window.getComputedStyle(gd).display;\n        if (!display || display === 'none') {{\n            console.log([gd, 'removed!']);\n            Plotly.purge(gd);\n            observer.disconnect();\n        }}\n}});\n\n// Listen for the removal of the full notebook cells\nvar notebookContainer = gd.closest('#notebook-container');\nif (notebookContainer) {{\n    x.observe(notebookContainer, {childList: true});\n}}\n\n// Listen for the clearing of the current output cell\nvar outputEl = gd.closest('.output');\nif (outputEl) {{\n    x.observe(outputEl, {childList: true});\n}}\n\n                        })                };                            </script>        </div>\n</body>\n</html>"
          },
          "metadata": {},
          "output_type": "display_data"
        }
      ],
      "execution_count": 133
    },
    {
      "cell_type": "code",
      "source": "",
      "metadata": {
        "tags": [],
        "cell_id": "00063-383485cf-193f-4b15-b9be-391ce92f5ba6",
        "deepnote_cell_type": "code"
      },
      "outputs": [],
      "execution_count": null
    },
    {
      "cell_type": "markdown",
      "source": "<a style='text-decoration:none;line-height:16px;display:flex;color:#5B5B62;padding:10px;justify-content:end;' href='https://deepnote.com?utm_source=created-in-deepnote-cell&projectId=6042ffa0-f918-4750-bd76-c24b575f7926' target=\"_blank\">\n<img alt='Created in deepnote.com' style='display:inline;max-height:16px;margin:0px;margin-right:7.5px;' src='data:image/svg+xml;base64,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' > </img>\nCreated in <span style='font-weight:600;margin-left:4px;'>Deepnote</span></a>",
      "metadata": {
        "tags": [],
        "created_in_deepnote_cell": true,
        "deepnote_cell_type": "markdown"
      }
    }
  ],
  "nbformat": 4,
  "nbformat_minor": 2,
  "metadata": {
    "orig_nbformat": 2,
    "deepnote_notebook_id": "76dac909-ec5e-4b53-9278-90b3075c4970",
    "deepnote": {
      "is_reactive": false
    },
    "deepnote_execution_queue": []
  }
}